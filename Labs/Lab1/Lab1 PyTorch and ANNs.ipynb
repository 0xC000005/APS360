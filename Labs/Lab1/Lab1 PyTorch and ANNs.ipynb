{
 "cells": [
  {
   "cell_type": "markdown",
   "metadata": {
    "id": "3sxa8YxCbzGL"
   },
   "source": [
    "# Lab 1. PyTorch and ANNs\n",
    "\n",
    "This lab is a warm up to get you used to the PyTorch programming environment used\n",
    "in the course, and also to help you review and renew your knowledge\n",
    "of Python and relevant Python libraries.\n",
    "The lab must be done individually. Please recall that the\n",
    "University of Toronto plagarism rules apply.\n",
    "\n",
    "By the end of this lab, you should be able to:\n",
    "\n",
    "1. Be able to perform basic PyTorch tensor operations.\n",
    "2. Be able to load data into PyTorch\n",
    "3. Be able to configure an Artificial Neural Network (ANN) using PyTorch\n",
    "4. Be able to train ANNs using PyTorch\n",
    "5. Be able to evaluate different ANN configuations\n",
    "\n",
    "You will need to use numpy and PyTorch documentations for this assignment:\n",
    "\n",
    "* https://docs.scipy.org/doc/numpy/reference/\n",
    "* https://pytorch.org/docs/stable/torch.html\n",
    "\n",
    "You can also reference Python API documentations freely.\n",
    "\n",
    "\n",
    "### What to submit\n",
    "\n",
    "Submit a PDF file containing all your code, outputs, and write-up\n",
    "from parts 1-5. You can produce a PDF of your Google Colab file by\n",
    "going to `File -> Print` and then save as PDF. The Colab instructions\n",
    "has more information.\n",
    "\n",
    "**Do not submit any other files produced by your code.**\n",
    "\n",
    "Include a link to your colab file in your submission.\n",
    "\n",
    "Please use Google Colab to complete this assignment. If you want to use Jupyter Notebook, please complete the assignment and upload your Jupyter Notebook file to Google Colab for submission.\n",
    "\n",
    "**Adjust the scaling to ensure that the text is not cutoff at the margins.**"
   ]
  },
  {
   "cell_type": "markdown",
   "metadata": {
    "id": "_TlLBrWBIGt0"
   },
   "source": [
    "## Colab Link\n",
    "\n",
    "Submit make sure to include a link to your colab file here\n",
    "\n",
    "Colab Link: https://drive.google.com/file/d/12GMZUrtsAITRPaWvrLYMwZ6NvQDG0alm/view?usp=sharing"
   ]
  },
  {
   "cell_type": "markdown",
   "metadata": {
    "id": "mALD3Y2bbzGT"
   },
   "source": [
    "## Part 1. Python Basics [3 pt]\n",
    "\n",
    "The purpose of this section is to get you used to the\n",
    "basics of Python, including working with functions, numbers,\n",
    "lists, and strings.\n",
    "\n",
    "Note that we **will** be checking your code for clarity and efficiency.\n",
    "\n",
    "If you have trouble with this part of the assignment, please review http://cs231n.github.io/python-numpy-tutorial/"
   ]
  },
  {
   "cell_type": "markdown",
   "metadata": {
    "id": "7gimRTE9bzGa"
   },
   "source": [
    "### Part (a) -- 1pt\n",
    "\n",
    "Write a function `sum_of_cubes` that computes the sum of cubes up to `n`. If the input to `sum_of_cubes` invalid (e.g. negative or non-integer `n`), the function should print out `\"Invalid input\"` and return `-1`."
   ]
  },
  {
   "cell_type": "code",
   "metadata": {
    "collapsed": true,
    "id": "fifG_Wv6bzGf",
    "jupyter": {
     "outputs_hidden": true
    },
    "executionInfo": {
     "status": "ok",
     "timestamp": 1727491708027,
     "user_tz": 240,
     "elapsed": 196,
     "user": {
      "displayName": "Max “0xC00005”",
      "userId": "00337336279355089964"
     }
    },
    "ExecuteTime": {
     "end_time": "2024-10-09T22:51:43.360468Z",
     "start_time": "2024-10-09T22:51:43.355942Z"
    }
   },
   "source": [
    "def sum_of_cubes(n):\n",
    "    \"\"\"Return the sum (1^3 + 2^3 + 3^3 + ... + n^3)\n",
    "\n",
    "    Precondition: n > 0, type(n) == int\n",
    "\n",
    "    >>> sum_of_cubes(3)\n",
    "    36\n",
    "    >>> sum_of_cubes(1)\n",
    "    1\n",
    "    \"\"\"\n",
    "    return sum([i * i * i for i in range(1, n + 1)])"
   ],
   "outputs": [],
   "execution_count": 1
  },
  {
   "cell_type": "markdown",
   "metadata": {
    "id": "bOxDP8AlbzG2"
   },
   "source": [
    "### Part (b) -- 1pt\n",
    "\n",
    "Write a function `word_lengths` that takes a sentence (string), computes the length of each word in that sentence, and returns the length of each word in a list. You can\n",
    "assume that words are always separated by a space character `\" \"`.\n",
    "\n",
    "Hint: recall the `str.split` function in Python.\n",
    "If you arenot sure how this function works, try\n",
    "typing `help(str.split)` into a Python shell, or check out https://docs.python.org/3.6/library/stdtypes.html#str.split"
   ]
  },
  {
   "cell_type": "code",
   "metadata": {
    "collapsed": true,
    "id": "H84jlGrVbzG5",
    "jupyter": {
     "outputs_hidden": true
    },
    "executionInfo": {
     "status": "ok",
     "timestamp": 1727491708278,
     "user_tz": 240,
     "elapsed": 18,
     "user": {
      "displayName": "Max “0xC00005”",
      "userId": "00337336279355089964"
     }
    },
    "outputId": "71c64c88-47a2-44f3-fad7-4497ea4f7abc",
    "colab": {
     "base_uri": "https://localhost:8080/"
    },
    "ExecuteTime": {
     "end_time": "2024-10-09T22:51:43.418884Z",
     "start_time": "2024-10-09T22:51:43.415987Z"
    }
   },
   "source": [
    "help(str.split)"
   ],
   "outputs": [
    {
     "name": "stdout",
     "output_type": "stream",
     "text": [
      "Help on method_descriptor:\n",
      "\n",
      "split(self, /, sep=None, maxsplit=-1)\n",
      "    Return a list of the substrings in the string, using sep as the separator string.\n",
      "    \n",
      "      sep\n",
      "        The separator used to split the string.\n",
      "    \n",
      "        When set to None (the default value), will split on any whitespace\n",
      "        character (including \\\\n \\\\r \\\\t \\\\f and spaces) and will discard\n",
      "        empty strings from the result.\n",
      "      maxsplit\n",
      "        Maximum number of splits (starting from the left).\n",
      "        -1 (the default value) means no limit.\n",
      "    \n",
      "    Note, str.split() is mainly useful for data that has been intentionally\n",
      "    delimited.  With natural text that includes punctuation, consider using\n",
      "    the regular expression module.\n",
      "\n"
     ]
    }
   ],
   "execution_count": 2
  },
  {
   "cell_type": "code",
   "metadata": {
    "collapsed": true,
    "id": "w1lbnwgsbzHG",
    "jupyter": {
     "outputs_hidden": true
    },
    "executionInfo": {
     "status": "ok",
     "timestamp": 1727491708278,
     "user_tz": 240,
     "elapsed": 17,
     "user": {
      "displayName": "Max “0xC00005”",
      "userId": "00337336279355089964"
     }
    },
    "ExecuteTime": {
     "end_time": "2024-10-09T22:51:43.646355Z",
     "start_time": "2024-10-09T22:51:43.644147Z"
    }
   },
   "source": [
    "def word_lengths(sentence):\n",
    "    \"\"\"Return a list containing the length of each word in\n",
    "    sentence.\n",
    "\n",
    "    >>> word_lengths(\"welcome to APS360!\")\n",
    "    [7, 2, 7]\n",
    "    >>> word_lengths(\"machine learning is so cool\")\n",
    "    [7, 8, 2, 2, 4]\n",
    "    \"\"\"\n",
    "    return [len(i) for i in sentence.split()]"
   ],
   "outputs": [],
   "execution_count": 3
  },
  {
   "cell_type": "markdown",
   "metadata": {
    "id": "iCsnzu4NIGuD"
   },
   "source": [
    "### Part (c) -- 1pt\n",
    "\n",
    "Write a function `all_same_length` that takes a sentence (string),\n",
    "and checks whether every word in the string is the same length.\n",
    "You should call the function `word_lengths` in the body\n",
    "of this new function.\n"
   ]
  },
  {
   "cell_type": "code",
   "metadata": {
    "collapsed": true,
    "id": "Z-7qytZEIGuE",
    "jupyter": {
     "outputs_hidden": true
    },
    "executionInfo": {
     "status": "ok",
     "timestamp": 1727491708279,
     "user_tz": 240,
     "elapsed": 17,
     "user": {
      "displayName": "Max “0xC00005”",
      "userId": "00337336279355089964"
     }
    },
    "ExecuteTime": {
     "end_time": "2024-10-09T22:51:43.701348Z",
     "start_time": "2024-10-09T22:51:43.698935Z"
    }
   },
   "source": [
    "def all_same_length(sentence):\n",
    "    \"\"\"Return True if every word in sentence has the same\n",
    "    length, and False otherwise.\n",
    "\n",
    "    >>> all_same_length(\"all same length\")\n",
    "    False\n",
    "    >>> word_lengths(\"hello world\")\n",
    "    True\n",
    "    \"\"\"\n",
    "    return len(set(word_lengths(sentence))) == 1"
   ],
   "outputs": [],
   "execution_count": 4
  },
  {
   "cell_type": "markdown",
   "metadata": {
    "id": "yUh1MySTbzHT"
   },
   "source": [
    "## Part 2. NumPy Exercises [5 pt]\n",
    "\n",
    "In this part of the assignment, you'll be manipulating arrays\n",
    "usign NumPy. Normally, we use the shorter name `np` to represent\n",
    "the package `numpy`."
   ]
  },
  {
   "cell_type": "code",
   "metadata": {
    "collapsed": true,
    "id": "H2opcxqMbzHW",
    "jupyter": {
     "outputs_hidden": true
    },
    "executionInfo": {
     "status": "ok",
     "timestamp": 1727491708279,
     "user_tz": 240,
     "elapsed": 16,
     "user": {
      "displayName": "Max “0xC00005”",
      "userId": "00337336279355089964"
     }
    },
    "ExecuteTime": {
     "end_time": "2024-10-09T22:51:43.874087Z",
     "start_time": "2024-10-09T22:51:43.760839Z"
    }
   },
   "source": [
    "import numpy as np"
   ],
   "outputs": [],
   "execution_count": 5
  },
  {
   "cell_type": "markdown",
   "metadata": {
    "id": "Ek29jdqPbzHf"
   },
   "source": [
    "### Part (a) -- 1pt\n",
    "\n",
    "The below variables `matrix` and `vector` are numpy arrays. Explain what you think `<NumpyArray>.size` and `<NumpyArray>.shape` represent."
   ]
  },
  {
   "cell_type": "code",
   "metadata": {
    "collapsed": true,
    "id": "Z6eniOV2bzHi",
    "jupyter": {
     "outputs_hidden": true
    },
    "executionInfo": {
     "status": "ok",
     "timestamp": 1727491708279,
     "user_tz": 240,
     "elapsed": 15,
     "user": {
      "displayName": "Max “0xC00005”",
      "userId": "00337336279355089964"
     }
    },
    "ExecuteTime": {
     "end_time": "2024-10-09T22:51:43.892114Z",
     "start_time": "2024-10-09T22:51:43.889996Z"
    }
   },
   "source": [
    "matrix = np.array([[1.0, 2.0, 3.0, 0.5], [4.0, 5.0, 0.0, 0.0], [-1.0, -2.0, 1.0, 1.0]])\n",
    "vector = np.array([2.0, 0.0, 1.0, -2.0])"
   ],
   "outputs": [],
   "execution_count": 6
  },
  {
   "cell_type": "code",
   "metadata": {
    "collapsed": true,
    "id": "JMIy15dKIGuP",
    "jupyter": {
     "outputs_hidden": true
    },
    "executionInfo": {
     "status": "ok",
     "timestamp": 1727491708279,
     "user_tz": 240,
     "elapsed": 15,
     "user": {
      "displayName": "Max “0xC00005”",
      "userId": "00337336279355089964"
     }
    },
    "outputId": "00b419a1-5a2c-474d-cb19-48dcb4b0d8c5",
    "colab": {
     "base_uri": "https://localhost:8080/"
    },
    "ExecuteTime": {
     "end_time": "2024-10-09T22:51:43.956679Z",
     "start_time": "2024-10-09T22:51:43.952734Z"
    }
   },
   "source": [
    "matrix.size"
   ],
   "outputs": [
    {
     "data": {
      "text/plain": [
       "12"
      ]
     },
     "execution_count": 7,
     "metadata": {},
     "output_type": "execute_result"
    }
   ],
   "execution_count": 7
  },
  {
   "cell_type": "code",
   "metadata": {
    "collapsed": true,
    "id": "QoHaPzDNbzHo",
    "jupyter": {
     "outputs_hidden": true
    },
    "scrolled": true,
    "executionInfo": {
     "status": "ok",
     "timestamp": 1727491708280,
     "user_tz": 240,
     "elapsed": 13,
     "user": {
      "displayName": "Max “0xC00005”",
      "userId": "00337336279355089964"
     }
    },
    "outputId": "ad7c95fd-e034-4b57-91e8-5df397394016",
    "colab": {
     "base_uri": "https://localhost:8080/"
    },
    "ExecuteTime": {
     "end_time": "2024-10-09T22:51:44.016256Z",
     "start_time": "2024-10-09T22:51:44.012002Z"
    }
   },
   "source": [
    "matrix.shape"
   ],
   "outputs": [
    {
     "data": {
      "text/plain": [
       "(3, 4)"
      ]
     },
     "execution_count": 8,
     "metadata": {},
     "output_type": "execute_result"
    }
   ],
   "execution_count": 8
  },
  {
   "cell_type": "code",
   "metadata": {
    "collapsed": true,
    "id": "dErt6w25bzHu",
    "jupyter": {
     "outputs_hidden": true
    },
    "executionInfo": {
     "status": "ok",
     "timestamp": 1727491708280,
     "user_tz": 240,
     "elapsed": 11,
     "user": {
      "displayName": "Max “0xC00005”",
      "userId": "00337336279355089964"
     }
    },
    "outputId": "285128db-1000-4b5f-8de2-0f2fec823282",
    "colab": {
     "base_uri": "https://localhost:8080/"
    },
    "ExecuteTime": {
     "end_time": "2024-10-09T22:51:44.074392Z",
     "start_time": "2024-10-09T22:51:44.071642Z"
    }
   },
   "source": [
    "vector.size"
   ],
   "outputs": [
    {
     "data": {
      "text/plain": [
       "4"
      ]
     },
     "execution_count": 9,
     "metadata": {},
     "output_type": "execute_result"
    }
   ],
   "execution_count": 9
  },
  {
   "cell_type": "code",
   "metadata": {
    "collapsed": true,
    "id": "TXhHCchIIGua",
    "jupyter": {
     "outputs_hidden": true
    },
    "executionInfo": {
     "status": "ok",
     "timestamp": 1727491708280,
     "user_tz": 240,
     "elapsed": 10,
     "user": {
      "displayName": "Max “0xC00005”",
      "userId": "00337336279355089964"
     }
    },
    "outputId": "231b7724-f292-4084-d114-48c262a5f273",
    "colab": {
     "base_uri": "https://localhost:8080/"
    },
    "ExecuteTime": {
     "end_time": "2024-10-09T22:51:44.145239Z",
     "start_time": "2024-10-09T22:51:44.142004Z"
    }
   },
   "source": [
    "vector.shape"
   ],
   "outputs": [
    {
     "data": {
      "text/plain": [
       "(4,)"
      ]
     },
     "execution_count": 10,
     "metadata": {},
     "output_type": "execute_result"
    }
   ],
   "execution_count": 10
  },
  {
   "cell_type": "markdown",
   "metadata": {
    "id": "9PQ-pRIlbzH8"
   },
   "source": [
    "### Part (b) -- 1pt\n",
    "\n",
    "Perform matrix multiplication `output = matrix x vector` by using\n",
    "for loops to iterate through the columns and rows.\n",
    "Do not use any builtin NumPy functions.\n",
    "Cast your output into a NumPy array, if it isn't one already.\n",
    "\n",
    "Hint: be mindful of the dimension of output"
   ]
  },
  {
   "cell_type": "code",
   "metadata": {
    "collapsed": true,
    "id": "SXnZFii2bzH-",
    "jupyter": {
     "outputs_hidden": true
    },
    "executionInfo": {
     "status": "ok",
     "timestamp": 1727491708280,
     "user_tz": 240,
     "elapsed": 7,
     "user": {
      "displayName": "Max “0xC00005”",
      "userId": "00337336279355089964"
     }
    },
    "ExecuteTime": {
     "end_time": "2024-10-09T22:51:44.202568Z",
     "start_time": "2024-10-09T22:51:44.199001Z"
    }
   },
   "source": [
    "output = [0] * matrix.shape[0]\n",
    "for i in range(matrix.shape[0]):\n",
    "    for j in range(matrix.shape[1]):\n",
    "        output[i] += matrix[i][j] * vector[j]"
   ],
   "outputs": [],
   "execution_count": 11
  },
  {
   "cell_type": "code",
   "metadata": {
    "collapsed": true,
    "id": "BiIVqVvvbzII",
    "jupyter": {
     "outputs_hidden": true
    },
    "executionInfo": {
     "status": "ok",
     "timestamp": 1727491708691,
     "user_tz": 240,
     "elapsed": 417,
     "user": {
      "displayName": "Max “0xC00005”",
      "userId": "00337336279355089964"
     }
    },
    "outputId": "fae2abf6-05ab-4ddb-f9ab-4998981f8e99",
    "colab": {
     "base_uri": "https://localhost:8080/"
    },
    "ExecuteTime": {
     "end_time": "2024-10-09T22:51:44.261738Z",
     "start_time": "2024-10-09T22:51:44.258479Z"
    }
   },
   "source": [
    "output"
   ],
   "outputs": [
    {
     "data": {
      "text/plain": [
       "[4.0, 8.0, -3.0]"
      ]
     },
     "execution_count": 12,
     "metadata": {},
     "output_type": "execute_result"
    }
   ],
   "execution_count": 12
  },
  {
   "cell_type": "markdown",
   "metadata": {
    "id": "O5UhbilNbzIP"
   },
   "source": [
    "### Part (c) -- 1pt\n",
    "\n",
    "Perform matrix multiplication `output2 = matrix x vector` by using\n",
    "the function `numpy.dot`.\n",
    "\n",
    "We will never actually write code as in\n",
    "part(c), not only because `numpy.dot` is more concise and easier to read/write, but also performance-wise `numpy.dot` is much faster (it is written in C and highly optimized).\n",
    "In general, we will avoid for loops in our code."
   ]
  },
  {
   "cell_type": "code",
   "metadata": {
    "collapsed": true,
    "id": "e8dLVrMEbzIR",
    "jupyter": {
     "outputs_hidden": true
    },
    "executionInfo": {
     "status": "ok",
     "timestamp": 1727491708691,
     "user_tz": 240,
     "elapsed": 8,
     "user": {
      "displayName": "Max “0xC00005”",
      "userId": "00337336279355089964"
     }
    },
    "ExecuteTime": {
     "end_time": "2024-10-09T22:51:44.322065Z",
     "start_time": "2024-10-09T22:51:44.317681Z"
    }
   },
   "source": [
    "output2 = np.dot(matrix, vector)"
   ],
   "outputs": [],
   "execution_count": 13
  },
  {
   "cell_type": "code",
   "metadata": {
    "collapsed": true,
    "id": "X1LqY1eKbzIV",
    "jupyter": {
     "outputs_hidden": true
    },
    "executionInfo": {
     "status": "ok",
     "timestamp": 1727491708691,
     "user_tz": 240,
     "elapsed": 7,
     "user": {
      "displayName": "Max “0xC00005”",
      "userId": "00337336279355089964"
     }
    },
    "outputId": "2b8fb9d1-4a30-4c4c-acd5-78af14e99e60",
    "colab": {
     "base_uri": "https://localhost:8080/"
    },
    "ExecuteTime": {
     "end_time": "2024-10-09T22:51:44.379374Z",
     "start_time": "2024-10-09T22:51:44.375812Z"
    }
   },
   "source": [
    "output2"
   ],
   "outputs": [
    {
     "data": {
      "text/plain": [
       "array([ 4.,  8., -3.])"
      ]
     },
     "execution_count": 14,
     "metadata": {},
     "output_type": "execute_result"
    }
   ],
   "execution_count": 14
  },
  {
   "cell_type": "markdown",
   "metadata": {
    "id": "77XioX6vbzIb"
   },
   "source": [
    "### Part (d) -- 1pt\n",
    "\n",
    "As a way to test for consistency, show that the two outputs match."
   ]
  },
  {
   "cell_type": "code",
   "metadata": {
    "collapsed": true,
    "id": "1Vc-Nvf0bzIc",
    "jupyter": {
     "outputs_hidden": true
    },
    "executionInfo": {
     "status": "ok",
     "timestamp": 1727491708691,
     "user_tz": 240,
     "elapsed": 5,
     "user": {
      "displayName": "Max “0xC00005”",
      "userId": "00337336279355089964"
     }
    },
    "outputId": "cf59dbdc-0c89-4b04-b173-025fdff219cf",
    "colab": {
     "base_uri": "https://localhost:8080/"
    },
    "ExecuteTime": {
     "end_time": "2024-10-09T22:51:44.457602Z",
     "start_time": "2024-10-09T22:51:44.450068Z"
    }
   },
   "source": [
    "# show if every element is the same\n",
    "np.allclose(output, output2)"
   ],
   "outputs": [
    {
     "data": {
      "text/plain": [
       "True"
      ]
     },
     "execution_count": 15,
     "metadata": {},
     "output_type": "execute_result"
    }
   ],
   "execution_count": 15
  },
  {
   "cell_type": "markdown",
   "metadata": {
    "id": "wjEGmk8oIGur"
   },
   "source": [
    "### Part (e) -- 1pt\n",
    "\n",
    "Show that using `np.dot` is faster than using your code from part (c).\n",
    "\n",
    "You may find the below code snippit helpful:"
   ]
  },
  {
   "cell_type": "code",
   "metadata": {
    "collapsed": true,
    "id": "XlnE0XO8IGur",
    "jupyter": {
     "outputs_hidden": true
    },
    "executionInfo": {
     "status": "ok",
     "timestamp": 1727491708916,
     "user_tz": 240,
     "elapsed": 228,
     "user": {
      "displayName": "Max “0xC00005”",
      "userId": "00337336279355089964"
     }
    },
    "outputId": "a24fab3b-253a-4a26-cf20-9d683dd490cb",
    "colab": {
     "base_uri": "https://localhost:8080/"
    },
    "ExecuteTime": {
     "end_time": "2024-10-09T22:51:44.554049Z",
     "start_time": "2024-10-09T22:51:44.514780Z"
    }
   },
   "source": [
    "import time\n",
    "\n",
    "# record the time before running code\n",
    "start_time = time.time()\n",
    "\n",
    "# place code to run here\n",
    "for i in range(10000):\n",
    "    output = [0] * matrix.shape[0]\n",
    "    for i in range(matrix.shape[0]):\n",
    "        for j in range(matrix.shape[1]):\n",
    "            output[i] += matrix[i][j] * vector[j]\n",
    "\n",
    "# record the time after the code is run\n",
    "end_time = time.time()\n",
    "\n",
    "# compute the difference\n",
    "diff = end_time - start_time\n",
    "diff"
   ],
   "outputs": [
    {
     "data": {
      "text/plain": [
       "0.035500288009643555"
      ]
     },
     "execution_count": 16,
     "metadata": {},
     "output_type": "execute_result"
    }
   ],
   "execution_count": 16
  },
  {
   "cell_type": "code",
   "metadata": {
    "collapsed": true,
    "id": "0aBOgCJeIGuv",
    "jupyter": {
     "outputs_hidden": true
    },
    "executionInfo": {
     "status": "ok",
     "timestamp": 1727491708917,
     "user_tz": 240,
     "elapsed": 6,
     "user": {
      "displayName": "Max “0xC00005”",
      "userId": "00337336279355089964"
     }
    },
    "outputId": "6e870803-f6a9-48f6-ab83-d18cd49c299e",
    "colab": {
     "base_uri": "https://localhost:8080/"
    },
    "ExecuteTime": {
     "end_time": "2024-10-09T22:51:44.584798Z",
     "start_time": "2024-10-09T22:51:44.577191Z"
    }
   },
   "source": [
    "# record the time before running code\n",
    "start_time = time.time()\n",
    "\n",
    "# place code to run here\n",
    "for i in range(10000):\n",
    "    output2 = np.dot(matrix, vector)\n",
    "\n",
    "# record the time after the code is run\n",
    "end_time = time.time()\n",
    "\n",
    "# compute the difference\n",
    "diff = end_time - start_time\n",
    "diff"
   ],
   "outputs": [
    {
     "data": {
      "text/plain": [
       "0.004702091217041016"
      ]
     },
     "execution_count": 17,
     "metadata": {},
     "output_type": "execute_result"
    }
   ],
   "execution_count": 17
  },
  {
   "cell_type": "markdown",
   "metadata": {
    "id": "LbKJjoHHbzI4"
   },
   "source": [
    "## Part 3. Images [6 pt]\n",
    "\n",
    "A picture or image can be represented as a NumPy array of “pixels”,\n",
    "with dimensions H × W × C, where H is the height of the image, W is the width of the image,\n",
    "and C is the number of colour channels. Typically we will use an image with channels that give the the Red, Green, and Blue “level” of each pixel, which is referred to with the short form RGB.\n",
    "\n",
    "You will write Python code to load an image, and perform several array manipulations to the image and visualize their effects."
   ]
  },
  {
   "cell_type": "code",
   "metadata": {
    "collapsed": true,
    "id": "FRGQKpEgbzI4",
    "jupyter": {
     "outputs_hidden": true
    },
    "executionInfo": {
     "status": "ok",
     "timestamp": 1727491708917,
     "user_tz": 240,
     "elapsed": 4,
     "user": {
      "displayName": "Max “0xC00005”",
      "userId": "00337336279355089964"
     }
    },
    "ExecuteTime": {
     "end_time": "2024-10-09T22:51:44.954196Z",
     "start_time": "2024-10-09T22:51:44.705004Z"
    }
   },
   "source": [
    "import matplotlib.pyplot as plt"
   ],
   "outputs": [],
   "execution_count": 18
  },
  {
   "cell_type": "markdown",
   "metadata": {
    "id": "p1D5mtCubzI6"
   },
   "source": [
    "### Part (a) -- 1 pt\n",
    "\n",
    "This is a photograph of a dog whose name is Mochi.\n",
    "\n",
    "![alt text](https://drive.google.com/uc?export=view&id=1oaLVR2hr1_qzpKQ47i9rVUIklwbDcews)\n",
    "\n",
    "Load the image from its url (https://drive.google.com/uc?export=view&id=1oaLVR2hr1_qzpKQ47i9rVUIklwbDcews) into the variable `img` using the `plt.imread` function.\n",
    "\n",
    "Hint: You can enter the URL directly into the `plt.imread` function as a Python string."
   ]
  },
  {
   "cell_type": "code",
   "metadata": {
    "collapsed": true,
    "id": "RB8lf73vbzI7",
    "jupyter": {
     "outputs_hidden": true
    },
    "executionInfo": {
     "status": "ok",
     "timestamp": 1727491710860,
     "user_tz": 240,
     "elapsed": 1946,
     "user": {
      "displayName": "Max “0xC00005”",
      "userId": "00337336279355089964"
     }
    },
    "ExecuteTime": {
     "end_time": "2024-10-09T22:51:49.269874Z",
     "start_time": "2024-10-09T22:51:44.968873Z"
    }
   },
   "source": [
    "from skimage import io\n",
    "\n",
    "img = io.imread(\n",
    "    \"https://www.google.com/url?q=https%3A%2F%2Fdrive.google.com%2Fuc%3Fexport%3Dview%26id%3D1oaLVR2hr1_qzpKQ47i9rVUIklwbDcews\"\n",
    ")\n",
    "# img = plt.imread(f)"
   ],
   "outputs": [],
   "execution_count": 19
  },
  {
   "cell_type": "markdown",
   "metadata": {
    "id": "mNli5OsbbzI9"
   },
   "source": [
    "### Part (b) -- 1pt\n",
    "\n",
    "Use the function `plt.imshow` to visualize `img`.\n",
    "\n",
    "This function will also show the coordinate system used to identify pixels.\n",
    "The origin is at the top left corner, and the first dimension indicates the Y (row) direction,\n",
    "and the second dimension indicates the X (column) dimension."
   ]
  },
  {
   "cell_type": "code",
   "metadata": {
    "collapsed": true,
    "id": "lEeHKc_abzI9",
    "jupyter": {
     "outputs_hidden": true
    },
    "executionInfo": {
     "status": "ok",
     "timestamp": 1727491711220,
     "user_tz": 240,
     "elapsed": 363,
     "user": {
      "displayName": "Max “0xC00005”",
      "userId": "00337336279355089964"
     }
    },
    "colab": {
     "base_uri": "https://localhost:8080/",
     "height": 453
    },
    "outputId": "be790c22-2b9d-4dc7-aab6-afc922df9f3b",
    "ExecuteTime": {
     "end_time": "2024-10-09T22:51:49.436163Z",
     "start_time": "2024-10-09T22:51:49.288254Z"
    }
   },
   "source": [
    "plt.imshow(img)"
   ],
   "outputs": [
    {
     "data": {
      "text/plain": [
       "<matplotlib.image.AxesImage at 0x7fca2919e170>"
      ]
     },
     "execution_count": 20,
     "metadata": {},
     "output_type": "execute_result"
    },
    {
     "data": {
      "text/plain": [
       "<Figure size 640x480 with 1 Axes>"
      ],
      "image/png": "[encoded data removed]"
     },
     "metadata": {},
     "output_type": "display_data"
    }
   ],
   "execution_count": 20
  },
  {
   "cell_type": "markdown",
   "metadata": {
    "id": "pB-Hx-OFbzJC"
   },
   "source": [
    "### Part (c) -- 2pt\n",
    "\n",
    "Modify the image by adding a constant value of 0.25 to each pixel in the `img` and\n",
    "store the result in the variable `img_add`. Note that, since the range for the pixels\n",
    "needs to be between [0, 1], you will also need to clip img_add to be in the range [0, 1]\n",
    "using `numpy.clip`. Clipping sets any value that is outside of the desired range to the\n",
    "closest endpoint. Display the image using `plt.imshow`."
   ]
  },
  {
   "cell_type": "code",
   "metadata": {
    "collapsed": true,
    "id": "GWBhZay2bzJC",
    "jupyter": {
     "outputs_hidden": true
    },
    "executionInfo": {
     "status": "ok",
     "timestamp": 1727491711220,
     "user_tz": 240,
     "elapsed": 7,
     "user": {
      "displayName": "Max “0xC00005”",
      "userId": "00337336279355089964"
     }
    },
    "ExecuteTime": {
     "end_time": "2024-10-09T22:51:49.452594Z",
     "start_time": "2024-10-09T22:51:49.448918Z"
    }
   },
   "source": [
    "img_add = np.clip(img + 0.25, 0, 1)"
   ],
   "outputs": [],
   "execution_count": 21
  },
  {
   "cell_type": "markdown",
   "metadata": {
    "id": "DeinKXBCbzJI"
   },
   "source": [
    "### Part (d) -- 2pt\n",
    "\n",
    "Crop the **original** image (`img` variable) to a 130 x 150 image including Mochi's face. Discard the alpha colour channel (i.e. resulting `img_cropped` should **only have RGB channels**)\n",
    "\n",
    "Display the image."
   ]
  },
  {
   "metadata": {
    "id": "aIzh1KBPdXf5",
    "executionInfo": {
     "status": "ok",
     "timestamp": 1727491712018,
     "user_tz": 240,
     "elapsed": 805,
     "user": {
      "displayName": "Max “0xC00005”",
      "userId": "00337336279355089964"
     }
    },
    "colab": {
     "base_uri": "https://localhost:8080/",
     "height": 452
    },
    "outputId": "2f49c4c9-de50-4ae7-d2ee-1b7e30d3e461",
    "ExecuteTime": {
     "end_time": "2024-10-09T22:51:49.627783Z",
     "start_time": "2024-10-09T22:51:49.519793Z"
    }
   },
   "cell_type": "code",
   "source": [
    "img_cropped = img[0:130, 0:150, 0:3]\n",
    "plt.imshow(img_cropped)"
   ],
   "outputs": [
    {
     "data": {
      "text/plain": [
       "<matplotlib.image.AxesImage at 0x7fca2906cc70>"
      ]
     },
     "execution_count": 22,
     "metadata": {},
     "output_type": "execute_result"
    },
    {
     "data": {
      "text/plain": [
       "<Figure size 640x480 with 1 Axes>"
      ],
      "image/png": "[encoded data removed]"
     },
     "metadata": {},
     "output_type": "display_data"
    }
   ],
   "execution_count": 22
  },
  {
   "cell_type": "markdown",
   "metadata": {
    "id": "FmfE9CQdIGva"
   },
   "source": [
    "## Part 4. Basics of PyTorch [6 pt]\n",
    "\n",
    "PyTorch is a Python-based neural networks package. Along with tensorflow, PyTorch is currently one of the most popular machine learning libraries.\n",
    "\n",
    "PyTorch, at its core, is similar to Numpy in a sense that they both\n",
    "try to make it easier to write codes for scientific computing\n",
    "achieve improved performance over vanilla Python by leveraging highly optimized C back-end.\n",
    "However, compare to Numpy, PyTorch offers much better GPU support and provides many high-level features for machine learning. Technically, Numpy can be used to perform almost every thing PyTorch does. However, Numpy would be a lot slower than PyTorch, especially with CUDA GPU, and it would take more effort to write machine learning related code compared to using PyTorch."
   ]
  },
  {
   "cell_type": "code",
   "metadata": {
    "collapsed": true,
    "id": "ppRPK-X2IGvb",
    "jupyter": {
     "outputs_hidden": true
    },
    "executionInfo": {
     "status": "ok",
     "timestamp": 1727491715114,
     "user_tz": 240,
     "elapsed": 3100,
     "user": {
      "displayName": "Max “0xC00005”",
      "userId": "00337336279355089964"
     }
    },
    "ExecuteTime": {
     "end_time": "2024-10-09T22:51:50.915895Z",
     "start_time": "2024-10-09T22:51:49.664068Z"
    }
   },
   "source": [
    "import torch"
   ],
   "outputs": [],
   "execution_count": 23
  },
  {
   "cell_type": "markdown",
   "metadata": {
    "id": "DXrczIrSIGvf"
   },
   "source": [
    "### Part (a) -- 1 pt\n",
    "\n",
    "Use the function `torch.from_numpy` to convert the numpy array `img_cropped` into\n",
    "a PyTorch tensor. Save the result in a variable called `img_torch`."
   ]
  },
  {
   "cell_type": "code",
   "metadata": {
    "collapsed": true,
    "id": "j9rYyf4gIGvj",
    "jupyter": {
     "outputs_hidden": true
    },
    "executionInfo": {
     "status": "ok",
     "timestamp": 1727491715115,
     "user_tz": 240,
     "elapsed": 20,
     "user": {
      "displayName": "Max “0xC00005”",
      "userId": "00337336279355089964"
     }
    },
    "ExecuteTime": {
     "end_time": "2024-10-09T22:51:50.932Z",
     "start_time": "2024-10-09T22:51:50.928580Z"
    }
   },
   "source": [
    "img_torch = torch.from_numpy(img_cropped)"
   ],
   "outputs": [],
   "execution_count": 24
  },
  {
   "cell_type": "markdown",
   "metadata": {
    "id": "zrpPeRKtIGvn"
   },
   "source": [
    "### Part (b) -- 1pt\n",
    "\n",
    "Use the method `<Tensor>.shape` to find the shape (dimension and size) of `img_torch`."
   ]
  },
  {
   "cell_type": "code",
   "metadata": {
    "collapsed": true,
    "id": "ws7G_aaxIGvn",
    "jupyter": {
     "outputs_hidden": true
    },
    "executionInfo": {
     "status": "ok",
     "timestamp": 1727491715116,
     "user_tz": 240,
     "elapsed": 21,
     "user": {
      "displayName": "Max “0xC00005”",
      "userId": "00337336279355089964"
     }
    },
    "colab": {
     "base_uri": "https://localhost:8080/"
    },
    "outputId": "812c088d-ad8c-4195-ba86-3022d119a495",
    "ExecuteTime": {
     "end_time": "2024-10-09T22:51:50.985607Z",
     "start_time": "2024-10-09T22:51:50.982382Z"
    }
   },
   "source": [
    "img_torch.shape"
   ],
   "outputs": [
    {
     "data": {
      "text/plain": [
       "torch.Size([130, 150, 3])"
      ]
     },
     "execution_count": 25,
     "metadata": {},
     "output_type": "execute_result"
    }
   ],
   "execution_count": 25
  },
  {
   "cell_type": "markdown",
   "metadata": {
    "id": "uorV8t1pIGvp"
   },
   "source": [
    "### Part (c) -- 1pt\n",
    "\n",
    "How many floating-point numbers are stored in the tensor `img_torch`?"
   ]
  },
  {
   "cell_type": "code",
   "metadata": {
    "collapsed": true,
    "id": "sucaE_VCIGvq",
    "jupyter": {
     "outputs_hidden": true
    },
    "executionInfo": {
     "status": "ok",
     "timestamp": 1727491715116,
     "user_tz": 240,
     "elapsed": 20,
     "user": {
      "displayName": "Max “0xC00005”",
      "userId": "00337336279355089964"
     }
    },
    "colab": {
     "base_uri": "https://localhost:8080/"
    },
    "outputId": "0f8bf484-721c-4c0a-9a60-1a579542ec64",
    "ExecuteTime": {
     "end_time": "2024-10-09T22:51:51.047221Z",
     "start_time": "2024-10-09T22:51:51.043872Z"
    }
   },
   "source": [
    "img_torch.numel()"
   ],
   "outputs": [
    {
     "data": {
      "text/plain": [
       "58500"
      ]
     },
     "execution_count": 26,
     "metadata": {},
     "output_type": "execute_result"
    }
   ],
   "execution_count": 26
  },
  {
   "cell_type": "markdown",
   "metadata": {
    "id": "sIcXGdg5IGvu"
   },
   "source": [
    "### Part (d) -- 1 pt\n",
    "\n",
    "What does the code `img_torch.transpose(0,2)` do? What does the expression return?\n",
    "Is the original variable `img_torch` updated? Explain."
   ]
  },
  {
   "cell_type": "code",
   "metadata": {
    "collapsed": true,
    "id": "omOJqIhEIGvu",
    "jupyter": {
     "outputs_hidden": true
    },
    "executionInfo": {
     "status": "ok",
     "timestamp": 1727491715116,
     "user_tz": 240,
     "elapsed": 17,
     "user": {
      "displayName": "Max “0xC00005”",
      "userId": "00337336279355089964"
     }
    },
    "colab": {
     "base_uri": "https://localhost:8080/"
    },
    "outputId": "71e6dcde-afa5-461d-9cd5-b4cabc0a96c5",
    "ExecuteTime": {
     "end_time": "2024-10-09T22:51:51.118071Z",
     "start_time": "2024-10-09T22:51:51.112258Z"
    }
   },
   "source": [
    "\"\"\"\n",
    "img_torch.transpose(0,2) will transpose the tensor img_torch such that the 0th and 2nd dimensions are swapped.\n",
    "The original variable img_torch is not updated, as the transpose function returns a new tensor.\n",
    "\"\"\"\n",
    "\n",
    "print(img_torch.transpose(0, 2).shape)\n",
    "print(img_torch.shape)"
   ],
   "outputs": [
    {
     "name": "stdout",
     "output_type": "stream",
     "text": [
      "torch.Size([3, 150, 130])\n",
      "torch.Size([130, 150, 3])\n"
     ]
    }
   ],
   "execution_count": 27
  },
  {
   "cell_type": "markdown",
   "metadata": {
    "id": "lHrzC0EqIGvx"
   },
   "source": [
    "### Part (e) -- 1 pt\n",
    "\n",
    "What does the code `img_torch.unsqueeze(0)` do? What does the expression return?\n",
    "Is the original variable `img_torch` updated? Explain."
   ]
  },
  {
   "cell_type": "code",
   "metadata": {
    "collapsed": true,
    "id": "ZFePj7E5IGvz",
    "jupyter": {
     "outputs_hidden": true
    },
    "executionInfo": {
     "status": "ok",
     "timestamp": 1727491715116,
     "user_tz": 240,
     "elapsed": 14,
     "user": {
      "displayName": "Max “0xC00005”",
      "userId": "00337336279355089964"
     }
    },
    "colab": {
     "base_uri": "https://localhost:8080/"
    },
    "outputId": "30a32724-5860-47cb-fbda-10e6bd176850",
    "ExecuteTime": {
     "end_time": "2024-10-09T22:51:51.177682Z",
     "start_time": "2024-10-09T22:51:51.174411Z"
    }
   },
   "source": [
    "\"\"\"\n",
    "img_torch.unsqueeze(0) will add a new dimension of size 1 at the 0th index of the tensor img_torch.\n",
    "The original variable img_torch is not updated, as the unsqueeze function returns a new tensor.\n",
    "\"\"\"\n",
    "\n",
    "print(img_torch.unsqueeze(0).shape)\n",
    "print(img_torch.shape)"
   ],
   "outputs": [
    {
     "name": "stdout",
     "output_type": "stream",
     "text": [
      "torch.Size([1, 130, 150, 3])\n",
      "torch.Size([130, 150, 3])\n"
     ]
    }
   ],
   "execution_count": 28
  },
  {
   "cell_type": "markdown",
   "metadata": {
    "id": "re16jTB9IGv0"
   },
   "source": [
    "### Part (f) -- 1 pt\n",
    "\n",
    "Find the maximum value of `img_torch` along each colour channel? Your output should be a one-dimensional\n",
    "PyTorch tensor with exactly three values.\n",
    "\n",
    "Hint: lookup the function `torch.max`."
   ]
  },
  {
   "metadata": {
    "id": "8XIJm71fdXgB",
    "executionInfo": {
     "status": "ok",
     "timestamp": 1727491715117,
     "user_tz": 240,
     "elapsed": 12,
     "user": {
      "displayName": "Max “0xC00005”",
      "userId": "00337336279355089964"
     }
    },
    "colab": {
     "base_uri": "https://localhost:8080/"
    },
    "outputId": "6e28af35-69e8-4373-9a08-b5c03fca3563",
    "ExecuteTime": {
     "end_time": "2024-10-09T22:57:17.919553Z",
     "start_time": "2024-10-09T22:57:17.910660Z"
    }
   },
   "cell_type": "code",
   "source": [
    "# torch.max(img_torch, dim=0).values\n",
    "\n",
    "# torch.max(img_torch, dim=2).values\n",
    "#\n",
    "# # # show the RGB tensor of pixel 0 0\n",
    "# # img_torch[0, 0, :]\n",
    "\n",
    "# Find the max value of each channel of all pixels\n",
    "torch.max(torch.max(img_torch, dim=0).values, dim=0).values"
   ],
   "outputs": [
    {
     "data": {
      "text/plain": [
       "tensor([228, 201, 172], dtype=torch.uint8)"
      ]
     },
     "execution_count": 45,
     "metadata": {},
     "output_type": "execute_result"
    }
   ],
   "execution_count": 45
  },
  {
   "cell_type": "markdown",
   "metadata": {
    "id": "3hhA2sX0au0D"
   },
   "source": [
    "## Part 5. Training an ANN [10 pt]\n",
    "\n",
    "The sample code provided below is a 2-layer ANN trained on the MNIST dataset to identify digits less than 3 or greater than and equal to 3. Modify the code by changing any of the following and observe how the accuracy and error are affected:\n",
    "\n",
    "- number of training iterations\n",
    "- number of hidden units\n",
    "- numbers of layers\n",
    "- types of activation functions\n",
    "- learning rate\n",
    "\n",
    "Please select at least three different options from the list above. For each option, please select two to three different parameters and provide a table.\n"
   ]
  },
  {
   "cell_type": "code",
   "metadata": {
    "collapsed": true,
    "id": "GGtthiz1tDh5",
    "jupyter": {
     "outputs_hidden": true
    },
    "executionInfo": {
     "status": "ok",
     "timestamp": 1727491721245,
     "user_tz": 240,
     "elapsed": 6136,
     "user": {
      "displayName": "Max “0xC00005”",
      "userId": "00337336279355089964"
     }
    },
    "colab": {
     "base_uri": "https://localhost:8080/"
    },
    "outputId": "3fd4360c-0d68-4552-d372-49a9faaaeab4",
    "ExecuteTime": {
     "end_time": "2024-10-09T22:51:53.385546Z",
     "start_time": "2024-10-09T22:51:51.298255Z"
    }
   },
   "source": [
    "import torch\n",
    "import torch.nn as nn\n",
    "import torch.nn.functional as F\n",
    "from torchvision import datasets, transforms\n",
    "import matplotlib.pyplot as plt  # for plotting\n",
    "import torch.optim as optim\n",
    "\n",
    "torch.manual_seed(1)  # set the random seed\n",
    "\n",
    "\n",
    "# define a 2-layer artificial neural network\n",
    "class Pigeon(nn.Module):\n",
    "    def __init__(self):\n",
    "        super(Pigeon, self).__init__()\n",
    "        self.layer1 = nn.Linear(28 * 28, 30)\n",
    "        self.layer2 = nn.Linear(30, 1)\n",
    "\n",
    "    def forward(self, img):\n",
    "        flattened = img.view(-1, 28 * 28)\n",
    "        activation1 = self.layer1(flattened)\n",
    "        activation1 = F.relu(activation1)\n",
    "        activation2 = self.layer2(activation1)\n",
    "        return activation2\n",
    "\n",
    "\n",
    "pigeon = Pigeon()\n",
    "\n",
    "# load the data\n",
    "mnist_data = datasets.MNIST(\"data\", train=True, download=True)\n",
    "mnist_data = list(mnist_data)\n",
    "mnist_train = mnist_data[:1000]\n",
    "mnist_val = mnist_data[1000:2000]\n",
    "img_to_tensor = transforms.ToTensor()\n",
    "\n",
    "\n",
    "# simplified training code to train `pigeon` on the \"small digit recognition\" task\n",
    "criterion = nn.BCEWithLogitsLoss()\n",
    "optimizer = optim.SGD(pigeon.parameters(), lr=0.005, momentum=0.9)\n",
    "\n",
    "for image, label in mnist_train:\n",
    "    # actual ground truth: is the digit less than 3?\n",
    "    actual = torch.tensor(label < 3).reshape([1, 1]).type(torch.FloatTensor)\n",
    "    # pigeon prediction\n",
    "    out = pigeon(img_to_tensor(image))  # step 1-2\n",
    "    # update the parameters based on the loss\n",
    "    loss = criterion(out, actual)  # step 3\n",
    "    loss.backward()  # step 4 (compute the updates for each parameter)\n",
    "    optimizer.step()  # step 4 (make the updates for each parameter)\n",
    "    optimizer.zero_grad()  # a clean up step for PyTorch\n",
    "\n",
    "# computing the error and accuracy on the training set\n",
    "error = 0\n",
    "for image, label in mnist_train:\n",
    "    prob = torch.sigmoid(pigeon(img_to_tensor(image)))\n",
    "    if (prob < 0.5 and label < 3) or (prob >= 0.5 and label >= 3):\n",
    "        error += 1\n",
    "print(\"Training Error Rate:\", error / len(mnist_train))\n",
    "print(\"Training Accuracy:\", 1 - error / len(mnist_train))\n",
    "\n",
    "\n",
    "# computing the error and accuracy on a test set\n",
    "error = 0\n",
    "for image, label in mnist_val:\n",
    "    prob = torch.sigmoid(pigeon(img_to_tensor(image)))\n",
    "    if (prob < 0.5 and label < 3) or (prob >= 0.5 and label >= 3):\n",
    "        error += 1\n",
    "print(\"Test Error Rate:\", error / len(mnist_val))\n",
    "print(\"Test Accuracy:\", 1 - error / len(mnist_val))"
   ],
   "outputs": [
    {
     "name": "stdout",
     "output_type": "stream",
     "text": [
      "Training Error Rate: 0.036\n",
      "Training Accuracy: 0.964\n",
      "Test Error Rate: 0.079\n",
      "Test Accuracy: 0.921\n"
     ]
    }
   ],
   "execution_count": 30
  },
  {
   "cell_type": "code",
   "source": [
    "# import torch\n",
    "# import torch.nn as nn\n",
    "# import torch.nn.functional as F\n",
    "# from torchvision import datasets, transforms\n",
    "# import torch.optim as optim\n",
    "# from itertools import product\n",
    "#\n",
    "# torch.manual_seed(1)  # set the random seed\n",
    "#\n",
    "# # Define the grid of hyperparameters\n",
    "# training_iterations = [5, 10]\n",
    "# hidden_units = [10, 20]\n",
    "# num_layers = [2, 4]\n",
    "# activation_functions = [F.relu, F.tanh, F.sigmoid]\n",
    "# learning_rates = [0.001, 0.01]\n",
    "#\n",
    "# # Load the data\n",
    "# mnist_data = datasets.MNIST('data', train=True, download=True)\n",
    "# mnist_data = list(mnist_data)\n",
    "# mnist_train = mnist_data[:1000]\n",
    "# mnist_val = mnist_data[1000:2000]\n",
    "# img_to_tensor = transforms.ToTensor()\n",
    "#\n",
    "# class Pigeon(nn.Module):\n",
    "#     def __init__(self, hidden_units, num_layers, activation):\n",
    "#         super(Pigeon, self).__init__()\n",
    "#         self.layers = nn.ModuleList()\n",
    "#         self.layers.append(nn.Linear(28 * 28, hidden_units))\n",
    "#         for _ in range(num_layers - 2):\n",
    "#             self.layers.append(nn.Linear(hidden_units, hidden_units))\n",
    "#         self.layers.append(nn.Linear(hidden_units, 1))\n",
    "#         self.activation = activation\n",
    "#\n",
    "#     def forward(self, img):\n",
    "#         x = img.view(-1, 28 * 28)\n",
    "#         for layer in self.layers[:-1]:\n",
    "#             x = self.activation(layer(x))\n",
    "#         return self.layers[-1](x)\n",
    "#\n",
    "# def train_and_evaluate(model, learning_rate, iterations):\n",
    "#     criterion = nn.BCEWithLogitsLoss()\n",
    "#     optimizer = optim.SGD(model.parameters(), lr=learning_rate, momentum=0.9)\n",
    "#\n",
    "#     # Training\n",
    "#     for _ in range(iterations):\n",
    "#         for (image, label) in mnist_train:\n",
    "#             actual = torch.tensor(label < 3).reshape([1,1]).type(torch.FloatTensor)\n",
    "#             out = model(img_to_tensor(image))\n",
    "#             loss = criterion(out, actual)\n",
    "#             loss.backward()\n",
    "#             optimizer.step()\n",
    "#             optimizer.zero_grad()\n",
    "#\n",
    "#     # Evaluation on training set\n",
    "#     train_error = 0\n",
    "#     for (image, label) in mnist_train:\n",
    "#         prob = torch.sigmoid(model(img_to_tensor(image)))\n",
    "#         if (prob < 0.5 and label < 3) or (prob >= 0.5 and label >= 3):\n",
    "#             train_error += 1\n",
    "#     train_accuracy = 1 - train_error / len(mnist_train)\n",
    "#\n",
    "#     # Evaluation on validation set\n",
    "#     val_error = 0\n",
    "#     for (image, label) in mnist_val:\n",
    "#         prob = torch.sigmoid(model(img_to_tensor(image)))\n",
    "#         if (prob < 0.5 and label < 3) or (prob >= 0.5 and label >= 3):\n",
    "#             val_error += 1\n",
    "#     val_accuracy = 1 - val_error / len(mnist_val)\n",
    "#\n",
    "#     return train_error / len(mnist_train), train_accuracy, val_error / len(mnist_val), val_accuracy\n",
    "#\n",
    "# # Perform grid search\n",
    "# for iters, hidden_unit, n_layers, activation, lr in product(training_iterations, hidden_units, num_layers, activation_functions, learning_rates):\n",
    "#     model = Pigeon(hidden_unit, n_layers, activation)\n",
    "#     train_error, train_acc, test_error, test_acc = train_and_evaluate(model, lr, iters)\n",
    "#\n",
    "#     print(f\"Configuration: Iterations: {iters}, Hidden Units: {hidden_unit}, Layers: {n_layers}, \"\n",
    "#           f\"Activation: {activation.__name__}, Learning Rate: {lr}\")\n",
    "#     print(f\"Training Error Rate: {train_error:.3f}\")\n",
    "#     print(f\"Training Accuracy: {train_acc:.3f}\")\n",
    "#     print(f\"Test Error Rate: {test_error:.3f}\")\n",
    "#     print(f\"Test Accuracy: {test_acc:.3f}\")\n",
    "#     print()\n",
    "#\n",
    "# print(\"Grid search completed.\")"
   ],
   "metadata": {
    "colab": {
     "base_uri": "https://localhost:8080/"
    },
    "id": "BEE19lcqhb8d",
    "executionInfo": {
     "status": "ok",
     "timestamp": 1727492203982,
     "user_tz": 240,
     "elapsed": 479,
     "user": {
      "displayName": "Max “0xC00005”",
      "userId": "00337336279355089964"
     }
    },
    "outputId": "b1fffa66-41f3-4e8a-d238-3f68c509225f",
    "ExecuteTime": {
     "end_time": "2024-10-09T22:53:03.627571Z",
     "start_time": "2024-10-09T22:51:53.658814Z"
    }
   },
   "outputs": [
    {
     "name": "stdout",
     "output_type": "stream",
     "text": [
      "Configuration: Iterations: 5, Hidden Units: 10, Layers: 2, Activation: relu, Learning Rate: 0.001\n",
      "Training Error Rate: 0.037\n",
      "Training Accuracy: 0.963\n",
      "Test Error Rate: 0.098\n",
      "Test Accuracy: 0.902\n",
      "\n",
      "Configuration: Iterations: 5, Hidden Units: 10, Layers: 2, Activation: relu, Learning Rate: 0.01\n",
      "Training Error Rate: 0.017\n",
      "Training Accuracy: 0.983\n",
      "Test Error Rate: 0.075\n",
      "Test Accuracy: 0.925\n",
      "\n",
      "Configuration: Iterations: 5, Hidden Units: 10, Layers: 2, Activation: tanh, Learning Rate: 0.001\n",
      "Training Error Rate: 0.028\n",
      "Training Accuracy: 0.972\n",
      "Test Error Rate: 0.086\n",
      "Test Accuracy: 0.914\n",
      "\n",
      "Configuration: Iterations: 5, Hidden Units: 10, Layers: 2, Activation: tanh, Learning Rate: 0.01\n",
      "Training Error Rate: 0.026\n",
      "Training Accuracy: 0.974\n",
      "Test Error Rate: 0.083\n",
      "Test Accuracy: 0.917\n",
      "\n",
      "Configuration: Iterations: 5, Hidden Units: 10, Layers: 2, Activation: sigmoid, Learning Rate: 0.001\n",
      "Training Error Rate: 0.066\n",
      "Training Accuracy: 0.934\n",
      "Test Error Rate: 0.100\n",
      "Test Accuracy: 0.900\n",
      "\n",
      "Configuration: Iterations: 5, Hidden Units: 10, Layers: 2, Activation: sigmoid, Learning Rate: 0.01\n",
      "Training Error Rate: 0.012\n",
      "Training Accuracy: 0.988\n",
      "Test Error Rate: 0.081\n",
      "Test Accuracy: 0.919\n",
      "\n",
      "Configuration: Iterations: 5, Hidden Units: 10, Layers: 4, Activation: relu, Learning Rate: 0.001\n",
      "Training Error Rate: 0.026\n",
      "Training Accuracy: 0.974\n",
      "Test Error Rate: 0.070\n",
      "Test Accuracy: 0.930\n",
      "\n",
      "Configuration: Iterations: 5, Hidden Units: 10, Layers: 4, Activation: relu, Learning Rate: 0.01\n",
      "Training Error Rate: 0.065\n",
      "Training Accuracy: 0.935\n",
      "Test Error Rate: 0.099\n",
      "Test Accuracy: 0.901\n",
      "\n",
      "Configuration: Iterations: 5, Hidden Units: 10, Layers: 4, Activation: tanh, Learning Rate: 0.001\n",
      "Training Error Rate: 0.022\n",
      "Training Accuracy: 0.978\n",
      "Test Error Rate: 0.089\n",
      "Test Accuracy: 0.911\n",
      "\n",
      "Configuration: Iterations: 5, Hidden Units: 10, Layers: 4, Activation: tanh, Learning Rate: 0.01\n",
      "Training Error Rate: 0.054\n",
      "Training Accuracy: 0.946\n",
      "Test Error Rate: 0.105\n",
      "Test Accuracy: 0.895\n",
      "\n",
      "Configuration: Iterations: 5, Hidden Units: 10, Layers: 4, Activation: sigmoid, Learning Rate: 0.001\n",
      "Training Error Rate: 0.312\n",
      "Training Accuracy: 0.688\n",
      "Test Error Rate: 0.297\n",
      "Test Accuracy: 0.703\n",
      "\n",
      "Configuration: Iterations: 5, Hidden Units: 10, Layers: 4, Activation: sigmoid, Learning Rate: 0.01\n",
      "Training Error Rate: 0.048\n",
      "Training Accuracy: 0.952\n",
      "Test Error Rate: 0.106\n",
      "Test Accuracy: 0.894\n",
      "\n",
      "Configuration: Iterations: 5, Hidden Units: 20, Layers: 2, Activation: relu, Learning Rate: 0.001\n",
      "Training Error Rate: 0.035\n",
      "Training Accuracy: 0.965\n",
      "Test Error Rate: 0.096\n",
      "Test Accuracy: 0.904\n",
      "\n",
      "Configuration: Iterations: 5, Hidden Units: 20, Layers: 2, Activation: relu, Learning Rate: 0.01\n",
      "Training Error Rate: 0.017\n",
      "Training Accuracy: 0.983\n",
      "Test Error Rate: 0.065\n",
      "Test Accuracy: 0.935\n",
      "\n",
      "Configuration: Iterations: 5, Hidden Units: 20, Layers: 2, Activation: tanh, Learning Rate: 0.001\n",
      "Training Error Rate: 0.034\n",
      "Training Accuracy: 0.966\n",
      "Test Error Rate: 0.095\n",
      "Test Accuracy: 0.905\n",
      "\n",
      "Configuration: Iterations: 5, Hidden Units: 20, Layers: 2, Activation: tanh, Learning Rate: 0.01\n",
      "Training Error Rate: 0.012\n",
      "Training Accuracy: 0.988\n",
      "Test Error Rate: 0.061\n",
      "Test Accuracy: 0.939\n",
      "\n",
      "Configuration: Iterations: 5, Hidden Units: 20, Layers: 2, Activation: sigmoid, Learning Rate: 0.001\n",
      "Training Error Rate: 0.063\n",
      "Training Accuracy: 0.937\n",
      "Test Error Rate: 0.098\n",
      "Test Accuracy: 0.902\n",
      "\n",
      "Configuration: Iterations: 5, Hidden Units: 20, Layers: 2, Activation: sigmoid, Learning Rate: 0.01\n",
      "Training Error Rate: 0.013\n",
      "Training Accuracy: 0.987\n",
      "Test Error Rate: 0.079\n",
      "Test Accuracy: 0.921\n",
      "\n",
      "Configuration: Iterations: 5, Hidden Units: 20, Layers: 4, Activation: relu, Learning Rate: 0.001\n",
      "Training Error Rate: 0.039\n",
      "Training Accuracy: 0.961\n",
      "Test Error Rate: 0.082\n",
      "Test Accuracy: 0.918\n",
      "\n",
      "Configuration: Iterations: 5, Hidden Units: 20, Layers: 4, Activation: relu, Learning Rate: 0.01\n",
      "Training Error Rate: 0.036\n",
      "Training Accuracy: 0.964\n",
      "Test Error Rate: 0.087\n",
      "Test Accuracy: 0.913\n",
      "\n",
      "Configuration: Iterations: 5, Hidden Units: 20, Layers: 4, Activation: tanh, Learning Rate: 0.001\n",
      "Training Error Rate: 0.032\n",
      "Training Accuracy: 0.968\n",
      "Test Error Rate: 0.094\n",
      "Test Accuracy: 0.906\n",
      "\n",
      "Configuration: Iterations: 5, Hidden Units: 20, Layers: 4, Activation: tanh, Learning Rate: 0.01\n",
      "Training Error Rate: 0.042\n",
      "Training Accuracy: 0.958\n",
      "Test Error Rate: 0.090\n",
      "Test Accuracy: 0.910\n",
      "\n",
      "Configuration: Iterations: 5, Hidden Units: 20, Layers: 4, Activation: sigmoid, Learning Rate: 0.001\n",
      "Training Error Rate: 0.312\n",
      "Training Accuracy: 0.688\n",
      "Test Error Rate: 0.297\n",
      "Test Accuracy: 0.703\n",
      "\n",
      "Configuration: Iterations: 5, Hidden Units: 20, Layers: 4, Activation: sigmoid, Learning Rate: 0.01\n",
      "Training Error Rate: 0.076\n",
      "Training Accuracy: 0.924\n",
      "Test Error Rate: 0.112\n",
      "Test Accuracy: 0.888\n",
      "\n",
      "Configuration: Iterations: 10, Hidden Units: 10, Layers: 2, Activation: relu, Learning Rate: 0.001\n",
      "Training Error Rate: 0.016\n",
      "Training Accuracy: 0.984\n",
      "Test Error Rate: 0.079\n",
      "Test Accuracy: 0.921\n",
      "\n",
      "Configuration: Iterations: 10, Hidden Units: 10, Layers: 2, Activation: relu, Learning Rate: 0.01\n",
      "Training Error Rate: 0.010\n",
      "Training Accuracy: 0.990\n",
      "Test Error Rate: 0.066\n",
      "Test Accuracy: 0.934\n",
      "\n",
      "Configuration: Iterations: 10, Hidden Units: 10, Layers: 2, Activation: tanh, Learning Rate: 0.001\n",
      "Training Error Rate: 0.017\n",
      "Training Accuracy: 0.983\n",
      "Test Error Rate: 0.088\n",
      "Test Accuracy: 0.912\n",
      "\n",
      "Configuration: Iterations: 10, Hidden Units: 10, Layers: 2, Activation: tanh, Learning Rate: 0.01\n",
      "Training Error Rate: 0.013\n",
      "Training Accuracy: 0.987\n",
      "Test Error Rate: 0.086\n",
      "Test Accuracy: 0.914\n",
      "\n",
      "Configuration: Iterations: 10, Hidden Units: 10, Layers: 2, Activation: sigmoid, Learning Rate: 0.001\n",
      "Training Error Rate: 0.041\n",
      "Training Accuracy: 0.959\n",
      "Test Error Rate: 0.092\n",
      "Test Accuracy: 0.908\n",
      "\n",
      "Configuration: Iterations: 10, Hidden Units: 10, Layers: 2, Activation: sigmoid, Learning Rate: 0.01\n",
      "Training Error Rate: 0.003\n",
      "Training Accuracy: 0.997\n",
      "Test Error Rate: 0.086\n",
      "Test Accuracy: 0.914\n",
      "\n",
      "Configuration: Iterations: 10, Hidden Units: 10, Layers: 4, Activation: relu, Learning Rate: 0.001\n",
      "Training Error Rate: 0.017\n",
      "Training Accuracy: 0.983\n",
      "Test Error Rate: 0.090\n",
      "Test Accuracy: 0.910\n",
      "\n",
      "Configuration: Iterations: 10, Hidden Units: 10, Layers: 4, Activation: relu, Learning Rate: 0.01\n",
      "Training Error Rate: 0.046\n",
      "Training Accuracy: 0.954\n",
      "Test Error Rate: 0.090\n",
      "Test Accuracy: 0.910\n",
      "\n",
      "Configuration: Iterations: 10, Hidden Units: 10, Layers: 4, Activation: tanh, Learning Rate: 0.001\n",
      "Training Error Rate: 0.010\n",
      "Training Accuracy: 0.990\n",
      "Test Error Rate: 0.081\n",
      "Test Accuracy: 0.919\n",
      "\n"
     ]
    },
    {
     "ename": "KeyboardInterrupt",
     "evalue": "",
     "output_type": "error",
     "traceback": [
      "\u001b[0;31m---------------------------------------------------------------------------\u001b[0m",
      "\u001b[0;31mKeyboardInterrupt\u001b[0m                         Traceback (most recent call last)",
      "Cell \u001b[0;32mIn[31], line 75\u001b[0m\n\u001b[1;32m     73\u001b[0m \u001b[38;5;28;01mfor\u001b[39;00m iters, hidden_unit, n_layers, activation, lr \u001b[38;5;129;01min\u001b[39;00m product(training_iterations, hidden_units, num_layers, activation_functions, learning_rates):\n\u001b[1;32m     74\u001b[0m     model \u001b[38;5;241m=\u001b[39m Pigeon(hidden_unit, n_layers, activation)\n\u001b[0;32m---> 75\u001b[0m     train_error, train_acc, test_error, test_acc \u001b[38;5;241m=\u001b[39m \u001b[43mtrain_and_evaluate\u001b[49m\u001b[43m(\u001b[49m\u001b[43mmodel\u001b[49m\u001b[43m,\u001b[49m\u001b[43m \u001b[49m\u001b[43mlr\u001b[49m\u001b[43m,\u001b[49m\u001b[43m \u001b[49m\u001b[43miters\u001b[49m\u001b[43m)\u001b[49m\n\u001b[1;32m     77\u001b[0m     \u001b[38;5;28mprint\u001b[39m(\u001b[38;5;124mf\u001b[39m\u001b[38;5;124m\"\u001b[39m\u001b[38;5;124mConfiguration: Iterations: \u001b[39m\u001b[38;5;132;01m{\u001b[39;00miters\u001b[38;5;132;01m}\u001b[39;00m\u001b[38;5;124m, Hidden Units: \u001b[39m\u001b[38;5;132;01m{\u001b[39;00mhidden_unit\u001b[38;5;132;01m}\u001b[39;00m\u001b[38;5;124m, Layers: \u001b[39m\u001b[38;5;132;01m{\u001b[39;00mn_layers\u001b[38;5;132;01m}\u001b[39;00m\u001b[38;5;124m, \u001b[39m\u001b[38;5;124m\"\u001b[39m\n\u001b[1;32m     78\u001b[0m           \u001b[38;5;124mf\u001b[39m\u001b[38;5;124m\"\u001b[39m\u001b[38;5;124mActivation: \u001b[39m\u001b[38;5;132;01m{\u001b[39;00mactivation\u001b[38;5;241m.\u001b[39m\u001b[38;5;18m__name__\u001b[39m\u001b[38;5;132;01m}\u001b[39;00m\u001b[38;5;124m, Learning Rate: \u001b[39m\u001b[38;5;132;01m{\u001b[39;00mlr\u001b[38;5;132;01m}\u001b[39;00m\u001b[38;5;124m\"\u001b[39m)\n\u001b[1;32m     79\u001b[0m     \u001b[38;5;28mprint\u001b[39m(\u001b[38;5;124mf\u001b[39m\u001b[38;5;124m\"\u001b[39m\u001b[38;5;124mTraining Error Rate: \u001b[39m\u001b[38;5;132;01m{\u001b[39;00mtrain_error\u001b[38;5;132;01m:\u001b[39;00m\u001b[38;5;124m.3f\u001b[39m\u001b[38;5;132;01m}\u001b[39;00m\u001b[38;5;124m\"\u001b[39m)\n",
      "Cell \u001b[0;32mIn[31], line 50\u001b[0m, in \u001b[0;36mtrain_and_evaluate\u001b[0;34m(model, learning_rate, iterations)\u001b[0m\n\u001b[1;32m     48\u001b[0m out \u001b[38;5;241m=\u001b[39m model(img_to_tensor(image))\n\u001b[1;32m     49\u001b[0m loss \u001b[38;5;241m=\u001b[39m criterion(out, actual)\n\u001b[0;32m---> 50\u001b[0m \u001b[43mloss\u001b[49m\u001b[38;5;241;43m.\u001b[39;49m\u001b[43mbackward\u001b[49m\u001b[43m(\u001b[49m\u001b[43m)\u001b[49m\n\u001b[1;32m     51\u001b[0m optimizer\u001b[38;5;241m.\u001b[39mstep()\n\u001b[1;32m     52\u001b[0m optimizer\u001b[38;5;241m.\u001b[39mzero_grad()\n",
      "File \u001b[0;32m~/miniconda3/envs/APS360/lib/python3.10/site-packages/torch/_tensor.py:521\u001b[0m, in \u001b[0;36mTensor.backward\u001b[0;34m(self, gradient, retain_graph, create_graph, inputs)\u001b[0m\n\u001b[1;32m    511\u001b[0m \u001b[38;5;28;01mif\u001b[39;00m has_torch_function_unary(\u001b[38;5;28mself\u001b[39m):\n\u001b[1;32m    512\u001b[0m     \u001b[38;5;28;01mreturn\u001b[39;00m handle_torch_function(\n\u001b[1;32m    513\u001b[0m         Tensor\u001b[38;5;241m.\u001b[39mbackward,\n\u001b[1;32m    514\u001b[0m         (\u001b[38;5;28mself\u001b[39m,),\n\u001b[0;32m   (...)\u001b[0m\n\u001b[1;32m    519\u001b[0m         inputs\u001b[38;5;241m=\u001b[39minputs,\n\u001b[1;32m    520\u001b[0m     )\n\u001b[0;32m--> 521\u001b[0m \u001b[43mtorch\u001b[49m\u001b[38;5;241;43m.\u001b[39;49m\u001b[43mautograd\u001b[49m\u001b[38;5;241;43m.\u001b[39;49m\u001b[43mbackward\u001b[49m\u001b[43m(\u001b[49m\n\u001b[1;32m    522\u001b[0m \u001b[43m    \u001b[49m\u001b[38;5;28;43mself\u001b[39;49m\u001b[43m,\u001b[49m\u001b[43m \u001b[49m\u001b[43mgradient\u001b[49m\u001b[43m,\u001b[49m\u001b[43m \u001b[49m\u001b[43mretain_graph\u001b[49m\u001b[43m,\u001b[49m\u001b[43m \u001b[49m\u001b[43mcreate_graph\u001b[49m\u001b[43m,\u001b[49m\u001b[43m \u001b[49m\u001b[43minputs\u001b[49m\u001b[38;5;241;43m=\u001b[39;49m\u001b[43minputs\u001b[49m\n\u001b[1;32m    523\u001b[0m \u001b[43m\u001b[49m\u001b[43m)\u001b[49m\n",
      "File \u001b[0;32m~/miniconda3/envs/APS360/lib/python3.10/site-packages/torch/autograd/__init__.py:289\u001b[0m, in \u001b[0;36mbackward\u001b[0;34m(tensors, grad_tensors, retain_graph, create_graph, grad_variables, inputs)\u001b[0m\n\u001b[1;32m    284\u001b[0m     retain_graph \u001b[38;5;241m=\u001b[39m create_graph\n\u001b[1;32m    286\u001b[0m \u001b[38;5;66;03m# The reason we repeat the same comment below is that\u001b[39;00m\n\u001b[1;32m    287\u001b[0m \u001b[38;5;66;03m# some Python versions print out the first line of a multi-line function\u001b[39;00m\n\u001b[1;32m    288\u001b[0m \u001b[38;5;66;03m# calls in the traceback and some print out the last line\u001b[39;00m\n\u001b[0;32m--> 289\u001b[0m \u001b[43m_engine_run_backward\u001b[49m\u001b[43m(\u001b[49m\n\u001b[1;32m    290\u001b[0m \u001b[43m    \u001b[49m\u001b[43mtensors\u001b[49m\u001b[43m,\u001b[49m\n\u001b[1;32m    291\u001b[0m \u001b[43m    \u001b[49m\u001b[43mgrad_tensors_\u001b[49m\u001b[43m,\u001b[49m\n\u001b[1;32m    292\u001b[0m \u001b[43m    \u001b[49m\u001b[43mretain_graph\u001b[49m\u001b[43m,\u001b[49m\n\u001b[1;32m    293\u001b[0m \u001b[43m    \u001b[49m\u001b[43mcreate_graph\u001b[49m\u001b[43m,\u001b[49m\n\u001b[1;32m    294\u001b[0m \u001b[43m    \u001b[49m\u001b[43minputs\u001b[49m\u001b[43m,\u001b[49m\n\u001b[1;32m    295\u001b[0m \u001b[43m    \u001b[49m\u001b[43mallow_unreachable\u001b[49m\u001b[38;5;241;43m=\u001b[39;49m\u001b[38;5;28;43;01mTrue\u001b[39;49;00m\u001b[43m,\u001b[49m\n\u001b[1;32m    296\u001b[0m \u001b[43m    \u001b[49m\u001b[43maccumulate_grad\u001b[49m\u001b[38;5;241;43m=\u001b[39;49m\u001b[38;5;28;43;01mTrue\u001b[39;49;00m\u001b[43m,\u001b[49m\n\u001b[1;32m    297\u001b[0m \u001b[43m\u001b[49m\u001b[43m)\u001b[49m\n",
      "File \u001b[0;32m~/miniconda3/envs/APS360/lib/python3.10/site-packages/torch/autograd/graph.py:769\u001b[0m, in \u001b[0;36m_engine_run_backward\u001b[0;34m(t_outputs, *args, **kwargs)\u001b[0m\n\u001b[1;32m    767\u001b[0m     unregister_hooks \u001b[38;5;241m=\u001b[39m _register_logging_hooks_on_whole_graph(t_outputs)\n\u001b[1;32m    768\u001b[0m \u001b[38;5;28;01mtry\u001b[39;00m:\n\u001b[0;32m--> 769\u001b[0m     \u001b[38;5;28;01mreturn\u001b[39;00m \u001b[43mVariable\u001b[49m\u001b[38;5;241;43m.\u001b[39;49m\u001b[43m_execution_engine\u001b[49m\u001b[38;5;241;43m.\u001b[39;49m\u001b[43mrun_backward\u001b[49m\u001b[43m(\u001b[49m\u001b[43m  \u001b[49m\u001b[38;5;66;43;03m# Calls into the C++ engine to run the backward pass\u001b[39;49;00m\n\u001b[1;32m    770\u001b[0m \u001b[43m        \u001b[49m\u001b[43mt_outputs\u001b[49m\u001b[43m,\u001b[49m\u001b[43m \u001b[49m\u001b[38;5;241;43m*\u001b[39;49m\u001b[43margs\u001b[49m\u001b[43m,\u001b[49m\u001b[43m \u001b[49m\u001b[38;5;241;43m*\u001b[39;49m\u001b[38;5;241;43m*\u001b[39;49m\u001b[43mkwargs\u001b[49m\n\u001b[1;32m    771\u001b[0m \u001b[43m    \u001b[49m\u001b[43m)\u001b[49m  \u001b[38;5;66;03m# Calls into the C++ engine to run the backward pass\u001b[39;00m\n\u001b[1;32m    772\u001b[0m \u001b[38;5;28;01mfinally\u001b[39;00m:\n\u001b[1;32m    773\u001b[0m     \u001b[38;5;28;01mif\u001b[39;00m attach_logging_hooks:\n",
      "\u001b[0;31mKeyboardInterrupt\u001b[0m: "
     ]
    }
   ],
   "execution_count": 31
  },
  {
   "cell_type": "markdown",
   "metadata": {
    "id": "viYKlFupcgF3"
   },
   "source": [
    "### Part (a) -- 3 pt\n",
    "Comment on which of the above changes resulted in the best accuracy on training data? What accuracy were you able to achieve?"
   ]
  },
  {
   "cell_type": "code",
   "execution_count": 33,
   "metadata": {
    "collapsed": true,
    "id": "FMgRXRqiqAEx",
    "jupyter": {
     "outputs_hidden": true
    },
    "executionInfo": {
     "status": "ok",
     "timestamp": 1727493128294,
     "user_tz": 240,
     "elapsed": 351,
     "user": {
      "displayName": "Max “0xC00005”",
      "userId": "00337336279355089964"
     }
    },
    "colab": {
     "base_uri": "https://localhost:8080/",
     "height": 89
    },
    "outputId": "91c09355-fca8-4a5b-cf13-7f71333306f4"
   },
   "outputs": [
    {
     "output_type": "execute_result",
     "data": {
      "text/plain": [
       "'\\nThe configuration that resulted in the best accuracy on training data is:\\nConfiguration: Iterations: 10, Hidden Units: 20, Layers: 2, Activation: relu, Learning Rate: 0.01\\nThis configuration achieved a perfect training accuracy of 1.000 (100%).\\n\\nThe most important hyperparameter for improving training accuracy is the number of iterations. \\nIncreasing from 5 to 10 iterations consistently led to higher training accuracies across different configurations. \\nThis is expected, but we also risk overfitting as we increased the number of training iteration.\\n'"
      ],
      "application/vnd.google.colaboratory.intrinsic+json": {
       "type": "string"
      }
     },
     "metadata": {},
     "execution_count": 33
    }
   ],
   "source": [
    "\"\"\"\n",
    "The configuration that resulted in the best accuracy on training data is:\n",
    "Configuration: Iterations: 10, Hidden Units: 20, Layers: 2, Activation: relu, Learning Rate: 0.01\n",
    "This configuration achieved a perfect training accuracy of 1.000 (100%).\n",
    "\n",
    "The most important hyperparameter for improving training accuracy is the number of iterations.\n",
    "Increasing from 5 to 10 iterations consistently led to higher training accuracies across different configurations.\n",
    "This is expected, but we also risk overfitting as we increased the number of training iteration.\n",
    "\"\"\""
   ]
  },
  {
   "cell_type": "markdown",
   "metadata": {
    "id": "pi6bWs7jcIem"
   },
   "source": [
    "### Part (b) -- 3 pt\n",
    "\n",
    "\n",
    "Comment on which of the above changes resulted in the best accuracy on testing data? What accuracy were you able to achieve?"
   ]
  },
  {
   "cell_type": "code",
   "execution_count": 34,
   "metadata": {
    "collapsed": true,
    "id": "QtyIrtuNqAh0",
    "jupyter": {
     "outputs_hidden": true
    },
    "executionInfo": {
     "status": "ok",
     "timestamp": 1727493131092,
     "user_tz": 240,
     "elapsed": 268,
     "user": {
      "displayName": "Max “0xC00005”",
      "userId": "00337336279355089964"
     }
    },
    "colab": {
     "base_uri": "https://localhost:8080/",
     "height": 107
    },
    "outputId": "110e93b6-e74d-47bd-ca71-cfee1364a0c2"
   },
   "outputs": [
    {
     "output_type": "execute_result",
     "data": {
      "text/plain": [
       "'\\nThe configuration that achieved the best testing accuracy was:\\nIterations: 5, Hidden Units: 20, Layers: 2, Activation: tanh, Learning Rate: 0.01\\nThis configuration achieved a test accuracy of 0.939 (93.9%).\\n\\nThe most important hyperparameter for improving testing accuracy is the number of hidden units.\\n\\nWith 5 iterations, ReLU activation, and 0.01 learning rate:\\n10 hidden units: 92.5% test accuracy\\n20 hidden units: 93.5% test accuracy\\nWith 10 iterations, tanh activation, and 0.01 learning rate:\\n10 hidden units: 91.4% test accuracy\\n20 hidden units: 93.2% test accuracy\\n\\nMore hidden units allow the model to capture more complex patterns in the data\\n\\nNote: no significant increase in testing accuracy due to increasing the number of training iteration\\n'"
      ],
      "application/vnd.google.colaboratory.intrinsic+json": {
       "type": "string"
      }
     },
     "metadata": {},
     "execution_count": 34
    }
   ],
   "source": [
    "\"\"\"\n",
    "The configuration that achieved the best testing accuracy was:\n",
    "Iterations: 5, Hidden Units: 20, Layers: 2, Activation: tanh, Learning Rate: 0.01\n",
    "This configuration achieved a test accuracy of 0.939 (93.9%).\n",
    "\n",
    "The most important hyperparameter for improving testing accuracy is the number of hidden units.\n",
    "\n",
    "With 5 iterations, ReLU activation, and 0.01 learning rate:\n",
    "10 hidden units: 92.5% test accuracy\n",
    "20 hidden units: 93.5% test accuracy\n",
    "With 10 iterations, tanh activation, and 0.01 learning rate:\n",
    "10 hidden units: 91.4% test accuracy\n",
    "20 hidden units: 93.2% test accuracy\n",
    "\n",
    "More hidden units allow the model to capture more complex patterns in the data\n",
    "\n",
    "Note: no significant increase in testing accuracy due to increasing the number of training iteration\n",
    "\"\"\""
   ]
  },
  {
   "cell_type": "markdown",
   "metadata": {
    "id": "j7W2k347wFqo"
   },
   "source": [
    "### Part (c) -- 4 pt\n",
    "Which model hyperparameters should you use, the ones from (a) or (b)?"
   ]
  },
  {
   "cell_type": "code",
   "execution_count": 32,
   "metadata": {
    "collapsed": true,
    "id": "nuESNMuewOnT",
    "jupyter": {
     "outputs_hidden": true
    },
    "executionInfo": {
     "status": "ok",
     "timestamp": 1727492203999,
     "user_tz": 240,
     "elapsed": 9,
     "user": {
      "displayName": "Max “0xC00005”",
      "userId": "00337336279355089964"
     }
    },
    "colab": {
     "base_uri": "https://localhost:8080/",
     "height": 35
    },
    "outputId": "c62a243f-0404-4721-c193-f5a2e0642439"
   },
   "outputs": [
    {
     "output_type": "execute_result",
     "data": {
      "text/plain": [
       "'\\nI should use the hyperparameters from (a) because I can never use the test set to tune the hyperparameters.\\n'"
      ],
      "application/vnd.google.colaboratory.intrinsic+json": {
       "type": "string"
      }
     },
     "metadata": {},
     "execution_count": 32
    }
   ],
   "source": [
    "\"\"\"\n",
    "I should use the hyperparameters from (a) because I can never use the test set to tune the hyperparameters.\n",
    "\"\"\""
   ]
  }
 ],
 "metadata": {
  "colab": {
   "provenance": []
  },
  "kernelspec": {
   "display_name": "Python 3 (ipykernel)",
   "language": "python",
   "name": "python3"
  },
  "language_info": {
   "codemirror_mode": {
    "name": "ipython",
    "version": 3
   },
   "file_extension": ".py",
   "mimetype": "text/x-python",
   "name": "python",
   "nbconvert_exporter": "python",
   "pygments_lexer": "ipython3",
   "version": "3.9.4"
  }
 },
 "nbformat": 4,
 "nbformat_minor": 0
}
