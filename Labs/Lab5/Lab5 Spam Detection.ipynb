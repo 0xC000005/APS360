{
 "cells": [
  {
   "cell_type": "markdown",
   "metadata": {
    "colab_type": "text",
    "id": "_bphECiUa9zw"
   },
   "source": [
    "# Lab 5: Spam Detection\n",
    "\n",
    "In this assignment, we will build a recurrent neural network to classify a SMS text message\n",
    "as \"spam\" or \"not spam\". In the process, you will\n",
    "    \n",
    "1. Clean and process text data for machine learning.\n",
    "2. Understand and implement a character-level recurrent neural network.\n",
    "3. Understand batching for a recurrent neural network, and develop custom Dataset and DataLoaders with collate_fn to implement RNN batching.\n",
    "\n",
    "### What to submit\n",
    "\n",
    "Submit a PDF file containing all your code, outputs, and write-up. You can produce a PDF of your Google Colab file by going to File > Print and then save as PDF. The Colab instructions have more information.\n",
    "\n",
    "Do not submit any other files produced by your code.\n",
    "\n",
    "Include a link to your colab file in your submission."
   ]
  },
  {
   "cell_type": "markdown",
   "metadata": {
    "colab_type": "text",
    "id": "rWiUqJJTa9z6"
   },
   "source": [
    "## Colab Link\n",
    "\n",
    "https://drive.google.com/file/d/1VYfZYP2AQ2LA7foMGK9PEtmO9Z2F0mWQ/view?usp=sharing\n",
    "\n",
    "Include a link to your Colab file here. If you would like the TA to look at your\n",
    "Colab file in case your solutions are cut off, **please make sure that your Colab\n",
    "file is publicly accessible at the time of submission**."
   ]
  },
  {
   "cell_type": "code",
   "execution_count": 1,
   "metadata": {
    "colab": {},
    "colab_type": "code",
    "id": "HgfNOUaPa9z8",
    "tags": []
   },
   "outputs": [
    {
     "name": "stdout",
     "output_type": "stream",
     "text": [
      "Device:  cuda\n"
     ]
    }
   ],
   "source": [
    "import torch\n",
    "import torch.nn as nn\n",
    "import torch.nn.functional as F\n",
    "import torch.optim as optim\n",
    "import numpy as np\n",
    "from torch.nn.utils.rnn import pad_sequence\n",
    "from torch.utils.data import DataLoader, Dataset\n",
    "\n",
    "device = torch.device(\"cuda\" if torch.cuda.is_available() else \"cpu\")\n",
    "\n",
    "print(\"Device: \", device)"
   ]
  },
  {
   "cell_type": "markdown",
   "metadata": {
    "colab_type": "text",
    "id": "M0jLI9LBa90C"
   },
   "source": [
    "## Part 1. Data Cleaning [15 pt]\n",
    "\n",
    "We will be using the \"SMS Spam Collection Data Set\" available at http://archive.ics.uci.edu/ml/datasets/SMS+Spam+Collection\n",
    "\n",
    "There is a link to download the \"Data Folder\" at the very top of the webpage. Download the zip file, unzip it, and upload the file `SMSSpamCollection` to Colab.    "
   ]
  },
  {
   "cell_type": "markdown",
   "metadata": {
    "colab_type": "text",
    "id": "sSuF7C_Ga90E"
   },
   "source": [
    "### Part (a) [1 pt]\n",
    "\n",
    "Open up the file in Python, and print out one example of a spam SMS, and one example of a non-spam SMS.\n",
    "\n",
    "What is the label value for a spam message, and what is the label value for a non-spam message?"
   ]
  },
  {
   "cell_type": "code",
   "execution_count": 2,
   "metadata": {
    "colab": {},
    "colab_type": "code",
    "collapsed": true,
    "id": "I_IfXHeTa90F",
    "jupyter": {
     "outputs_hidden": true
    }
   },
   "outputs": [
    {
     "name": "stdout",
     "output_type": "stream",
     "text": [
      "label:  ham\n",
      "text:  Go until jurong point, crazy.. Available only in bugis n great world la e buffet... Cine there got amore wat...\n"
     ]
    }
   ],
   "source": [
    "for line in open('SMSSpamCollection'):\n",
    "    label, text = line.strip().split('\\t')\n",
    "    print(\"label: \", label)\n",
    "    print(\"text: \", text)\n",
    "    break"
   ]
  },
  {
   "cell_type": "markdown",
   "metadata": {
    "colab_type": "text",
    "id": "AukA6vMVa90d"
   },
   "source": [
    "### Part (b) [1 pt]\n",
    "\n",
    "How many spam messages are there in the data set?\n",
    "How many non-spam messages are there in the data set?\n"
   ]
  },
  {
   "cell_type": "code",
   "execution_count": 3,
   "metadata": {
    "colab": {},
    "colab_type": "code",
    "collapsed": true,
    "id": "LgsqyemVa90e",
    "jupyter": {
     "outputs_hidden": true
    }
   },
   "outputs": [
    {
     "data": {
      "text/plain": [
       "label\n",
       "ham     4825\n",
       "spam     747\n",
       "Name: count, dtype: int64"
      ]
     },
     "execution_count": 3,
     "metadata": {},
     "output_type": "execute_result"
    }
   ],
   "source": [
    "import pandas as pd\n",
    "\n",
    "data = pd.read_csv('SMSSpamCollection', sep='\\t', names=['label', 'text'])\n",
    "\n",
    "# display the length of spam and ham messages\n",
    "data['label'].value_counts()\n"
   ]
  },
  {
   "cell_type": "markdown",
   "metadata": {
    "colab_type": "text",
    "id": "d1WXxVt6a90h"
   },
   "source": [
    "### Part (c) [4 pt]\n",
    "\n",
    "load and parse the data into two lists: sequences and labels. Create character-level stoi and itos dictionaries. Reserve the index 0 for padding. Convert the sequences to list of character ids using stoi dictionary and convert the labels to a list of 0s and 1s by assinging class \"ham\" to 0 and class \"spam\" to 1."
   ]
  },
  {
   "cell_type": "code",
   "execution_count": 4,
   "metadata": {
    "colab": {},
    "colab_type": "code",
    "id": "Mhnz8Nk-a90i",
    "tags": []
   },
   "outputs": [
    {
     "data": {
      "text/html": [
       "<div>\n",
       "<style scoped>\n",
       "    .dataframe tbody tr th:only-of-type {\n",
       "        vertical-align: middle;\n",
       "    }\n",
       "\n",
       "    .dataframe tbody tr th {\n",
       "        vertical-align: top;\n",
       "    }\n",
       "\n",
       "    .dataframe thead th {\n",
       "        text-align: right;\n",
       "    }\n",
       "</style>\n",
       "<table border=\"1\" class=\"dataframe\">\n",
       "  <thead>\n",
       "    <tr style=\"text-align: right;\">\n",
       "      <th></th>\n",
       "      <th>label</th>\n",
       "      <th>text</th>\n",
       "      <th>text_transformed</th>\n",
       "      <th>label_transformed</th>\n",
       "    </tr>\n",
       "  </thead>\n",
       "  <tbody>\n",
       "    <tr>\n",
       "      <th>0</th>\n",
       "      <td>ham</td>\n",
       "      <td>Go until jurong point, crazy.. Available only ...</td>\n",
       "      <td>[1, 2, 3, 4, 5, 6, 7, 8, 4, 9, 7, 10, 3, 6, 5,...</td>\n",
       "      <td>0</td>\n",
       "    </tr>\n",
       "    <tr>\n",
       "      <th>1</th>\n",
       "      <td>ham</td>\n",
       "      <td>Ok lar... Joking wif u oni...</td>\n",
       "      <td>[19, 27, 26, 18, 22, 4, 12, 12, 12, 26, 5, 20,...</td>\n",
       "      <td>0</td>\n",
       "    </tr>\n",
       "    <tr>\n",
       "      <th>2</th>\n",
       "      <td>spam</td>\n",
       "      <td>Free entry in 2 a wkly comp to win FA Cup fina...</td>\n",
       "      <td>[17, 4, 8, 8, 26, 8, 13, 6, 4, 1, 26, 27, 13, ...</td>\n",
       "      <td>1</td>\n",
       "    </tr>\n",
       "    <tr>\n",
       "      <th>3</th>\n",
       "      <td>ham</td>\n",
       "      <td>U dun say so early hor... U c already then say...</td>\n",
       "      <td>[21, 37, 18, 21, 20, 37, 28, 31, 1, 37, 28, 29...</td>\n",
       "      <td>0</td>\n",
       "    </tr>\n",
       "    <tr>\n",
       "      <th>4</th>\n",
       "      <td>ham</td>\n",
       "      <td>Nah I don't think he goes to usf, he lives aro...</td>\n",
       "      <td>[20, 31, 16, 37, 40, 37, 18, 29, 20, 8, 11, 37...</td>\n",
       "      <td>0</td>\n",
       "    </tr>\n",
       "    <tr>\n",
       "      <th>...</th>\n",
       "      <td>...</td>\n",
       "      <td>...</td>\n",
       "      <td>...</td>\n",
       "      <td>...</td>\n",
       "    </tr>\n",
       "    <tr>\n",
       "      <th>5567</th>\n",
       "      <td>spam</td>\n",
       "      <td>This is the 2nd time we have tried 2 contact u...</td>\n",
       "      <td>[23, 5, 71, 6, 89, 71, 6, 89, 23, 5, 25, 89, 1...</td>\n",
       "      <td>1</td>\n",
       "    </tr>\n",
       "    <tr>\n",
       "      <th>5568</th>\n",
       "      <td>ham</td>\n",
       "      <td>Will ü b going to esplanade fr home?</td>\n",
       "      <td>[27, 71, 86, 86, 89, 48, 89, 37, 89, 11, 7, 71...</td>\n",
       "      <td>0</td>\n",
       "    </tr>\n",
       "    <tr>\n",
       "      <th>5569</th>\n",
       "      <td>ham</td>\n",
       "      <td>Pity, * was in mood for that. So...any other s...</td>\n",
       "      <td>[77, 71, 23, 2, 68, 89, 85, 89, 27, 61, 6, 89,...</td>\n",
       "      <td>0</td>\n",
       "    </tr>\n",
       "    <tr>\n",
       "      <th>5570</th>\n",
       "      <td>ham</td>\n",
       "      <td>The guy did some bitching but I acted like i'd...</td>\n",
       "      <td>[23, 5, 25, 89, 11, 51, 2, 89, 78, 71, 78, 89,...</td>\n",
       "      <td>0</td>\n",
       "    </tr>\n",
       "    <tr>\n",
       "      <th>5571</th>\n",
       "      <td>ham</td>\n",
       "      <td>Rofl. Its true to its name</td>\n",
       "      <td>[18, 7, 55, 86, 33, 89, 71, 23, 6, 89, 23, 18,...</td>\n",
       "      <td>0</td>\n",
       "    </tr>\n",
       "  </tbody>\n",
       "</table>\n",
       "<p>5572 rows × 4 columns</p>\n",
       "</div>"
      ],
      "text/plain": [
       "     label                                               text  \\\n",
       "0      ham  Go until jurong point, crazy.. Available only ...   \n",
       "1      ham                      Ok lar... Joking wif u oni...   \n",
       "2     spam  Free entry in 2 a wkly comp to win FA Cup fina...   \n",
       "3      ham  U dun say so early hor... U c already then say...   \n",
       "4      ham  Nah I don't think he goes to usf, he lives aro...   \n",
       "...    ...                                                ...   \n",
       "5567  spam  This is the 2nd time we have tried 2 contact u...   \n",
       "5568   ham               Will ü b going to esplanade fr home?   \n",
       "5569   ham  Pity, * was in mood for that. So...any other s...   \n",
       "5570   ham  The guy did some bitching but I acted like i'd...   \n",
       "5571   ham                         Rofl. Its true to its name   \n",
       "\n",
       "                                       text_transformed  label_transformed  \n",
       "0     [1, 2, 3, 4, 5, 6, 7, 8, 4, 9, 7, 10, 3, 6, 5,...                  0  \n",
       "1     [19, 27, 26, 18, 22, 4, 12, 12, 12, 26, 5, 20,...                  0  \n",
       "2     [17, 4, 8, 8, 26, 8, 13, 6, 4, 1, 26, 27, 13, ...                  1  \n",
       "3     [21, 37, 18, 21, 20, 37, 28, 31, 1, 37, 28, 29...                  0  \n",
       "4     [20, 31, 16, 37, 40, 37, 18, 29, 20, 8, 11, 37...                  0  \n",
       "...                                                 ...                ...  \n",
       "5567  [23, 5, 71, 6, 89, 71, 6, 89, 23, 5, 25, 89, 1...                  1  \n",
       "5568  [27, 71, 86, 86, 89, 48, 89, 37, 89, 11, 7, 71...                  0  \n",
       "5569  [77, 71, 23, 2, 68, 89, 85, 89, 27, 61, 6, 89,...                  0  \n",
       "5570  [23, 5, 25, 89, 11, 51, 2, 89, 78, 71, 78, 89,...                  0  \n",
       "5571  [18, 7, 55, 86, 33, 89, 71, 23, 6, 89, 23, 18,...                  0  \n",
       "\n",
       "[5572 rows x 4 columns]"
      ]
     },
     "execution_count": 4,
     "metadata": {},
     "output_type": "execute_result"
    }
   ],
   "source": [
    "characters = set()\n",
    "label2idx = {'ham': 0, 'spam': 1}\n",
    "characters_counter = 1\n",
    "\n",
    "def turn_sentence_into_stoi(sentence):\n",
    "    global characters_counter\n",
    "    stoi_list = []\n",
    "    # turn sentence to lower case\n",
    "    sentence = sentence.lower()\n",
    "\n",
    "    # # remove all the non alphabetic and non numeric characters\n",
    "    # sentence = ''.join([char for char in sentence if char.isalnum() or char == ' '])\n",
    "\n",
    "    # for each character in the sentence\n",
    "    for char in sentence:\n",
    "        # if the character is not in the characters set\n",
    "        if char not in characters:\n",
    "            # add the character to the characters set\n",
    "            characters.add(char)\n",
    "            # add the character to the stoi_list\n",
    "            stoi_list.append(characters_counter)\n",
    "            # increment the characters_counter\n",
    "            characters_counter += 1\n",
    "        else:\n",
    "            # if the character is already in the characters set\n",
    "            # locate the character in the characters set\n",
    "            stoi_list.append(list(characters).index(char) + 1)\n",
    "            \n",
    "    return stoi_list\n",
    "\n",
    "data['text_transformed'] = data['text'].apply(turn_sentence_into_stoi)\n",
    "\n",
    "data['label_transformed'] = data['label'].apply(lambda x: label2idx[x])\n",
    "\n",
    "data"
   ]
  },
  {
   "cell_type": "markdown",
   "metadata": {
    "colab_type": "text",
    "id": "ie_D0bv9a90k"
   },
   "source": [
    "### Part (d) [4 pt]\n",
    "\n",
    "Use train_test_split function from sklearn (https://scikit-learn.org/dev/modules/generated/sklearn.model_selection.train_test_split.html) to split the data indices into `train`, `valid`, and `test`. Use a 60-20-20 split. \n",
    "\n",
    "You saw in part (b) that there are many more non-spam messages than spam messages. This **imbalance** in our training data will be problematic for training. We can fix this disparity by duplicating spam messages in the training set, so that the training set is roughly balanced."
   ]
  },
  {
   "cell_type": "code",
   "execution_count": 5,
   "metadata": {},
   "outputs": [
    {
     "name": "stdout",
     "output_type": "stream",
     "text": [
      "train_y:  4291\n",
      "train_y:  3899\n"
     ]
    }
   ],
   "source": [
    "# split the data into train, validation and test\n",
    "from sklearn.model_selection import train_test_split\n",
    "\n",
    "index = np.arange(len(data))\n",
    "train_indedx, test_index = train_test_split(index, test_size=0.1, random_state=42)\n",
    "train_indedx, val_index = train_test_split(train_indedx, test_size=0.1, random_state=42)\n",
    "\n",
    "x = data['text_transformed'].values\n",
    "y = data['label_transformed'].values\n",
    "\n",
    "train_x = [x[idx] for idx in train_indedx]\n",
    "train_y = [y[idx] for idx in train_indedx]\n",
    "val_x = [x[idx] for idx in val_index]\n",
    "val_y = [y[idx] for idx in val_index]\n",
    "test_x = [x[idx] for idx in test_index]\n",
    "test_y = [y[idx] for idx in test_index]\n",
    "\n",
    "# Balance the train classes\n",
    "train_spam = []\n",
    "for idx, item in enumerate(train_x):\n",
    "    if train_y[idx] == 1:\n",
    "        train_spam.append(item)\n",
    "# duplicate each spam message 6 more times\n",
    "train_x = train_x + train_spam * 6\n",
    "train_y = train_y + [1] * (len(train_spam) * 6)\n",
    "\n",
    "# varify the balance\n",
    "print(\"train_y: \", train_y.count(1))\n",
    "print(\"train_y: \", train_y.count(0))\n"
   ]
  },
  {
   "cell_type": "markdown",
   "metadata": {
    "colab_type": "text",
    "id": "v6nP0Ks_a90o"
   },
   "source": [
    "### Part (e) [4 pt]\n",
    "\n",
    "Since each sequence has a different length, we cannot use the default DataLoader. We need to change the DataLoader such that it can pad differnt sequence sizes within the batch. To do this, we need to introduce a **collate_fn** to the DataLoader such that it uses **pad_sequence** function (https://pytorch.org/docs/stable/generated/torch.nn.utils.rnn.pad_sequence.html) to pad the sequences within the batch to the same size. \n",
    "\n",
    "We also need a custom Dataset class to return a pair of sequence and label for each example. Complete the code below to address these.\n",
    "\n",
    "Hint: \n",
    "- https://stanford.edu/~shervine/blog/pytorch-how-to-generate-data-parallel\n",
    "- https://plainenglish.io/blog/understanding-collate-fn-in-pytorch-f9d1742647d3"
   ]
  },
  {
   "cell_type": "code",
   "execution_count": 6,
   "metadata": {
    "colab": {},
    "colab_type": "code",
    "collapsed": true,
    "id": "FWvx9_rka90p",
    "jupyter": {
     "outputs_hidden": true
    }
   },
   "outputs": [],
   "source": [
    "# import the collate_fn\n",
    "from torch.nn.utils.rnn import pad_sequence\n",
    "\n",
    "\n",
    "class MyDataset(Dataset):\n",
    "    \"\"\"\n",
    "    Since each sequence has a different length, we cannot use the default DataLoader. \n",
    "    We need to change the DataLoader such that it can pad differnt sequence sizes within the batch. \n",
    "    To do this, we need to introduce a **collate_fn** to the DataLoader such that it uses **pad_sequence** function \n",
    "    to pad the sequences within the batch to the same size. \n",
    "    We also need a custom Dataset class to return a pair of sequence and label for each example. Complete the code below to address these.\n",
    "    \"\"\"\n",
    "    def __init__(self, sequences, labels):\n",
    "        self.sequences = sequences\n",
    "        self.labels = labels\n",
    "        \n",
    "    def __len__(self):\n",
    "        return len(self.sequences)\n",
    "    \n",
    "    def __getitem__(self, idx):\n",
    "        return torch.tensor(self.sequences[idx]), torch.tensor(self.labels[idx])\n",
    "\n",
    "def collate_sequences(batch):\n",
    "    sequences = [item[0] for item in batch]\n",
    "    labels = [item[1] for item in batch]\n",
    "    # padding sures all the sequences in the batch have the same length\n",
    "    sequences_padded = pad_sequence(sequences, batch_first=True, padding_value=0)\n",
    "    labels = torch.stack(labels)\n",
    "    return sequences_padded, labels\n",
    "    \n",
    "train_loader = DataLoader(dataset=MyDataset(train_x, train_y), batch_size=32, shuffle=True, collate_fn=collate_sequences)\n",
    "val_loader = DataLoader(dataset=MyDataset(val_x, val_y), batch_size=32, shuffle=False, collate_fn=collate_sequences)\n",
    "test_loader = DataLoader(dataset=MyDataset(test_x, test_y), batch_size=32, shuffle=False, collate_fn=collate_sequences)"
   ]
  },
  {
   "cell_type": "markdown",
   "metadata": {
    "colab_type": "text",
    "id": "Ff5CNk7Qa90y"
   },
   "source": [
    "### Part (f) [1 pt]\n",
    "\n",
    "Take a look at 10 batches in `train_loader`. What is the maximum length of the\n",
    "input sequence in each batch? How many `<pad>` tokens are used in each of the 10\n",
    "batches?"
   ]
  },
  {
   "cell_type": "code",
   "execution_count": 7,
   "metadata": {
    "colab": {},
    "colab_type": "code",
    "id": "Qwz-rOaha902",
    "tags": []
   },
   "outputs": [
    {
     "name": "stdout",
     "output_type": "stream",
     "text": [
      "torch.Size([32, 169])\n",
      "torch.Size([32])\n",
      "torch.Size([32, 166])\n",
      "torch.Size([32])\n",
      "torch.Size([32, 161])\n",
      "torch.Size([32])\n",
      "torch.Size([32, 160])\n",
      "torch.Size([32])\n",
      "torch.Size([32, 382])\n",
      "torch.Size([32])\n",
      "torch.Size([32, 162])\n",
      "torch.Size([32])\n",
      "torch.Size([32, 191])\n",
      "torch.Size([32])\n",
      "torch.Size([32, 172])\n",
      "torch.Size([32])\n",
      "torch.Size([32, 162])\n",
      "torch.Size([32])\n",
      "torch.Size([32, 162])\n",
      "torch.Size([32])\n",
      "torch.Size([32, 167])\n",
      "torch.Size([32])\n",
      "max_len:  382\n"
     ]
    }
   ],
   "source": [
    "counter = 0\n",
    "max_len = 0\n",
    "for batch in train_loader:\n",
    "    print(batch[0].shape)\n",
    "    print(batch[1].shape)\n",
    "\n",
    "    if batch[0].shape[1] > max_len:\n",
    "        max_len = batch[0].shape[1]\n",
    "        \n",
    "    if counter == 10:\n",
    "        break\n",
    "    counter += 1\n",
    "\n",
    "print(\"max_len: \", max_len)\n",
    "    "
   ]
  },
  {
   "cell_type": "markdown",
   "metadata": {
    "colab_type": "text",
    "id": "y7HnqP6_a904"
   },
   "source": [
    "## Part 2. Model Building [8 pt]\n",
    "\n",
    "Build a recurrent neural network model, using an architecture of your choosing. \n",
    "Use the one-hot embedding of each character as input to your recurrent network.\n",
    "Use one or more fully-connected layers to make the prediction based on your\n",
    "recurrent network output.\n",
    "\n",
    "Instead of using the RNN output value for the final token, another often used\n",
    "strategy is to max-pool over the entire output array. That is, instead of calling\n",
    "something like:\n",
    "\n",
    "```\n",
    "out, _ = self.rnn(x)\n",
    "self.fc(out[:, -1, :])\n",
    "```\n",
    "\n",
    "where `self.rnn` is an `nn.RNN`, `nn.GRU`, or `nn.LSTM` module, and `self.fc` is a \n",
    "fully-connected \n",
    "layer, we use:\n",
    "\n",
    "```\n",
    "out, _ = self.rnn(x)\n",
    "self.fc(torch.max(out, dim=1)[0])\n",
    "```\n",
    "\n",
    "This works reasonably in practice. An even better alternative is to concatenate the\n",
    "max-pooling and average-pooling of the RNN outputs:\n",
    "\n",
    "```\n",
    "out, _ = self.rnn(x)\n",
    "out = torch.cat([torch.max(out, dim=1)[0], \n",
    "                 torch.mean(out, dim=1)], dim=1)\n",
    "self.fc(out)\n",
    "```\n",
    "\n",
    "We encourage you to try out all these options. The way you pool the RNN outputs\n",
    "is one of the \"hyperparameters\" that you can choose to tune later on."
   ]
  },
  {
   "cell_type": "code",
   "execution_count": 8,
   "metadata": {
    "colab": {},
    "colab_type": "code",
    "collapsed": true,
    "id": "jHl1p_Wwa905",
    "jupyter": {
     "outputs_hidden": true
    }
   },
   "outputs": [
    {
     "name": "stdout",
     "output_type": "stream",
     "text": [
      "tensor([1., 0., 0., 0., 0., 0., 0., 0., 0., 0.])\n",
      "tensor([0., 1., 0., 0., 0., 0., 0., 0., 0., 0.])\n",
      "tensor([[[0., 1., 0., 0., 0., 0., 0., 0., 0., 0.],\n",
      "         [0., 0., 1., 0., 0., 0., 0., 0., 0., 0.]],\n",
      "\n",
      "        [[0., 0., 0., 1., 0., 0., 0., 0., 0., 0.],\n",
      "         [0., 0., 0., 0., 1., 0., 0., 0., 0., 0.]]])\n"
     ]
    }
   ],
   "source": [
    "# You might find this code helpful for obtaining\n",
    "# PyTorch one-hot vectors.\n",
    "\n",
    "ident = torch.eye(10)\n",
    "print(ident[0]) # one-hot vector\n",
    "print(ident[1]) # one-hot vector\n",
    "x = torch.tensor([[1, 2], [3, 4]])\n",
    "print(ident[x]) # one-hot vectors"
   ]
  },
  {
   "cell_type": "code",
   "execution_count": 9,
   "metadata": {
    "colab": {},
    "colab_type": "code",
    "collapsed": true,
    "id": "4LTQ7zFka909",
    "jupyter": {
     "outputs_hidden": true
    }
   },
   "outputs": [],
   "source": [
    "class RNN(nn.Module):\n",
    "    def __init__(self, input_size, hidden_size, num_classes):\n",
    "        super(RNN, self).__init__()\n",
    "        self.hidden_size = hidden_size\n",
    "        self.input_size = input_size  # Store input_size\n",
    "        # No embedding layer since we're using one-hot encoding\n",
    "        self.rnn = nn.RNN(input_size, hidden_size, batch_first=True)\n",
    "        self.fc = nn.Linear(hidden_size, num_classes)\n",
    "    \n",
    "    def forward(self, x):\n",
    "        # One-hot encode the input\n",
    "        # x is the input sequence (sentence) as a tensor of integers (character indices)\n",
    "        # x dimension is (batch_size, seq_len)\n",
    "        x_one_hot = torch.nn.functional.one_hot(x, num_classes=self.input_size).float()\n",
    "        # x one hot is \n",
    "        out, _ = self.rnn(x_one_hot)\n",
    "        out = self.fc(out[:, -1, :])\n",
    "        return out"
   ]
  },
  {
   "cell_type": "markdown",
   "metadata": {
    "colab_type": "text",
    "id": "vKIYPl_Ba90_"
   },
   "source": [
    "## Part 3. Training [16 pt]\n",
    "\n",
    "### Part (a) [4 pt]\n",
    "\n",
    "Complete the `get_accuracy` function, which will compute the\n",
    "accuracy (rate) of your model across a dataset (e.g. validation set)."
   ]
  },
  {
   "cell_type": "code",
   "execution_count": 10,
   "metadata": {
    "colab": {},
    "colab_type": "code",
    "collapsed": true,
    "id": "pvNfhGD6a91A",
    "jupyter": {
     "outputs_hidden": true
    }
   },
   "outputs": [],
   "source": [
    "def get_accuracy(model, data, device):\n",
    "    \"\"\" Compute the accuracy of the `model` across a dataset `data`\n",
    "    \n",
    "    Example usage:\n",
    "    \n",
    "    >>> model = MyRNN() # to be defined\n",
    "    >>> get_accuracy(model, valid) # the variable `valid` is from above\n",
    "    \"\"\"\n",
    "\n",
    "    correct = 0\n",
    "    total = 0\n",
    "    for sentences, labels in data:\n",
    "        sentences, labels = sentences.to(device), labels.to(device)\n",
    "        outputs = model(sentences)\n",
    "        _, predicted = torch.max(outputs, 1)\n",
    "        total += labels.size(0)\n",
    "        correct += (predicted == labels).sum().item()\n",
    "    return correct / total"
   ]
  },
  {
   "cell_type": "markdown",
   "metadata": {
    "colab_type": "text",
    "id": "TlxlcAC1a91C"
   },
   "source": [
    "### Part (b) [4 pt]\n",
    "\n",
    "Train your model. Plot the training curve of your final model. \n",
    "Your training curve should have the training/validation loss and\n",
    "accuracy plotted periodically.\n",
    "\n",
    "Note: Not all of your batches will have the same batch size.\n",
    "In particular, if your training set does not divide evenly by\n",
    "your batch size, there will be a batch that is smaller than\n",
    "the rest. "
   ]
  },
  {
   "cell_type": "code",
   "execution_count": 11,
   "metadata": {
    "colab": {},
    "colab_type": "code",
    "collapsed": true,
    "id": "CVtf7CJCa91D",
    "jupyter": {
     "outputs_hidden": true
    }
   },
   "outputs": [],
   "source": [
    "from tqdm.notebook import tqdm\n",
    "\n",
    "def train(model, device, train_loader, val_loader, num_epochs=5, learning_rate=1e-3):\n",
    "    criterion = nn.CrossEntropyLoss()\n",
    "    optimizer = torch.optim.Adam(model.parameters(), lr=learning_rate)\n",
    "    # losses is 2 by num_epochs zero tensor\n",
    "    # row 0 is for training loss\n",
    "    # row 1 is for validation loss\n",
    "    losses = torch.zeros(num_epochs).to(device)\n",
    "    accuracies = torch.zeros(2, num_epochs).to(device)\n",
    "\n",
    "    for epoch in tqdm(range(num_epochs)):\n",
    "        model.train()\n",
    "        episodic_loss = torch.zeros(len(train_loader)).to(device)\n",
    "        for i, (sentences, labels) in enumerate(tqdm(train_loader)):\n",
    "            sentences, labels = sentences.to(device), labels.to(device)\n",
    "            optimizer.zero_grad()\n",
    "            outputs = model(sentences)\n",
    "            loss = criterion(outputs, labels)\n",
    "            loss.backward()\n",
    "            optimizer.step()\n",
    "            episodic_loss[i] = loss.item()\n",
    "        losses[epoch] = episodic_loss.mean()\n",
    "\n",
    "        model.eval()\n",
    "        accuracies[0, epoch] = get_accuracy(model, train_loader, device)\n",
    "        accuracies[1, epoch] = get_accuracy(model, val_loader, device)\n",
    "    return losses, accuracies\n"
   ]
  },
  {
   "cell_type": "code",
   "execution_count": 12,
   "metadata": {},
   "outputs": [
    {
     "data": {
      "application/vnd.jupyter.widget-view+json": {
       "model_id": "24b27d7b949846b2b67fa9344ba44504",
       "version_major": 2,
       "version_minor": 0
      },
      "text/plain": [
       "  0%|          | 0/10 [00:00<?, ?it/s]"
      ]
     },
     "metadata": {},
     "output_type": "display_data"
    },
    {
     "data": {
      "application/vnd.jupyter.widget-view+json": {
       "model_id": "8f6ae6bed30243a7916d1a2c1dcef383",
       "version_major": 2,
       "version_minor": 0
      },
      "text/plain": [
       "  0%|          | 0/256 [00:00<?, ?it/s]"
      ]
     },
     "metadata": {},
     "output_type": "display_data"
    },
    {
     "data": {
      "application/vnd.jupyter.widget-view+json": {
       "model_id": "5e9dc6f8279549d398629cf090c6351c",
       "version_major": 2,
       "version_minor": 0
      },
      "text/plain": [
       "  0%|          | 0/256 [00:00<?, ?it/s]"
      ]
     },
     "metadata": {},
     "output_type": "display_data"
    },
    {
     "data": {
      "application/vnd.jupyter.widget-view+json": {
       "model_id": "47aeb482cb394011be3246ac7ec407df",
       "version_major": 2,
       "version_minor": 0
      },
      "text/plain": [
       "  0%|          | 0/256 [00:00<?, ?it/s]"
      ]
     },
     "metadata": {},
     "output_type": "display_data"
    },
    {
     "data": {
      "application/vnd.jupyter.widget-view+json": {
       "model_id": "c1d7648a3bd74996a8f3607ff763f797",
       "version_major": 2,
       "version_minor": 0
      },
      "text/plain": [
       "  0%|          | 0/256 [00:00<?, ?it/s]"
      ]
     },
     "metadata": {},
     "output_type": "display_data"
    },
    {
     "data": {
      "application/vnd.jupyter.widget-view+json": {
       "model_id": "6f8feacda811461b8a0297e21b14ada6",
       "version_major": 2,
       "version_minor": 0
      },
      "text/plain": [
       "  0%|          | 0/256 [00:00<?, ?it/s]"
      ]
     },
     "metadata": {},
     "output_type": "display_data"
    },
    {
     "data": {
      "application/vnd.jupyter.widget-view+json": {
       "model_id": "5a0b9b9676e9458f9f434ab733a4ef0b",
       "version_major": 2,
       "version_minor": 0
      },
      "text/plain": [
       "  0%|          | 0/256 [00:00<?, ?it/s]"
      ]
     },
     "metadata": {},
     "output_type": "display_data"
    },
    {
     "data": {
      "application/vnd.jupyter.widget-view+json": {
       "model_id": "44c338fc6af44f7da15226cc5b33eef4",
       "version_major": 2,
       "version_minor": 0
      },
      "text/plain": [
       "  0%|          | 0/256 [00:00<?, ?it/s]"
      ]
     },
     "metadata": {},
     "output_type": "display_data"
    },
    {
     "data": {
      "application/vnd.jupyter.widget-view+json": {
       "model_id": "c906bd3f915f4201ab5d27638c5aac4c",
       "version_major": 2,
       "version_minor": 0
      },
      "text/plain": [
       "  0%|          | 0/256 [00:00<?, ?it/s]"
      ]
     },
     "metadata": {},
     "output_type": "display_data"
    },
    {
     "data": {
      "application/vnd.jupyter.widget-view+json": {
       "model_id": "a19bd484d68242bb89b8a4f94326717a",
       "version_major": 2,
       "version_minor": 0
      },
      "text/plain": [
       "  0%|          | 0/256 [00:00<?, ?it/s]"
      ]
     },
     "metadata": {},
     "output_type": "display_data"
    },
    {
     "data": {
      "application/vnd.jupyter.widget-view+json": {
       "model_id": "6b5e255817884758ab68eafefb71a29e",
       "version_major": 2,
       "version_minor": 0
      },
      "text/plain": [
       "  0%|          | 0/256 [00:00<?, ?it/s]"
      ]
     },
     "metadata": {},
     "output_type": "display_data"
    }
   ],
   "source": [
    "model = RNN(input_size=len(characters) + 1, hidden_size=50, num_classes=2).to(device)\n",
    "losses, accuracies = train(model, device, train_loader, val_loader, num_epochs=10, learning_rate=1e-3)"
   ]
  },
  {
   "cell_type": "code",
   "execution_count": 13,
   "metadata": {},
   "outputs": [
    {
     "data": {
      "image/png": "[encoded data removed]",
      "text/plain": [
       "<Figure size 640x480 with 1 Axes>"
      ]
     },
     "metadata": {},
     "output_type": "display_data"
    },
    {
     "data": {
      "image/png": "[encoded data removed]",
      "text/plain": [
       "<Figure size 640x480 with 1 Axes>"
      ]
     },
     "metadata": {},
     "output_type": "display_data"
    }
   ],
   "source": [
    "import matplotlib.pyplot as plt\n",
    "\n",
    "# plot the training loss \n",
    "plt.plot(losses.cpu().numpy())\n",
    "plt.title(\"Training Loss\")\n",
    "plt.show()\n",
    "\n",
    "# plot the training and validation accuracy\n",
    "plt.plot(accuracies[0].cpu().numpy(), label=\"Train\")\n",
    "plt.plot(accuracies[1].cpu().numpy(), label=\"Validation\")\n",
    "plt.title(\"Training and Validation Accuracy\")\n",
    "plt.legend()\n",
    "plt.show()\n"
   ]
  },
  {
   "cell_type": "markdown",
   "metadata": {
    "colab_type": "text",
    "id": "fE3eRkDAa91F"
   },
   "source": [
    "### Part (c) [4 pt]\n",
    "\n",
    "Choose at least 4 hyperparameters to tune. Explain how you tuned the hyperparameters.\n",
    "You don't need to include your training curve for every model you trained.\n",
    "Instead, explain what hyperparemters you tuned, what the best validation accuracy was,\n",
    "and the reasoning behind the hyperparameter decisions you made.\n",
    "\n",
    "For this assignment, you should tune more than just your learning rate and epoch. \n",
    "Choose at least 2 hyperparameters that are unrelated to the optimizer."
   ]
  },
  {
   "cell_type": "code",
   "execution_count": 14,
   "metadata": {
    "colab": {},
    "colab_type": "code",
    "collapsed": true,
    "id": "A2GEWfDca91G",
    "jupyter": {
     "outputs_hidden": true
    }
   },
   "outputs": [
    {
     "data": {
      "application/vnd.jupyter.widget-view+json": {
       "model_id": "4b54486b3e2e4550a747365c1dfc032a",
       "version_major": 2,
       "version_minor": 0
      },
      "text/plain": [
       "  0%|          | 0/20 [00:00<?, ?it/s]"
      ]
     },
     "metadata": {},
     "output_type": "display_data"
    },
    {
     "data": {
      "application/vnd.jupyter.widget-view+json": {
       "model_id": "9cf2234490fb4f7b923a838bf11c6bbf",
       "version_major": 2,
       "version_minor": 0
      },
      "text/plain": [
       "  0%|          | 0/256 [00:00<?, ?it/s]"
      ]
     },
     "metadata": {},
     "output_type": "display_data"
    },
    {
     "data": {
      "application/vnd.jupyter.widget-view+json": {
       "model_id": "cf513aff73894df6a943b4643102cce8",
       "version_major": 2,
       "version_minor": 0
      },
      "text/plain": [
       "  0%|          | 0/256 [00:00<?, ?it/s]"
      ]
     },
     "metadata": {},
     "output_type": "display_data"
    },
    {
     "data": {
      "application/vnd.jupyter.widget-view+json": {
       "model_id": "488622f47965493c8bf04f15067518e9",
       "version_major": 2,
       "version_minor": 0
      },
      "text/plain": [
       "  0%|          | 0/256 [00:00<?, ?it/s]"
      ]
     },
     "metadata": {},
     "output_type": "display_data"
    },
    {
     "data": {
      "application/vnd.jupyter.widget-view+json": {
       "model_id": "1679dfa7c25a42c89037118d2f80087d",
       "version_major": 2,
       "version_minor": 0
      },
      "text/plain": [
       "  0%|          | 0/256 [00:00<?, ?it/s]"
      ]
     },
     "metadata": {},
     "output_type": "display_data"
    },
    {
     "data": {
      "application/vnd.jupyter.widget-view+json": {
       "model_id": "b00e6c6c4ab44bc2bb9c9bdf4eec82b4",
       "version_major": 2,
       "version_minor": 0
      },
      "text/plain": [
       "  0%|          | 0/256 [00:00<?, ?it/s]"
      ]
     },
     "metadata": {},
     "output_type": "display_data"
    },
    {
     "data": {
      "application/vnd.jupyter.widget-view+json": {
       "model_id": "c2c248e7f3ae4a7f9e58ce18bcd055e1",
       "version_major": 2,
       "version_minor": 0
      },
      "text/plain": [
       "  0%|          | 0/256 [00:00<?, ?it/s]"
      ]
     },
     "metadata": {},
     "output_type": "display_data"
    },
    {
     "data": {
      "application/vnd.jupyter.widget-view+json": {
       "model_id": "866c4274bebe49e6b59e17dc8b01157b",
       "version_major": 2,
       "version_minor": 0
      },
      "text/plain": [
       "  0%|          | 0/256 [00:00<?, ?it/s]"
      ]
     },
     "metadata": {},
     "output_type": "display_data"
    },
    {
     "data": {
      "application/vnd.jupyter.widget-view+json": {
       "model_id": "4e0cc44c4aa647059c84a067f1364d54",
       "version_major": 2,
       "version_minor": 0
      },
      "text/plain": [
       "  0%|          | 0/256 [00:00<?, ?it/s]"
      ]
     },
     "metadata": {},
     "output_type": "display_data"
    },
    {
     "data": {
      "application/vnd.jupyter.widget-view+json": {
       "model_id": "ceaecb29c90b462e861faf7294a5dda3",
       "version_major": 2,
       "version_minor": 0
      },
      "text/plain": [
       "  0%|          | 0/256 [00:00<?, ?it/s]"
      ]
     },
     "metadata": {},
     "output_type": "display_data"
    },
    {
     "data": {
      "application/vnd.jupyter.widget-view+json": {
       "model_id": "9e83ac133d4c43c196865a49ea2b0a25",
       "version_major": 2,
       "version_minor": 0
      },
      "text/plain": [
       "  0%|          | 0/256 [00:00<?, ?it/s]"
      ]
     },
     "metadata": {},
     "output_type": "display_data"
    },
    {
     "data": {
      "application/vnd.jupyter.widget-view+json": {
       "model_id": "07afab73b91e4f3fa9d9fb154adf834a",
       "version_major": 2,
       "version_minor": 0
      },
      "text/plain": [
       "  0%|          | 0/256 [00:00<?, ?it/s]"
      ]
     },
     "metadata": {},
     "output_type": "display_data"
    },
    {
     "data": {
      "application/vnd.jupyter.widget-view+json": {
       "model_id": "5ab56f6fe5694c9591dd933d96aa339c",
       "version_major": 2,
       "version_minor": 0
      },
      "text/plain": [
       "  0%|          | 0/256 [00:00<?, ?it/s]"
      ]
     },
     "metadata": {},
     "output_type": "display_data"
    },
    {
     "data": {
      "application/vnd.jupyter.widget-view+json": {
       "model_id": "c66006652a0e4b14908761a20a766063",
       "version_major": 2,
       "version_minor": 0
      },
      "text/plain": [
       "  0%|          | 0/256 [00:00<?, ?it/s]"
      ]
     },
     "metadata": {},
     "output_type": "display_data"
    },
    {
     "data": {
      "application/vnd.jupyter.widget-view+json": {
       "model_id": "51805ca1e58244fc9b79dd42ec37f208",
       "version_major": 2,
       "version_minor": 0
      },
      "text/plain": [
       "  0%|          | 0/256 [00:00<?, ?it/s]"
      ]
     },
     "metadata": {},
     "output_type": "display_data"
    },
    {
     "data": {
      "application/vnd.jupyter.widget-view+json": {
       "model_id": "cecbf61c1de94b71838de877c082d81b",
       "version_major": 2,
       "version_minor": 0
      },
      "text/plain": [
       "  0%|          | 0/256 [00:00<?, ?it/s]"
      ]
     },
     "metadata": {},
     "output_type": "display_data"
    },
    {
     "data": {
      "application/vnd.jupyter.widget-view+json": {
       "model_id": "91f9401fa1174e02b95698189124b4e5",
       "version_major": 2,
       "version_minor": 0
      },
      "text/plain": [
       "  0%|          | 0/256 [00:00<?, ?it/s]"
      ]
     },
     "metadata": {},
     "output_type": "display_data"
    },
    {
     "data": {
      "application/vnd.jupyter.widget-view+json": {
       "model_id": "a373da24996c4c5d8f796e1e5db2f665",
       "version_major": 2,
       "version_minor": 0
      },
      "text/plain": [
       "  0%|          | 0/256 [00:00<?, ?it/s]"
      ]
     },
     "metadata": {},
     "output_type": "display_data"
    },
    {
     "data": {
      "application/vnd.jupyter.widget-view+json": {
       "model_id": "44342728491c4efea7189ce5b2043358",
       "version_major": 2,
       "version_minor": 0
      },
      "text/plain": [
       "  0%|          | 0/256 [00:00<?, ?it/s]"
      ]
     },
     "metadata": {},
     "output_type": "display_data"
    },
    {
     "data": {
      "application/vnd.jupyter.widget-view+json": {
       "model_id": "840da7d241a6477f94c92dddaedb0c4f",
       "version_major": 2,
       "version_minor": 0
      },
      "text/plain": [
       "  0%|          | 0/256 [00:00<?, ?it/s]"
      ]
     },
     "metadata": {},
     "output_type": "display_data"
    },
    {
     "data": {
      "application/vnd.jupyter.widget-view+json": {
       "model_id": "af77f5654d184aa38548e0c2150df4e7",
       "version_major": 2,
       "version_minor": 0
      },
      "text/plain": [
       "  0%|          | 0/256 [00:00<?, ?it/s]"
      ]
     },
     "metadata": {},
     "output_type": "display_data"
    },
    {
     "data": {
      "image/png": "[encoded data removed]",
      "text/plain": [
       "<Figure size 640x480 with 1 Axes>"
      ]
     },
     "metadata": {},
     "output_type": "display_data"
    },
    {
     "data": {
      "image/png": "[encoded data removed]",
      "text/plain": [
       "<Figure size 640x480 with 1 Axes>"
      ]
     },
     "metadata": {},
     "output_type": "display_data"
    }
   ],
   "source": [
    "model = RNN(input_size=len(characters) + 1, hidden_size=50, num_classes=2).to(device)\n",
    "losses, accuracies = train(model, device, train_loader, val_loader, num_epochs=20, learning_rate=1e-3)\n",
    "\n",
    "# plot the training loss \n",
    "plt.plot(losses.cpu().numpy())\n",
    "plt.title(\"Training Loss\")\n",
    "plt.show()\n",
    "\n",
    "# plot the training and validation accuracy\n",
    "plt.plot(accuracies[0].cpu().numpy(), label=\"Train\")\n",
    "plt.plot(accuracies[1].cpu().numpy(), label=\"Validation\")\n",
    "plt.title(\"Training and Validation Accuracy\")\n",
    "plt.legend()\n",
    "plt.show()\n",
    "\n",
    "# first test with more epochs "
   ]
  },
  {
   "cell_type": "code",
   "execution_count": 15,
   "metadata": {},
   "outputs": [
    {
     "data": {
      "application/vnd.jupyter.widget-view+json": {
       "model_id": "23698e6e7a184fee996af0e96a16f9f5",
       "version_major": 2,
       "version_minor": 0
      },
      "text/plain": [
       "  0%|          | 0/20 [00:00<?, ?it/s]"
      ]
     },
     "metadata": {},
     "output_type": "display_data"
    },
    {
     "data": {
      "application/vnd.jupyter.widget-view+json": {
       "model_id": "bd087d1d2c1849f0a1f5806a0f60e793",
       "version_major": 2,
       "version_minor": 0
      },
      "text/plain": [
       "  0%|          | 0/256 [00:00<?, ?it/s]"
      ]
     },
     "metadata": {},
     "output_type": "display_data"
    },
    {
     "data": {
      "application/vnd.jupyter.widget-view+json": {
       "model_id": "cdbfe7758c1743ce80dcdbc406f4e18b",
       "version_major": 2,
       "version_minor": 0
      },
      "text/plain": [
       "  0%|          | 0/256 [00:00<?, ?it/s]"
      ]
     },
     "metadata": {},
     "output_type": "display_data"
    },
    {
     "data": {
      "application/vnd.jupyter.widget-view+json": {
       "model_id": "0f3bd2b4bb6a435d9fbbf5714afb9f07",
       "version_major": 2,
       "version_minor": 0
      },
      "text/plain": [
       "  0%|          | 0/256 [00:00<?, ?it/s]"
      ]
     },
     "metadata": {},
     "output_type": "display_data"
    },
    {
     "data": {
      "application/vnd.jupyter.widget-view+json": {
       "model_id": "896cd5f972cc4ec0ab4208f210918295",
       "version_major": 2,
       "version_minor": 0
      },
      "text/plain": [
       "  0%|          | 0/256 [00:00<?, ?it/s]"
      ]
     },
     "metadata": {},
     "output_type": "display_data"
    },
    {
     "data": {
      "application/vnd.jupyter.widget-view+json": {
       "model_id": "c76e1c7b16594a5082b4de144e6505dc",
       "version_major": 2,
       "version_minor": 0
      },
      "text/plain": [
       "  0%|          | 0/256 [00:00<?, ?it/s]"
      ]
     },
     "metadata": {},
     "output_type": "display_data"
    },
    {
     "data": {
      "application/vnd.jupyter.widget-view+json": {
       "model_id": "03670f100754461394637ca780d34793",
       "version_major": 2,
       "version_minor": 0
      },
      "text/plain": [
       "  0%|          | 0/256 [00:00<?, ?it/s]"
      ]
     },
     "metadata": {},
     "output_type": "display_data"
    },
    {
     "data": {
      "application/vnd.jupyter.widget-view+json": {
       "model_id": "ca44e1f7a1724ac3a301fc407b52cbee",
       "version_major": 2,
       "version_minor": 0
      },
      "text/plain": [
       "  0%|          | 0/256 [00:00<?, ?it/s]"
      ]
     },
     "metadata": {},
     "output_type": "display_data"
    },
    {
     "data": {
      "application/vnd.jupyter.widget-view+json": {
       "model_id": "e5a2c4fcc84d449ba5649a5fdb30a2bf",
       "version_major": 2,
       "version_minor": 0
      },
      "text/plain": [
       "  0%|          | 0/256 [00:00<?, ?it/s]"
      ]
     },
     "metadata": {},
     "output_type": "display_data"
    },
    {
     "data": {
      "application/vnd.jupyter.widget-view+json": {
       "model_id": "cb53682407194b61b348400da5942ef8",
       "version_major": 2,
       "version_minor": 0
      },
      "text/plain": [
       "  0%|          | 0/256 [00:00<?, ?it/s]"
      ]
     },
     "metadata": {},
     "output_type": "display_data"
    },
    {
     "data": {
      "application/vnd.jupyter.widget-view+json": {
       "model_id": "b4f85ca8bc2e4a28979f4cfafccc43e2",
       "version_major": 2,
       "version_minor": 0
      },
      "text/plain": [
       "  0%|          | 0/256 [00:00<?, ?it/s]"
      ]
     },
     "metadata": {},
     "output_type": "display_data"
    },
    {
     "data": {
      "application/vnd.jupyter.widget-view+json": {
       "model_id": "618fe73486064ad8b4070c248b11c403",
       "version_major": 2,
       "version_minor": 0
      },
      "text/plain": [
       "  0%|          | 0/256 [00:00<?, ?it/s]"
      ]
     },
     "metadata": {},
     "output_type": "display_data"
    },
    {
     "data": {
      "application/vnd.jupyter.widget-view+json": {
       "model_id": "ac145bbeb8464b82a23ae36aceb5650d",
       "version_major": 2,
       "version_minor": 0
      },
      "text/plain": [
       "  0%|          | 0/256 [00:00<?, ?it/s]"
      ]
     },
     "metadata": {},
     "output_type": "display_data"
    },
    {
     "data": {
      "application/vnd.jupyter.widget-view+json": {
       "model_id": "4026aa4f7a334ddb80ab81dd961af595",
       "version_major": 2,
       "version_minor": 0
      },
      "text/plain": [
       "  0%|          | 0/256 [00:00<?, ?it/s]"
      ]
     },
     "metadata": {},
     "output_type": "display_data"
    },
    {
     "data": {
      "application/vnd.jupyter.widget-view+json": {
       "model_id": "8b382b3e9c8e40aeb7526c4fffc9e35b",
       "version_major": 2,
       "version_minor": 0
      },
      "text/plain": [
       "  0%|          | 0/256 [00:00<?, ?it/s]"
      ]
     },
     "metadata": {},
     "output_type": "display_data"
    },
    {
     "data": {
      "application/vnd.jupyter.widget-view+json": {
       "model_id": "230e563659ed44d889b6319fc3d74b31",
       "version_major": 2,
       "version_minor": 0
      },
      "text/plain": [
       "  0%|          | 0/256 [00:00<?, ?it/s]"
      ]
     },
     "metadata": {},
     "output_type": "display_data"
    },
    {
     "data": {
      "application/vnd.jupyter.widget-view+json": {
       "model_id": "acc01755748842d99076f54d24f9cdea",
       "version_major": 2,
       "version_minor": 0
      },
      "text/plain": [
       "  0%|          | 0/256 [00:00<?, ?it/s]"
      ]
     },
     "metadata": {},
     "output_type": "display_data"
    },
    {
     "data": {
      "application/vnd.jupyter.widget-view+json": {
       "model_id": "b54b732383314376a337c7742025fd48",
       "version_major": 2,
       "version_minor": 0
      },
      "text/plain": [
       "  0%|          | 0/256 [00:00<?, ?it/s]"
      ]
     },
     "metadata": {},
     "output_type": "display_data"
    },
    {
     "data": {
      "application/vnd.jupyter.widget-view+json": {
       "model_id": "71d08eb9923049e982911d999a81a5d0",
       "version_major": 2,
       "version_minor": 0
      },
      "text/plain": [
       "  0%|          | 0/256 [00:00<?, ?it/s]"
      ]
     },
     "metadata": {},
     "output_type": "display_data"
    },
    {
     "data": {
      "application/vnd.jupyter.widget-view+json": {
       "model_id": "937157c9317a4caaab6821a72b9bd7b4",
       "version_major": 2,
       "version_minor": 0
      },
      "text/plain": [
       "  0%|          | 0/256 [00:00<?, ?it/s]"
      ]
     },
     "metadata": {},
     "output_type": "display_data"
    },
    {
     "data": {
      "application/vnd.jupyter.widget-view+json": {
       "model_id": "c8b3dacaee8e450a94852ddc69ede3f5",
       "version_major": 2,
       "version_minor": 0
      },
      "text/plain": [
       "  0%|          | 0/256 [00:00<?, ?it/s]"
      ]
     },
     "metadata": {},
     "output_type": "display_data"
    },
    {
     "data": {
      "image/png": "[encoded data removed]",
      "text/plain": [
       "<Figure size 640x480 with 1 Axes>"
      ]
     },
     "metadata": {},
     "output_type": "display_data"
    },
    {
     "data": {
      "image/png": "[encoded data removed]",
      "text/plain": [
       "<Figure size 640x480 with 1 Axes>"
      ]
     },
     "metadata": {},
     "output_type": "display_data"
    }
   ],
   "source": [
    "model = RNN(input_size=len(characters) + 1, hidden_size=50, num_classes=2).to(device)\n",
    "losses, accuracies = train(model, device, train_loader, val_loader, num_epochs=20, learning_rate=1e-4)\n",
    "\n",
    "# plot the training loss \n",
    "plt.plot(losses.cpu().numpy())\n",
    "plt.title(\"Training Loss\")\n",
    "plt.show()\n",
    "\n",
    "# plot the training and validation accuracy\n",
    "plt.plot(accuracies[0].cpu().numpy(), label=\"Train\")\n",
    "plt.plot(accuracies[1].cpu().numpy(), label=\"Validation\")\n",
    "plt.title(\"Training and Validation Accuracy\")\n",
    "plt.legend()\n",
    "plt.show()\n",
    "\n",
    "# training for mroe epoch doesn't seems to decrease the training loss\n",
    "# since the loss is very unstable, lets try to decrease the learning rate"
   ]
  },
  {
   "cell_type": "code",
   "execution_count": 16,
   "metadata": {},
   "outputs": [
    {
     "data": {
      "application/vnd.jupyter.widget-view+json": {
       "model_id": "59521c8c2b8d4c90a798f054ab81c913",
       "version_major": 2,
       "version_minor": 0
      },
      "text/plain": [
       "  0%|          | 0/20 [00:00<?, ?it/s]"
      ]
     },
     "metadata": {},
     "output_type": "display_data"
    },
    {
     "data": {
      "application/vnd.jupyter.widget-view+json": {
       "model_id": "7fd1164ee85748fc9a6a75c6612ae894",
       "version_major": 2,
       "version_minor": 0
      },
      "text/plain": [
       "  0%|          | 0/256 [00:00<?, ?it/s]"
      ]
     },
     "metadata": {},
     "output_type": "display_data"
    },
    {
     "data": {
      "application/vnd.jupyter.widget-view+json": {
       "model_id": "4e4a240190ae4e609523bd3a02b36105",
       "version_major": 2,
       "version_minor": 0
      },
      "text/plain": [
       "  0%|          | 0/256 [00:00<?, ?it/s]"
      ]
     },
     "metadata": {},
     "output_type": "display_data"
    },
    {
     "data": {
      "application/vnd.jupyter.widget-view+json": {
       "model_id": "98ded001647f4291ade8eac5a8570056",
       "version_major": 2,
       "version_minor": 0
      },
      "text/plain": [
       "  0%|          | 0/256 [00:00<?, ?it/s]"
      ]
     },
     "metadata": {},
     "output_type": "display_data"
    },
    {
     "data": {
      "application/vnd.jupyter.widget-view+json": {
       "model_id": "f2c6816468d641cc8c8bd6dd640b3a7f",
       "version_major": 2,
       "version_minor": 0
      },
      "text/plain": [
       "  0%|          | 0/256 [00:00<?, ?it/s]"
      ]
     },
     "metadata": {},
     "output_type": "display_data"
    },
    {
     "data": {
      "application/vnd.jupyter.widget-view+json": {
       "model_id": "be5aea6b9ccd4d7a8a5c690244cb3481",
       "version_major": 2,
       "version_minor": 0
      },
      "text/plain": [
       "  0%|          | 0/256 [00:00<?, ?it/s]"
      ]
     },
     "metadata": {},
     "output_type": "display_data"
    },
    {
     "data": {
      "application/vnd.jupyter.widget-view+json": {
       "model_id": "e74e61e2bad14016ae11ffb8735bd4c8",
       "version_major": 2,
       "version_minor": 0
      },
      "text/plain": [
       "  0%|          | 0/256 [00:00<?, ?it/s]"
      ]
     },
     "metadata": {},
     "output_type": "display_data"
    },
    {
     "data": {
      "application/vnd.jupyter.widget-view+json": {
       "model_id": "4753ec38d6b04221a4a47f62d5b43da7",
       "version_major": 2,
       "version_minor": 0
      },
      "text/plain": [
       "  0%|          | 0/256 [00:00<?, ?it/s]"
      ]
     },
     "metadata": {},
     "output_type": "display_data"
    },
    {
     "data": {
      "application/vnd.jupyter.widget-view+json": {
       "model_id": "0476d28ae48143f8b4751f298e212f53",
       "version_major": 2,
       "version_minor": 0
      },
      "text/plain": [
       "  0%|          | 0/256 [00:00<?, ?it/s]"
      ]
     },
     "metadata": {},
     "output_type": "display_data"
    },
    {
     "data": {
      "application/vnd.jupyter.widget-view+json": {
       "model_id": "c815fd9b3f0345759f5bcfe7bc114c47",
       "version_major": 2,
       "version_minor": 0
      },
      "text/plain": [
       "  0%|          | 0/256 [00:00<?, ?it/s]"
      ]
     },
     "metadata": {},
     "output_type": "display_data"
    },
    {
     "data": {
      "application/vnd.jupyter.widget-view+json": {
       "model_id": "398603e0f1df4d42966b29ccf75c280a",
       "version_major": 2,
       "version_minor": 0
      },
      "text/plain": [
       "  0%|          | 0/256 [00:00<?, ?it/s]"
      ]
     },
     "metadata": {},
     "output_type": "display_data"
    },
    {
     "data": {
      "application/vnd.jupyter.widget-view+json": {
       "model_id": "c046c452263941ccae4e5718b85f0496",
       "version_major": 2,
       "version_minor": 0
      },
      "text/plain": [
       "  0%|          | 0/256 [00:00<?, ?it/s]"
      ]
     },
     "metadata": {},
     "output_type": "display_data"
    },
    {
     "data": {
      "application/vnd.jupyter.widget-view+json": {
       "model_id": "ea4f28f205ab43e89c31291975efe368",
       "version_major": 2,
       "version_minor": 0
      },
      "text/plain": [
       "  0%|          | 0/256 [00:00<?, ?it/s]"
      ]
     },
     "metadata": {},
     "output_type": "display_data"
    },
    {
     "data": {
      "application/vnd.jupyter.widget-view+json": {
       "model_id": "1b14279c65094057bd72ab083f502cee",
       "version_major": 2,
       "version_minor": 0
      },
      "text/plain": [
       "  0%|          | 0/256 [00:00<?, ?it/s]"
      ]
     },
     "metadata": {},
     "output_type": "display_data"
    },
    {
     "data": {
      "application/vnd.jupyter.widget-view+json": {
       "model_id": "ac573ad8ee194664b673a4bdc4eeec76",
       "version_major": 2,
       "version_minor": 0
      },
      "text/plain": [
       "  0%|          | 0/256 [00:00<?, ?it/s]"
      ]
     },
     "metadata": {},
     "output_type": "display_data"
    },
    {
     "data": {
      "application/vnd.jupyter.widget-view+json": {
       "model_id": "bc58dea850344cde9c501198201f0f3d",
       "version_major": 2,
       "version_minor": 0
      },
      "text/plain": [
       "  0%|          | 0/256 [00:00<?, ?it/s]"
      ]
     },
     "metadata": {},
     "output_type": "display_data"
    },
    {
     "data": {
      "application/vnd.jupyter.widget-view+json": {
       "model_id": "a2010e090c354c0993b65874e8cce23e",
       "version_major": 2,
       "version_minor": 0
      },
      "text/plain": [
       "  0%|          | 0/256 [00:00<?, ?it/s]"
      ]
     },
     "metadata": {},
     "output_type": "display_data"
    },
    {
     "data": {
      "application/vnd.jupyter.widget-view+json": {
       "model_id": "d7ca9b0679a94a9ea152a2f354a4b4fb",
       "version_major": 2,
       "version_minor": 0
      },
      "text/plain": [
       "  0%|          | 0/256 [00:00<?, ?it/s]"
      ]
     },
     "metadata": {},
     "output_type": "display_data"
    },
    {
     "data": {
      "application/vnd.jupyter.widget-view+json": {
       "model_id": "dbb44eabe0014c658a7ca15bf404895e",
       "version_major": 2,
       "version_minor": 0
      },
      "text/plain": [
       "  0%|          | 0/256 [00:00<?, ?it/s]"
      ]
     },
     "metadata": {},
     "output_type": "display_data"
    },
    {
     "data": {
      "application/vnd.jupyter.widget-view+json": {
       "model_id": "280d5570683b487da3ee5d727e54a2c8",
       "version_major": 2,
       "version_minor": 0
      },
      "text/plain": [
       "  0%|          | 0/256 [00:00<?, ?it/s]"
      ]
     },
     "metadata": {},
     "output_type": "display_data"
    },
    {
     "data": {
      "application/vnd.jupyter.widget-view+json": {
       "model_id": "5287a9bf748b416f876dda690ec17f40",
       "version_major": 2,
       "version_minor": 0
      },
      "text/plain": [
       "  0%|          | 0/256 [00:00<?, ?it/s]"
      ]
     },
     "metadata": {},
     "output_type": "display_data"
    },
    {
     "data": {
      "image/png": "[encoded data removed]",
      "text/plain": [
       "<Figure size 640x480 with 1 Axes>"
      ]
     },
     "metadata": {},
     "output_type": "display_data"
    },
    {
     "data": {
      "image/png": "[encoded data removed]",
      "text/plain": [
       "<Figure size 640x480 with 1 Axes>"
      ]
     },
     "metadata": {},
     "output_type": "display_data"
    }
   ],
   "source": [
    "model = RNN(input_size=len(characters) + 1, hidden_size=256, num_classes=2).to(device)\n",
    "losses, accuracies = train(model, device, train_loader, val_loader, num_epochs=20, learning_rate=1e-4)\n",
    "\n",
    "# plot the training loss \n",
    "plt.plot(losses.cpu().numpy())\n",
    "plt.title(\"Training Loss\")\n",
    "plt.show()\n",
    "\n",
    "# plot the training and validation accuracy\n",
    "plt.plot(accuracies[0].cpu().numpy(), label=\"Train\")\n",
    "plt.plot(accuracies[1].cpu().numpy(), label=\"Validation\")\n",
    "plt.title(\"Training and Validation Accuracy\")\n",
    "plt.legend()\n",
    "plt.show()\n",
    "\n",
    "# this time the training loss is still unstable, but decreasing....\n",
    "# try increasing the size of the hidden unit to 256 so that it generalized better"
   ]
  },
  {
   "cell_type": "code",
   "execution_count": 17,
   "metadata": {},
   "outputs": [
    {
     "data": {
      "application/vnd.jupyter.widget-view+json": {
       "model_id": "65ca947909b344c68c6acdef63131647",
       "version_major": 2,
       "version_minor": 0
      },
      "text/plain": [
       "  0%|          | 0/20 [00:00<?, ?it/s]"
      ]
     },
     "metadata": {},
     "output_type": "display_data"
    },
    {
     "data": {
      "application/vnd.jupyter.widget-view+json": {
       "model_id": "4ba5a781acb54016aa37ce038c494c26",
       "version_major": 2,
       "version_minor": 0
      },
      "text/plain": [
       "  0%|          | 0/256 [00:00<?, ?it/s]"
      ]
     },
     "metadata": {},
     "output_type": "display_data"
    },
    {
     "data": {
      "application/vnd.jupyter.widget-view+json": {
       "model_id": "5c65a94513544aab982a2bb59db55f01",
       "version_major": 2,
       "version_minor": 0
      },
      "text/plain": [
       "  0%|          | 0/256 [00:00<?, ?it/s]"
      ]
     },
     "metadata": {},
     "output_type": "display_data"
    },
    {
     "data": {
      "application/vnd.jupyter.widget-view+json": {
       "model_id": "9f28b0af13b84491bf0c31d337788cb0",
       "version_major": 2,
       "version_minor": 0
      },
      "text/plain": [
       "  0%|          | 0/256 [00:00<?, ?it/s]"
      ]
     },
     "metadata": {},
     "output_type": "display_data"
    },
    {
     "data": {
      "application/vnd.jupyter.widget-view+json": {
       "model_id": "30bebf98f4a445c9b458230192b0edb2",
       "version_major": 2,
       "version_minor": 0
      },
      "text/plain": [
       "  0%|          | 0/256 [00:00<?, ?it/s]"
      ]
     },
     "metadata": {},
     "output_type": "display_data"
    },
    {
     "data": {
      "application/vnd.jupyter.widget-view+json": {
       "model_id": "b9b7bbb3018e47e1bda0705a60b497cf",
       "version_major": 2,
       "version_minor": 0
      },
      "text/plain": [
       "  0%|          | 0/256 [00:00<?, ?it/s]"
      ]
     },
     "metadata": {},
     "output_type": "display_data"
    },
    {
     "data": {
      "application/vnd.jupyter.widget-view+json": {
       "model_id": "2535f351ffcb492da3e595cd90851e57",
       "version_major": 2,
       "version_minor": 0
      },
      "text/plain": [
       "  0%|          | 0/256 [00:00<?, ?it/s]"
      ]
     },
     "metadata": {},
     "output_type": "display_data"
    },
    {
     "data": {
      "application/vnd.jupyter.widget-view+json": {
       "model_id": "956def80521e40d39f7d39ab46fc76fe",
       "version_major": 2,
       "version_minor": 0
      },
      "text/plain": [
       "  0%|          | 0/256 [00:00<?, ?it/s]"
      ]
     },
     "metadata": {},
     "output_type": "display_data"
    },
    {
     "data": {
      "application/vnd.jupyter.widget-view+json": {
       "model_id": "f9885555603748e099a023b2aec13b38",
       "version_major": 2,
       "version_minor": 0
      },
      "text/plain": [
       "  0%|          | 0/256 [00:00<?, ?it/s]"
      ]
     },
     "metadata": {},
     "output_type": "display_data"
    },
    {
     "data": {
      "application/vnd.jupyter.widget-view+json": {
       "model_id": "c83984c9e43e4f4295e076b7b5da74f0",
       "version_major": 2,
       "version_minor": 0
      },
      "text/plain": [
       "  0%|          | 0/256 [00:00<?, ?it/s]"
      ]
     },
     "metadata": {},
     "output_type": "display_data"
    },
    {
     "data": {
      "application/vnd.jupyter.widget-view+json": {
       "model_id": "2ca7774494934948975a3f455359ca64",
       "version_major": 2,
       "version_minor": 0
      },
      "text/plain": [
       "  0%|          | 0/256 [00:00<?, ?it/s]"
      ]
     },
     "metadata": {},
     "output_type": "display_data"
    },
    {
     "data": {
      "application/vnd.jupyter.widget-view+json": {
       "model_id": "51e52d78d14445acaf651bd46db8a8a1",
       "version_major": 2,
       "version_minor": 0
      },
      "text/plain": [
       "  0%|          | 0/256 [00:00<?, ?it/s]"
      ]
     },
     "metadata": {},
     "output_type": "display_data"
    },
    {
     "data": {
      "application/vnd.jupyter.widget-view+json": {
       "model_id": "8d9394412c7048d2b20f877ce5ae2eb5",
       "version_major": 2,
       "version_minor": 0
      },
      "text/plain": [
       "  0%|          | 0/256 [00:00<?, ?it/s]"
      ]
     },
     "metadata": {},
     "output_type": "display_data"
    },
    {
     "data": {
      "application/vnd.jupyter.widget-view+json": {
       "model_id": "ac74ab51626b4780887b7668dbf55bf0",
       "version_major": 2,
       "version_minor": 0
      },
      "text/plain": [
       "  0%|          | 0/256 [00:00<?, ?it/s]"
      ]
     },
     "metadata": {},
     "output_type": "display_data"
    },
    {
     "data": {
      "application/vnd.jupyter.widget-view+json": {
       "model_id": "22225b3554334686a76b43d256377532",
       "version_major": 2,
       "version_minor": 0
      },
      "text/plain": [
       "  0%|          | 0/256 [00:00<?, ?it/s]"
      ]
     },
     "metadata": {},
     "output_type": "display_data"
    },
    {
     "data": {
      "application/vnd.jupyter.widget-view+json": {
       "model_id": "8a76d01073e6463ba73f3b68ba62ae06",
       "version_major": 2,
       "version_minor": 0
      },
      "text/plain": [
       "  0%|          | 0/256 [00:00<?, ?it/s]"
      ]
     },
     "metadata": {},
     "output_type": "display_data"
    },
    {
     "data": {
      "application/vnd.jupyter.widget-view+json": {
       "model_id": "1318576a38904ec8863b43c33616fcb7",
       "version_major": 2,
       "version_minor": 0
      },
      "text/plain": [
       "  0%|          | 0/256 [00:00<?, ?it/s]"
      ]
     },
     "metadata": {},
     "output_type": "display_data"
    },
    {
     "data": {
      "application/vnd.jupyter.widget-view+json": {
       "model_id": "085ca59f8cad482692149d6629994514",
       "version_major": 2,
       "version_minor": 0
      },
      "text/plain": [
       "  0%|          | 0/256 [00:00<?, ?it/s]"
      ]
     },
     "metadata": {},
     "output_type": "display_data"
    },
    {
     "data": {
      "application/vnd.jupyter.widget-view+json": {
       "model_id": "863d59804b53422eba426569105935ac",
       "version_major": 2,
       "version_minor": 0
      },
      "text/plain": [
       "  0%|          | 0/256 [00:00<?, ?it/s]"
      ]
     },
     "metadata": {},
     "output_type": "display_data"
    },
    {
     "data": {
      "application/vnd.jupyter.widget-view+json": {
       "model_id": "9586c3af4ec04a78bb30ed44feda8fdc",
       "version_major": 2,
       "version_minor": 0
      },
      "text/plain": [
       "  0%|          | 0/256 [00:00<?, ?it/s]"
      ]
     },
     "metadata": {},
     "output_type": "display_data"
    },
    {
     "data": {
      "application/vnd.jupyter.widget-view+json": {
       "model_id": "3aaba5e96883455799b5c183e55ab272",
       "version_major": 2,
       "version_minor": 0
      },
      "text/plain": [
       "  0%|          | 0/256 [00:00<?, ?it/s]"
      ]
     },
     "metadata": {},
     "output_type": "display_data"
    },
    {
     "data": {
      "image/png": "[encoded data removed]",
      "text/plain": [
       "<Figure size 640x480 with 1 Axes>"
      ]
     },
     "metadata": {},
     "output_type": "display_data"
    },
    {
     "data": {
      "image/png": "[encoded data removed]",
      "text/plain": [
       "<Figure size 640x480 with 1 Axes>"
      ]
     },
     "metadata": {},
     "output_type": "display_data"
    }
   ],
   "source": [
    "class RNN(nn.Module):\n",
    "    def __init__(self, input_size, hidden_size, num_classes):\n",
    "        super(RNN, self).__init__()\n",
    "        self.hidden_size = hidden_size\n",
    "        self.input_size = input_size  # Store input_size\n",
    "        # No embedding layer since we're using one-hot encoding\n",
    "        self.rnn = nn.GRU(input_size, hidden_size, batch_first=True)\n",
    "        self.fc = nn.Linear(hidden_size, num_classes)\n",
    "    \n",
    "    def forward(self, x):\n",
    "        # One-hot encode the input\n",
    "        # x is the input sequence (sentence) as a tensor of integers (character indices)\n",
    "        # x dimension is (batch_size, seq_len)\n",
    "        x_one_hot = torch.nn.functional.one_hot(x, num_classes=self.input_size).float()\n",
    "        # x one hot is \n",
    "        out, _ = self.rnn(x_one_hot)\n",
    "        out = self.fc(out[:, -1, :])\n",
    "        return out\n",
    "\n",
    "model = RNN(input_size=len(characters) + 1, hidden_size=50, num_classes=2).to(device)\n",
    "losses, accuracies = train(model, device, train_loader, val_loader, num_epochs=20, learning_rate=1e-4)\n",
    "\n",
    "# plot the training loss \n",
    "plt.plot(losses.cpu().numpy())\n",
    "plt.title(\"Training Loss\")\n",
    "plt.show()\n",
    "\n",
    "# plot the training and validation accuracy\n",
    "plt.plot(accuracies[0].cpu().numpy(), label=\"Train\")\n",
    "plt.plot(accuracies[1].cpu().numpy(), label=\"Validation\")\n",
    "plt.title(\"Training and Validation Accuracy\")\n",
    "plt.legend()\n",
    "plt.show()\n",
    "\n",
    "# the training loss is worse than the previous model\n",
    "# in the final iteration thats try the GRU with 256 hidden units"
   ]
  },
  {
   "cell_type": "code",
   "execution_count": 18,
   "metadata": {},
   "outputs": [],
   "source": [
    "# this result is significantly better, with much stable losses and higher accuracy"
   ]
  },
  {
   "cell_type": "markdown",
   "metadata": {
    "colab_type": "text",
    "id": "v7DY56rKa91I"
   },
   "source": [
    "### Part (d) [2 pt]\n",
    "\n",
    "Before we deploy a machine learning model, we usually want to have a better understanding\n",
    "of how our model performs beyond its validation accuracy. An important metric to track is\n",
    "*how well our model performs in certain subsets of the data*.\n",
    "\n",
    "In particular, what is the model's error rate amongst data with negative labels?\n",
    "This is called the **false positive rate**.\n",
    "\n",
    "What about the model's error rate amongst data with positive labels?\n",
    "This is called the **false negative rate**.\n",
    "\n",
    "Report your final model's false positive and false negative rate across the\n",
    "validation set."
   ]
  },
  {
   "cell_type": "code",
   "execution_count": 19,
   "metadata": {
    "colab": {},
    "colab_type": "code",
    "collapsed": true,
    "id": "7ggbQSdba91J",
    "jupyter": {
     "outputs_hidden": true
    }
   },
   "outputs": [
    {
     "name": "stdout",
     "output_type": "stream",
     "text": [
      "False Positive Rate:  0.03225806451612903\n",
      "False Negative Rate:  0.03225806451612903\n"
     ]
    }
   ],
   "source": [
    "# display the false positive and false negative\n",
    "\n",
    "def get_false_positive_and_negative(model, data, device):\n",
    "    false_positive = []\n",
    "    false_negative = []\n",
    "    for sentences, labels in data:\n",
    "        sentences, labels = sentences.to(device), labels.to(device)\n",
    "        outputs = model(sentences)\n",
    "        _, predicted = torch.max(outputs, 1)\n",
    "        false_positive.append(((predicted == 1) & (labels == 0)).nonzero())\n",
    "        false_negative.append(((predicted == 0) & (labels == 1)).nonzero())\n",
    "    return false_positive, false_negative\n",
    "\n",
    "false_positive, false_negative = get_false_positive_and_negative(model, test_loader, device)\n",
    "\n",
    "# display the false positive rate\n",
    "print(\"False Positive Rate: \", len(false_positive) / len(test_y))\n",
    "\n",
    "# display the false negative rate\n",
    "print(\"False Negative Rate: \", len(false_negative) / len(test_y))\n",
    "\n"
   ]
  },
  {
   "cell_type": "markdown",
   "metadata": {
    "colab_type": "text",
    "id": "N1iRteb3a91O"
   },
   "source": [
    "### Part (e) [2 pt]\n",
    "\n",
    "The impact of a false positive vs a false negative can be drastically different.\n",
    "If our spam detection algorithm was deployed on your phone, what is the impact\n",
    "of a false positive on the phone's user? What is the impact of a false negative?"
   ]
  },
  {
   "cell_type": "code",
   "execution_count": 20,
   "metadata": {
    "colab": {},
    "colab_type": "code",
    "collapsed": true,
    "id": "hFLUOJTGa91Q",
    "jupyter": {
     "outputs_hidden": true
    }
   },
   "outputs": [],
   "source": [
    "# false positive will making ham message as spam, potentially causing the user to miss important messages\n",
    "\n",
    "# false negative will making spam message as ham, potentially causing the user to be scammed"
   ]
  },
  {
   "cell_type": "markdown",
   "metadata": {
    "colab_type": "text",
    "id": "Gznefulsa91V"
   },
   "source": [
    "## Part 4. Evaluation [11 pt]\n",
    "\n",
    "### Part (a) [1 pt]\n",
    "\n",
    "Report the final test accuracy of your model."
   ]
  },
  {
   "cell_type": "code",
   "execution_count": 21,
   "metadata": {
    "colab": {},
    "colab_type": "code",
    "collapsed": true,
    "id": "D5L5D-A1a91W",
    "jupyter": {
     "outputs_hidden": true
    }
   },
   "outputs": [
    {
     "data": {
      "text/plain": [
       "0.8333333333333334"
      ]
     },
     "execution_count": 21,
     "metadata": {},
     "output_type": "execute_result"
    }
   ],
   "source": [
    "get_accuracy(model, test_loader, device)"
   ]
  },
  {
   "cell_type": "markdown",
   "metadata": {
    "colab_type": "text",
    "id": "6Hjmd8rca91Y"
   },
   "source": [
    "### Part (b) [3 pt]\n",
    "\n",
    "Report the false positive rate and false negative rate of your model across the test set."
   ]
  },
  {
   "cell_type": "code",
   "execution_count": 22,
   "metadata": {
    "colab": {},
    "colab_type": "code",
    "collapsed": true,
    "id": "GFiAKztJa91Z",
    "jupyter": {
     "outputs_hidden": true
    }
   },
   "outputs": [
    {
     "name": "stdout",
     "output_type": "stream",
     "text": [
      "False Positive Rate:  0.03225806451612903\n",
      "False Negative Rate:  0.03225806451612903\n"
     ]
    }
   ],
   "source": [
    "false_positive, false_negative = get_false_positive_and_negative(model, test_loader, device)\n",
    "\n",
    "# display the false positive rate\n",
    "print(\"False Positive Rate: \", len(false_positive) / len(test_y))\n",
    "\n",
    "# display the false negative rate\n",
    "print(\"False Negative Rate: \", len(false_negative) / len(test_y))\n"
   ]
  },
  {
   "cell_type": "markdown",
   "metadata": {
    "colab_type": "text",
    "id": "0jGHtQFpa91b"
   },
   "source": [
    "### Part (c) [3 pt]\n",
    "\n",
    "What is your model's prediction of the **probability** that\n",
    "the SMS message \"machine learning is sooo cool!\" is spam?\n",
    "\n",
    "Hint: To begin, use `stoi` to look up the index\n",
    "of each character in the vocabulary."
   ]
  },
  {
   "cell_type": "code",
   "execution_count": 23,
   "metadata": {
    "colab": {},
    "colab_type": "code",
    "collapsed": true,
    "id": "h_2nSJq8a91b",
    "jupyter": {
     "outputs_hidden": true
    }
   },
   "outputs": [
    {
     "name": "stdout",
     "output_type": "stream",
     "text": [
      "This is a spam message\n"
     ]
    }
   ],
   "source": [
    "msg = \"machine learning is sooo cool!\"\n",
    "\n",
    "msg_transformed = torch.tensor(turn_sentence_into_stoi(msg)).unsqueeze(0).to(device)\n",
    "model.eval()\n",
    "output = model(msg_transformed)\n",
    "_, predicted = torch.max(output, 1)\n",
    "if predicted == 1:\n",
    "    print(\"This is a spam message\")\n",
    "else:\n",
    "    print(\"This is a ham message\")\n",
    "\n",
    "    "
   ]
  },
  {
   "cell_type": "markdown",
   "metadata": {
    "colab_type": "text",
    "id": "QD1zgYJpa91f"
   },
   "source": [
    "### Part (d) [4 pt]\n",
    "\n",
    "Do you think detecting spam is an easy or difficult task?\n",
    "\n",
    "Since machine learning models are expensive to train and deploy, it is very\n",
    "important to compare our models against baseline models: a simple\n",
    "model that is easy to build and inexpensive to run that we can compare our\n",
    "recurrent neural network model against.\n",
    "\n",
    "Explain how you might build a simple baseline model. This baseline model\n",
    "can be a simple neural network (with very few weights), a hand-written algorithm,\n",
    "or any other strategy that is easy to build and test.\n",
    "\n",
    "**Do not actually build a baseline model. Instead, provide instructions on\n",
    "how to build it.**"
   ]
  },
  {
   "cell_type": "code",
   "execution_count": 24,
   "metadata": {
    "colab": {},
    "colab_type": "code",
    "collapsed": true,
    "id": "LTndp-IOa91g",
    "jupyter": {
     "outputs_hidden": true
    }
   },
   "outputs": [],
   "source": [
    "# the simple baseline model I want to be will be similar to how human detecting the spam message\n",
    "# which is to associate words with spam\n",
    "\n",
    "# I will run the TF-IDF on the spam emails, which vectorized the words in the spam emails\n",
    "# after that I can try a simple logistic regression model to classify the spam and ham messages\n"
   ]
  }
 ],
 "metadata": {
  "colab": {
   "collapsed_sections": [],
   "name": "Lab 5 - Spam Detection.ipynb",
   "provenance": []
  },
  "kernelspec": {
   "display_name": "APS360",
   "language": "python",
   "name": "python3"
  },
  "language_info": {
   "codemirror_mode": {
    "name": "ipython",
    "version": 3
   },
   "file_extension": ".py",
   "mimetype": "text/x-python",
   "name": "python",
   "nbconvert_exporter": "python",
   "pygments_lexer": "ipython3",
   "version": "3.10.15"
  }
 },
 "nbformat": 4,
 "nbformat_minor": 4
}
