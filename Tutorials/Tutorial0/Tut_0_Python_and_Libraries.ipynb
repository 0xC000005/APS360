{
 "nbformat": 4,
 "nbformat_minor": 0,
 "metadata": {
  "kernelspec": {
   "display_name": "Python 3",
   "language": "python",
   "name": "python3"
  },
  "language_info": {
   "codemirror_mode": {
    "name": "ipython",
    "version": 3
   },
   "file_extension": ".py",
   "mimetype": "text/x-python",
   "name": "python",
   "nbconvert_exporter": "python",
   "pygments_lexer": "ipython3",
   "version": "3.5.1"
  },
  "colab": {
   "provenance": [],
   "collapsed_sections": []
  }
 },
 "cells": [
  {
   "cell_type": "markdown",
   "metadata": {
    "id": "FcYm1lptGv-Y"
   },
   "source": [
    "# APS360 Tutorial 0 - Python and Libraries \n",
    "\n",
    "### Summary:\n",
    "\n",
    "Welcome to the first Tutorial of APS360! This is\n",
    "a warm up to get you used to the programming environment used\n",
    "in the course, and also to help you review and renew your knowledge\n",
    "of Python and relevant Python libraries.\n",
    "The labs must be done **individually** and even though this tutorial is not for marks, it is recommended that you get into the practise of working alone.\n",
    "\n",
    "By the end of this lab, you should be able to:\n",
    "\n",
    "1. Setup and use Google Colab.\n",
    "2. Write basic, object-oriented Python code.\n",
    "3. Be able to perform matrix operations using `NumPy`.\n",
    "4. Be able to plot using `matplotlib`.\n",
    "5. Be able to load, process, and visualize data.\n",
    "6. Be able to perform basic machine learning operations using `Scikit-learn`.\n",
    "\n",
    "You will need to use NumPy, matplotlib and SciPy. Documentations for there libraries are provided:\n",
    "\n",
    "* https://docs.scipy.org/doc/numpy/reference/\n",
    "* https://matplotlib.org/api/pyplot_api.html#matplotlib.pyplot.plot\n",
    "* https://scikit-learn.org/stable/supervised_learning.html\n",
    "\n",
    "You can also reference Python API documentations freely.\n",
    "\n",
    "\n",
    "\n",
    "## How to submit PDF for Labs?\n",
    "* Creating PDF directly from Colab would result in segmented plots and code. If this happens you will lose mark for those components. \n",
    "* To avoid this you need to first create an HTML version of your notebook and then create the PDF based on the HTML file. \n",
    "\n",
    "For that: \n",
    "\n",
    "1. Download your notebook: File -> Download .ipynb\n",
    "\n",
    "2.  Click on the Files icon on the far left\n",
    "\n",
    "\n",
    "\n",
    "3. Select & upload your .ipynb file you just downloaded, and then obtain its path (right click) (you might need to hit the Refresh button before your file shows up)\n",
    "\n",
    "\n",
    "4. Execute in a Colab cell (**There should not be any SPACEs in your file name**):\n",
    "```\n",
    "%%shell\n",
    "jupyter nbconvert --to html \"/PATH/TO/YOUR/NOTEBOOKFILE.ipynb\"\n",
    "```\n",
    "\n",
    "5. Your notebook.html will appear in the files, so you can download it.\n",
    "6. Open the HTML file with your browser (e.g., Chrome) and print the HTML file as an PDF.\n",
    "7. Submit this PDF file on Quercus for grading. \n",
    "\n",
    "Ref: https://stackoverflow.com/a/64487858 \n",
    "\n"
   ]
  },
  {
   "cell_type": "markdown",
   "metadata": {
    "id": "J8drridLM3lT"
   },
   "source": [
    "## Colab Link\n",
    "\n",
    "Please make sure to include a link to your colab file here\n",
    "\n",
    "1. Click on the share button on the top-right side of the screen. \n",
    "2. On the new window, In the Get Link section,click on \"Change to anyone with the link\". \n",
    "3. Copy the generated link and include it in your submissions. \n",
    "\n",
    "Colab Link: N/A, for future labs you will be required to provide a link to your Colab file."
   ]
  },
  {
   "cell_type": "markdown",
   "source": [
    "## LaTeX for Project Deliverables:\n",
    "We suggest to take advantage of [overleaf](https://www.overleaf.com/) `link sharing` feature to work on your project deliverables. \n",
    "\n",
    "\n",
    "1.   Get the template form Quercus.\n",
    "2.   Upload the template on Overleaf.\n",
    "3.   Share the link with your team members. \n",
    "4. If you are not familiar with LaTeX: https://www.overleaf.com/learn/latex/Learn_LaTeX_in_30_minutes\n",
    "  * Cheat latex with Rich Text\n",
    "  * Look for youtube videos! example: https://www.youtube.com/watch?v=y8y_KIs9JLs\n",
    "\n"
   ],
   "metadata": {
    "id": "rAkq1DRnjw4A"
   }
  },
  {
   "cell_type": "markdown",
   "metadata": {
    "id": "5DFtJpz6PQXX"
   },
   "source": [
    "# Part 0\n",
    "\n",
    "# Environmental Setup\n",
    "\n",
    "Please refer to Colab instructions https://colab.research.google.com/drive/1YKHHLSlG-B9Ez2-zf-YFxXTVgfC_Aqtt\n",
    "\n",
    "If you want to use Jupyter Notebook locally, please refer to https://www.cs.toronto.edu/~lczhang/aps360_20191/files/install.pdf"
   ]
  },
  {
   "cell_type": "markdown",
   "metadata": {
    "id": "drWkYMQBGv-Z"
   },
   "source": [
    "# Part 1\n",
    "\n",
    "# Problem: Predicting Titanic Survivors\n",
    "\n",
    "![alt text](http://upload.wikimedia.org/wikipedia/commons/6/6e/St%C3%B6wer_Titanic.jpg)\n",
    "\n",
    "## Problem Background\n",
    "The sinking of the RMS Titanic is one of the most infamous shipwrecks in history. On April 15, 1912, during her maiden voyage, the Titanic sank after colliding with an iceberg, killing 1502 out of 2224 passengers and crew. This tragedy shocked the international community and led to better safety regulations for ships.\n",
    "\n",
    "One of the reasons that the shipwreck led to such loss of life was that there were not enough lifeboats for the passengers and crew. Although there was some element of luck involved in surviving the sinking, some groups of people were more likely to survive than others, such as women, children, and the upper-class.\n",
    "\n",
    "In 1997, the story of the Titanic was brought to the big screen and it allowed us to relive the story of two passengers, Jack and Rose, members of  different social classes, who fall in love on the ill-fated passenger liner.\n",
    "\n",
    "How many of you have seen the movie Titanic?   \n",
    "\n",
    "Most of you probably were not born when the movie came out, so in case you have not seen it yet, I’m not going to spoil it. In this lab we are going to work with a Titanic dataset to determine what sort of people were likely to survive the disaster. In particular we would like to predict if Jack and Rose would have survived. Afterwards, those of you who have not seen the movie can go and watch it to see if our predictions match the Hollywood story."
   ]
  },
  {
   "cell_type": "markdown",
   "metadata": {
    "id": "LU4cjlHeGv-a"
   },
   "source": [
    "## Define the Problem\n",
    "Our objective is to predict whether or not Jack and Rose would have survived the Titanic tragedy, based on what we know about them from the movie Titanic directed by James Cameron. \n",
    "\n",
    "From the movie we can assume the following about Jack and Rose:\n",
    "\n",
    "* Jack: 3rd class, no siblings, male, 25 years old, no cabin, fare = 7, embarked from Southhampton  \n",
    "* Rose: 1st class, no siblings, has spouse, 22 years old, cabin, fare = 50,  embarked from Southhampton\n",
    "\n",
    "To achieve this objective we are provided with historical data obtained after the Titanic tragedy. The historical data is provided as a CSV file containing information on 891 passengers as summarized below:\n",
    "\n",
    "<pre>\n",
    "PASSENGER INFORMATION:\n",
    "survival        Survival\n",
    "                (0 = No; 1 = Yes)\n",
    "pclass          Passenger Class\n",
    "                (1 = 1st; 2 = 2nd; 3 = 3rd)\n",
    "name            Name\n",
    "sex             Sex\n",
    "age             Age\n",
    "sibsp           Number of Siblings/Spouses Aboard\n",
    "parch           Number of Parents/Children Aboard\n",
    "ticket          Ticket Number\n",
    "fare            Passenger Fare\n",
    "cabin           Cabin\n",
    "embarked        Port of Embarkation\n",
    "                (C = Cherbourg; Q = Queenstown; S = Southampton)\n",
    "</pre>\n",
    "\n",
    "### Open Data using Spreadsheet Software\n",
    "\n",
    "To solve this problem we will start off by investigating the data. We will also be looking at a couple modules namely, numpy, matplotlib and scipy to achieve our objective of predicting passenger survival outcome. To start off let's open the file `train.csv` which you can find on Quercus under Lab 0, or using the following link:\n",
    "\n",
    "https://drive.google.com/open?id=1aOqkEx5mXBJ5u63NgJ_abRgzVs9awQh9"
   ]
  },
  {
   "cell_type": "markdown",
   "metadata": {
    "id": "oiAq9J7QGv-b"
   },
   "source": [
    "## Define Test Cases\n",
    "\n",
    "To validate our predictions we will create test cases with male a female survivors and non-survivors.\n",
    "\n",
    "  \n",
    "#### Test Case 1:  Sample Male and Female Survivor\n",
    "  \n",
    "|Passenger|PassengerID|Pclass|Sex|Age|SibSp|Parch|Fare|Embarked_Val|\n",
    "|:--------|:----------|:-----|:--|:--|:----|:----|:---|:-----------|\n",
    "|Mrs. Laina Heikkinen|3|3|1|26|0|0|7.925|2|\n",
    "|Master. Michel Navratil|194|2|0|3|1|1|26|2|\n",
    "\n",
    "#### Test Case 2:  Sample Male and Female Non-Survivor\n",
    "\n",
    "|Passenger|PassengerID|Pclass|Sex|Age|SibSp|Parch|Fare|Embarked_Val|\n",
    "|:--------|:----------|:-----|:--|:--|:----|:----|:---|:-----------|\n",
    "|Miss. Augusta Planke|39|3|1|18|2|0|18|2|\n",
    "|Mr. Owen Harris Braund|1|3|0|22|1|0|7.25|2|\n",
    "\n",
    "Once we are confident with the accuracy on accurately predicting survival on our test cases, we can then confidently predict what would happen to Jack and Rose.\n",
    "\n",
    "#### Test Case 3:  Jack and Rose from the movie Titanic\n",
    "\n",
    "|Passenger|Pclass|Sex|Age|SibSp|Parch|Fare|Embarked|\n",
    "|:--------|:-----|:--|:--|:----|:----|:---|:-----------|\n",
    "|Jack|3|male|25|0|0|7|S|\n",
    "|Rose|1|female|22|1|0|50|S|\n",
    "\n"
   ]
  },
  {
   "cell_type": "markdown",
   "metadata": {
    "id": "2_m6kVe-Gv-c"
   },
   "source": [
    "## Loading and Accessing Titanic Dataset\n",
    "\n",
    "First let's review comma separated value (CSV) files. CSV files are simple text-based files well-suited for organizing spreadsheet data similar. In the CSV format all values are separated by a comma or some unique character. Using the Python csv module we can load our dataset:"
   ]
  },
  {
   "cell_type": "code",
   "metadata": {
    "id": "FkCy4jhl2rS7",
    "ExecuteTime": {
     "end_time": "2024-09-26T16:29:42.902130Z",
     "start_time": "2024-09-26T16:29:42.887536Z"
    }
   },
   "source": [
    "# # load train.csv to Google Colab\n",
    "# from google.colab import files\n",
    "# uploaded = files.upload()"
   ],
   "outputs": [],
   "execution_count": 1
  },
  {
   "metadata": {
    "ExecuteTime": {
     "end_time": "2024-09-26T16:29:42.917470Z",
     "start_time": "2024-09-26T16:29:42.905214Z"
    }
   },
   "cell_type": "code",
   "source": [
    "import csv\n",
    "\n",
    "with open('train.csv', 'r') as csvfile:\n",
    "    data_reader = csv.reader(csvfile)\n",
    "\n",
    "    data_orig = []\n",
    "    for row in data_reader:\n",
    "        data_orig.append(row)\n"
   ],
   "outputs": [],
   "execution_count": 2
  },
  {
   "metadata": {},
   "cell_type": "markdown",
   "source": "(Optional) If you run into issues loading the file. You can also try the following code."
  },
  {
   "metadata": {
    "ExecuteTime": {
     "end_time": "2024-09-26T16:29:42.979945Z",
     "start_time": "2024-09-26T16:29:42.966144Z"
    }
   },
   "cell_type": "code",
   "source": [
    "# # link to your Google Drive\n",
    "# from google.colab import drive\n",
    "# drive.mount('/content/drive')"
   ],
   "outputs": [],
   "execution_count": 3
  },
  {
   "metadata": {
    "ExecuteTime": {
     "end_time": "2024-09-26T16:29:43.010735Z",
     "start_time": "2024-09-26T16:29:42.996500Z"
    }
   },
   "cell_type": "code",
   "source": [
    "# # you will need to load the train.csv file to a folder on your Google Drive\n",
    "# \n",
    "# #file_dir = '/content/drive/My Drive/________/' #csv file location\n",
    "# file_dir = \"/content/drive/MyDrive/Colab Notebooks/APS360/Tut0/\"\n",
    "# import csv\n",
    "# with open(file_dir + 'train.csv','r') as csvfile:\n",
    "#     data_reader = csv.reader(csvfile)\n",
    "# \n",
    "#     data_orig = []\n",
    "#     for row in data_reader:\n",
    "#         data_orig.append(row)"
   ],
   "outputs": [],
   "execution_count": 4
  },
  {
   "metadata": {},
   "cell_type": "markdown",
   "source": "Next we're going to look through our dataset to make sure it was loaded correctly"
  },
  {
   "metadata": {
    "ExecuteTime": {
     "end_time": "2024-09-26T16:29:43.042346Z",
     "start_time": "2024-09-26T16:29:43.027296Z"
    }
   },
   "cell_type": "code",
   "source": [
    "# display the full dataset\n",
    "print(data_orig)"
   ],
   "outputs": [
    {
     "name": "stdout",
     "output_type": "stream",
     "text": [
      "[['PassengerId', 'Survived', 'Pclass', 'Name', 'Sex', 'Age', 'SibSp', 'Parch', 'Ticket', 'Fare', 'Cabin', 'Embarked'], ['1', '0', '3', 'Braund, Mr. Owen Harris', 'male', '22', '1', '0', 'A/5 21171', '7.25', '', 'S'], ['2', '1', '1', 'Cumings, Mrs. John Bradley (Florence Briggs Thayer)', 'female', '38', '1', '0', 'PC 17599', '71.2833', 'C85', 'C'], ['3', '1', '3', 'Heikkinen, Miss. Laina', 'female', '26', '0', '0', 'STON/O2. 3101282', '7.925', '', 'S'], ['4', '1', '1', 'Futrelle, Mrs. Jacques Heath (Lily May Peel)', 'female', '35', '1', '0', '113803', '53.1', 'C123', 'S'], ['5', '0', '3', 'Allen, Mr. William Henry', 'male', '35', '0', '0', '373450', '8.05', '', 'S'], ['6', '0', '3', 'Moran, Mr. James', 'male', '', '0', '0', '330877', '8.4583', '', 'Q'], ['7', '0', '1', 'McCarthy, Mr. Timothy J', 'male', '54', '0', '0', '17463', '51.8625', 'E46', 'S'], ['8', '0', '3', 'Palsson, Master. Gosta Leonard', 'male', '2', '3', '1', '349909', '21.075', '', 'S'], ['9', '1', '3', 'Johnson, Mrs. Oscar W (Elisabeth Vilhelmina Berg)', 'female', '27', '0', '2', '347742', '11.1333', '', 'S'], ['10', '1', '2', 'Nasser, Mrs. Nicholas (Adele Achem)', 'female', '14', '1', '0', '237736', '30.0708', '', 'C'], ['11', '1', '3', 'Sandstrom, Miss. Marguerite Rut', 'female', '4', '1', '1', 'PP 9549', '16.7', 'G6', 'S'], ['12', '1', '1', 'Bonnell, Miss. Elizabeth', 'female', '58', '0', '0', '113783', '26.55', 'C103', 'S'], ['13', '0', '3', 'Saundercock, Mr. William Henry', 'male', '20', '0', '0', 'A/5. 2151', '8.05', '', 'S'], ['14', '0', '3', 'Andersson, Mr. Anders Johan', 'male', '39', '1', '5', '347082', '31.275', '', 'S'], ['15', '0', '3', 'Vestrom, Miss. Hulda Amanda Adolfina', 'female', '14', '0', '0', '350406', '7.8542', '', 'S'], ['16', '1', '2', 'Hewlett, Mrs. (Mary D Kingcome) ', 'female', '55', '0', '0', '248706', '16', '', 'S'], ['17', '0', '3', 'Rice, Master. Eugene', 'male', '2', '4', '1', '382652', '29.125', '', 'Q'], ['18', '1', '2', 'Williams, Mr. Charles Eugene', 'male', '', '0', '0', '244373', '13', '', 'S'], ['19', '0', '3', 'Vander Planke, Mrs. Julius (Emelia Maria Vandemoortele)', 'female', '31', '1', '0', '345763', '18', '', 'S'], ['20', '1', '3', 'Masselmani, Mrs. Fatima', 'female', '', '0', '0', '2649', '7.225', '', 'C'], ['21', '0', '2', 'Fynney, Mr. Joseph J', 'male', '35', '0', '0', '239865', '26', '', 'S'], ['22', '1', '2', 'Beesley, Mr. Lawrence', 'male', '34', '0', '0', '248698', '13', 'D56', 'S'], ['23', '1', '3', 'McGowan, Miss. Anna \"Annie\"', 'female', '15', '0', '0', '330923', '8.0292', '', 'Q'], ['24', '1', '1', 'Sloper, Mr. William Thompson', 'male', '28', '0', '0', '113788', '35.5', 'A6', 'S'], ['25', '0', '3', 'Palsson, Miss. Torborg Danira', 'female', '8', '3', '1', '349909', '21.075', '', 'S'], ['26', '1', '3', 'Asplund, Mrs. Carl Oscar (Selma Augusta Emilia Johansson)', 'female', '38', '1', '5', '347077', '31.3875', '', 'S'], ['27', '0', '3', 'Emir, Mr. Farred Chehab', 'male', '', '0', '0', '2631', '7.225', '', 'C'], ['28', '0', '1', 'Fortune, Mr. Charles Alexander', 'male', '19', '3', '2', '19950', '263', 'C23 C25 C27', 'S'], ['29', '1', '3', 'O\\'Dwyer, Miss. Ellen \"Nellie\"', 'female', '', '0', '0', '330959', '7.8792', '', 'Q'], ['30', '0', '3', 'Todoroff, Mr. Lalio', 'male', '', '0', '0', '349216', '7.8958', '', 'S'], ['31', '0', '1', 'Uruchurtu, Don. Manuel E', 'male', '40', '0', '0', 'PC 17601', '27.7208', '', 'C'], ['32', '1', '1', 'Spencer, Mrs. William Augustus (Marie Eugenie)', 'female', '', '1', '0', 'PC 17569', '146.5208', 'B78', 'C'], ['33', '1', '3', 'Glynn, Miss. Mary Agatha', 'female', '', '0', '0', '335677', '7.75', '', 'Q'], ['34', '0', '2', 'Wheadon, Mr. Edward H', 'male', '66', '0', '0', 'C.A. 24579', '10.5', '', 'S'], ['35', '0', '1', 'Meyer, Mr. Edgar Joseph', 'male', '28', '1', '0', 'PC 17604', '82.1708', '', 'C'], ['36', '0', '1', 'Holverson, Mr. Alexander Oskar', 'male', '42', '1', '0', '113789', '52', '', 'S'], ['37', '1', '3', 'Mamee, Mr. Hanna', 'male', '', '0', '0', '2677', '7.2292', '', 'C'], ['38', '0', '3', 'Cann, Mr. Ernest Charles', 'male', '21', '0', '0', 'A./5. 2152', '8.05', '', 'S'], ['39', '0', '3', 'Vander Planke, Miss. Augusta Maria', 'female', '18', '2', '0', '345764', '18', '', 'S'], ['40', '1', '3', 'Nicola-Yarred, Miss. Jamila', 'female', '14', '1', '0', '2651', '11.2417', '', 'C'], ['41', '0', '3', 'Ahlin, Mrs. Johan (Johanna Persdotter Larsson)', 'female', '40', '1', '0', '7546', '9.475', '', 'S'], ['42', '0', '2', 'Turpin, Mrs. William John Robert (Dorothy Ann Wonnacott)', 'female', '27', '1', '0', '11668', '21', '', 'S'], ['43', '0', '3', 'Kraeff, Mr. Theodor', 'male', '', '0', '0', '349253', '7.8958', '', 'C'], ['44', '1', '2', 'Laroche, Miss. Simonne Marie Anne Andree', 'female', '3', '1', '2', 'SC/Paris 2123', '41.5792', '', 'C'], ['45', '1', '3', 'Devaney, Miss. Margaret Delia', 'female', '19', '0', '0', '330958', '7.8792', '', 'Q'], ['46', '0', '3', 'Rogers, Mr. William John', 'male', '', '0', '0', 'S.C./A.4. 23567', '8.05', '', 'S'], ['47', '0', '3', 'Lennon, Mr. Denis', 'male', '', '1', '0', '370371', '15.5', '', 'Q'], ['48', '1', '3', \"O'Driscoll, Miss. Bridget\", 'female', '', '0', '0', '14311', '7.75', '', 'Q'], ['49', '0', '3', 'Samaan, Mr. Youssef', 'male', '', '2', '0', '2662', '21.6792', '', 'C'], ['50', '0', '3', 'Arnold-Franchi, Mrs. Josef (Josefine Franchi)', 'female', '18', '1', '0', '349237', '17.8', '', 'S'], ['51', '0', '3', 'Panula, Master. Juha Niilo', 'male', '7', '4', '1', '3101295', '39.6875', '', 'S'], ['52', '0', '3', 'Nosworthy, Mr. Richard Cater', 'male', '21', '0', '0', 'A/4. 39886', '7.8', '', 'S'], ['53', '1', '1', 'Harper, Mrs. Henry Sleeper (Myna Haxtun)', 'female', '49', '1', '0', 'PC 17572', '76.7292', 'D33', 'C'], ['54', '1', '2', 'Faunthorpe, Mrs. Lizzie (Elizabeth Anne Wilkinson)', 'female', '29', '1', '0', '2926', '26', '', 'S'], ['55', '0', '1', 'Ostby, Mr. Engelhart Cornelius', 'male', '65', '0', '1', '113509', '61.9792', 'B30', 'C'], ['56', '1', '1', 'Woolner, Mr. Hugh', 'male', '', '0', '0', '19947', '35.5', 'C52', 'S'], ['57', '1', '2', 'Rugg, Miss. Emily', 'female', '21', '0', '0', 'C.A. 31026', '10.5', '', 'S'], ['58', '0', '3', 'Novel, Mr. Mansouer', 'male', '28.5', '0', '0', '2697', '7.2292', '', 'C'], ['59', '1', '2', 'West, Miss. Constance Mirium', 'female', '5', '1', '2', 'C.A. 34651', '27.75', '', 'S'], ['60', '0', '3', 'Goodwin, Master. William Frederick', 'male', '11', '5', '2', 'CA 2144', '46.9', '', 'S'], ['61', '0', '3', 'Sirayanian, Mr. Orsen', 'male', '22', '0', '0', '2669', '7.2292', '', 'C'], ['62', '1', '1', 'Icard, Miss. Amelie', 'female', '38', '0', '0', '113572', '80', 'B28', ''], ['63', '0', '1', 'Harris, Mr. Henry Birkhardt', 'male', '45', '1', '0', '36973', '83.475', 'C83', 'S'], ['64', '0', '3', 'Skoog, Master. Harald', 'male', '4', '3', '2', '347088', '27.9', '', 'S'], ['65', '0', '1', 'Stewart, Mr. Albert A', 'male', '', '0', '0', 'PC 17605', '27.7208', '', 'C'], ['66', '1', '3', 'Moubarek, Master. Gerios', 'male', '', '1', '1', '2661', '15.2458', '', 'C'], ['67', '1', '2', 'Nye, Mrs. (Elizabeth Ramell)', 'female', '29', '0', '0', 'C.A. 29395', '10.5', 'F33', 'S'], ['68', '0', '3', 'Crease, Mr. Ernest James', 'male', '19', '0', '0', 'S.P. 3464', '8.1583', '', 'S'], ['69', '1', '3', 'Andersson, Miss. Erna Alexandra', 'female', '17', '4', '2', '3101281', '7.925', '', 'S'], ['70', '0', '3', 'Kink, Mr. Vincenz', 'male', '26', '2', '0', '315151', '8.6625', '', 'S'], ['71', '0', '2', 'Jenkin, Mr. Stephen Curnow', 'male', '32', '0', '0', 'C.A. 33111', '10.5', '', 'S'], ['72', '0', '3', 'Goodwin, Miss. Lillian Amy', 'female', '16', '5', '2', 'CA 2144', '46.9', '', 'S'], ['73', '0', '2', 'Hood, Mr. Ambrose Jr', 'male', '21', '0', '0', 'S.O.C. 14879', '73.5', '', 'S'], ['74', '0', '3', 'Chronopoulos, Mr. Apostolos', 'male', '26', '1', '0', '2680', '14.4542', '', 'C'], ['75', '1', '3', 'Bing, Mr. Lee', 'male', '32', '0', '0', '1601', '56.4958', '', 'S'], ['76', '0', '3', 'Moen, Mr. Sigurd Hansen', 'male', '25', '0', '0', '348123', '7.65', 'F G73', 'S'], ['77', '0', '3', 'Staneff, Mr. Ivan', 'male', '', '0', '0', '349208', '7.8958', '', 'S'], ['78', '0', '3', 'Moutal, Mr. Rahamin Haim', 'male', '', '0', '0', '374746', '8.05', '', 'S'], ['79', '1', '2', 'Caldwell, Master. Alden Gates', 'male', '0.83', '0', '2', '248738', '29', '', 'S'], ['80', '1', '3', 'Dowdell, Miss. Elizabeth', 'female', '30', '0', '0', '364516', '12.475', '', 'S'], ['81', '0', '3', 'Waelens, Mr. Achille', 'male', '22', '0', '0', '345767', '9', '', 'S'], ['82', '1', '3', 'Sheerlinck, Mr. Jan Baptist', 'male', '29', '0', '0', '345779', '9.5', '', 'S'], ['83', '1', '3', 'McDermott, Miss. Brigdet Delia', 'female', '', '0', '0', '330932', '7.7875', '', 'Q'], ['84', '0', '1', 'Carrau, Mr. Francisco M', 'male', '28', '0', '0', '113059', '47.1', '', 'S'], ['85', '1', '2', 'Ilett, Miss. Bertha', 'female', '17', '0', '0', 'SO/C 14885', '10.5', '', 'S'], ['86', '1', '3', 'Backstrom, Mrs. Karl Alfred (Maria Mathilda Gustafsson)', 'female', '33', '3', '0', '3101278', '15.85', '', 'S'], ['87', '0', '3', 'Ford, Mr. William Neal', 'male', '16', '1', '3', 'W./C. 6608', '34.375', '', 'S'], ['88', '0', '3', 'Slocovski, Mr. Selman Francis', 'male', '', '0', '0', 'SOTON/OQ 392086', '8.05', '', 'S'], ['89', '1', '1', 'Fortune, Miss. Mabel Helen', 'female', '23', '3', '2', '19950', '263', 'C23 C25 C27', 'S'], ['90', '0', '3', 'Celotti, Mr. Francesco', 'male', '24', '0', '0', '343275', '8.05', '', 'S'], ['91', '0', '3', 'Christmann, Mr. Emil', 'male', '29', '0', '0', '343276', '8.05', '', 'S'], ['92', '0', '3', 'Andreasson, Mr. Paul Edvin', 'male', '20', '0', '0', '347466', '7.8542', '', 'S'], ['93', '0', '1', 'Chaffee, Mr. Herbert Fuller', 'male', '46', '1', '0', 'W.E.P. 5734', '61.175', 'E31', 'S'], ['94', '0', '3', 'Dean, Mr. Bertram Frank', 'male', '26', '1', '2', 'C.A. 2315', '20.575', '', 'S'], ['95', '0', '3', 'Coxon, Mr. Daniel', 'male', '59', '0', '0', '364500', '7.25', '', 'S'], ['96', '0', '3', 'Shorney, Mr. Charles Joseph', 'male', '', '0', '0', '374910', '8.05', '', 'S'], ['97', '0', '1', 'Goldschmidt, Mr. George B', 'male', '71', '0', '0', 'PC 17754', '34.6542', 'A5', 'C'], ['98', '1', '1', 'Greenfield, Mr. William Bertram', 'male', '23', '0', '1', 'PC 17759', '63.3583', 'D10 D12', 'C'], ['99', '1', '2', 'Doling, Mrs. John T (Ada Julia Bone)', 'female', '34', '0', '1', '231919', '23', '', 'S'], ['100', '0', '2', 'Kantor, Mr. Sinai', 'male', '34', '1', '0', '244367', '26', '', 'S'], ['101', '0', '3', 'Petranec, Miss. Matilda', 'female', '28', '0', '0', '349245', '7.8958', '', 'S'], ['102', '0', '3', 'Petroff, Mr. Pastcho (\"Pentcho\")', 'male', '', '0', '0', '349215', '7.8958', '', 'S'], ['103', '0', '1', 'White, Mr. Richard Frasar', 'male', '21', '0', '1', '35281', '77.2875', 'D26', 'S'], ['104', '0', '3', 'Johansson, Mr. Gustaf Joel', 'male', '33', '0', '0', '7540', '8.6542', '', 'S'], ['105', '0', '3', 'Gustafsson, Mr. Anders Vilhelm', 'male', '37', '2', '0', '3101276', '7.925', '', 'S'], ['106', '0', '3', 'Mionoff, Mr. Stoytcho', 'male', '28', '0', '0', '349207', '7.8958', '', 'S'], ['107', '1', '3', 'Salkjelsvik, Miss. Anna Kristine', 'female', '21', '0', '0', '343120', '7.65', '', 'S'], ['108', '1', '3', 'Moss, Mr. Albert Johan', 'male', '', '0', '0', '312991', '7.775', '', 'S'], ['109', '0', '3', 'Rekic, Mr. Tido', 'male', '38', '0', '0', '349249', '7.8958', '', 'S'], ['110', '1', '3', 'Moran, Miss. Bertha', 'female', '', '1', '0', '371110', '24.15', '', 'Q'], ['111', '0', '1', 'Porter, Mr. Walter Chamberlain', 'male', '47', '0', '0', '110465', '52', 'C110', 'S'], ['112', '0', '3', 'Zabour, Miss. Hileni', 'female', '14.5', '1', '0', '2665', '14.4542', '', 'C'], ['113', '0', '3', 'Barton, Mr. David John', 'male', '22', '0', '0', '324669', '8.05', '', 'S'], ['114', '0', '3', 'Jussila, Miss. Katriina', 'female', '20', '1', '0', '4136', '9.825', '', 'S'], ['115', '0', '3', 'Attalah, Miss. Malake', 'female', '17', '0', '0', '2627', '14.4583', '', 'C'], ['116', '0', '3', 'Pekoniemi, Mr. Edvard', 'male', '21', '0', '0', 'STON/O 2. 3101294', '7.925', '', 'S'], ['117', '0', '3', 'Connors, Mr. Patrick', 'male', '70.5', '0', '0', '370369', '7.75', '', 'Q'], ['118', '0', '2', 'Turpin, Mr. William John Robert', 'male', '29', '1', '0', '11668', '21', '', 'S'], ['119', '0', '1', 'Baxter, Mr. Quigg Edmond', 'male', '24', '0', '1', 'PC 17558', '247.5208', 'B58 B60', 'C'], ['120', '0', '3', 'Andersson, Miss. Ellis Anna Maria', 'female', '2', '4', '2', '347082', '31.275', '', 'S'], ['121', '0', '2', 'Hickman, Mr. Stanley George', 'male', '21', '2', '0', 'S.O.C. 14879', '73.5', '', 'S'], ['122', '0', '3', 'Moore, Mr. Leonard Charles', 'male', '', '0', '0', 'A4. 54510', '8.05', '', 'S'], ['123', '0', '2', 'Nasser, Mr. Nicholas', 'male', '32.5', '1', '0', '237736', '30.0708', '', 'C'], ['124', '1', '2', 'Webber, Miss. Susan', 'female', '32.5', '0', '0', '27267', '13', 'E101', 'S'], ['125', '0', '1', 'White, Mr. Percival Wayland', 'male', '54', '0', '1', '35281', '77.2875', 'D26', 'S'], ['126', '1', '3', 'Nicola-Yarred, Master. Elias', 'male', '12', '1', '0', '2651', '11.2417', '', 'C'], ['127', '0', '3', 'McMahon, Mr. Martin', 'male', '', '0', '0', '370372', '7.75', '', 'Q'], ['128', '1', '3', 'Madsen, Mr. Fridtjof Arne', 'male', '24', '0', '0', 'C 17369', '7.1417', '', 'S'], ['129', '1', '3', 'Peter, Miss. Anna', 'female', '', '1', '1', '2668', '22.3583', 'F E69', 'C'], ['130', '0', '3', 'Ekstrom, Mr. Johan', 'male', '45', '0', '0', '347061', '6.975', '', 'S'], ['131', '0', '3', 'Drazenoic, Mr. Jozef', 'male', '33', '0', '0', '349241', '7.8958', '', 'C'], ['132', '0', '3', 'Coelho, Mr. Domingos Fernandeo', 'male', '20', '0', '0', 'SOTON/O.Q. 3101307', '7.05', '', 'S'], ['133', '0', '3', 'Robins, Mrs. Alexander A (Grace Charity Laury)', 'female', '47', '1', '0', 'A/5. 3337', '14.5', '', 'S'], ['134', '1', '2', 'Weisz, Mrs. Leopold (Mathilde Francoise Pede)', 'female', '29', '1', '0', '228414', '26', '', 'S'], ['135', '0', '2', 'Sobey, Mr. Samuel James Hayden', 'male', '25', '0', '0', 'C.A. 29178', '13', '', 'S'], ['136', '0', '2', 'Richard, Mr. Emile', 'male', '23', '0', '0', 'SC/PARIS 2133', '15.0458', '', 'C'], ['137', '1', '1', 'Newsom, Miss. Helen Monypeny', 'female', '19', '0', '2', '11752', '26.2833', 'D47', 'S'], ['138', '0', '1', 'Futrelle, Mr. Jacques Heath', 'male', '37', '1', '0', '113803', '53.1', 'C123', 'S'], ['139', '0', '3', 'Osen, Mr. Olaf Elon', 'male', '16', '0', '0', '7534', '9.2167', '', 'S'], ['140', '0', '1', 'Giglio, Mr. Victor', 'male', '24', '0', '0', 'PC 17593', '79.2', 'B86', 'C'], ['141', '0', '3', 'Boulos, Mrs. Joseph (Sultana)', 'female', '', '0', '2', '2678', '15.2458', '', 'C'], ['142', '1', '3', 'Nysten, Miss. Anna Sofia', 'female', '22', '0', '0', '347081', '7.75', '', 'S'], ['143', '1', '3', 'Hakkarainen, Mrs. Pekka Pietari (Elin Matilda Dolck)', 'female', '24', '1', '0', 'STON/O2. 3101279', '15.85', '', 'S'], ['144', '0', '3', 'Burke, Mr. Jeremiah', 'male', '19', '0', '0', '365222', '6.75', '', 'Q'], ['145', '0', '2', 'Andrew, Mr. Edgardo Samuel', 'male', '18', '0', '0', '231945', '11.5', '', 'S'], ['146', '0', '2', 'Nicholls, Mr. Joseph Charles', 'male', '19', '1', '1', 'C.A. 33112', '36.75', '', 'S'], ['147', '1', '3', 'Andersson, Mr. August Edvard (\"Wennerstrom\")', 'male', '27', '0', '0', '350043', '7.7958', '', 'S'], ['148', '0', '3', 'Ford, Miss. Robina Maggie \"Ruby\"', 'female', '9', '2', '2', 'W./C. 6608', '34.375', '', 'S'], ['149', '0', '2', 'Navratil, Mr. Michel (\"Louis M Hoffman\")', 'male', '36.5', '0', '2', '230080', '26', 'F2', 'S'], ['150', '0', '2', 'Byles, Rev. Thomas Roussel Davids', 'male', '42', '0', '0', '244310', '13', '', 'S'], ['151', '0', '2', 'Bateman, Rev. Robert James', 'male', '51', '0', '0', 'S.O.P. 1166', '12.525', '', 'S'], ['152', '1', '1', 'Pears, Mrs. Thomas (Edith Wearne)', 'female', '22', '1', '0', '113776', '66.6', 'C2', 'S'], ['153', '0', '3', 'Meo, Mr. Alfonzo', 'male', '55.5', '0', '0', 'A.5. 11206', '8.05', '', 'S'], ['154', '0', '3', 'van Billiard, Mr. Austin Blyler', 'male', '40.5', '0', '2', 'A/5. 851', '14.5', '', 'S'], ['155', '0', '3', 'Olsen, Mr. Ole Martin', 'male', '', '0', '0', 'Fa 265302', '7.3125', '', 'S'], ['156', '0', '1', 'Williams, Mr. Charles Duane', 'male', '51', '0', '1', 'PC 17597', '61.3792', '', 'C'], ['157', '1', '3', 'Gilnagh, Miss. Katherine \"Katie\"', 'female', '16', '0', '0', '35851', '7.7333', '', 'Q'], ['158', '0', '3', 'Corn, Mr. Harry', 'male', '30', '0', '0', 'SOTON/OQ 392090', '8.05', '', 'S'], ['159', '0', '3', 'Smiljanic, Mr. Mile', 'male', '', '0', '0', '315037', '8.6625', '', 'S'], ['160', '0', '3', 'Sage, Master. Thomas Henry', 'male', '', '8', '2', 'CA. 2343', '69.55', '', 'S'], ['161', '0', '3', 'Cribb, Mr. John Hatfield', 'male', '44', '0', '1', '371362', '16.1', '', 'S'], ['162', '1', '2', 'Watt, Mrs. James (Elizabeth \"Bessie\" Inglis Milne)', 'female', '40', '0', '0', 'C.A. 33595', '15.75', '', 'S'], ['163', '0', '3', 'Bengtsson, Mr. John Viktor', 'male', '26', '0', '0', '347068', '7.775', '', 'S'], ['164', '0', '3', 'Calic, Mr. Jovo', 'male', '17', '0', '0', '315093', '8.6625', '', 'S'], ['165', '0', '3', 'Panula, Master. Eino Viljami', 'male', '1', '4', '1', '3101295', '39.6875', '', 'S'], ['166', '1', '3', 'Goldsmith, Master. Frank John William \"Frankie\"', 'male', '9', '0', '2', '363291', '20.525', '', 'S'], ['167', '1', '1', 'Chibnall, Mrs. (Edith Martha Bowerman)', 'female', '', '0', '1', '113505', '55', 'E33', 'S'], ['168', '0', '3', 'Skoog, Mrs. William (Anna Bernhardina Karlsson)', 'female', '45', '1', '4', '347088', '27.9', '', 'S'], ['169', '0', '1', 'Baumann, Mr. John D', 'male', '', '0', '0', 'PC 17318', '25.925', '', 'S'], ['170', '0', '3', 'Ling, Mr. Lee', 'male', '28', '0', '0', '1601', '56.4958', '', 'S'], ['171', '0', '1', 'Van der hoef, Mr. Wyckoff', 'male', '61', '0', '0', '111240', '33.5', 'B19', 'S'], ['172', '0', '3', 'Rice, Master. Arthur', 'male', '4', '4', '1', '382652', '29.125', '', 'Q'], ['173', '1', '3', 'Johnson, Miss. Eleanor Ileen', 'female', '1', '1', '1', '347742', '11.1333', '', 'S'], ['174', '0', '3', 'Sivola, Mr. Antti Wilhelm', 'male', '21', '0', '0', 'STON/O 2. 3101280', '7.925', '', 'S'], ['175', '0', '1', 'Smith, Mr. James Clinch', 'male', '56', '0', '0', '17764', '30.6958', 'A7', 'C'], ['176', '0', '3', 'Klasen, Mr. Klas Albin', 'male', '18', '1', '1', '350404', '7.8542', '', 'S'], ['177', '0', '3', 'Lefebre, Master. Henry Forbes', 'male', '', '3', '1', '4133', '25.4667', '', 'S'], ['178', '0', '1', 'Isham, Miss. Ann Elizabeth', 'female', '50', '0', '0', 'PC 17595', '28.7125', 'C49', 'C'], ['179', '0', '2', 'Hale, Mr. Reginald', 'male', '30', '0', '0', '250653', '13', '', 'S'], ['180', '0', '3', 'Leonard, Mr. Lionel', 'male', '36', '0', '0', 'LINE', '0', '', 'S'], ['181', '0', '3', 'Sage, Miss. Constance Gladys', 'female', '', '8', '2', 'CA. 2343', '69.55', '', 'S'], ['182', '0', '2', 'Pernot, Mr. Rene', 'male', '', '0', '0', 'SC/PARIS 2131', '15.05', '', 'C'], ['183', '0', '3', 'Asplund, Master. Clarence Gustaf Hugo', 'male', '9', '4', '2', '347077', '31.3875', '', 'S'], ['184', '1', '2', 'Becker, Master. Richard F', 'male', '1', '2', '1', '230136', '39', 'F4', 'S'], ['185', '1', '3', 'Kink-Heilmann, Miss. Luise Gretchen', 'female', '4', '0', '2', '315153', '22.025', '', 'S'], ['186', '0', '1', 'Rood, Mr. Hugh Roscoe', 'male', '', '0', '0', '113767', '50', 'A32', 'S'], ['187', '1', '3', 'O\\'Brien, Mrs. Thomas (Johanna \"Hannah\" Godfrey)', 'female', '', '1', '0', '370365', '15.5', '', 'Q'], ['188', '1', '1', 'Romaine, Mr. Charles Hallace (\"Mr C Rolmane\")', 'male', '45', '0', '0', '111428', '26.55', '', 'S'], ['189', '0', '3', 'Bourke, Mr. John', 'male', '40', '1', '1', '364849', '15.5', '', 'Q'], ['190', '0', '3', 'Turcin, Mr. Stjepan', 'male', '36', '0', '0', '349247', '7.8958', '', 'S'], ['191', '1', '2', 'Pinsky, Mrs. (Rosa)', 'female', '32', '0', '0', '234604', '13', '', 'S'], ['192', '0', '2', 'Carbines, Mr. William', 'male', '19', '0', '0', '28424', '13', '', 'S'], ['193', '1', '3', 'Andersen-Jensen, Miss. Carla Christine Nielsine', 'female', '19', '1', '0', '350046', '7.8542', '', 'S'], ['194', '1', '2', 'Navratil, Master. Michel M', 'male', '3', '1', '1', '230080', '26', 'F2', 'S'], ['195', '1', '1', 'Brown, Mrs. James Joseph (Margaret Tobin)', 'female', '44', '0', '0', 'PC 17610', '27.7208', 'B4', 'C'], ['196', '1', '1', 'Lurette, Miss. Elise', 'female', '58', '0', '0', 'PC 17569', '146.5208', 'B80', 'C'], ['197', '0', '3', 'Mernagh, Mr. Robert', 'male', '', '0', '0', '368703', '7.75', '', 'Q'], ['198', '0', '3', 'Olsen, Mr. Karl Siegwart Andreas', 'male', '42', '0', '1', '4579', '8.4042', '', 'S'], ['199', '1', '3', 'Madigan, Miss. Margaret \"Maggie\"', 'female', '', '0', '0', '370370', '7.75', '', 'Q'], ['200', '0', '2', 'Yrois, Miss. Henriette (\"Mrs Harbeck\")', 'female', '24', '0', '0', '248747', '13', '', 'S'], ['201', '0', '3', 'Vande Walle, Mr. Nestor Cyriel', 'male', '28', '0', '0', '345770', '9.5', '', 'S'], ['202', '0', '3', 'Sage, Mr. Frederick', 'male', '', '8', '2', 'CA. 2343', '69.55', '', 'S'], ['203', '0', '3', 'Johanson, Mr. Jakob Alfred', 'male', '34', '0', '0', '3101264', '6.4958', '', 'S'], ['204', '0', '3', 'Youseff, Mr. Gerious', 'male', '45.5', '0', '0', '2628', '7.225', '', 'C'], ['205', '1', '3', 'Cohen, Mr. Gurshon \"Gus\"', 'male', '18', '0', '0', 'A/5 3540', '8.05', '', 'S'], ['206', '0', '3', 'Strom, Miss. Telma Matilda', 'female', '2', '0', '1', '347054', '10.4625', 'G6', 'S'], ['207', '0', '3', 'Backstrom, Mr. Karl Alfred', 'male', '32', '1', '0', '3101278', '15.85', '', 'S'], ['208', '1', '3', 'Albimona, Mr. Nassef Cassem', 'male', '26', '0', '0', '2699', '18.7875', '', 'C'], ['209', '1', '3', 'Carr, Miss. Helen \"Ellen\"', 'female', '16', '0', '0', '367231', '7.75', '', 'Q'], ['210', '1', '1', 'Blank, Mr. Henry', 'male', '40', '0', '0', '112277', '31', 'A31', 'C'], ['211', '0', '3', 'Ali, Mr. Ahmed', 'male', '24', '0', '0', 'SOTON/O.Q. 3101311', '7.05', '', 'S'], ['212', '1', '2', 'Cameron, Miss. Clear Annie', 'female', '35', '0', '0', 'F.C.C. 13528', '21', '', 'S'], ['213', '0', '3', 'Perkin, Mr. John Henry', 'male', '22', '0', '0', 'A/5 21174', '7.25', '', 'S'], ['214', '0', '2', 'Givard, Mr. Hans Kristensen', 'male', '30', '0', '0', '250646', '13', '', 'S'], ['215', '0', '3', 'Kiernan, Mr. Philip', 'male', '', '1', '0', '367229', '7.75', '', 'Q'], ['216', '1', '1', 'Newell, Miss. Madeleine', 'female', '31', '1', '0', '35273', '113.275', 'D36', 'C'], ['217', '1', '3', 'Honkanen, Miss. Eliina', 'female', '27', '0', '0', 'STON/O2. 3101283', '7.925', '', 'S'], ['218', '0', '2', 'Jacobsohn, Mr. Sidney Samuel', 'male', '42', '1', '0', '243847', '27', '', 'S'], ['219', '1', '1', 'Bazzani, Miss. Albina', 'female', '32', '0', '0', '11813', '76.2917', 'D15', 'C'], ['220', '0', '2', 'Harris, Mr. Walter', 'male', '30', '0', '0', 'W/C 14208', '10.5', '', 'S'], ['221', '1', '3', 'Sunderland, Mr. Victor Francis', 'male', '16', '0', '0', 'SOTON/OQ 392089', '8.05', '', 'S'], ['222', '0', '2', 'Bracken, Mr. James H', 'male', '27', '0', '0', '220367', '13', '', 'S'], ['223', '0', '3', 'Green, Mr. George Henry', 'male', '51', '0', '0', '21440', '8.05', '', 'S'], ['224', '0', '3', 'Nenkoff, Mr. Christo', 'male', '', '0', '0', '349234', '7.8958', '', 'S'], ['225', '1', '1', 'Hoyt, Mr. Frederick Maxfield', 'male', '38', '1', '0', '19943', '90', 'C93', 'S'], ['226', '0', '3', 'Berglund, Mr. Karl Ivar Sven', 'male', '22', '0', '0', 'PP 4348', '9.35', '', 'S'], ['227', '1', '2', 'Mellors, Mr. William John', 'male', '19', '0', '0', 'SW/PP 751', '10.5', '', 'S'], ['228', '0', '3', 'Lovell, Mr. John Hall (\"Henry\")', 'male', '20.5', '0', '0', 'A/5 21173', '7.25', '', 'S'], ['229', '0', '2', 'Fahlstrom, Mr. Arne Jonas', 'male', '18', '0', '0', '236171', '13', '', 'S'], ['230', '0', '3', 'Lefebre, Miss. Mathilde', 'female', '', '3', '1', '4133', '25.4667', '', 'S'], ['231', '1', '1', 'Harris, Mrs. Henry Birkhardt (Irene Wallach)', 'female', '35', '1', '0', '36973', '83.475', 'C83', 'S'], ['232', '0', '3', 'Larsson, Mr. Bengt Edvin', 'male', '29', '0', '0', '347067', '7.775', '', 'S'], ['233', '0', '2', 'Sjostedt, Mr. Ernst Adolf', 'male', '59', '0', '0', '237442', '13.5', '', 'S'], ['234', '1', '3', 'Asplund, Miss. Lillian Gertrud', 'female', '5', '4', '2', '347077', '31.3875', '', 'S'], ['235', '0', '2', 'Leyson, Mr. Robert William Norman', 'male', '24', '0', '0', 'C.A. 29566', '10.5', '', 'S'], ['236', '0', '3', 'Harknett, Miss. Alice Phoebe', 'female', '', '0', '0', 'W./C. 6609', '7.55', '', 'S'], ['237', '0', '2', 'Hold, Mr. Stephen', 'male', '44', '1', '0', '26707', '26', '', 'S'], ['238', '1', '2', 'Collyer, Miss. Marjorie \"Lottie\"', 'female', '8', '0', '2', 'C.A. 31921', '26.25', '', 'S'], ['239', '0', '2', 'Pengelly, Mr. Frederick William', 'male', '19', '0', '0', '28665', '10.5', '', 'S'], ['240', '0', '2', 'Hunt, Mr. George Henry', 'male', '33', '0', '0', 'SCO/W 1585', '12.275', '', 'S'], ['241', '0', '3', 'Zabour, Miss. Thamine', 'female', '', '1', '0', '2665', '14.4542', '', 'C'], ['242', '1', '3', 'Murphy, Miss. Katherine \"Kate\"', 'female', '', '1', '0', '367230', '15.5', '', 'Q'], ['243', '0', '2', 'Coleridge, Mr. Reginald Charles', 'male', '29', '0', '0', 'W./C. 14263', '10.5', '', 'S'], ['244', '0', '3', 'Maenpaa, Mr. Matti Alexanteri', 'male', '22', '0', '0', 'STON/O 2. 3101275', '7.125', '', 'S'], ['245', '0', '3', 'Attalah, Mr. Sleiman', 'male', '30', '0', '0', '2694', '7.225', '', 'C'], ['246', '0', '1', 'Minahan, Dr. William Edward', 'male', '44', '2', '0', '19928', '90', 'C78', 'Q'], ['247', '0', '3', 'Lindahl, Miss. Agda Thorilda Viktoria', 'female', '25', '0', '0', '347071', '7.775', '', 'S'], ['248', '1', '2', 'Hamalainen, Mrs. William (Anna)', 'female', '24', '0', '2', '250649', '14.5', '', 'S'], ['249', '1', '1', 'Beckwith, Mr. Richard Leonard', 'male', '37', '1', '1', '11751', '52.5542', 'D35', 'S'], ['250', '0', '2', 'Carter, Rev. Ernest Courtenay', 'male', '54', '1', '0', '244252', '26', '', 'S'], ['251', '0', '3', 'Reed, Mr. James George', 'male', '', '0', '0', '362316', '7.25', '', 'S'], ['252', '0', '3', 'Strom, Mrs. Wilhelm (Elna Matilda Persson)', 'female', '29', '1', '1', '347054', '10.4625', 'G6', 'S'], ['253', '0', '1', 'Stead, Mr. William Thomas', 'male', '62', '0', '0', '113514', '26.55', 'C87', 'S'], ['254', '0', '3', 'Lobb, Mr. William Arthur', 'male', '30', '1', '0', 'A/5. 3336', '16.1', '', 'S'], ['255', '0', '3', 'Rosblom, Mrs. Viktor (Helena Wilhelmina)', 'female', '41', '0', '2', '370129', '20.2125', '', 'S'], ['256', '1', '3', 'Touma, Mrs. Darwis (Hanne Youssef Razi)', 'female', '29', '0', '2', '2650', '15.2458', '', 'C'], ['257', '1', '1', 'Thorne, Mrs. Gertrude Maybelle', 'female', '', '0', '0', 'PC 17585', '79.2', '', 'C'], ['258', '1', '1', 'Cherry, Miss. Gladys', 'female', '30', '0', '0', '110152', '86.5', 'B77', 'S'], ['259', '1', '1', 'Ward, Miss. Anna', 'female', '35', '0', '0', 'PC 17755', '512.3292', '', 'C'], ['260', '1', '2', 'Parrish, Mrs. (Lutie Davis)', 'female', '50', '0', '1', '230433', '26', '', 'S'], ['261', '0', '3', 'Smith, Mr. Thomas', 'male', '', '0', '0', '384461', '7.75', '', 'Q'], ['262', '1', '3', 'Asplund, Master. Edvin Rojj Felix', 'male', '3', '4', '2', '347077', '31.3875', '', 'S'], ['263', '0', '1', 'Taussig, Mr. Emil', 'male', '52', '1', '1', '110413', '79.65', 'E67', 'S'], ['264', '0', '1', 'Harrison, Mr. William', 'male', '40', '0', '0', '112059', '0', 'B94', 'S'], ['265', '0', '3', 'Henry, Miss. Delia', 'female', '', '0', '0', '382649', '7.75', '', 'Q'], ['266', '0', '2', 'Reeves, Mr. David', 'male', '36', '0', '0', 'C.A. 17248', '10.5', '', 'S'], ['267', '0', '3', 'Panula, Mr. Ernesti Arvid', 'male', '16', '4', '1', '3101295', '39.6875', '', 'S'], ['268', '1', '3', 'Persson, Mr. Ernst Ulrik', 'male', '25', '1', '0', '347083', '7.775', '', 'S'], ['269', '1', '1', 'Graham, Mrs. William Thompson (Edith Junkins)', 'female', '58', '0', '1', 'PC 17582', '153.4625', 'C125', 'S'], ['270', '1', '1', 'Bissette, Miss. Amelia', 'female', '35', '0', '0', 'PC 17760', '135.6333', 'C99', 'S'], ['271', '0', '1', 'Cairns, Mr. Alexander', 'male', '', '0', '0', '113798', '31', '', 'S'], ['272', '1', '3', 'Tornquist, Mr. William Henry', 'male', '25', '0', '0', 'LINE', '0', '', 'S'], ['273', '1', '2', 'Mellinger, Mrs. (Elizabeth Anne Maidment)', 'female', '41', '0', '1', '250644', '19.5', '', 'S'], ['274', '0', '1', 'Natsch, Mr. Charles H', 'male', '37', '0', '1', 'PC 17596', '29.7', 'C118', 'C'], ['275', '1', '3', 'Healy, Miss. Hanora \"Nora\"', 'female', '', '0', '0', '370375', '7.75', '', 'Q'], ['276', '1', '1', 'Andrews, Miss. Kornelia Theodosia', 'female', '63', '1', '0', '13502', '77.9583', 'D7', 'S'], ['277', '0', '3', 'Lindblom, Miss. Augusta Charlotta', 'female', '45', '0', '0', '347073', '7.75', '', 'S'], ['278', '0', '2', 'Parkes, Mr. Francis \"Frank\"', 'male', '', '0', '0', '239853', '0', '', 'S'], ['279', '0', '3', 'Rice, Master. Eric', 'male', '7', '4', '1', '382652', '29.125', '', 'Q'], ['280', '1', '3', 'Abbott, Mrs. Stanton (Rosa Hunt)', 'female', '35', '1', '1', 'C.A. 2673', '20.25', '', 'S'], ['281', '0', '3', 'Duane, Mr. Frank', 'male', '65', '0', '0', '336439', '7.75', '', 'Q'], ['282', '0', '3', 'Olsson, Mr. Nils Johan Goransson', 'male', '28', '0', '0', '347464', '7.8542', '', 'S'], ['283', '0', '3', 'de Pelsmaeker, Mr. Alfons', 'male', '16', '0', '0', '345778', '9.5', '', 'S'], ['284', '1', '3', 'Dorking, Mr. Edward Arthur', 'male', '19', '0', '0', 'A/5. 10482', '8.05', '', 'S'], ['285', '0', '1', 'Smith, Mr. Richard William', 'male', '', '0', '0', '113056', '26', 'A19', 'S'], ['286', '0', '3', 'Stankovic, Mr. Ivan', 'male', '33', '0', '0', '349239', '8.6625', '', 'C'], ['287', '1', '3', 'de Mulder, Mr. Theodore', 'male', '30', '0', '0', '345774', '9.5', '', 'S'], ['288', '0', '3', 'Naidenoff, Mr. Penko', 'male', '22', '0', '0', '349206', '7.8958', '', 'S'], ['289', '1', '2', 'Hosono, Mr. Masabumi', 'male', '42', '0', '0', '237798', '13', '', 'S'], ['290', '1', '3', 'Connolly, Miss. Kate', 'female', '22', '0', '0', '370373', '7.75', '', 'Q'], ['291', '1', '1', 'Barber, Miss. Ellen \"Nellie\"', 'female', '26', '0', '0', '19877', '78.85', '', 'S'], ['292', '1', '1', 'Bishop, Mrs. Dickinson H (Helen Walton)', 'female', '19', '1', '0', '11967', '91.0792', 'B49', 'C'], ['293', '0', '2', 'Levy, Mr. Rene Jacques', 'male', '36', '0', '0', 'SC/Paris 2163', '12.875', 'D', 'C'], ['294', '0', '3', 'Haas, Miss. Aloisia', 'female', '24', '0', '0', '349236', '8.85', '', 'S'], ['295', '0', '3', 'Mineff, Mr. Ivan', 'male', '24', '0', '0', '349233', '7.8958', '', 'S'], ['296', '0', '1', 'Lewy, Mr. Ervin G', 'male', '', '0', '0', 'PC 17612', '27.7208', '', 'C'], ['297', '0', '3', 'Hanna, Mr. Mansour', 'male', '23.5', '0', '0', '2693', '7.2292', '', 'C'], ['298', '0', '1', 'Allison, Miss. Helen Loraine', 'female', '2', '1', '2', '113781', '151.55', 'C22 C26', 'S'], ['299', '1', '1', 'Saalfeld, Mr. Adolphe', 'male', '', '0', '0', '19988', '30.5', 'C106', 'S'], ['300', '1', '1', 'Baxter, Mrs. James (Helene DeLaudeniere Chaput)', 'female', '50', '0', '1', 'PC 17558', '247.5208', 'B58 B60', 'C'], ['301', '1', '3', 'Kelly, Miss. Anna Katherine \"Annie Kate\"', 'female', '', '0', '0', '9234', '7.75', '', 'Q'], ['302', '1', '3', 'McCoy, Mr. Bernard', 'male', '', '2', '0', '367226', '23.25', '', 'Q'], ['303', '0', '3', 'Johnson, Mr. William Cahoone Jr', 'male', '19', '0', '0', 'LINE', '0', '', 'S'], ['304', '1', '2', 'Keane, Miss. Nora A', 'female', '', '0', '0', '226593', '12.35', 'E101', 'Q'], ['305', '0', '3', 'Williams, Mr. Howard Hugh \"Harry\"', 'male', '', '0', '0', 'A/5 2466', '8.05', '', 'S'], ['306', '1', '1', 'Allison, Master. Hudson Trevor', 'male', '0.92', '1', '2', '113781', '151.55', 'C22 C26', 'S'], ['307', '1', '1', 'Fleming, Miss. Margaret', 'female', '', '0', '0', '17421', '110.8833', '', 'C'], ['308', '1', '1', 'Penasco y Castellana, Mrs. Victor de Satode (Maria Josefa Perez de Soto y Vallejo)', 'female', '17', '1', '0', 'PC 17758', '108.9', 'C65', 'C'], ['309', '0', '2', 'Abelson, Mr. Samuel', 'male', '30', '1', '0', 'P/PP 3381', '24', '', 'C'], ['310', '1', '1', 'Francatelli, Miss. Laura Mabel', 'female', '30', '0', '0', 'PC 17485', '56.9292', 'E36', 'C'], ['311', '1', '1', 'Hays, Miss. Margaret Bechstein', 'female', '24', '0', '0', '11767', '83.1583', 'C54', 'C'], ['312', '1', '1', 'Ryerson, Miss. Emily Borie', 'female', '18', '2', '2', 'PC 17608', '262.375', 'B57 B59 B63 B66', 'C'], ['313', '0', '2', 'Lahtinen, Mrs. William (Anna Sylfven)', 'female', '26', '1', '1', '250651', '26', '', 'S'], ['314', '0', '3', 'Hendekovic, Mr. Ignjac', 'male', '28', '0', '0', '349243', '7.8958', '', 'S'], ['315', '0', '2', 'Hart, Mr. Benjamin', 'male', '43', '1', '1', 'F.C.C. 13529', '26.25', '', 'S'], ['316', '1', '3', 'Nilsson, Miss. Helmina Josefina', 'female', '26', '0', '0', '347470', '7.8542', '', 'S'], ['317', '1', '2', 'Kantor, Mrs. Sinai (Miriam Sternin)', 'female', '24', '1', '0', '244367', '26', '', 'S'], ['318', '0', '2', 'Moraweck, Dr. Ernest', 'male', '54', '0', '0', '29011', '14', '', 'S'], ['319', '1', '1', 'Wick, Miss. Mary Natalie', 'female', '31', '0', '2', '36928', '164.8667', 'C7', 'S'], ['320', '1', '1', 'Spedden, Mrs. Frederic Oakley (Margaretta Corning Stone)', 'female', '40', '1', '1', '16966', '134.5', 'E34', 'C'], ['321', '0', '3', 'Dennis, Mr. Samuel', 'male', '22', '0', '0', 'A/5 21172', '7.25', '', 'S'], ['322', '0', '3', 'Danoff, Mr. Yoto', 'male', '27', '0', '0', '349219', '7.8958', '', 'S'], ['323', '1', '2', 'Slayter, Miss. Hilda Mary', 'female', '30', '0', '0', '234818', '12.35', '', 'Q'], ['324', '1', '2', 'Caldwell, Mrs. Albert Francis (Sylvia Mae Harbaugh)', 'female', '22', '1', '1', '248738', '29', '', 'S'], ['325', '0', '3', 'Sage, Mr. George John Jr', 'male', '', '8', '2', 'CA. 2343', '69.55', '', 'S'], ['326', '1', '1', 'Young, Miss. Marie Grice', 'female', '36', '0', '0', 'PC 17760', '135.6333', 'C32', 'C'], ['327', '0', '3', 'Nysveen, Mr. Johan Hansen', 'male', '61', '0', '0', '345364', '6.2375', '', 'S'], ['328', '1', '2', 'Ball, Mrs. (Ada E Hall)', 'female', '36', '0', '0', '28551', '13', 'D', 'S'], ['329', '1', '3', 'Goldsmith, Mrs. Frank John (Emily Alice Brown)', 'female', '31', '1', '1', '363291', '20.525', '', 'S'], ['330', '1', '1', 'Hippach, Miss. Jean Gertrude', 'female', '16', '0', '1', '111361', '57.9792', 'B18', 'C'], ['331', '1', '3', 'McCoy, Miss. Agnes', 'female', '', '2', '0', '367226', '23.25', '', 'Q'], ['332', '0', '1', 'Partner, Mr. Austen', 'male', '45.5', '0', '0', '113043', '28.5', 'C124', 'S'], ['333', '0', '1', 'Graham, Mr. George Edward', 'male', '38', '0', '1', 'PC 17582', '153.4625', 'C91', 'S'], ['334', '0', '3', 'Vander Planke, Mr. Leo Edmondus', 'male', '16', '2', '0', '345764', '18', '', 'S'], ['335', '1', '1', 'Frauenthal, Mrs. Henry William (Clara Heinsheimer)', 'female', '', '1', '0', 'PC 17611', '133.65', '', 'S'], ['336', '0', '3', 'Denkoff, Mr. Mitto', 'male', '', '0', '0', '349225', '7.8958', '', 'S'], ['337', '0', '1', 'Pears, Mr. Thomas Clinton', 'male', '29', '1', '0', '113776', '66.6', 'C2', 'S'], ['338', '1', '1', 'Burns, Miss. Elizabeth Margaret', 'female', '41', '0', '0', '16966', '134.5', 'E40', 'C'], ['339', '1', '3', 'Dahl, Mr. Karl Edwart', 'male', '45', '0', '0', '7598', '8.05', '', 'S'], ['340', '0', '1', 'Blackwell, Mr. Stephen Weart', 'male', '45', '0', '0', '113784', '35.5', 'T', 'S'], ['341', '1', '2', 'Navratil, Master. Edmond Roger', 'male', '2', '1', '1', '230080', '26', 'F2', 'S'], ['342', '1', '1', 'Fortune, Miss. Alice Elizabeth', 'female', '24', '3', '2', '19950', '263', 'C23 C25 C27', 'S'], ['343', '0', '2', 'Collander, Mr. Erik Gustaf', 'male', '28', '0', '0', '248740', '13', '', 'S'], ['344', '0', '2', 'Sedgwick, Mr. Charles Frederick Waddington', 'male', '25', '0', '0', '244361', '13', '', 'S'], ['345', '0', '2', 'Fox, Mr. Stanley Hubert', 'male', '36', '0', '0', '229236', '13', '', 'S'], ['346', '1', '2', 'Brown, Miss. Amelia \"Mildred\"', 'female', '24', '0', '0', '248733', '13', 'F33', 'S'], ['347', '1', '2', 'Smith, Miss. Marion Elsie', 'female', '40', '0', '0', '31418', '13', '', 'S'], ['348', '1', '3', 'Davison, Mrs. Thomas Henry (Mary E Finck)', 'female', '', '1', '0', '386525', '16.1', '', 'S'], ['349', '1', '3', 'Coutts, Master. William Loch \"William\"', 'male', '3', '1', '1', 'C.A. 37671', '15.9', '', 'S'], ['350', '0', '3', 'Dimic, Mr. Jovan', 'male', '42', '0', '0', '315088', '8.6625', '', 'S'], ['351', '0', '3', 'Odahl, Mr. Nils Martin', 'male', '23', '0', '0', '7267', '9.225', '', 'S'], ['352', '0', '1', 'Williams-Lambert, Mr. Fletcher Fellows', 'male', '', '0', '0', '113510', '35', 'C128', 'S'], ['353', '0', '3', 'Elias, Mr. Tannous', 'male', '15', '1', '1', '2695', '7.2292', '', 'C'], ['354', '0', '3', 'Arnold-Franchi, Mr. Josef', 'male', '25', '1', '0', '349237', '17.8', '', 'S'], ['355', '0', '3', 'Yousif, Mr. Wazli', 'male', '', '0', '0', '2647', '7.225', '', 'C'], ['356', '0', '3', 'Vanden Steen, Mr. Leo Peter', 'male', '28', '0', '0', '345783', '9.5', '', 'S'], ['357', '1', '1', 'Bowerman, Miss. Elsie Edith', 'female', '22', '0', '1', '113505', '55', 'E33', 'S'], ['358', '0', '2', 'Funk, Miss. Annie Clemmer', 'female', '38', '0', '0', '237671', '13', '', 'S'], ['359', '1', '3', 'McGovern, Miss. Mary', 'female', '', '0', '0', '330931', '7.8792', '', 'Q'], ['360', '1', '3', 'Mockler, Miss. Helen Mary \"Ellie\"', 'female', '', '0', '0', '330980', '7.8792', '', 'Q'], ['361', '0', '3', 'Skoog, Mr. Wilhelm', 'male', '40', '1', '4', '347088', '27.9', '', 'S'], ['362', '0', '2', 'del Carlo, Mr. Sebastiano', 'male', '29', '1', '0', 'SC/PARIS 2167', '27.7208', '', 'C'], ['363', '0', '3', 'Barbara, Mrs. (Catherine David)', 'female', '45', '0', '1', '2691', '14.4542', '', 'C'], ['364', '0', '3', 'Asim, Mr. Adola', 'male', '35', '0', '0', 'SOTON/O.Q. 3101310', '7.05', '', 'S'], ['365', '0', '3', \"O'Brien, Mr. Thomas\", 'male', '', '1', '0', '370365', '15.5', '', 'Q'], ['366', '0', '3', 'Adahl, Mr. Mauritz Nils Martin', 'male', '30', '0', '0', 'C 7076', '7.25', '', 'S'], ['367', '1', '1', 'Warren, Mrs. Frank Manley (Anna Sophia Atkinson)', 'female', '60', '1', '0', '110813', '75.25', 'D37', 'C'], ['368', '1', '3', 'Moussa, Mrs. (Mantoura Boulos)', 'female', '', '0', '0', '2626', '7.2292', '', 'C'], ['369', '1', '3', 'Jermyn, Miss. Annie', 'female', '', '0', '0', '14313', '7.75', '', 'Q'], ['370', '1', '1', 'Aubart, Mme. Leontine Pauline', 'female', '24', '0', '0', 'PC 17477', '69.3', 'B35', 'C'], ['371', '1', '1', 'Harder, Mr. George Achilles', 'male', '25', '1', '0', '11765', '55.4417', 'E50', 'C'], ['372', '0', '3', 'Wiklund, Mr. Jakob Alfred', 'male', '18', '1', '0', '3101267', '6.4958', '', 'S'], ['373', '0', '3', 'Beavan, Mr. William Thomas', 'male', '19', '0', '0', '323951', '8.05', '', 'S'], ['374', '0', '1', 'Ringhini, Mr. Sante', 'male', '22', '0', '0', 'PC 17760', '135.6333', '', 'C'], ['375', '0', '3', 'Palsson, Miss. Stina Viola', 'female', '3', '3', '1', '349909', '21.075', '', 'S'], ['376', '1', '1', 'Meyer, Mrs. Edgar Joseph (Leila Saks)', 'female', '', '1', '0', 'PC 17604', '82.1708', '', 'C'], ['377', '1', '3', 'Landergren, Miss. Aurora Adelia', 'female', '22', '0', '0', 'C 7077', '7.25', '', 'S'], ['378', '0', '1', 'Widener, Mr. Harry Elkins', 'male', '27', '0', '2', '113503', '211.5', 'C82', 'C'], ['379', '0', '3', 'Betros, Mr. Tannous', 'male', '20', '0', '0', '2648', '4.0125', '', 'C'], ['380', '0', '3', 'Gustafsson, Mr. Karl Gideon', 'male', '19', '0', '0', '347069', '7.775', '', 'S'], ['381', '1', '1', 'Bidois, Miss. Rosalie', 'female', '42', '0', '0', 'PC 17757', '227.525', '', 'C'], ['382', '1', '3', 'Nakid, Miss. Maria (\"Mary\")', 'female', '1', '0', '2', '2653', '15.7417', '', 'C'], ['383', '0', '3', 'Tikkanen, Mr. Juho', 'male', '32', '0', '0', 'STON/O 2. 3101293', '7.925', '', 'S'], ['384', '1', '1', 'Holverson, Mrs. Alexander Oskar (Mary Aline Towner)', 'female', '35', '1', '0', '113789', '52', '', 'S'], ['385', '0', '3', 'Plotcharsky, Mr. Vasil', 'male', '', '0', '0', '349227', '7.8958', '', 'S'], ['386', '0', '2', 'Davies, Mr. Charles Henry', 'male', '18', '0', '0', 'S.O.C. 14879', '73.5', '', 'S'], ['387', '0', '3', 'Goodwin, Master. Sidney Leonard', 'male', '1', '5', '2', 'CA 2144', '46.9', '', 'S'], ['388', '1', '2', 'Buss, Miss. Kate', 'female', '36', '0', '0', '27849', '13', '', 'S'], ['389', '0', '3', 'Sadlier, Mr. Matthew', 'male', '', '0', '0', '367655', '7.7292', '', 'Q'], ['390', '1', '2', 'Lehmann, Miss. Bertha', 'female', '17', '0', '0', 'SC 1748', '12', '', 'C'], ['391', '1', '1', 'Carter, Mr. William Ernest', 'male', '36', '1', '2', '113760', '120', 'B96 B98', 'S'], ['392', '1', '3', 'Jansson, Mr. Carl Olof', 'male', '21', '0', '0', '350034', '7.7958', '', 'S'], ['393', '0', '3', 'Gustafsson, Mr. Johan Birger', 'male', '28', '2', '0', '3101277', '7.925', '', 'S'], ['394', '1', '1', 'Newell, Miss. Marjorie', 'female', '23', '1', '0', '35273', '113.275', 'D36', 'C'], ['395', '1', '3', 'Sandstrom, Mrs. Hjalmar (Agnes Charlotta Bengtsson)', 'female', '24', '0', '2', 'PP 9549', '16.7', 'G6', 'S'], ['396', '0', '3', 'Johansson, Mr. Erik', 'male', '22', '0', '0', '350052', '7.7958', '', 'S'], ['397', '0', '3', 'Olsson, Miss. Elina', 'female', '31', '0', '0', '350407', '7.8542', '', 'S'], ['398', '0', '2', 'McKane, Mr. Peter David', 'male', '46', '0', '0', '28403', '26', '', 'S'], ['399', '0', '2', 'Pain, Dr. Alfred', 'male', '23', '0', '0', '244278', '10.5', '', 'S'], ['400', '1', '2', 'Trout, Mrs. William H (Jessie L)', 'female', '28', '0', '0', '240929', '12.65', '', 'S'], ['401', '1', '3', 'Niskanen, Mr. Juha', 'male', '39', '0', '0', 'STON/O 2. 3101289', '7.925', '', 'S'], ['402', '0', '3', 'Adams, Mr. John', 'male', '26', '0', '0', '341826', '8.05', '', 'S'], ['403', '0', '3', 'Jussila, Miss. Mari Aina', 'female', '21', '1', '0', '4137', '9.825', '', 'S'], ['404', '0', '3', 'Hakkarainen, Mr. Pekka Pietari', 'male', '28', '1', '0', 'STON/O2. 3101279', '15.85', '', 'S'], ['405', '0', '3', 'Oreskovic, Miss. Marija', 'female', '20', '0', '0', '315096', '8.6625', '', 'S'], ['406', '0', '2', 'Gale, Mr. Shadrach', 'male', '34', '1', '0', '28664', '21', '', 'S'], ['407', '0', '3', 'Widegren, Mr. Carl/Charles Peter', 'male', '51', '0', '0', '347064', '7.75', '', 'S'], ['408', '1', '2', 'Richards, Master. William Rowe', 'male', '3', '1', '1', '29106', '18.75', '', 'S'], ['409', '0', '3', 'Birkeland, Mr. Hans Martin Monsen', 'male', '21', '0', '0', '312992', '7.775', '', 'S'], ['410', '0', '3', 'Lefebre, Miss. Ida', 'female', '', '3', '1', '4133', '25.4667', '', 'S'], ['411', '0', '3', 'Sdycoff, Mr. Todor', 'male', '', '0', '0', '349222', '7.8958', '', 'S'], ['412', '0', '3', 'Hart, Mr. Henry', 'male', '', '0', '0', '394140', '6.8583', '', 'Q'], ['413', '1', '1', 'Minahan, Miss. Daisy E', 'female', '33', '1', '0', '19928', '90', 'C78', 'Q'], ['414', '0', '2', 'Cunningham, Mr. Alfred Fleming', 'male', '', '0', '0', '239853', '0', '', 'S'], ['415', '1', '3', 'Sundman, Mr. Johan Julian', 'male', '44', '0', '0', 'STON/O 2. 3101269', '7.925', '', 'S'], ['416', '0', '3', 'Meek, Mrs. Thomas (Annie Louise Rowley)', 'female', '', '0', '0', '343095', '8.05', '', 'S'], ['417', '1', '2', 'Drew, Mrs. James Vivian (Lulu Thorne Christian)', 'female', '34', '1', '1', '28220', '32.5', '', 'S'], ['418', '1', '2', 'Silven, Miss. Lyyli Karoliina', 'female', '18', '0', '2', '250652', '13', '', 'S'], ['419', '0', '2', 'Matthews, Mr. William John', 'male', '30', '0', '0', '28228', '13', '', 'S'], ['420', '0', '3', 'Van Impe, Miss. Catharina', 'female', '10', '0', '2', '345773', '24.15', '', 'S'], ['421', '0', '3', 'Gheorgheff, Mr. Stanio', 'male', '', '0', '0', '349254', '7.8958', '', 'C'], ['422', '0', '3', 'Charters, Mr. David', 'male', '21', '0', '0', 'A/5. 13032', '7.7333', '', 'Q'], ['423', '0', '3', 'Zimmerman, Mr. Leo', 'male', '29', '0', '0', '315082', '7.875', '', 'S'], ['424', '0', '3', 'Danbom, Mrs. Ernst Gilbert (Anna Sigrid Maria Brogren)', 'female', '28', '1', '1', '347080', '14.4', '', 'S'], ['425', '0', '3', 'Rosblom, Mr. Viktor Richard', 'male', '18', '1', '1', '370129', '20.2125', '', 'S'], ['426', '0', '3', 'Wiseman, Mr. Phillippe', 'male', '', '0', '0', 'A/4. 34244', '7.25', '', 'S'], ['427', '1', '2', 'Clarke, Mrs. Charles V (Ada Maria Winfield)', 'female', '28', '1', '0', '2003', '26', '', 'S'], ['428', '1', '2', 'Phillips, Miss. Kate Florence (\"Mrs Kate Louise Phillips Marshall\")', 'female', '19', '0', '0', '250655', '26', '', 'S'], ['429', '0', '3', 'Flynn, Mr. James', 'male', '', '0', '0', '364851', '7.75', '', 'Q'], ['430', '1', '3', 'Pickard, Mr. Berk (Berk Trembisky)', 'male', '32', '0', '0', 'SOTON/O.Q. 392078', '8.05', 'E10', 'S'], ['431', '1', '1', 'Bjornstrom-Steffansson, Mr. Mauritz Hakan', 'male', '28', '0', '0', '110564', '26.55', 'C52', 'S'], ['432', '1', '3', 'Thorneycroft, Mrs. Percival (Florence Kate White)', 'female', '', '1', '0', '376564', '16.1', '', 'S'], ['433', '1', '2', 'Louch, Mrs. Charles Alexander (Alice Adelaide Slow)', 'female', '42', '1', '0', 'SC/AH 3085', '26', '', 'S'], ['434', '0', '3', 'Kallio, Mr. Nikolai Erland', 'male', '17', '0', '0', 'STON/O 2. 3101274', '7.125', '', 'S'], ['435', '0', '1', 'Silvey, Mr. William Baird', 'male', '50', '1', '0', '13507', '55.9', 'E44', 'S'], ['436', '1', '1', 'Carter, Miss. Lucile Polk', 'female', '14', '1', '2', '113760', '120', 'B96 B98', 'S'], ['437', '0', '3', 'Ford, Miss. Doolina Margaret \"Daisy\"', 'female', '21', '2', '2', 'W./C. 6608', '34.375', '', 'S'], ['438', '1', '2', 'Richards, Mrs. Sidney (Emily Hocking)', 'female', '24', '2', '3', '29106', '18.75', '', 'S'], ['439', '0', '1', 'Fortune, Mr. Mark', 'male', '64', '1', '4', '19950', '263', 'C23 C25 C27', 'S'], ['440', '0', '2', 'Kvillner, Mr. Johan Henrik Johannesson', 'male', '31', '0', '0', 'C.A. 18723', '10.5', '', 'S'], ['441', '1', '2', 'Hart, Mrs. Benjamin (Esther Ada Bloomfield)', 'female', '45', '1', '1', 'F.C.C. 13529', '26.25', '', 'S'], ['442', '0', '3', 'Hampe, Mr. Leon', 'male', '20', '0', '0', '345769', '9.5', '', 'S'], ['443', '0', '3', 'Petterson, Mr. Johan Emil', 'male', '25', '1', '0', '347076', '7.775', '', 'S'], ['444', '1', '2', 'Reynaldo, Ms. Encarnacion', 'female', '28', '0', '0', '230434', '13', '', 'S'], ['445', '1', '3', 'Johannesen-Bratthammer, Mr. Bernt', 'male', '', '0', '0', '65306', '8.1125', '', 'S'], ['446', '1', '1', 'Dodge, Master. Washington', 'male', '4', '0', '2', '33638', '81.8583', 'A34', 'S'], ['447', '1', '2', 'Mellinger, Miss. Madeleine Violet', 'female', '13', '0', '1', '250644', '19.5', '', 'S'], ['448', '1', '1', 'Seward, Mr. Frederic Kimber', 'male', '34', '0', '0', '113794', '26.55', '', 'S'], ['449', '1', '3', 'Baclini, Miss. Marie Catherine', 'female', '5', '2', '1', '2666', '19.2583', '', 'C'], ['450', '1', '1', 'Peuchen, Major. Arthur Godfrey', 'male', '52', '0', '0', '113786', '30.5', 'C104', 'S'], ['451', '0', '2', 'West, Mr. Edwy Arthur', 'male', '36', '1', '2', 'C.A. 34651', '27.75', '', 'S'], ['452', '0', '3', 'Hagland, Mr. Ingvald Olai Olsen', 'male', '', '1', '0', '65303', '19.9667', '', 'S'], ['453', '0', '1', 'Foreman, Mr. Benjamin Laventall', 'male', '30', '0', '0', '113051', '27.75', 'C111', 'C'], ['454', '1', '1', 'Goldenberg, Mr. Samuel L', 'male', '49', '1', '0', '17453', '89.1042', 'C92', 'C'], ['455', '0', '3', 'Peduzzi, Mr. Joseph', 'male', '', '0', '0', 'A/5 2817', '8.05', '', 'S'], ['456', '1', '3', 'Jalsevac, Mr. Ivan', 'male', '29', '0', '0', '349240', '7.8958', '', 'C'], ['457', '0', '1', 'Millet, Mr. Francis Davis', 'male', '65', '0', '0', '13509', '26.55', 'E38', 'S'], ['458', '1', '1', 'Kenyon, Mrs. Frederick R (Marion)', 'female', '', '1', '0', '17464', '51.8625', 'D21', 'S'], ['459', '1', '2', 'Toomey, Miss. Ellen', 'female', '50', '0', '0', 'F.C.C. 13531', '10.5', '', 'S'], ['460', '0', '3', \"O'Connor, Mr. Maurice\", 'male', '', '0', '0', '371060', '7.75', '', 'Q'], ['461', '1', '1', 'Anderson, Mr. Harry', 'male', '48', '0', '0', '19952', '26.55', 'E12', 'S'], ['462', '0', '3', 'Morley, Mr. William', 'male', '34', '0', '0', '364506', '8.05', '', 'S'], ['463', '0', '1', 'Gee, Mr. Arthur H', 'male', '47', '0', '0', '111320', '38.5', 'E63', 'S'], ['464', '0', '2', 'Milling, Mr. Jacob Christian', 'male', '48', '0', '0', '234360', '13', '', 'S'], ['465', '0', '3', 'Maisner, Mr. Simon', 'male', '', '0', '0', 'A/S 2816', '8.05', '', 'S'], ['466', '0', '3', 'Goncalves, Mr. Manuel Estanslas', 'male', '38', '0', '0', 'SOTON/O.Q. 3101306', '7.05', '', 'S'], ['467', '0', '2', 'Campbell, Mr. William', 'male', '', '0', '0', '239853', '0', '', 'S'], ['468', '0', '1', 'Smart, Mr. John Montgomery', 'male', '56', '0', '0', '113792', '26.55', '', 'S'], ['469', '0', '3', 'Scanlan, Mr. James', 'male', '', '0', '0', '36209', '7.725', '', 'Q'], ['470', '1', '3', 'Baclini, Miss. Helene Barbara', 'female', '0.75', '2', '1', '2666', '19.2583', '', 'C'], ['471', '0', '3', 'Keefe, Mr. Arthur', 'male', '', '0', '0', '323592', '7.25', '', 'S'], ['472', '0', '3', 'Cacic, Mr. Luka', 'male', '38', '0', '0', '315089', '8.6625', '', 'S'], ['473', '1', '2', 'West, Mrs. Edwy Arthur (Ada Mary Worth)', 'female', '33', '1', '2', 'C.A. 34651', '27.75', '', 'S'], ['474', '1', '2', 'Jerwan, Mrs. Amin S (Marie Marthe Thuillard)', 'female', '23', '0', '0', 'SC/AH Basle 541', '13.7917', 'D', 'C'], ['475', '0', '3', 'Strandberg, Miss. Ida Sofia', 'female', '22', '0', '0', '7553', '9.8375', '', 'S'], ['476', '0', '1', 'Clifford, Mr. George Quincy', 'male', '', '0', '0', '110465', '52', 'A14', 'S'], ['477', '0', '2', 'Renouf, Mr. Peter Henry', 'male', '34', '1', '0', '31027', '21', '', 'S'], ['478', '0', '3', 'Braund, Mr. Lewis Richard', 'male', '29', '1', '0', '3460', '7.0458', '', 'S'], ['479', '0', '3', 'Karlsson, Mr. Nils August', 'male', '22', '0', '0', '350060', '7.5208', '', 'S'], ['480', '1', '3', 'Hirvonen, Miss. Hildur E', 'female', '2', '0', '1', '3101298', '12.2875', '', 'S'], ['481', '0', '3', 'Goodwin, Master. Harold Victor', 'male', '9', '5', '2', 'CA 2144', '46.9', '', 'S'], ['482', '0', '2', 'Frost, Mr. Anthony Wood \"Archie\"', 'male', '', '0', '0', '239854', '0', '', 'S'], ['483', '0', '3', 'Rouse, Mr. Richard Henry', 'male', '50', '0', '0', 'A/5 3594', '8.05', '', 'S'], ['484', '1', '3', 'Turkula, Mrs. (Hedwig)', 'female', '63', '0', '0', '4134', '9.5875', '', 'S'], ['485', '1', '1', 'Bishop, Mr. Dickinson H', 'male', '25', '1', '0', '11967', '91.0792', 'B49', 'C'], ['486', '0', '3', 'Lefebre, Miss. Jeannie', 'female', '', '3', '1', '4133', '25.4667', '', 'S'], ['487', '1', '1', 'Hoyt, Mrs. Frederick Maxfield (Jane Anne Forby)', 'female', '35', '1', '0', '19943', '90', 'C93', 'S'], ['488', '0', '1', 'Kent, Mr. Edward Austin', 'male', '58', '0', '0', '11771', '29.7', 'B37', 'C'], ['489', '0', '3', 'Somerton, Mr. Francis William', 'male', '30', '0', '0', 'A.5. 18509', '8.05', '', 'S'], ['490', '1', '3', 'Coutts, Master. Eden Leslie \"Neville\"', 'male', '9', '1', '1', 'C.A. 37671', '15.9', '', 'S'], ['491', '0', '3', 'Hagland, Mr. Konrad Mathias Reiersen', 'male', '', '1', '0', '65304', '19.9667', '', 'S'], ['492', '0', '3', 'Windelov, Mr. Einar', 'male', '21', '0', '0', 'SOTON/OQ 3101317', '7.25', '', 'S'], ['493', '0', '1', 'Molson, Mr. Harry Markland', 'male', '55', '0', '0', '113787', '30.5', 'C30', 'S'], ['494', '0', '1', 'Artagaveytia, Mr. Ramon', 'male', '71', '0', '0', 'PC 17609', '49.5042', '', 'C'], ['495', '0', '3', 'Stanley, Mr. Edward Roland', 'male', '21', '0', '0', 'A/4 45380', '8.05', '', 'S'], ['496', '0', '3', 'Yousseff, Mr. Gerious', 'male', '', '0', '0', '2627', '14.4583', '', 'C'], ['497', '1', '1', 'Eustis, Miss. Elizabeth Mussey', 'female', '54', '1', '0', '36947', '78.2667', 'D20', 'C'], ['498', '0', '3', 'Shellard, Mr. Frederick William', 'male', '', '0', '0', 'C.A. 6212', '15.1', '', 'S'], ['499', '0', '1', 'Allison, Mrs. Hudson J C (Bessie Waldo Daniels)', 'female', '25', '1', '2', '113781', '151.55', 'C22 C26', 'S'], ['500', '0', '3', 'Svensson, Mr. Olof', 'male', '24', '0', '0', '350035', '7.7958', '', 'S'], ['501', '0', '3', 'Calic, Mr. Petar', 'male', '17', '0', '0', '315086', '8.6625', '', 'S'], ['502', '0', '3', 'Canavan, Miss. Mary', 'female', '21', '0', '0', '364846', '7.75', '', 'Q'], ['503', '0', '3', \"O'Sullivan, Miss. Bridget Mary\", 'female', '', '0', '0', '330909', '7.6292', '', 'Q'], ['504', '0', '3', 'Laitinen, Miss. Kristina Sofia', 'female', '37', '0', '0', '4135', '9.5875', '', 'S'], ['505', '1', '1', 'Maioni, Miss. Roberta', 'female', '16', '0', '0', '110152', '86.5', 'B79', 'S'], ['506', '0', '1', 'Penasco y Castellana, Mr. Victor de Satode', 'male', '18', '1', '0', 'PC 17758', '108.9', 'C65', 'C'], ['507', '1', '2', 'Quick, Mrs. Frederick Charles (Jane Richards)', 'female', '33', '0', '2', '26360', '26', '', 'S'], ['508', '1', '1', 'Bradley, Mr. George (\"George Arthur Brayton\")', 'male', '', '0', '0', '111427', '26.55', '', 'S'], ['509', '0', '3', 'Olsen, Mr. Henry Margido', 'male', '28', '0', '0', 'C 4001', '22.525', '', 'S'], ['510', '1', '3', 'Lang, Mr. Fang', 'male', '26', '0', '0', '1601', '56.4958', '', 'S'], ['511', '1', '3', 'Daly, Mr. Eugene Patrick', 'male', '29', '0', '0', '382651', '7.75', '', 'Q'], ['512', '0', '3', 'Webber, Mr. James', 'male', '', '0', '0', 'SOTON/OQ 3101316', '8.05', '', 'S'], ['513', '1', '1', 'McGough, Mr. James Robert', 'male', '36', '0', '0', 'PC 17473', '26.2875', 'E25', 'S'], ['514', '1', '1', 'Rothschild, Mrs. Martin (Elizabeth L. Barrett)', 'female', '54', '1', '0', 'PC 17603', '59.4', '', 'C'], ['515', '0', '3', 'Coleff, Mr. Satio', 'male', '24', '0', '0', '349209', '7.4958', '', 'S'], ['516', '0', '1', 'Walker, Mr. William Anderson', 'male', '47', '0', '0', '36967', '34.0208', 'D46', 'S'], ['517', '1', '2', 'Lemore, Mrs. (Amelia Milley)', 'female', '34', '0', '0', 'C.A. 34260', '10.5', 'F33', 'S'], ['518', '0', '3', 'Ryan, Mr. Patrick', 'male', '', '0', '0', '371110', '24.15', '', 'Q'], ['519', '1', '2', 'Angle, Mrs. William A (Florence \"Mary\" Agnes Hughes)', 'female', '36', '1', '0', '226875', '26', '', 'S'], ['520', '0', '3', 'Pavlovic, Mr. Stefo', 'male', '32', '0', '0', '349242', '7.8958', '', 'S'], ['521', '1', '1', 'Perreault, Miss. Anne', 'female', '30', '0', '0', '12749', '93.5', 'B73', 'S'], ['522', '0', '3', 'Vovk, Mr. Janko', 'male', '22', '0', '0', '349252', '7.8958', '', 'S'], ['523', '0', '3', 'Lahoud, Mr. Sarkis', 'male', '', '0', '0', '2624', '7.225', '', 'C'], ['524', '1', '1', 'Hippach, Mrs. Louis Albert (Ida Sophia Fischer)', 'female', '44', '0', '1', '111361', '57.9792', 'B18', 'C'], ['525', '0', '3', 'Kassem, Mr. Fared', 'male', '', '0', '0', '2700', '7.2292', '', 'C'], ['526', '0', '3', 'Farrell, Mr. James', 'male', '40.5', '0', '0', '367232', '7.75', '', 'Q'], ['527', '1', '2', 'Ridsdale, Miss. Lucy', 'female', '50', '0', '0', 'W./C. 14258', '10.5', '', 'S'], ['528', '0', '1', 'Farthing, Mr. John', 'male', '', '0', '0', 'PC 17483', '221.7792', 'C95', 'S'], ['529', '0', '3', 'Salonen, Mr. Johan Werner', 'male', '39', '0', '0', '3101296', '7.925', '', 'S'], ['530', '0', '2', 'Hocking, Mr. Richard George', 'male', '23', '2', '1', '29104', '11.5', '', 'S'], ['531', '1', '2', 'Quick, Miss. Phyllis May', 'female', '2', '1', '1', '26360', '26', '', 'S'], ['532', '0', '3', 'Toufik, Mr. Nakli', 'male', '', '0', '0', '2641', '7.2292', '', 'C'], ['533', '0', '3', 'Elias, Mr. Joseph Jr', 'male', '17', '1', '1', '2690', '7.2292', '', 'C'], ['534', '1', '3', 'Peter, Mrs. Catherine (Catherine Rizk)', 'female', '', '0', '2', '2668', '22.3583', '', 'C'], ['535', '0', '3', 'Cacic, Miss. Marija', 'female', '30', '0', '0', '315084', '8.6625', '', 'S'], ['536', '1', '2', 'Hart, Miss. Eva Miriam', 'female', '7', '0', '2', 'F.C.C. 13529', '26.25', '', 'S'], ['537', '0', '1', 'Butt, Major. Archibald Willingham', 'male', '45', '0', '0', '113050', '26.55', 'B38', 'S'], ['538', '1', '1', 'LeRoy, Miss. Bertha', 'female', '30', '0', '0', 'PC 17761', '106.425', '', 'C'], ['539', '0', '3', 'Risien, Mr. Samuel Beard', 'male', '', '0', '0', '364498', '14.5', '', 'S'], ['540', '1', '1', 'Frolicher, Miss. Hedwig Margaritha', 'female', '22', '0', '2', '13568', '49.5', 'B39', 'C'], ['541', '1', '1', 'Crosby, Miss. Harriet R', 'female', '36', '0', '2', 'WE/P 5735', '71', 'B22', 'S'], ['542', '0', '3', 'Andersson, Miss. Ingeborg Constanzia', 'female', '9', '4', '2', '347082', '31.275', '', 'S'], ['543', '0', '3', 'Andersson, Miss. Sigrid Elisabeth', 'female', '11', '4', '2', '347082', '31.275', '', 'S'], ['544', '1', '2', 'Beane, Mr. Edward', 'male', '32', '1', '0', '2908', '26', '', 'S'], ['545', '0', '1', 'Douglas, Mr. Walter Donald', 'male', '50', '1', '0', 'PC 17761', '106.425', 'C86', 'C'], ['546', '0', '1', 'Nicholson, Mr. Arthur Ernest', 'male', '64', '0', '0', '693', '26', '', 'S'], ['547', '1', '2', 'Beane, Mrs. Edward (Ethel Clarke)', 'female', '19', '1', '0', '2908', '26', '', 'S'], ['548', '1', '2', 'Padro y Manent, Mr. Julian', 'male', '', '0', '0', 'SC/PARIS 2146', '13.8625', '', 'C'], ['549', '0', '3', 'Goldsmith, Mr. Frank John', 'male', '33', '1', '1', '363291', '20.525', '', 'S'], ['550', '1', '2', 'Davies, Master. John Morgan Jr', 'male', '8', '1', '1', 'C.A. 33112', '36.75', '', 'S'], ['551', '1', '1', 'Thayer, Mr. John Borland Jr', 'male', '17', '0', '2', '17421', '110.8833', 'C70', 'C'], ['552', '0', '2', 'Sharp, Mr. Percival James R', 'male', '27', '0', '0', '244358', '26', '', 'S'], ['553', '0', '3', \"O'Brien, Mr. Timothy\", 'male', '', '0', '0', '330979', '7.8292', '', 'Q'], ['554', '1', '3', 'Leeni, Mr. Fahim (\"Philip Zenni\")', 'male', '22', '0', '0', '2620', '7.225', '', 'C'], ['555', '1', '3', 'Ohman, Miss. Velin', 'female', '22', '0', '0', '347085', '7.775', '', 'S'], ['556', '0', '1', 'Wright, Mr. George', 'male', '62', '0', '0', '113807', '26.55', '', 'S'], ['557', '1', '1', 'Duff Gordon, Lady. (Lucille Christiana Sutherland) (\"Mrs Morgan\")', 'female', '48', '1', '0', '11755', '39.6', 'A16', 'C'], ['558', '0', '1', 'Robbins, Mr. Victor', 'male', '', '0', '0', 'PC 17757', '227.525', '', 'C'], ['559', '1', '1', 'Taussig, Mrs. Emil (Tillie Mandelbaum)', 'female', '39', '1', '1', '110413', '79.65', 'E67', 'S'], ['560', '1', '3', 'de Messemaeker, Mrs. Guillaume Joseph (Emma)', 'female', '36', '1', '0', '345572', '17.4', '', 'S'], ['561', '0', '3', 'Morrow, Mr. Thomas Rowan', 'male', '', '0', '0', '372622', '7.75', '', 'Q'], ['562', '0', '3', 'Sivic, Mr. Husein', 'male', '40', '0', '0', '349251', '7.8958', '', 'S'], ['563', '0', '2', 'Norman, Mr. Robert Douglas', 'male', '28', '0', '0', '218629', '13.5', '', 'S'], ['564', '0', '3', 'Simmons, Mr. John', 'male', '', '0', '0', 'SOTON/OQ 392082', '8.05', '', 'S'], ['565', '0', '3', 'Meanwell, Miss. (Marion Ogden)', 'female', '', '0', '0', 'SOTON/O.Q. 392087', '8.05', '', 'S'], ['566', '0', '3', 'Davies, Mr. Alfred J', 'male', '24', '2', '0', 'A/4 48871', '24.15', '', 'S'], ['567', '0', '3', 'Stoytcheff, Mr. Ilia', 'male', '19', '0', '0', '349205', '7.8958', '', 'S'], ['568', '0', '3', 'Palsson, Mrs. Nils (Alma Cornelia Berglund)', 'female', '29', '0', '4', '349909', '21.075', '', 'S'], ['569', '0', '3', 'Doharr, Mr. Tannous', 'male', '', '0', '0', '2686', '7.2292', '', 'C'], ['570', '1', '3', 'Jonsson, Mr. Carl', 'male', '32', '0', '0', '350417', '7.8542', '', 'S'], ['571', '1', '2', 'Harris, Mr. George', 'male', '62', '0', '0', 'S.W./PP 752', '10.5', '', 'S'], ['572', '1', '1', 'Appleton, Mrs. Edward Dale (Charlotte Lamson)', 'female', '53', '2', '0', '11769', '51.4792', 'C101', 'S'], ['573', '1', '1', 'Flynn, Mr. John Irwin (\"Irving\")', 'male', '36', '0', '0', 'PC 17474', '26.3875', 'E25', 'S'], ['574', '1', '3', 'Kelly, Miss. Mary', 'female', '', '0', '0', '14312', '7.75', '', 'Q'], ['575', '0', '3', 'Rush, Mr. Alfred George John', 'male', '16', '0', '0', 'A/4. 20589', '8.05', '', 'S'], ['576', '0', '3', 'Patchett, Mr. George', 'male', '19', '0', '0', '358585', '14.5', '', 'S'], ['577', '1', '2', 'Garside, Miss. Ethel', 'female', '34', '0', '0', '243880', '13', '', 'S'], ['578', '1', '1', 'Silvey, Mrs. William Baird (Alice Munger)', 'female', '39', '1', '0', '13507', '55.9', 'E44', 'S'], ['579', '0', '3', 'Caram, Mrs. Joseph (Maria Elias)', 'female', '', '1', '0', '2689', '14.4583', '', 'C'], ['580', '1', '3', 'Jussila, Mr. Eiriik', 'male', '32', '0', '0', 'STON/O 2. 3101286', '7.925', '', 'S'], ['581', '1', '2', 'Christy, Miss. Julie Rachel', 'female', '25', '1', '1', '237789', '30', '', 'S'], ['582', '1', '1', 'Thayer, Mrs. John Borland (Marian Longstreth Morris)', 'female', '39', '1', '1', '17421', '110.8833', 'C68', 'C'], ['583', '0', '2', 'Downton, Mr. William James', 'male', '54', '0', '0', '28403', '26', '', 'S'], ['584', '0', '1', 'Ross, Mr. John Hugo', 'male', '36', '0', '0', '13049', '40.125', 'A10', 'C'], ['585', '0', '3', 'Paulner, Mr. Uscher', 'male', '', '0', '0', '3411', '8.7125', '', 'C'], ['586', '1', '1', 'Taussig, Miss. Ruth', 'female', '18', '0', '2', '110413', '79.65', 'E68', 'S'], ['587', '0', '2', 'Jarvis, Mr. John Denzil', 'male', '47', '0', '0', '237565', '15', '', 'S'], ['588', '1', '1', 'Frolicher-Stehli, Mr. Maxmillian', 'male', '60', '1', '1', '13567', '79.2', 'B41', 'C'], ['589', '0', '3', 'Gilinski, Mr. Eliezer', 'male', '22', '0', '0', '14973', '8.05', '', 'S'], ['590', '0', '3', 'Murdlin, Mr. Joseph', 'male', '', '0', '0', 'A./5. 3235', '8.05', '', 'S'], ['591', '0', '3', 'Rintamaki, Mr. Matti', 'male', '35', '0', '0', 'STON/O 2. 3101273', '7.125', '', 'S'], ['592', '1', '1', 'Stephenson, Mrs. Walter Bertram (Martha Eustis)', 'female', '52', '1', '0', '36947', '78.2667', 'D20', 'C'], ['593', '0', '3', 'Elsbury, Mr. William James', 'male', '47', '0', '0', 'A/5 3902', '7.25', '', 'S'], ['594', '0', '3', 'Bourke, Miss. Mary', 'female', '', '0', '2', '364848', '7.75', '', 'Q'], ['595', '0', '2', 'Chapman, Mr. John Henry', 'male', '37', '1', '0', 'SC/AH 29037', '26', '', 'S'], ['596', '0', '3', 'Van Impe, Mr. Jean Baptiste', 'male', '36', '1', '1', '345773', '24.15', '', 'S'], ['597', '1', '2', 'Leitch, Miss. Jessie Wills', 'female', '', '0', '0', '248727', '33', '', 'S'], ['598', '0', '3', 'Johnson, Mr. Alfred', 'male', '49', '0', '0', 'LINE', '0', '', 'S'], ['599', '0', '3', 'Boulos, Mr. Hanna', 'male', '', '0', '0', '2664', '7.225', '', 'C'], ['600', '1', '1', 'Duff Gordon, Sir. Cosmo Edmund (\"Mr Morgan\")', 'male', '49', '1', '0', 'PC 17485', '56.9292', 'A20', 'C'], ['601', '1', '2', 'Jacobsohn, Mrs. Sidney Samuel (Amy Frances Christy)', 'female', '24', '2', '1', '243847', '27', '', 'S'], ['602', '0', '3', 'Slabenoff, Mr. Petco', 'male', '', '0', '0', '349214', '7.8958', '', 'S'], ['603', '0', '1', 'Harrington, Mr. Charles H', 'male', '', '0', '0', '113796', '42.4', '', 'S'], ['604', '0', '3', 'Torber, Mr. Ernst William', 'male', '44', '0', '0', '364511', '8.05', '', 'S'], ['605', '1', '1', 'Homer, Mr. Harry (\"Mr E Haven\")', 'male', '35', '0', '0', '111426', '26.55', '', 'C'], ['606', '0', '3', 'Lindell, Mr. Edvard Bengtsson', 'male', '36', '1', '0', '349910', '15.55', '', 'S'], ['607', '0', '3', 'Karaic, Mr. Milan', 'male', '30', '0', '0', '349246', '7.8958', '', 'S'], ['608', '1', '1', 'Daniel, Mr. Robert Williams', 'male', '27', '0', '0', '113804', '30.5', '', 'S'], ['609', '1', '2', 'Laroche, Mrs. Joseph (Juliette Marie Louise Lafargue)', 'female', '22', '1', '2', 'SC/Paris 2123', '41.5792', '', 'C'], ['610', '1', '1', 'Shutes, Miss. Elizabeth W', 'female', '40', '0', '0', 'PC 17582', '153.4625', 'C125', 'S'], ['611', '0', '3', 'Andersson, Mrs. Anders Johan (Alfrida Konstantia Brogren)', 'female', '39', '1', '5', '347082', '31.275', '', 'S'], ['612', '0', '3', 'Jardin, Mr. Jose Neto', 'male', '', '0', '0', 'SOTON/O.Q. 3101305', '7.05', '', 'S'], ['613', '1', '3', 'Murphy, Miss. Margaret Jane', 'female', '', '1', '0', '367230', '15.5', '', 'Q'], ['614', '0', '3', 'Horgan, Mr. John', 'male', '', '0', '0', '370377', '7.75', '', 'Q'], ['615', '0', '3', 'Brocklebank, Mr. William Alfred', 'male', '35', '0', '0', '364512', '8.05', '', 'S'], ['616', '1', '2', 'Herman, Miss. Alice', 'female', '24', '1', '2', '220845', '65', '', 'S'], ['617', '0', '3', 'Danbom, Mr. Ernst Gilbert', 'male', '34', '1', '1', '347080', '14.4', '', 'S'], ['618', '0', '3', 'Lobb, Mrs. William Arthur (Cordelia K Stanlick)', 'female', '26', '1', '0', 'A/5. 3336', '16.1', '', 'S'], ['619', '1', '2', 'Becker, Miss. Marion Louise', 'female', '4', '2', '1', '230136', '39', 'F4', 'S'], ['620', '0', '2', 'Gavey, Mr. Lawrence', 'male', '26', '0', '0', '31028', '10.5', '', 'S'], ['621', '0', '3', 'Yasbeck, Mr. Antoni', 'male', '27', '1', '0', '2659', '14.4542', '', 'C'], ['622', '1', '1', 'Kimball, Mr. Edwin Nelson Jr', 'male', '42', '1', '0', '11753', '52.5542', 'D19', 'S'], ['623', '1', '3', 'Nakid, Mr. Sahid', 'male', '20', '1', '1', '2653', '15.7417', '', 'C'], ['624', '0', '3', 'Hansen, Mr. Henry Damsgaard', 'male', '21', '0', '0', '350029', '7.8542', '', 'S'], ['625', '0', '3', 'Bowen, Mr. David John \"Dai\"', 'male', '21', '0', '0', '54636', '16.1', '', 'S'], ['626', '0', '1', 'Sutton, Mr. Frederick', 'male', '61', '0', '0', '36963', '32.3208', 'D50', 'S'], ['627', '0', '2', 'Kirkland, Rev. Charles Leonard', 'male', '57', '0', '0', '219533', '12.35', '', 'Q'], ['628', '1', '1', 'Longley, Miss. Gretchen Fiske', 'female', '21', '0', '0', '13502', '77.9583', 'D9', 'S'], ['629', '0', '3', 'Bostandyeff, Mr. Guentcho', 'male', '26', '0', '0', '349224', '7.8958', '', 'S'], ['630', '0', '3', \"O'Connell, Mr. Patrick D\", 'male', '', '0', '0', '334912', '7.7333', '', 'Q'], ['631', '1', '1', 'Barkworth, Mr. Algernon Henry Wilson', 'male', '80', '0', '0', '27042', '30', 'A23', 'S'], ['632', '0', '3', 'Lundahl, Mr. Johan Svensson', 'male', '51', '0', '0', '347743', '7.0542', '', 'S'], ['633', '1', '1', 'Stahelin-Maeglin, Dr. Max', 'male', '32', '0', '0', '13214', '30.5', 'B50', 'C'], ['634', '0', '1', 'Parr, Mr. William Henry Marsh', 'male', '', '0', '0', '112052', '0', '', 'S'], ['635', '0', '3', 'Skoog, Miss. Mabel', 'female', '9', '3', '2', '347088', '27.9', '', 'S'], ['636', '1', '2', 'Davis, Miss. Mary', 'female', '28', '0', '0', '237668', '13', '', 'S'], ['637', '0', '3', 'Leinonen, Mr. Antti Gustaf', 'male', '32', '0', '0', 'STON/O 2. 3101292', '7.925', '', 'S'], ['638', '0', '2', 'Collyer, Mr. Harvey', 'male', '31', '1', '1', 'C.A. 31921', '26.25', '', 'S'], ['639', '0', '3', 'Panula, Mrs. Juha (Maria Emilia Ojala)', 'female', '41', '0', '5', '3101295', '39.6875', '', 'S'], ['640', '0', '3', 'Thorneycroft, Mr. Percival', 'male', '', '1', '0', '376564', '16.1', '', 'S'], ['641', '0', '3', 'Jensen, Mr. Hans Peder', 'male', '20', '0', '0', '350050', '7.8542', '', 'S'], ['642', '1', '1', 'Sagesser, Mlle. Emma', 'female', '24', '0', '0', 'PC 17477', '69.3', 'B35', 'C'], ['643', '0', '3', 'Skoog, Miss. Margit Elizabeth', 'female', '2', '3', '2', '347088', '27.9', '', 'S'], ['644', '1', '3', 'Foo, Mr. Choong', 'male', '', '0', '0', '1601', '56.4958', '', 'S'], ['645', '1', '3', 'Baclini, Miss. Eugenie', 'female', '0.75', '2', '1', '2666', '19.2583', '', 'C'], ['646', '1', '1', 'Harper, Mr. Henry Sleeper', 'male', '48', '1', '0', 'PC 17572', '76.7292', 'D33', 'C'], ['647', '0', '3', 'Cor, Mr. Liudevit', 'male', '19', '0', '0', '349231', '7.8958', '', 'S'], ['648', '1', '1', 'Simonius-Blumer, Col. Oberst Alfons', 'male', '56', '0', '0', '13213', '35.5', 'A26', 'C'], ['649', '0', '3', 'Willey, Mr. Edward', 'male', '', '0', '0', 'S.O./P.P. 751', '7.55', '', 'S'], ['650', '1', '3', 'Stanley, Miss. Amy Zillah Elsie', 'female', '23', '0', '0', 'CA. 2314', '7.55', '', 'S'], ['651', '0', '3', 'Mitkoff, Mr. Mito', 'male', '', '0', '0', '349221', '7.8958', '', 'S'], ['652', '1', '2', 'Doling, Miss. Elsie', 'female', '18', '0', '1', '231919', '23', '', 'S'], ['653', '0', '3', 'Kalvik, Mr. Johannes Halvorsen', 'male', '21', '0', '0', '8475', '8.4333', '', 'S'], ['654', '1', '3', 'O\\'Leary, Miss. Hanora \"Norah\"', 'female', '', '0', '0', '330919', '7.8292', '', 'Q'], ['655', '0', '3', 'Hegarty, Miss. Hanora \"Nora\"', 'female', '18', '0', '0', '365226', '6.75', '', 'Q'], ['656', '0', '2', 'Hickman, Mr. Leonard Mark', 'male', '24', '2', '0', 'S.O.C. 14879', '73.5', '', 'S'], ['657', '0', '3', 'Radeff, Mr. Alexander', 'male', '', '0', '0', '349223', '7.8958', '', 'S'], ['658', '0', '3', 'Bourke, Mrs. John (Catherine)', 'female', '32', '1', '1', '364849', '15.5', '', 'Q'], ['659', '0', '2', 'Eitemiller, Mr. George Floyd', 'male', '23', '0', '0', '29751', '13', '', 'S'], ['660', '0', '1', 'Newell, Mr. Arthur Webster', 'male', '58', '0', '2', '35273', '113.275', 'D48', 'C'], ['661', '1', '1', 'Frauenthal, Dr. Henry William', 'male', '50', '2', '0', 'PC 17611', '133.65', '', 'S'], ['662', '0', '3', 'Badt, Mr. Mohamed', 'male', '40', '0', '0', '2623', '7.225', '', 'C'], ['663', '0', '1', 'Colley, Mr. Edward Pomeroy', 'male', '47', '0', '0', '5727', '25.5875', 'E58', 'S'], ['664', '0', '3', 'Coleff, Mr. Peju', 'male', '36', '0', '0', '349210', '7.4958', '', 'S'], ['665', '1', '3', 'Lindqvist, Mr. Eino William', 'male', '20', '1', '0', 'STON/O 2. 3101285', '7.925', '', 'S'], ['666', '0', '2', 'Hickman, Mr. Lewis', 'male', '32', '2', '0', 'S.O.C. 14879', '73.5', '', 'S'], ['667', '0', '2', 'Butler, Mr. Reginald Fenton', 'male', '25', '0', '0', '234686', '13', '', 'S'], ['668', '0', '3', 'Rommetvedt, Mr. Knud Paust', 'male', '', '0', '0', '312993', '7.775', '', 'S'], ['669', '0', '3', 'Cook, Mr. Jacob', 'male', '43', '0', '0', 'A/5 3536', '8.05', '', 'S'], ['670', '1', '1', 'Taylor, Mrs. Elmer Zebley (Juliet Cummins Wright)', 'female', '', '1', '0', '19996', '52', 'C126', 'S'], ['671', '1', '2', 'Brown, Mrs. Thomas William Solomon (Elizabeth Catherine Ford)', 'female', '40', '1', '1', '29750', '39', '', 'S'], ['672', '0', '1', 'Davidson, Mr. Thornton', 'male', '31', '1', '0', 'F.C. 12750', '52', 'B71', 'S'], ['673', '0', '2', 'Mitchell, Mr. Henry Michael', 'male', '70', '0', '0', 'C.A. 24580', '10.5', '', 'S'], ['674', '1', '2', 'Wilhelms, Mr. Charles', 'male', '31', '0', '0', '244270', '13', '', 'S'], ['675', '0', '2', 'Watson, Mr. Ennis Hastings', 'male', '', '0', '0', '239856', '0', '', 'S'], ['676', '0', '3', 'Edvardsson, Mr. Gustaf Hjalmar', 'male', '18', '0', '0', '349912', '7.775', '', 'S'], ['677', '0', '3', 'Sawyer, Mr. Frederick Charles', 'male', '24.5', '0', '0', '342826', '8.05', '', 'S'], ['678', '1', '3', 'Turja, Miss. Anna Sofia', 'female', '18', '0', '0', '4138', '9.8417', '', 'S'], ['679', '0', '3', 'Goodwin, Mrs. Frederick (Augusta Tyler)', 'female', '43', '1', '6', 'CA 2144', '46.9', '', 'S'], ['680', '1', '1', 'Cardeza, Mr. Thomas Drake Martinez', 'male', '36', '0', '1', 'PC 17755', '512.3292', 'B51 B53 B55', 'C'], ['681', '0', '3', 'Peters, Miss. Katie', 'female', '', '0', '0', '330935', '8.1375', '', 'Q'], ['682', '1', '1', 'Hassab, Mr. Hammad', 'male', '27', '0', '0', 'PC 17572', '76.7292', 'D49', 'C'], ['683', '0', '3', 'Olsvigen, Mr. Thor Anderson', 'male', '20', '0', '0', '6563', '9.225', '', 'S'], ['684', '0', '3', 'Goodwin, Mr. Charles Edward', 'male', '14', '5', '2', 'CA 2144', '46.9', '', 'S'], ['685', '0', '2', 'Brown, Mr. Thomas William Solomon', 'male', '60', '1', '1', '29750', '39', '', 'S'], ['686', '0', '2', 'Laroche, Mr. Joseph Philippe Lemercier', 'male', '25', '1', '2', 'SC/Paris 2123', '41.5792', '', 'C'], ['687', '0', '3', 'Panula, Mr. Jaako Arnold', 'male', '14', '4', '1', '3101295', '39.6875', '', 'S'], ['688', '0', '3', 'Dakic, Mr. Branko', 'male', '19', '0', '0', '349228', '10.1708', '', 'S'], ['689', '0', '3', 'Fischer, Mr. Eberhard Thelander', 'male', '18', '0', '0', '350036', '7.7958', '', 'S'], ['690', '1', '1', 'Madill, Miss. Georgette Alexandra', 'female', '15', '0', '1', '24160', '211.3375', 'B5', 'S'], ['691', '1', '1', 'Dick, Mr. Albert Adrian', 'male', '31', '1', '0', '17474', '57', 'B20', 'S'], ['692', '1', '3', 'Karun, Miss. Manca', 'female', '4', '0', '1', '349256', '13.4167', '', 'C'], ['693', '1', '3', 'Lam, Mr. Ali', 'male', '', '0', '0', '1601', '56.4958', '', 'S'], ['694', '0', '3', 'Saad, Mr. Khalil', 'male', '25', '0', '0', '2672', '7.225', '', 'C'], ['695', '0', '1', 'Weir, Col. John', 'male', '60', '0', '0', '113800', '26.55', '', 'S'], ['696', '0', '2', 'Chapman, Mr. Charles Henry', 'male', '52', '0', '0', '248731', '13.5', '', 'S'], ['697', '0', '3', 'Kelly, Mr. James', 'male', '44', '0', '0', '363592', '8.05', '', 'S'], ['698', '1', '3', 'Mullens, Miss. Katherine \"Katie\"', 'female', '', '0', '0', '35852', '7.7333', '', 'Q'], ['699', '0', '1', 'Thayer, Mr. John Borland', 'male', '49', '1', '1', '17421', '110.8833', 'C68', 'C'], ['700', '0', '3', 'Humblen, Mr. Adolf Mathias Nicolai Olsen', 'male', '42', '0', '0', '348121', '7.65', 'F G63', 'S'], ['701', '1', '1', 'Astor, Mrs. John Jacob (Madeleine Talmadge Force)', 'female', '18', '1', '0', 'PC 17757', '227.525', 'C62 C64', 'C'], ['702', '1', '1', 'Silverthorne, Mr. Spencer Victor', 'male', '35', '0', '0', 'PC 17475', '26.2875', 'E24', 'S'], ['703', '0', '3', 'Barbara, Miss. Saiide', 'female', '18', '0', '1', '2691', '14.4542', '', 'C'], ['704', '0', '3', 'Gallagher, Mr. Martin', 'male', '25', '0', '0', '36864', '7.7417', '', 'Q'], ['705', '0', '3', 'Hansen, Mr. Henrik Juul', 'male', '26', '1', '0', '350025', '7.8542', '', 'S'], ['706', '0', '2', 'Morley, Mr. Henry Samuel (\"Mr Henry Marshall\")', 'male', '39', '0', '0', '250655', '26', '', 'S'], ['707', '1', '2', 'Kelly, Mrs. Florence \"Fannie\"', 'female', '45', '0', '0', '223596', '13.5', '', 'S'], ['708', '1', '1', 'Calderhead, Mr. Edward Pennington', 'male', '42', '0', '0', 'PC 17476', '26.2875', 'E24', 'S'], ['709', '1', '1', 'Cleaver, Miss. Alice', 'female', '22', '0', '0', '113781', '151.55', '', 'S'], ['710', '1', '3', 'Moubarek, Master. Halim Gonios (\"William George\")', 'male', '', '1', '1', '2661', '15.2458', '', 'C'], ['711', '1', '1', 'Mayne, Mlle. Berthe Antonine (\"Mrs de Villiers\")', 'female', '24', '0', '0', 'PC 17482', '49.5042', 'C90', 'C'], ['712', '0', '1', 'Klaber, Mr. Herman', 'male', '', '0', '0', '113028', '26.55', 'C124', 'S'], ['713', '1', '1', 'Taylor, Mr. Elmer Zebley', 'male', '48', '1', '0', '19996', '52', 'C126', 'S'], ['714', '0', '3', 'Larsson, Mr. August Viktor', 'male', '29', '0', '0', '7545', '9.4833', '', 'S'], ['715', '0', '2', 'Greenberg, Mr. Samuel', 'male', '52', '0', '0', '250647', '13', '', 'S'], ['716', '0', '3', 'Soholt, Mr. Peter Andreas Lauritz Andersen', 'male', '19', '0', '0', '348124', '7.65', 'F G73', 'S'], ['717', '1', '1', 'Endres, Miss. Caroline Louise', 'female', '38', '0', '0', 'PC 17757', '227.525', 'C45', 'C'], ['718', '1', '2', 'Troutt, Miss. Edwina Celia \"Winnie\"', 'female', '27', '0', '0', '34218', '10.5', 'E101', 'S'], ['719', '0', '3', 'McEvoy, Mr. Michael', 'male', '', '0', '0', '36568', '15.5', '', 'Q'], ['720', '0', '3', 'Johnson, Mr. Malkolm Joackim', 'male', '33', '0', '0', '347062', '7.775', '', 'S'], ['721', '1', '2', 'Harper, Miss. Annie Jessie \"Nina\"', 'female', '6', '0', '1', '248727', '33', '', 'S'], ['722', '0', '3', 'Jensen, Mr. Svend Lauritz', 'male', '17', '1', '0', '350048', '7.0542', '', 'S'], ['723', '0', '2', 'Gillespie, Mr. William Henry', 'male', '34', '0', '0', '12233', '13', '', 'S'], ['724', '0', '2', 'Hodges, Mr. Henry Price', 'male', '50', '0', '0', '250643', '13', '', 'S'], ['725', '1', '1', 'Chambers, Mr. Norman Campbell', 'male', '27', '1', '0', '113806', '53.1', 'E8', 'S'], ['726', '0', '3', 'Oreskovic, Mr. Luka', 'male', '20', '0', '0', '315094', '8.6625', '', 'S'], ['727', '1', '2', 'Renouf, Mrs. Peter Henry (Lillian Jefferys)', 'female', '30', '3', '0', '31027', '21', '', 'S'], ['728', '1', '3', 'Mannion, Miss. Margareth', 'female', '', '0', '0', '36866', '7.7375', '', 'Q'], ['729', '0', '2', 'Bryhl, Mr. Kurt Arnold Gottfrid', 'male', '25', '1', '0', '236853', '26', '', 'S'], ['730', '0', '3', 'Ilmakangas, Miss. Pieta Sofia', 'female', '25', '1', '0', 'STON/O2. 3101271', '7.925', '', 'S'], ['731', '1', '1', 'Allen, Miss. Elisabeth Walton', 'female', '29', '0', '0', '24160', '211.3375', 'B5', 'S'], ['732', '0', '3', 'Hassan, Mr. Houssein G N', 'male', '11', '0', '0', '2699', '18.7875', '', 'C'], ['733', '0', '2', 'Knight, Mr. Robert J', 'male', '', '0', '0', '239855', '0', '', 'S'], ['734', '0', '2', 'Berriman, Mr. William John', 'male', '23', '0', '0', '28425', '13', '', 'S'], ['735', '0', '2', 'Troupiansky, Mr. Moses Aaron', 'male', '23', '0', '0', '233639', '13', '', 'S'], ['736', '0', '3', 'Williams, Mr. Leslie', 'male', '28.5', '0', '0', '54636', '16.1', '', 'S'], ['737', '0', '3', 'Ford, Mrs. Edward (Margaret Ann Watson)', 'female', '48', '1', '3', 'W./C. 6608', '34.375', '', 'S'], ['738', '1', '1', 'Lesurer, Mr. Gustave J', 'male', '35', '0', '0', 'PC 17755', '512.3292', 'B101', 'C'], ['739', '0', '3', 'Ivanoff, Mr. Kanio', 'male', '', '0', '0', '349201', '7.8958', '', 'S'], ['740', '0', '3', 'Nankoff, Mr. Minko', 'male', '', '0', '0', '349218', '7.8958', '', 'S'], ['741', '1', '1', 'Hawksford, Mr. Walter James', 'male', '', '0', '0', '16988', '30', 'D45', 'S'], ['742', '0', '1', 'Cavendish, Mr. Tyrell William', 'male', '36', '1', '0', '19877', '78.85', 'C46', 'S'], ['743', '1', '1', 'Ryerson, Miss. Susan Parker \"Suzette\"', 'female', '21', '2', '2', 'PC 17608', '262.375', 'B57 B59 B63 B66', 'C'], ['744', '0', '3', 'McNamee, Mr. Neal', 'male', '24', '1', '0', '376566', '16.1', '', 'S'], ['745', '1', '3', 'Stranden, Mr. Juho', 'male', '31', '0', '0', 'STON/O 2. 3101288', '7.925', '', 'S'], ['746', '0', '1', 'Crosby, Capt. Edward Gifford', 'male', '70', '1', '1', 'WE/P 5735', '71', 'B22', 'S'], ['747', '0', '3', 'Abbott, Mr. Rossmore Edward', 'male', '16', '1', '1', 'C.A. 2673', '20.25', '', 'S'], ['748', '1', '2', 'Sinkkonen, Miss. Anna', 'female', '30', '0', '0', '250648', '13', '', 'S'], ['749', '0', '1', 'Marvin, Mr. Daniel Warner', 'male', '19', '1', '0', '113773', '53.1', 'D30', 'S'], ['750', '0', '3', 'Connaghton, Mr. Michael', 'male', '31', '0', '0', '335097', '7.75', '', 'Q'], ['751', '1', '2', 'Wells, Miss. Joan', 'female', '4', '1', '1', '29103', '23', '', 'S'], ['752', '1', '3', 'Moor, Master. Meier', 'male', '6', '0', '1', '392096', '12.475', 'E121', 'S'], ['753', '0', '3', 'Vande Velde, Mr. Johannes Joseph', 'male', '33', '0', '0', '345780', '9.5', '', 'S'], ['754', '0', '3', 'Jonkoff, Mr. Lalio', 'male', '23', '0', '0', '349204', '7.8958', '', 'S'], ['755', '1', '2', 'Herman, Mrs. Samuel (Jane Laver)', 'female', '48', '1', '2', '220845', '65', '', 'S'], ['756', '1', '2', 'Hamalainen, Master. Viljo', 'male', '0.67', '1', '1', '250649', '14.5', '', 'S'], ['757', '0', '3', 'Carlsson, Mr. August Sigfrid', 'male', '28', '0', '0', '350042', '7.7958', '', 'S'], ['758', '0', '2', 'Bailey, Mr. Percy Andrew', 'male', '18', '0', '0', '29108', '11.5', '', 'S'], ['759', '0', '3', 'Theobald, Mr. Thomas Leonard', 'male', '34', '0', '0', '363294', '8.05', '', 'S'], ['760', '1', '1', 'Rothes, the Countess. of (Lucy Noel Martha Dyer-Edwards)', 'female', '33', '0', '0', '110152', '86.5', 'B77', 'S'], ['761', '0', '3', 'Garfirth, Mr. John', 'male', '', '0', '0', '358585', '14.5', '', 'S'], ['762', '0', '3', 'Nirva, Mr. Iisakki Antino Aijo', 'male', '41', '0', '0', 'SOTON/O2 3101272', '7.125', '', 'S'], ['763', '1', '3', 'Barah, Mr. Hanna Assi', 'male', '20', '0', '0', '2663', '7.2292', '', 'C'], ['764', '1', '1', 'Carter, Mrs. William Ernest (Lucile Polk)', 'female', '36', '1', '2', '113760', '120', 'B96 B98', 'S'], ['765', '0', '3', 'Eklund, Mr. Hans Linus', 'male', '16', '0', '0', '347074', '7.775', '', 'S'], ['766', '1', '1', 'Hogeboom, Mrs. John C (Anna Andrews)', 'female', '51', '1', '0', '13502', '77.9583', 'D11', 'S'], ['767', '0', '1', 'Brewe, Dr. Arthur Jackson', 'male', '', '0', '0', '112379', '39.6', '', 'C'], ['768', '0', '3', 'Mangan, Miss. Mary', 'female', '30.5', '0', '0', '364850', '7.75', '', 'Q'], ['769', '0', '3', 'Moran, Mr. Daniel J', 'male', '', '1', '0', '371110', '24.15', '', 'Q'], ['770', '0', '3', 'Gronnestad, Mr. Daniel Danielsen', 'male', '32', '0', '0', '8471', '8.3625', '', 'S'], ['771', '0', '3', 'Lievens, Mr. Rene Aime', 'male', '24', '0', '0', '345781', '9.5', '', 'S'], ['772', '0', '3', 'Jensen, Mr. Niels Peder', 'male', '48', '0', '0', '350047', '7.8542', '', 'S'], ['773', '0', '2', 'Mack, Mrs. (Mary)', 'female', '57', '0', '0', 'S.O./P.P. 3', '10.5', 'E77', 'S'], ['774', '0', '3', 'Elias, Mr. Dibo', 'male', '', '0', '0', '2674', '7.225', '', 'C'], ['775', '1', '2', 'Hocking, Mrs. Elizabeth (Eliza Needs)', 'female', '54', '1', '3', '29105', '23', '', 'S'], ['776', '0', '3', 'Myhrman, Mr. Pehr Fabian Oliver Malkolm', 'male', '18', '0', '0', '347078', '7.75', '', 'S'], ['777', '0', '3', 'Tobin, Mr. Roger', 'male', '', '0', '0', '383121', '7.75', 'F38', 'Q'], ['778', '1', '3', 'Emanuel, Miss. Virginia Ethel', 'female', '5', '0', '0', '364516', '12.475', '', 'S'], ['779', '0', '3', 'Kilgannon, Mr. Thomas J', 'male', '', '0', '0', '36865', '7.7375', '', 'Q'], ['780', '1', '1', 'Robert, Mrs. Edward Scott (Elisabeth Walton McMillan)', 'female', '43', '0', '1', '24160', '211.3375', 'B3', 'S'], ['781', '1', '3', 'Ayoub, Miss. Banoura', 'female', '13', '0', '0', '2687', '7.2292', '', 'C'], ['782', '1', '1', 'Dick, Mrs. Albert Adrian (Vera Gillespie)', 'female', '17', '1', '0', '17474', '57', 'B20', 'S'], ['783', '0', '1', 'Long, Mr. Milton Clyde', 'male', '29', '0', '0', '113501', '30', 'D6', 'S'], ['784', '0', '3', 'Johnston, Mr. Andrew G', 'male', '', '1', '2', 'W./C. 6607', '23.45', '', 'S'], ['785', '0', '3', 'Ali, Mr. William', 'male', '25', '0', '0', 'SOTON/O.Q. 3101312', '7.05', '', 'S'], ['786', '0', '3', 'Harmer, Mr. Abraham (David Lishin)', 'male', '25', '0', '0', '374887', '7.25', '', 'S'], ['787', '1', '3', 'Sjoblom, Miss. Anna Sofia', 'female', '18', '0', '0', '3101265', '7.4958', '', 'S'], ['788', '0', '3', 'Rice, Master. George Hugh', 'male', '8', '4', '1', '382652', '29.125', '', 'Q'], ['789', '1', '3', 'Dean, Master. Bertram Vere', 'male', '1', '1', '2', 'C.A. 2315', '20.575', '', 'S'], ['790', '0', '1', 'Guggenheim, Mr. Benjamin', 'male', '46', '0', '0', 'PC 17593', '79.2', 'B82 B84', 'C'], ['791', '0', '3', 'Keane, Mr. Andrew \"Andy\"', 'male', '', '0', '0', '12460', '7.75', '', 'Q'], ['792', '0', '2', 'Gaskell, Mr. Alfred', 'male', '16', '0', '0', '239865', '26', '', 'S'], ['793', '0', '3', 'Sage, Miss. Stella Anna', 'female', '', '8', '2', 'CA. 2343', '69.55', '', 'S'], ['794', '0', '1', 'Hoyt, Mr. William Fisher', 'male', '', '0', '0', 'PC 17600', '30.6958', '', 'C'], ['795', '0', '3', 'Dantcheff, Mr. Ristiu', 'male', '25', '0', '0', '349203', '7.8958', '', 'S'], ['796', '0', '2', 'Otter, Mr. Richard', 'male', '39', '0', '0', '28213', '13', '', 'S'], ['797', '1', '1', 'Leader, Dr. Alice (Farnham)', 'female', '49', '0', '0', '17465', '25.9292', 'D17', 'S'], ['798', '1', '3', 'Osman, Mrs. Mara', 'female', '31', '0', '0', '349244', '8.6833', '', 'S'], ['799', '0', '3', 'Ibrahim Shawah, Mr. Yousseff', 'male', '30', '0', '0', '2685', '7.2292', '', 'C'], ['800', '0', '3', 'Van Impe, Mrs. Jean Baptiste (Rosalie Paula Govaert)', 'female', '30', '1', '1', '345773', '24.15', '', 'S'], ['801', '0', '2', 'Ponesell, Mr. Martin', 'male', '34', '0', '0', '250647', '13', '', 'S'], ['802', '1', '2', 'Collyer, Mrs. Harvey (Charlotte Annie Tate)', 'female', '31', '1', '1', 'C.A. 31921', '26.25', '', 'S'], ['803', '1', '1', 'Carter, Master. William Thornton II', 'male', '11', '1', '2', '113760', '120', 'B96 B98', 'S'], ['804', '1', '3', 'Thomas, Master. Assad Alexander', 'male', '0.42', '0', '1', '2625', '8.5167', '', 'C'], ['805', '1', '3', 'Hedman, Mr. Oskar Arvid', 'male', '27', '0', '0', '347089', '6.975', '', 'S'], ['806', '0', '3', 'Johansson, Mr. Karl Johan', 'male', '31', '0', '0', '347063', '7.775', '', 'S'], ['807', '0', '1', 'Andrews, Mr. Thomas Jr', 'male', '39', '0', '0', '112050', '0', 'A36', 'S'], ['808', '0', '3', 'Pettersson, Miss. Ellen Natalia', 'female', '18', '0', '0', '347087', '7.775', '', 'S'], ['809', '0', '2', 'Meyer, Mr. August', 'male', '39', '0', '0', '248723', '13', '', 'S'], ['810', '1', '1', 'Chambers, Mrs. Norman Campbell (Bertha Griggs)', 'female', '33', '1', '0', '113806', '53.1', 'E8', 'S'], ['811', '0', '3', 'Alexander, Mr. William', 'male', '26', '0', '0', '3474', '7.8875', '', 'S'], ['812', '0', '3', 'Lester, Mr. James', 'male', '39', '0', '0', 'A/4 48871', '24.15', '', 'S'], ['813', '0', '2', 'Slemen, Mr. Richard James', 'male', '35', '0', '0', '28206', '10.5', '', 'S'], ['814', '0', '3', 'Andersson, Miss. Ebba Iris Alfrida', 'female', '6', '4', '2', '347082', '31.275', '', 'S'], ['815', '0', '3', 'Tomlin, Mr. Ernest Portage', 'male', '30.5', '0', '0', '364499', '8.05', '', 'S'], ['816', '0', '1', 'Fry, Mr. Richard', 'male', '', '0', '0', '112058', '0', 'B102', 'S'], ['817', '0', '3', 'Heininen, Miss. Wendla Maria', 'female', '23', '0', '0', 'STON/O2. 3101290', '7.925', '', 'S'], ['818', '0', '2', 'Mallet, Mr. Albert', 'male', '31', '1', '1', 'S.C./PARIS 2079', '37.0042', '', 'C'], ['819', '0', '3', 'Holm, Mr. John Fredrik Alexander', 'male', '43', '0', '0', 'C 7075', '6.45', '', 'S'], ['820', '0', '3', 'Skoog, Master. Karl Thorsten', 'male', '10', '3', '2', '347088', '27.9', '', 'S'], ['821', '1', '1', 'Hays, Mrs. Charles Melville (Clara Jennings Gregg)', 'female', '52', '1', '1', '12749', '93.5', 'B69', 'S'], ['822', '1', '3', 'Lulic, Mr. Nikola', 'male', '27', '0', '0', '315098', '8.6625', '', 'S'], ['823', '0', '1', 'Reuchlin, Jonkheer. John George', 'male', '38', '0', '0', '19972', '0', '', 'S'], ['824', '1', '3', 'Moor, Mrs. (Beila)', 'female', '27', '0', '1', '392096', '12.475', 'E121', 'S'], ['825', '0', '3', 'Panula, Master. Urho Abraham', 'male', '2', '4', '1', '3101295', '39.6875', '', 'S'], ['826', '0', '3', 'Flynn, Mr. John', 'male', '', '0', '0', '368323', '6.95', '', 'Q'], ['827', '0', '3', 'Lam, Mr. Len', 'male', '', '0', '0', '1601', '56.4958', '', 'S'], ['828', '1', '2', 'Mallet, Master. Andre', 'male', '1', '0', '2', 'S.C./PARIS 2079', '37.0042', '', 'C'], ['829', '1', '3', 'McCormack, Mr. Thomas Joseph', 'male', '', '0', '0', '367228', '7.75', '', 'Q'], ['830', '1', '1', 'Stone, Mrs. George Nelson (Martha Evelyn)', 'female', '62', '0', '0', '113572', '80', 'B28', ''], ['831', '1', '3', 'Yasbeck, Mrs. Antoni (Selini Alexander)', 'female', '15', '1', '0', '2659', '14.4542', '', 'C'], ['832', '1', '2', 'Richards, Master. George Sibley', 'male', '0.83', '1', '1', '29106', '18.75', '', 'S'], ['833', '0', '3', 'Saad, Mr. Amin', 'male', '', '0', '0', '2671', '7.2292', '', 'C'], ['834', '0', '3', 'Augustsson, Mr. Albert', 'male', '23', '0', '0', '347468', '7.8542', '', 'S'], ['835', '0', '3', 'Allum, Mr. Owen George', 'male', '18', '0', '0', '2223', '8.3', '', 'S'], ['836', '1', '1', 'Compton, Miss. Sara Rebecca', 'female', '39', '1', '1', 'PC 17756', '83.1583', 'E49', 'C'], ['837', '0', '3', 'Pasic, Mr. Jakob', 'male', '21', '0', '0', '315097', '8.6625', '', 'S'], ['838', '0', '3', 'Sirota, Mr. Maurice', 'male', '', '0', '0', '392092', '8.05', '', 'S'], ['839', '1', '3', 'Chip, Mr. Chang', 'male', '32', '0', '0', '1601', '56.4958', '', 'S'], ['840', '1', '1', 'Marechal, Mr. Pierre', 'male', '', '0', '0', '11774', '29.7', 'C47', 'C'], ['841', '0', '3', 'Alhomaki, Mr. Ilmari Rudolf', 'male', '20', '0', '0', 'SOTON/O2 3101287', '7.925', '', 'S'], ['842', '0', '2', 'Mudd, Mr. Thomas Charles', 'male', '16', '0', '0', 'S.O./P.P. 3', '10.5', '', 'S'], ['843', '1', '1', 'Serepeca, Miss. Augusta', 'female', '30', '0', '0', '113798', '31', '', 'C'], ['844', '0', '3', 'Lemberopolous, Mr. Peter L', 'male', '34.5', '0', '0', '2683', '6.4375', '', 'C'], ['845', '0', '3', 'Culumovic, Mr. Jeso', 'male', '17', '0', '0', '315090', '8.6625', '', 'S'], ['846', '0', '3', 'Abbing, Mr. Anthony', 'male', '42', '0', '0', 'C.A. 5547', '7.55', '', 'S'], ['847', '0', '3', 'Sage, Mr. Douglas Bullen', 'male', '', '8', '2', 'CA. 2343', '69.55', '', 'S'], ['848', '0', '3', 'Markoff, Mr. Marin', 'male', '35', '0', '0', '349213', '7.8958', '', 'C'], ['849', '0', '2', 'Harper, Rev. John', 'male', '28', '0', '1', '248727', '33', '', 'S'], ['850', '1', '1', 'Goldenberg, Mrs. Samuel L (Edwiga Grabowska)', 'female', '', '1', '0', '17453', '89.1042', 'C92', 'C'], ['851', '0', '3', 'Andersson, Master. Sigvard Harald Elias', 'male', '4', '4', '2', '347082', '31.275', '', 'S'], ['852', '0', '3', 'Svensson, Mr. Johan', 'male', '74', '0', '0', '347060', '7.775', '', 'S'], ['853', '0', '3', 'Boulos, Miss. Nourelain', 'female', '9', '1', '1', '2678', '15.2458', '', 'C'], ['854', '1', '1', 'Lines, Miss. Mary Conover', 'female', '16', '0', '1', 'PC 17592', '39.4', 'D28', 'S'], ['855', '0', '2', 'Carter, Mrs. Ernest Courtenay (Lilian Hughes)', 'female', '44', '1', '0', '244252', '26', '', 'S'], ['856', '1', '3', 'Aks, Mrs. Sam (Leah Rosen)', 'female', '18', '0', '1', '392091', '9.35', '', 'S'], ['857', '1', '1', 'Wick, Mrs. George Dennick (Mary Hitchcock)', 'female', '45', '1', '1', '36928', '164.8667', '', 'S'], ['858', '1', '1', 'Daly, Mr. Peter Denis ', 'male', '51', '0', '0', '113055', '26.55', 'E17', 'S'], ['859', '1', '3', 'Baclini, Mrs. Solomon (Latifa Qurban)', 'female', '24', '0', '3', '2666', '19.2583', '', 'C'], ['860', '0', '3', 'Razi, Mr. Raihed', 'male', '', '0', '0', '2629', '7.2292', '', 'C'], ['861', '0', '3', 'Hansen, Mr. Claus Peter', 'male', '41', '2', '0', '350026', '14.1083', '', 'S'], ['862', '0', '2', 'Giles, Mr. Frederick Edward', 'male', '21', '1', '0', '28134', '11.5', '', 'S'], ['863', '1', '1', 'Swift, Mrs. Frederick Joel (Margaret Welles Barron)', 'female', '48', '0', '0', '17466', '25.9292', 'D17', 'S'], ['864', '0', '3', 'Sage, Miss. Dorothy Edith \"Dolly\"', 'female', '', '8', '2', 'CA. 2343', '69.55', '', 'S'], ['865', '0', '2', 'Gill, Mr. John William', 'male', '24', '0', '0', '233866', '13', '', 'S'], ['866', '1', '2', 'Bystrom, Mrs. (Karolina)', 'female', '42', '0', '0', '236852', '13', '', 'S'], ['867', '1', '2', 'Duran y More, Miss. Asuncion', 'female', '27', '1', '0', 'SC/PARIS 2149', '13.8583', '', 'C'], ['868', '0', '1', 'Roebling, Mr. Washington Augustus II', 'male', '31', '0', '0', 'PC 17590', '50.4958', 'A24', 'S'], ['869', '0', '3', 'van Melkebeke, Mr. Philemon', 'male', '', '0', '0', '345777', '9.5', '', 'S'], ['870', '1', '3', 'Johnson, Master. Harold Theodor', 'male', '4', '1', '1', '347742', '11.1333', '', 'S'], ['871', '0', '3', 'Balkic, Mr. Cerin', 'male', '26', '0', '0', '349248', '7.8958', '', 'S'], ['872', '1', '1', 'Beckwith, Mrs. Richard Leonard (Sallie Monypeny)', 'female', '47', '1', '1', '11751', '52.5542', 'D35', 'S'], ['873', '0', '1', 'Carlsson, Mr. Frans Olof', 'male', '33', '0', '0', '695', '5', 'B51 B53 B55', 'S'], ['874', '0', '3', 'Vander Cruyssen, Mr. Victor', 'male', '47', '0', '0', '345765', '9', '', 'S'], ['875', '1', '2', 'Abelson, Mrs. Samuel (Hannah Wizosky)', 'female', '28', '1', '0', 'P/PP 3381', '24', '', 'C'], ['876', '1', '3', 'Najib, Miss. Adele Kiamie \"Jane\"', 'female', '15', '0', '0', '2667', '7.225', '', 'C'], ['877', '0', '3', 'Gustafsson, Mr. Alfred Ossian', 'male', '20', '0', '0', '7534', '9.8458', '', 'S'], ['878', '0', '3', 'Petroff, Mr. Nedelio', 'male', '19', '0', '0', '349212', '7.8958', '', 'S'], ['879', '0', '3', 'Laleff, Mr. Kristo', 'male', '', '0', '0', '349217', '7.8958', '', 'S'], ['880', '1', '1', 'Potter, Mrs. Thomas Jr (Lily Alexenia Wilson)', 'female', '56', '0', '1', '11767', '83.1583', 'C50', 'C'], ['881', '1', '2', 'Shelley, Mrs. William (Imanita Parrish Hall)', 'female', '25', '0', '1', '230433', '26', '', 'S'], ['882', '0', '3', 'Markun, Mr. Johann', 'male', '33', '0', '0', '349257', '7.8958', '', 'S'], ['883', '0', '3', 'Dahlberg, Miss. Gerda Ulrika', 'female', '22', '0', '0', '7552', '10.5167', '', 'S'], ['884', '0', '2', 'Banfield, Mr. Frederick James', 'male', '28', '0', '0', 'C.A./SOTON 34068', '10.5', '', 'S'], ['885', '0', '3', 'Sutehall, Mr. Henry Jr', 'male', '25', '0', '0', 'SOTON/OQ 392076', '7.05', '', 'S'], ['886', '0', '3', 'Rice, Mrs. William (Margaret Norton)', 'female', '39', '0', '5', '382652', '29.125', '', 'Q'], ['887', '0', '2', 'Montvila, Rev. Juozas', 'male', '27', '0', '0', '211536', '13', '', 'S'], ['888', '1', '1', 'Graham, Miss. Margaret Edith', 'female', '19', '0', '0', '112053', '30', 'B42', 'S'], ['889', '0', '3', 'Johnston, Miss. Catherine Helen \"Carrie\"', 'female', '', '1', '2', 'W./C. 6607', '23.45', '', 'S'], ['890', '1', '1', 'Behr, Mr. Karl Howell', 'male', '26', '0', '0', '111369', '30', 'C148', 'C'], ['891', '0', '3', 'Dooley, Mr. Patrick', 'male', '32', '0', '0', '370376', '7.75', '', 'Q']]\n"
     ]
    }
   ],
   "execution_count": 5
  },
  {
   "metadata": {
    "ExecuteTime": {
     "end_time": "2024-09-26T16:29:43.090120Z",
     "start_time": "2024-09-26T16:29:43.085111Z"
    }
   },
   "cell_type": "code",
   "source": [
    "# display the first row (column titles) \n",
    "print(data_orig[0])"
   ],
   "outputs": [
    {
     "name": "stdout",
     "output_type": "stream",
     "text": [
      "['PassengerId', 'Survived', 'Pclass', 'Name', 'Sex', 'Age', 'SibSp', 'Parch', 'Ticket', 'Fare', 'Cabin', 'Embarked']\n"
     ]
    }
   ],
   "execution_count": 6
  },
  {
   "metadata": {
    "ExecuteTime": {
     "end_time": "2024-09-26T16:29:43.136552Z",
     "start_time": "2024-09-26T16:29:43.119985Z"
    }
   },
   "cell_type": "code",
   "source": [
    "# display first two samples\n",
    "print(data_orig[0:2])"
   ],
   "outputs": [
    {
     "name": "stdout",
     "output_type": "stream",
     "text": [
      "[['PassengerId', 'Survived', 'Pclass', 'Name', 'Sex', 'Age', 'SibSp', 'Parch', 'Ticket', 'Fare', 'Cabin', 'Embarked'], ['1', '0', '3', 'Braund, Mr. Owen Harris', 'male', '22', '1', '0', 'A/5 21171', '7.25', '', 'S']]\n"
     ]
    }
   ],
   "execution_count": 7
  },
  {
   "metadata": {
    "ExecuteTime": {
     "end_time": "2024-09-26T16:29:43.198520Z",
     "start_time": "2024-09-26T16:29:43.180259Z"
    }
   },
   "cell_type": "code",
   "source": [
    "# how would you display the last five samples?\n",
    "print(data_orig[-5:])"
   ],
   "outputs": [
    {
     "name": "stdout",
     "output_type": "stream",
     "text": [
      "[['887', '0', '2', 'Montvila, Rev. Juozas', 'male', '27', '0', '0', '211536', '13', '', 'S'], ['888', '1', '1', 'Graham, Miss. Margaret Edith', 'female', '19', '0', '0', '112053', '30', 'B42', 'S'], ['889', '0', '3', 'Johnston, Miss. Catherine Helen \"Carrie\"', 'female', '', '1', '2', 'W./C. 6607', '23.45', '', 'S'], ['890', '1', '1', 'Behr, Mr. Karl Howell', 'male', '26', '0', '0', '111369', '30', 'C148', 'C'], ['891', '0', '3', 'Dooley, Mr. Patrick', 'male', '32', '0', '0', '370376', '7.75', '', 'Q']]\n"
     ]
    }
   ],
   "execution_count": 8
  },
  {
   "metadata": {
    "ExecuteTime": {
     "end_time": "2024-09-26T16:29:43.244643Z",
     "start_time": "2024-09-26T16:29:43.237193Z"
    }
   },
   "cell_type": "code",
   "source": [
    "# how would you display the first five odd samples?\n",
    "print([data_orig[i] for i in range(1, 10, 2)])"
   ],
   "outputs": [
    {
     "name": "stdout",
     "output_type": "stream",
     "text": [
      "[['1', '0', '3', 'Braund, Mr. Owen Harris', 'male', '22', '1', '0', 'A/5 21171', '7.25', '', 'S'], ['3', '1', '3', 'Heikkinen, Miss. Laina', 'female', '26', '0', '0', 'STON/O2. 3101282', '7.925', '', 'S'], ['5', '0', '3', 'Allen, Mr. William Henry', 'male', '35', '0', '0', '373450', '8.05', '', 'S'], ['7', '0', '1', 'McCarthy, Mr. Timothy J', 'male', '54', '0', '0', '17463', '51.8625', 'E46', 'S'], ['9', '1', '3', 'Johnson, Mrs. Oscar W (Elisabeth Vilhelmina Berg)', 'female', '27', '0', '2', '347742', '11.1333', '', 'S']]\n"
     ]
    }
   ],
   "execution_count": 9
  },
  {
   "metadata": {
    "ExecuteTime": {
     "end_time": "2024-09-26T16:29:43.307055Z",
     "start_time": "2024-09-26T16:29:43.293341Z"
    }
   },
   "cell_type": "code",
   "source": [
    "# can you find the Master. Michel Navratil, Passenger ID 194?\n",
    "print([data_orig[i] for i in range(len(data_orig)) if data_orig[i][0] == '194'])"
   ],
   "outputs": [
    {
     "name": "stdout",
     "output_type": "stream",
     "text": [
      "[['194', '1', '2', 'Navratil, Master. Michel M', 'male', '3', '1', '1', '230080', '26', 'F2', 'S']]\n"
     ]
    }
   ],
   "execution_count": 10
  },
  {
   "metadata": {},
   "cell_type": "markdown",
   "source": [
    "### Numpy Module\n",
    "\n",
    "Numpy provides support for working with multi-dimensional data such as our CSV file. In particular, it has a number of methods for efficient computation of linear algebra equations, provides capability for finding, extracting and/or changing information in multi-dimensional data, and allows for slicing of matrices simulataneously by column and row indices (i.e. using numpy in Python gives functionality similar to MATLAB).\n",
    "\n",
    "We'll highlight some of these traits as we proceed with our data analysis."
   ]
  },
  {
   "metadata": {},
   "cell_type": "markdown",
   "source": "To start we'll load our numpy module and convert our nested list into a numpy array"
  },
  {
   "metadata": {
    "ExecuteTime": {
     "end_time": "2024-09-26T16:29:43.416651Z",
     "start_time": "2024-09-26T16:29:43.342321Z"
    }
   },
   "cell_type": "code",
   "source": [
    "import numpy as np\n",
    "\n",
    "data_numpy = np.array(data_orig)"
   ],
   "outputs": [],
   "execution_count": 11
  },
  {
   "metadata": {},
   "cell_type": "markdown",
   "source": "data_numpy now holds all of the Titanic data."
  },
  {
   "metadata": {
    "ExecuteTime": {
     "end_time": "2024-09-26T16:29:43.448082Z",
     "start_time": "2024-09-26T16:29:43.433551Z"
    }
   },
   "cell_type": "code",
   "source": [
    "# display numpy dataset\n",
    "print(data_numpy)"
   ],
   "outputs": [
    {
     "name": "stdout",
     "output_type": "stream",
     "text": [
      "[['PassengerId' 'Survived' 'Pclass' ... 'Fare' 'Cabin' 'Embarked']\n",
      " ['1' '0' '3' ... '7.25' '' 'S']\n",
      " ['2' '1' '1' ... '71.2833' 'C85' 'C']\n",
      " ...\n",
      " ['889' '0' '3' ... '23.45' '' 'S']\n",
      " ['890' '1' '1' ... '30' 'C148' 'C']\n",
      " ['891' '0' '3' ... '7.75' '' 'Q']]\n"
     ]
    }
   ],
   "execution_count": 12
  },
  {
   "metadata": {},
   "cell_type": "markdown",
   "source": [
    "Notice how numpy 2-dimensional data is printed across multiple rows rather than a continuous row as we've seen previously with nested lists.\n",
    "\n",
    "Since there are a large number of samples, we cannot display all of them at the same time. Instead we can verify the structure of the data by displaying some of the samples at a time. Before we can do that we first need to understand how the numpy comma slicing notation works."
   ]
  },
  {
   "metadata": {},
   "cell_type": "markdown",
   "source": [
    "### Numpy Slicing\n",
    "\n",
    "Slicing in Numpy is done differently from what we've seen so far. To highlight the differences we will compare numpy indexing and slicing of 1-dimensional and 2-dimensional data and compare it to what we did for lists.\n",
    "\n",
    "#### 1-dimensional data: Indexing and Slicing\n",
    "\n",
    "To index a list we use square brackets [], and to slice a list we would use a colon operator:\n",
    "\n",
    "* list_variable[index]  \n",
    "* list_variable[start:end:step]\n",
    "\n",
    "The same can be done for numpy:\n",
    "\n",
    "* numpy_variable[index]  \n",
    "* numpy_variable[start:end:step]"
   ]
  },
  {
   "metadata": {
    "ExecuteTime": {
     "end_time": "2024-09-26T16:29:43.480475Z",
     "start_time": "2024-09-26T16:29:43.471166Z"
    }
   },
   "cell_type": "code",
   "source": [
    "list_variable = [1, 2, 3, 4, 5, 6, 7, 8, 9, 10, 11, 12]\n",
    "\n",
    "#list indexing\n",
    "print(list_variable[2])\n",
    "\n",
    "#list slicing\n",
    "print(list_variable[1:8:2])"
   ],
   "outputs": [
    {
     "name": "stdout",
     "output_type": "stream",
     "text": [
      "3\n",
      "[2, 4, 6, 8]\n"
     ]
    }
   ],
   "execution_count": 13
  },
  {
   "metadata": {
    "ExecuteTime": {
     "end_time": "2024-09-26T16:29:43.511282Z",
     "start_time": "2024-09-26T16:29:43.504239Z"
    }
   },
   "cell_type": "code",
   "source": [
    "numpy_variable = np.array([1, 2, 3, 4, 5, 6, 7, 8, 9, 10, 11, 12])\n",
    "\n",
    "#numpy array indexing\n",
    "print(numpy_variable[2])\n",
    "#numpy array slicing\n",
    "print(numpy_variable[1:8:2])"
   ],
   "outputs": [
    {
     "name": "stdout",
     "output_type": "stream",
     "text": [
      "3\n",
      "[2 4 6 8]\n"
     ]
    }
   ],
   "execution_count": 14
  },
  {
   "metadata": {},
   "cell_type": "markdown",
   "source": [
    "#### 2-dimensional data: Indexing and Slicing\n",
    "\n",
    "To index a 2-dimensional list (nested list) we attach a second set of square brackets []\\[\\], however we are not able to slice a nested list by row and column simultaneously. \n",
    "\n",
    "* list_variable\\[index1\\]\\[index2\\]  \n",
    "* list_variable\\[start:end:step\\]\\[start:end:step\\] -> does something completely different  \n",
    "\n",
    "To index a 2-dimensional numpy array we use the comma notation, which unlike with nested lists, allows us slice a numpy array simultaneously by column and row.\n",
    "\n",
    "* numpy_variable[index1,index2]  \n",
    "* numpy_variable[start:end:step, start:end:step]  \n",
    "\n"
   ]
  },
  {
   "metadata": {
    "ExecuteTime": {
     "end_time": "2024-09-26T16:29:43.557847Z",
     "start_time": "2024-09-26T16:29:43.545271Z"
    }
   },
   "cell_type": "code",
   "source": [
    "list_variable = [[1, 2, 3, 4], [5, 6, 7, 8], [9, 10, 11, 12]]\n",
    "\n",
    "# nested list indexing\n",
    "print(list_variable[2][0])\n",
    "\n",
    "# nested list slicing\n",
    "print(list_variable[0:2][0])  # creates a list of the first two rows, then gets the first element"
   ],
   "outputs": [
    {
     "name": "stdout",
     "output_type": "stream",
     "text": [
      "9\n",
      "[1, 2, 3, 4]\n"
     ]
    }
   ],
   "execution_count": 15
  },
  {
   "metadata": {
    "ExecuteTime": {
     "end_time": "2024-09-26T16:29:43.604458Z",
     "start_time": "2024-09-26T16:29:43.592536Z"
    }
   },
   "cell_type": "code",
   "source": [
    "numpy_variable = np.array([[1, 2, 3, 4], [5, 6, 7, 8], [9, 10, 11, 12]])\n",
    "\n",
    "# 2-d numpy array indexing\n",
    "print(numpy_variable[2, 0])\n",
    "\n",
    "# 2-d numpy array slicing\n",
    "# get the first two entries in the first column\n",
    "print(numpy_variable[0:2, 0])"
   ],
   "outputs": [
    {
     "name": "stdout",
     "output_type": "stream",
     "text": [
      "9\n",
      "[1 5]\n"
     ]
    }
   ],
   "execution_count": 16
  },
  {
   "metadata": {
    "ExecuteTime": {
     "end_time": "2024-09-26T16:29:43.651187Z",
     "start_time": "2024-09-26T16:29:43.632705Z"
    }
   },
   "cell_type": "code",
   "source": "numpy_variable",
   "outputs": [
    {
     "data": {
      "text/plain": [
       "array([[ 1,  2,  3,  4],\n",
       "       [ 5,  6,  7,  8],\n",
       "       [ 9, 10, 11, 12]])"
      ]
     },
     "execution_count": 17,
     "metadata": {},
     "output_type": "execute_result"
    }
   ],
   "execution_count": 17
  },
  {
   "metadata": {},
   "cell_type": "markdown",
   "source": "Now we can go about verifying the format of the data by displaying some of the samples at a time."
  },
  {
   "metadata": {
    "ExecuteTime": {
     "end_time": "2024-09-26T16:29:43.728610Z",
     "start_time": "2024-09-26T16:29:43.714315Z"
    }
   },
   "cell_type": "code",
   "source": [
    "# select first row\n",
    "print(data_numpy[0, :])\n",
    "print(data_numpy[0])"
   ],
   "outputs": [
    {
     "name": "stdout",
     "output_type": "stream",
     "text": [
      "['PassengerId' 'Survived' 'Pclass' 'Name' 'Sex' 'Age' 'SibSp' 'Parch'\n",
      " 'Ticket' 'Fare' 'Cabin' 'Embarked']\n",
      "['PassengerId' 'Survived' 'Pclass' 'Name' 'Sex' 'Age' 'SibSp' 'Parch'\n",
      " 'Ticket' 'Fare' 'Cabin' 'Embarked']\n"
     ]
    }
   ],
   "execution_count": 18
  },
  {
   "metadata": {
    "ExecuteTime": {
     "end_time": "2024-09-26T16:29:43.821966Z",
     "start_time": "2024-09-26T16:29:43.816214Z"
    }
   },
   "cell_type": "code",
   "source": [
    "# select first column\n",
    "# select first column = select first element of each row\n",
    "print(data_numpy[:, 0])"
   ],
   "outputs": [
    {
     "name": "stdout",
     "output_type": "stream",
     "text": [
      "['PassengerId' '1' '2' '3' '4' '5' '6' '7' '8' '9' '10' '11' '12' '13'\n",
      " '14' '15' '16' '17' '18' '19' '20' '21' '22' '23' '24' '25' '26' '27'\n",
      " '28' '29' '30' '31' '32' '33' '34' '35' '36' '37' '38' '39' '40' '41'\n",
      " '42' '43' '44' '45' '46' '47' '48' '49' '50' '51' '52' '53' '54' '55'\n",
      " '56' '57' '58' '59' '60' '61' '62' '63' '64' '65' '66' '67' '68' '69'\n",
      " '70' '71' '72' '73' '74' '75' '76' '77' '78' '79' '80' '81' '82' '83'\n",
      " '84' '85' '86' '87' '88' '89' '90' '91' '92' '93' '94' '95' '96' '97'\n",
      " '98' '99' '100' '101' '102' '103' '104' '105' '106' '107' '108' '109'\n",
      " '110' '111' '112' '113' '114' '115' '116' '117' '118' '119' '120' '121'\n",
      " '122' '123' '124' '125' '126' '127' '128' '129' '130' '131' '132' '133'\n",
      " '134' '135' '136' '137' '138' '139' '140' '141' '142' '143' '144' '145'\n",
      " '146' '147' '148' '149' '150' '151' '152' '153' '154' '155' '156' '157'\n",
      " '158' '159' '160' '161' '162' '163' '164' '165' '166' '167' '168' '169'\n",
      " '170' '171' '172' '173' '174' '175' '176' '177' '178' '179' '180' '181'\n",
      " '182' '183' '184' '185' '186' '187' '188' '189' '190' '191' '192' '193'\n",
      " '194' '195' '196' '197' '198' '199' '200' '201' '202' '203' '204' '205'\n",
      " '206' '207' '208' '209' '210' '211' '212' '213' '214' '215' '216' '217'\n",
      " '218' '219' '220' '221' '222' '223' '224' '225' '226' '227' '228' '229'\n",
      " '230' '231' '232' '233' '234' '235' '236' '237' '238' '239' '240' '241'\n",
      " '242' '243' '244' '245' '246' '247' '248' '249' '250' '251' '252' '253'\n",
      " '254' '255' '256' '257' '258' '259' '260' '261' '262' '263' '264' '265'\n",
      " '266' '267' '268' '269' '270' '271' '272' '273' '274' '275' '276' '277'\n",
      " '278' '279' '280' '281' '282' '283' '284' '285' '286' '287' '288' '289'\n",
      " '290' '291' '292' '293' '294' '295' '296' '297' '298' '299' '300' '301'\n",
      " '302' '303' '304' '305' '306' '307' '308' '309' '310' '311' '312' '313'\n",
      " '314' '315' '316' '317' '318' '319' '320' '321' '322' '323' '324' '325'\n",
      " '326' '327' '328' '329' '330' '331' '332' '333' '334' '335' '336' '337'\n",
      " '338' '339' '340' '341' '342' '343' '344' '345' '346' '347' '348' '349'\n",
      " '350' '351' '352' '353' '354' '355' '356' '357' '358' '359' '360' '361'\n",
      " '362' '363' '364' '365' '366' '367' '368' '369' '370' '371' '372' '373'\n",
      " '374' '375' '376' '377' '378' '379' '380' '381' '382' '383' '384' '385'\n",
      " '386' '387' '388' '389' '390' '391' '392' '393' '394' '395' '396' '397'\n",
      " '398' '399' '400' '401' '402' '403' '404' '405' '406' '407' '408' '409'\n",
      " '410' '411' '412' '413' '414' '415' '416' '417' '418' '419' '420' '421'\n",
      " '422' '423' '424' '425' '426' '427' '428' '429' '430' '431' '432' '433'\n",
      " '434' '435' '436' '437' '438' '439' '440' '441' '442' '443' '444' '445'\n",
      " '446' '447' '448' '449' '450' '451' '452' '453' '454' '455' '456' '457'\n",
      " '458' '459' '460' '461' '462' '463' '464' '465' '466' '467' '468' '469'\n",
      " '470' '471' '472' '473' '474' '475' '476' '477' '478' '479' '480' '481'\n",
      " '482' '483' '484' '485' '486' '487' '488' '489' '490' '491' '492' '493'\n",
      " '494' '495' '496' '497' '498' '499' '500' '501' '502' '503' '504' '505'\n",
      " '506' '507' '508' '509' '510' '511' '512' '513' '514' '515' '516' '517'\n",
      " '518' '519' '520' '521' '522' '523' '524' '525' '526' '527' '528' '529'\n",
      " '530' '531' '532' '533' '534' '535' '536' '537' '538' '539' '540' '541'\n",
      " '542' '543' '544' '545' '546' '547' '548' '549' '550' '551' '552' '553'\n",
      " '554' '555' '556' '557' '558' '559' '560' '561' '562' '563' '564' '565'\n",
      " '566' '567' '568' '569' '570' '571' '572' '573' '574' '575' '576' '577'\n",
      " '578' '579' '580' '581' '582' '583' '584' '585' '586' '587' '588' '589'\n",
      " '590' '591' '592' '593' '594' '595' '596' '597' '598' '599' '600' '601'\n",
      " '602' '603' '604' '605' '606' '607' '608' '609' '610' '611' '612' '613'\n",
      " '614' '615' '616' '617' '618' '619' '620' '621' '622' '623' '624' '625'\n",
      " '626' '627' '628' '629' '630' '631' '632' '633' '634' '635' '636' '637'\n",
      " '638' '639' '640' '641' '642' '643' '644' '645' '646' '647' '648' '649'\n",
      " '650' '651' '652' '653' '654' '655' '656' '657' '658' '659' '660' '661'\n",
      " '662' '663' '664' '665' '666' '667' '668' '669' '670' '671' '672' '673'\n",
      " '674' '675' '676' '677' '678' '679' '680' '681' '682' '683' '684' '685'\n",
      " '686' '687' '688' '689' '690' '691' '692' '693' '694' '695' '696' '697'\n",
      " '698' '699' '700' '701' '702' '703' '704' '705' '706' '707' '708' '709'\n",
      " '710' '711' '712' '713' '714' '715' '716' '717' '718' '719' '720' '721'\n",
      " '722' '723' '724' '725' '726' '727' '728' '729' '730' '731' '732' '733'\n",
      " '734' '735' '736' '737' '738' '739' '740' '741' '742' '743' '744' '745'\n",
      " '746' '747' '748' '749' '750' '751' '752' '753' '754' '755' '756' '757'\n",
      " '758' '759' '760' '761' '762' '763' '764' '765' '766' '767' '768' '769'\n",
      " '770' '771' '772' '773' '774' '775' '776' '777' '778' '779' '780' '781'\n",
      " '782' '783' '784' '785' '786' '787' '788' '789' '790' '791' '792' '793'\n",
      " '794' '795' '796' '797' '798' '799' '800' '801' '802' '803' '804' '805'\n",
      " '806' '807' '808' '809' '810' '811' '812' '813' '814' '815' '816' '817'\n",
      " '818' '819' '820' '821' '822' '823' '824' '825' '826' '827' '828' '829'\n",
      " '830' '831' '832' '833' '834' '835' '836' '837' '838' '839' '840' '841'\n",
      " '842' '843' '844' '845' '846' '847' '848' '849' '850' '851' '852' '853'\n",
      " '854' '855' '856' '857' '858' '859' '860' '861' '862' '863' '864' '865'\n",
      " '866' '867' '868' '869' '870' '871' '872' '873' '874' '875' '876' '877'\n",
      " '878' '879' '880' '881' '882' '883' '884' '885' '886' '887' '888' '889'\n",
      " '890' '891']\n"
     ]
    }
   ],
   "execution_count": 19
  },
  {
   "metadata": {
    "ExecuteTime": {
     "end_time": "2024-09-26T16:29:43.884885Z",
     "start_time": "2024-09-26T16:29:43.867279Z"
    }
   },
   "cell_type": "code",
   "source": [
    "# select first five columns and rows\n",
    "print(data_numpy[:5, :5])"
   ],
   "outputs": [
    {
     "name": "stdout",
     "output_type": "stream",
     "text": [
      "[['PassengerId' 'Survived' 'Pclass' 'Name' 'Sex']\n",
      " ['1' '0' '3' 'Braund, Mr. Owen Harris' 'male']\n",
      " ['2' '1' '1' 'Cumings, Mrs. John Bradley (Florence Briggs Thayer)'\n",
      "  'female']\n",
      " ['3' '1' '3' 'Heikkinen, Miss. Laina' 'female']\n",
      " ['4' '1' '1' 'Futrelle, Mrs. Jacques Heath (Lily May Peel)' 'female']]\n"
     ]
    }
   ],
   "execution_count": 20
  },
  {
   "metadata": {},
   "cell_type": "markdown",
   "source": [
    "For our purposes it is not necessary to transpose the matrix as numpy allows for slicing columns and rows simultaneously.  \n",
    "\n",
    "If we did need to apply a transform, it can be done relatively easily using the numpy transpose methods as shown:"
   ]
  },
  {
   "metadata": {
    "ExecuteTime": {
     "end_time": "2024-09-26T16:29:43.931510Z",
     "start_time": "2024-09-26T16:29:43.922273Z"
    }
   },
   "cell_type": "code",
   "source": "print(data_numpy.transpose())",
   "outputs": [
    {
     "name": "stdout",
     "output_type": "stream",
     "text": [
      "[['PassengerId' '1' '2' ... '889' '890' '891']\n",
      " ['Survived' '0' '1' ... '0' '1' '0']\n",
      " ['Pclass' '3' '1' ... '3' '1' '3']\n",
      " ...\n",
      " ['Fare' '7.25' '71.2833' ... '23.45' '30' '7.75']\n",
      " ['Cabin' '' 'C85' ... '' 'C148' '']\n",
      " ['Embarked' 'S' 'C' ... 'S' 'C' 'Q']]\n"
     ]
    }
   ],
   "execution_count": 21
  },
  {
   "metadata": {},
   "cell_type": "markdown",
   "source": [
    "## Back to Predicting Passenger Survival\n",
    "\n",
    "Let's get back to our original goal which is to predict whether Rose and Jack survive the Titanic disaster.\n",
    "\n",
    "In order to do that we will need to examine the dataset in more detail. For example, perhaps there is a correlation between survival likelihood and particular passenger information, such as gender, class, age, etc. \n",
    "\n",
    "As a first step, we can try to determine how many males and females survived and how many did not. How can we do that?\n",
    "\n",
    "* one approach is to iterate through the passengers and create 4 accumulator variables to keep the counts:\n",
    "  1.   males_survived\n",
    "  2.   males_not_survived\n",
    "  3.   females_survived\n",
    "  4.   females_not_survived\n",
    "\n",
    "Hmmm... What if we wanted to compare the survival across classes. There are three classes and two states of survival, hence we would need 6 accumulator variables to capture all the combinations. Certainly there has to be a better way to do this than writing code for each situation.\n",
    "\n",
    "* Another option might be to keep track of indices of a particular feature, along with the indices of survival states. Once we have the indicies, we can find the indicies common to both lists and get our counts that way.\n",
    "\n",
    "Turns out this can be done relatively easily with numpy if we know which method to use."
   ]
  },
  {
   "metadata": {},
   "cell_type": "markdown",
   "source": [
    "### Obtaining Indices using Numpy\n",
    "\n",
    "Finding indices of specific values or range of values can be done using the np.where() method. \n",
    "\n",
    "numpy.where(condition[, x, y])  \n",
    "* Return elements, either from x or y, depending on condition.\n",
    "* If only condition is given, return indices where condition is True.\n",
    "\n",
    "Since we're only interested in obtaining indices, we'll only provide a one argument to the method which will return two arrays (of the same size) corresponding to the row and column indices where the condition is true. For example:"
   ]
  },
  {
   "metadata": {
    "ExecuteTime": {
     "end_time": "2024-09-26T16:29:43.979057Z",
     "start_time": "2024-09-26T16:29:43.965224Z"
    }
   },
   "cell_type": "code",
   "source": [
    "numpy_data = np.array([[1, 2, 3, 4], [5, 6, 7, 8], [9, 10, 11, 12]])\n",
    "print('numpy_data:\\n', numpy_data, '\\n')\n",
    "\n",
    "# obtain indices with values > 7\n",
    "indices = np.where(numpy_data > 7)\n",
    "\n",
    "# display row and column indices\n",
    "print('all indices:', indices, '\\n')\n",
    "\n",
    "# display row indices\n",
    "print('row indices:', indices[0], '\\n')\n",
    "\n",
    "# display column indices\n",
    "print('col indices:', indices[1], '\\n')\n",
    "\n"
   ],
   "outputs": [
    {
     "name": "stdout",
     "output_type": "stream",
     "text": [
      "numpy_data:\n",
      " [[ 1  2  3  4]\n",
      " [ 5  6  7  8]\n",
      " [ 9 10 11 12]] \n",
      "\n",
      "all indices: (array([1, 2, 2, 2, 2], dtype=int64), array([3, 0, 1, 2, 3], dtype=int64)) \n",
      "\n",
      "row indices: [1 2 2 2 2] \n",
      "\n",
      "col indices: [3 0 1 2 3] \n",
      "\n"
     ]
    }
   ],
   "execution_count": 22
  },
  {
   "metadata": {
    "ExecuteTime": {
     "end_time": "2024-09-26T16:29:44.010727Z",
     "start_time": "2024-09-26T16:29:44.004230Z"
    }
   },
   "cell_type": "code",
   "source": "numpy_data[numpy_data > 7]",
   "outputs": [
    {
     "data": {
      "text/plain": [
       "array([ 8,  9, 10, 11, 12])"
      ]
     },
     "execution_count": 23,
     "metadata": {},
     "output_type": "execute_result"
    }
   ],
   "execution_count": 23
  },
  {
   "metadata": {},
   "cell_type": "markdown",
   "source": [
    "Note that the entries that are greater than 7 are: (1,3), (2,0), (2,1), (2,2), (2,2), and (2,3).\n",
    "\n",
    "Let's apply this now to find indices in our data."
   ]
  },
  {
   "metadata": {
    "ExecuteTime": {
     "end_time": "2024-09-26T16:29:44.057584Z",
     "start_time": "2024-09-26T16:29:44.046837Z"
    }
   },
   "cell_type": "code",
   "source": [
    "# obtain index of column with title 'Sex'\n",
    "sex_index = np.where(data_numpy[0, :] == 'Sex')\n",
    "\n",
    "# print indices\n",
    "print(sex_index)\n",
    "print(sex_index[0])\n",
    "\n",
    "# print value at index found\n",
    "print(data_numpy[0, sex_index[0]])"
   ],
   "outputs": [
    {
     "name": "stdout",
     "output_type": "stream",
     "text": [
      "(array([4], dtype=int64),)\n",
      "[4]\n",
      "['Sex']\n"
     ]
    }
   ],
   "execution_count": 24
  },
  {
   "metadata": {
    "ExecuteTime": {
     "end_time": "2024-09-26T16:29:44.104469Z",
     "start_time": "2024-09-26T16:29:44.086253Z"
    }
   },
   "cell_type": "code",
   "source": "data_numpy",
   "outputs": [
    {
     "data": {
      "text/plain": [
       "array([['PassengerId', 'Survived', 'Pclass', ..., 'Fare', 'Cabin',\n",
       "        'Embarked'],\n",
       "       ['1', '0', '3', ..., '7.25', '', 'S'],\n",
       "       ['2', '1', '1', ..., '71.2833', 'C85', 'C'],\n",
       "       ...,\n",
       "       ['889', '0', '3', ..., '23.45', '', 'S'],\n",
       "       ['890', '1', '1', ..., '30', 'C148', 'C'],\n",
       "       ['891', '0', '3', ..., '7.75', '', 'Q']], dtype='<U82')"
      ]
     },
     "execution_count": 25,
     "metadata": {},
     "output_type": "execute_result"
    }
   ],
   "execution_count": 25
  },
  {
   "metadata": {
    "ExecuteTime": {
     "end_time": "2024-09-26T16:29:44.169218Z",
     "start_time": "2024-09-26T16:29:44.154200Z"
    }
   },
   "cell_type": "code",
   "source": "data_numpy[:, sex_index]",
   "outputs": [
    {
     "data": {
      "text/plain": [
       "array([[['Sex']],\n",
       "\n",
       "       [['male']],\n",
       "\n",
       "       [['female']],\n",
       "\n",
       "       [['female']],\n",
       "\n",
       "       [['female']],\n",
       "\n",
       "       [['male']],\n",
       "\n",
       "       [['male']],\n",
       "\n",
       "       [['male']],\n",
       "\n",
       "       [['male']],\n",
       "\n",
       "       [['female']],\n",
       "\n",
       "       [['female']],\n",
       "\n",
       "       [['female']],\n",
       "\n",
       "       [['female']],\n",
       "\n",
       "       [['male']],\n",
       "\n",
       "       [['male']],\n",
       "\n",
       "       [['female']],\n",
       "\n",
       "       [['female']],\n",
       "\n",
       "       [['male']],\n",
       "\n",
       "       [['male']],\n",
       "\n",
       "       [['female']],\n",
       "\n",
       "       [['female']],\n",
       "\n",
       "       [['male']],\n",
       "\n",
       "       [['male']],\n",
       "\n",
       "       [['female']],\n",
       "\n",
       "       [['male']],\n",
       "\n",
       "       [['female']],\n",
       "\n",
       "       [['female']],\n",
       "\n",
       "       [['male']],\n",
       "\n",
       "       [['male']],\n",
       "\n",
       "       [['female']],\n",
       "\n",
       "       [['male']],\n",
       "\n",
       "       [['male']],\n",
       "\n",
       "       [['female']],\n",
       "\n",
       "       [['female']],\n",
       "\n",
       "       [['male']],\n",
       "\n",
       "       [['male']],\n",
       "\n",
       "       [['male']],\n",
       "\n",
       "       [['male']],\n",
       "\n",
       "       [['male']],\n",
       "\n",
       "       [['female']],\n",
       "\n",
       "       [['female']],\n",
       "\n",
       "       [['female']],\n",
       "\n",
       "       [['female']],\n",
       "\n",
       "       [['male']],\n",
       "\n",
       "       [['female']],\n",
       "\n",
       "       [['female']],\n",
       "\n",
       "       [['male']],\n",
       "\n",
       "       [['male']],\n",
       "\n",
       "       [['female']],\n",
       "\n",
       "       [['male']],\n",
       "\n",
       "       [['female']],\n",
       "\n",
       "       [['male']],\n",
       "\n",
       "       [['male']],\n",
       "\n",
       "       [['female']],\n",
       "\n",
       "       [['female']],\n",
       "\n",
       "       [['male']],\n",
       "\n",
       "       [['male']],\n",
       "\n",
       "       [['female']],\n",
       "\n",
       "       [['male']],\n",
       "\n",
       "       [['female']],\n",
       "\n",
       "       [['male']],\n",
       "\n",
       "       [['male']],\n",
       "\n",
       "       [['female']],\n",
       "\n",
       "       [['male']],\n",
       "\n",
       "       [['male']],\n",
       "\n",
       "       [['male']],\n",
       "\n",
       "       [['male']],\n",
       "\n",
       "       [['female']],\n",
       "\n",
       "       [['male']],\n",
       "\n",
       "       [['female']],\n",
       "\n",
       "       [['male']],\n",
       "\n",
       "       [['male']],\n",
       "\n",
       "       [['female']],\n",
       "\n",
       "       [['male']],\n",
       "\n",
       "       [['male']],\n",
       "\n",
       "       [['male']],\n",
       "\n",
       "       [['male']],\n",
       "\n",
       "       [['male']],\n",
       "\n",
       "       [['male']],\n",
       "\n",
       "       [['male']],\n",
       "\n",
       "       [['female']],\n",
       "\n",
       "       [['male']],\n",
       "\n",
       "       [['male']],\n",
       "\n",
       "       [['female']],\n",
       "\n",
       "       [['male']],\n",
       "\n",
       "       [['female']],\n",
       "\n",
       "       [['female']],\n",
       "\n",
       "       [['male']],\n",
       "\n",
       "       [['male']],\n",
       "\n",
       "       [['female']],\n",
       "\n",
       "       [['male']],\n",
       "\n",
       "       [['male']],\n",
       "\n",
       "       [['male']],\n",
       "\n",
       "       [['male']],\n",
       "\n",
       "       [['male']],\n",
       "\n",
       "       [['male']],\n",
       "\n",
       "       [['male']],\n",
       "\n",
       "       [['male']],\n",
       "\n",
       "       [['male']],\n",
       "\n",
       "       [['female']],\n",
       "\n",
       "       [['male']],\n",
       "\n",
       "       [['female']],\n",
       "\n",
       "       [['male']],\n",
       "\n",
       "       [['male']],\n",
       "\n",
       "       [['male']],\n",
       "\n",
       "       [['male']],\n",
       "\n",
       "       [['male']],\n",
       "\n",
       "       [['female']],\n",
       "\n",
       "       [['male']],\n",
       "\n",
       "       [['male']],\n",
       "\n",
       "       [['female']],\n",
       "\n",
       "       [['male']],\n",
       "\n",
       "       [['female']],\n",
       "\n",
       "       [['male']],\n",
       "\n",
       "       [['female']],\n",
       "\n",
       "       [['female']],\n",
       "\n",
       "       [['male']],\n",
       "\n",
       "       [['male']],\n",
       "\n",
       "       [['male']],\n",
       "\n",
       "       [['male']],\n",
       "\n",
       "       [['female']],\n",
       "\n",
       "       [['male']],\n",
       "\n",
       "       [['male']],\n",
       "\n",
       "       [['male']],\n",
       "\n",
       "       [['female']],\n",
       "\n",
       "       [['male']],\n",
       "\n",
       "       [['male']],\n",
       "\n",
       "       [['male']],\n",
       "\n",
       "       [['male']],\n",
       "\n",
       "       [['female']],\n",
       "\n",
       "       [['male']],\n",
       "\n",
       "       [['male']],\n",
       "\n",
       "       [['male']],\n",
       "\n",
       "       [['female']],\n",
       "\n",
       "       [['female']],\n",
       "\n",
       "       [['male']],\n",
       "\n",
       "       [['male']],\n",
       "\n",
       "       [['female']],\n",
       "\n",
       "       [['male']],\n",
       "\n",
       "       [['male']],\n",
       "\n",
       "       [['male']],\n",
       "\n",
       "       [['female']],\n",
       "\n",
       "       [['female']],\n",
       "\n",
       "       [['female']],\n",
       "\n",
       "       [['male']],\n",
       "\n",
       "       [['male']],\n",
       "\n",
       "       [['male']],\n",
       "\n",
       "       [['male']],\n",
       "\n",
       "       [['female']],\n",
       "\n",
       "       [['male']],\n",
       "\n",
       "       [['male']],\n",
       "\n",
       "       [['male']],\n",
       "\n",
       "       [['female']],\n",
       "\n",
       "       [['male']],\n",
       "\n",
       "       [['male']],\n",
       "\n",
       "       [['male']],\n",
       "\n",
       "       [['male']],\n",
       "\n",
       "       [['female']],\n",
       "\n",
       "       [['male']],\n",
       "\n",
       "       [['male']],\n",
       "\n",
       "       [['male']],\n",
       "\n",
       "       [['male']],\n",
       "\n",
       "       [['female']],\n",
       "\n",
       "       [['male']],\n",
       "\n",
       "       [['male']],\n",
       "\n",
       "       [['male']],\n",
       "\n",
       "       [['male']],\n",
       "\n",
       "       [['female']],\n",
       "\n",
       "       [['female']],\n",
       "\n",
       "       [['male']],\n",
       "\n",
       "       [['male']],\n",
       "\n",
       "       [['male']],\n",
       "\n",
       "       [['male']],\n",
       "\n",
       "       [['female']],\n",
       "\n",
       "       [['male']],\n",
       "\n",
       "       [['male']],\n",
       "\n",
       "       [['male']],\n",
       "\n",
       "       [['male']],\n",
       "\n",
       "       [['female']],\n",
       "\n",
       "       [['male']],\n",
       "\n",
       "       [['male']],\n",
       "\n",
       "       [['female']],\n",
       "\n",
       "       [['male']],\n",
       "\n",
       "       [['male']],\n",
       "\n",
       "       [['male']],\n",
       "\n",
       "       [['female']],\n",
       "\n",
       "       [['male']],\n",
       "\n",
       "       [['female']],\n",
       "\n",
       "       [['male']],\n",
       "\n",
       "       [['male']],\n",
       "\n",
       "       [['male']],\n",
       "\n",
       "       [['female']],\n",
       "\n",
       "       [['male']],\n",
       "\n",
       "       [['female']],\n",
       "\n",
       "       [['male']],\n",
       "\n",
       "       [['female']],\n",
       "\n",
       "       [['female']],\n",
       "\n",
       "       [['male']],\n",
       "\n",
       "       [['male']],\n",
       "\n",
       "       [['female']],\n",
       "\n",
       "       [['female']],\n",
       "\n",
       "       [['male']],\n",
       "\n",
       "       [['male']],\n",
       "\n",
       "       [['male']],\n",
       "\n",
       "       [['male']],\n",
       "\n",
       "       [['male']],\n",
       "\n",
       "       [['female']],\n",
       "\n",
       "       [['male']],\n",
       "\n",
       "       [['male']],\n",
       "\n",
       "       [['female']],\n",
       "\n",
       "       [['male']],\n",
       "\n",
       "       [['male']],\n",
       "\n",
       "       [['female']],\n",
       "\n",
       "       [['male']],\n",
       "\n",
       "       [['male']],\n",
       "\n",
       "       [['male']],\n",
       "\n",
       "       [['female']],\n",
       "\n",
       "       [['female']],\n",
       "\n",
       "       [['male']],\n",
       "\n",
       "       [['female']],\n",
       "\n",
       "       [['male']],\n",
       "\n",
       "       [['male']],\n",
       "\n",
       "       [['male']],\n",
       "\n",
       "       [['male']],\n",
       "\n",
       "       [['male']],\n",
       "\n",
       "       [['male']],\n",
       "\n",
       "       [['male']],\n",
       "\n",
       "       [['male']],\n",
       "\n",
       "       [['male']],\n",
       "\n",
       "       [['male']],\n",
       "\n",
       "       [['female']],\n",
       "\n",
       "       [['female']],\n",
       "\n",
       "       [['male']],\n",
       "\n",
       "       [['male']],\n",
       "\n",
       "       [['female']],\n",
       "\n",
       "       [['male']],\n",
       "\n",
       "       [['female']],\n",
       "\n",
       "       [['male']],\n",
       "\n",
       "       [['female']],\n",
       "\n",
       "       [['male']],\n",
       "\n",
       "       [['male']],\n",
       "\n",
       "       [['female']],\n",
       "\n",
       "       [['female']],\n",
       "\n",
       "       [['male']],\n",
       "\n",
       "       [['male']],\n",
       "\n",
       "       [['male']],\n",
       "\n",
       "       [['male']],\n",
       "\n",
       "       [['female']],\n",
       "\n",
       "       [['female']],\n",
       "\n",
       "       [['male']],\n",
       "\n",
       "       [['male']],\n",
       "\n",
       "       [['male']],\n",
       "\n",
       "       [['female']],\n",
       "\n",
       "       [['male']],\n",
       "\n",
       "       [['male']],\n",
       "\n",
       "       [['female']],\n",
       "\n",
       "       [['female']],\n",
       "\n",
       "       [['female']],\n",
       "\n",
       "       [['female']],\n",
       "\n",
       "       [['female']],\n",
       "\n",
       "       [['female']],\n",
       "\n",
       "       [['male']],\n",
       "\n",
       "       [['male']],\n",
       "\n",
       "       [['male']],\n",
       "\n",
       "       [['male']],\n",
       "\n",
       "       [['female']],\n",
       "\n",
       "       [['male']],\n",
       "\n",
       "       [['male']],\n",
       "\n",
       "       [['male']],\n",
       "\n",
       "       [['female']],\n",
       "\n",
       "       [['female']],\n",
       "\n",
       "       [['male']],\n",
       "\n",
       "       [['male']],\n",
       "\n",
       "       [['female']],\n",
       "\n",
       "       [['male']],\n",
       "\n",
       "       [['female']],\n",
       "\n",
       "       [['female']],\n",
       "\n",
       "       [['female']],\n",
       "\n",
       "       [['male']],\n",
       "\n",
       "       [['male']],\n",
       "\n",
       "       [['female']],\n",
       "\n",
       "       [['male']],\n",
       "\n",
       "       [['male']],\n",
       "\n",
       "       [['male']],\n",
       "\n",
       "       [['male']],\n",
       "\n",
       "       [['male']],\n",
       "\n",
       "       [['male']],\n",
       "\n",
       "       [['male']],\n",
       "\n",
       "       [['male']],\n",
       "\n",
       "       [['male']],\n",
       "\n",
       "       [['female']],\n",
       "\n",
       "       [['female']],\n",
       "\n",
       "       [['female']],\n",
       "\n",
       "       [['male']],\n",
       "\n",
       "       [['female']],\n",
       "\n",
       "       [['male']],\n",
       "\n",
       "       [['male']],\n",
       "\n",
       "       [['male']],\n",
       "\n",
       "       [['female']],\n",
       "\n",
       "       [['male']],\n",
       "\n",
       "       [['female']],\n",
       "\n",
       "       [['female']],\n",
       "\n",
       "       [['male']],\n",
       "\n",
       "       [['male']],\n",
       "\n",
       "       [['female']],\n",
       "\n",
       "       [['male']],\n",
       "\n",
       "       [['male']],\n",
       "\n",
       "       [['female']],\n",
       "\n",
       "       [['female']],\n",
       "\n",
       "       [['male']],\n",
       "\n",
       "       [['female']],\n",
       "\n",
       "       [['female']],\n",
       "\n",
       "       [['female']],\n",
       "\n",
       "       [['female']],\n",
       "\n",
       "       [['male']],\n",
       "\n",
       "       [['male']],\n",
       "\n",
       "       [['female']],\n",
       "\n",
       "       [['female']],\n",
       "\n",
       "       [['male']],\n",
       "\n",
       "       [['female']],\n",
       "\n",
       "       [['female']],\n",
       "\n",
       "       [['male']],\n",
       "\n",
       "       [['male']],\n",
       "\n",
       "       [['female']],\n",
       "\n",
       "       [['female']],\n",
       "\n",
       "       [['male']],\n",
       "\n",
       "       [['female']],\n",
       "\n",
       "       [['male']],\n",
       "\n",
       "       [['female']],\n",
       "\n",
       "       [['female']],\n",
       "\n",
       "       [['female']],\n",
       "\n",
       "       [['female']],\n",
       "\n",
       "       [['male']],\n",
       "\n",
       "       [['male']],\n",
       "\n",
       "       [['male']],\n",
       "\n",
       "       [['female']],\n",
       "\n",
       "       [['male']],\n",
       "\n",
       "       [['male']],\n",
       "\n",
       "       [['female']],\n",
       "\n",
       "       [['male']],\n",
       "\n",
       "       [['male']],\n",
       "\n",
       "       [['male']],\n",
       "\n",
       "       [['female']],\n",
       "\n",
       "       [['male']],\n",
       "\n",
       "       [['male']],\n",
       "\n",
       "       [['male']],\n",
       "\n",
       "       [['female']],\n",
       "\n",
       "       [['female']],\n",
       "\n",
       "       [['female']],\n",
       "\n",
       "       [['male']],\n",
       "\n",
       "       [['male']],\n",
       "\n",
       "       [['male']],\n",
       "\n",
       "       [['male']],\n",
       "\n",
       "       [['male']],\n",
       "\n",
       "       [['male']],\n",
       "\n",
       "       [['male']],\n",
       "\n",
       "       [['male']],\n",
       "\n",
       "       [['female']],\n",
       "\n",
       "       [['female']],\n",
       "\n",
       "       [['female']],\n",
       "\n",
       "       [['female']],\n",
       "\n",
       "       [['male']],\n",
       "\n",
       "       [['male']],\n",
       "\n",
       "       [['female']],\n",
       "\n",
       "       [['male']],\n",
       "\n",
       "       [['male']],\n",
       "\n",
       "       [['male']],\n",
       "\n",
       "       [['female']],\n",
       "\n",
       "       [['female']],\n",
       "\n",
       "       [['female']],\n",
       "\n",
       "       [['female']],\n",
       "\n",
       "       [['male']],\n",
       "\n",
       "       [['male']],\n",
       "\n",
       "       [['male']],\n",
       "\n",
       "       [['male']],\n",
       "\n",
       "       [['female']],\n",
       "\n",
       "       [['female']],\n",
       "\n",
       "       [['female']],\n",
       "\n",
       "       [['male']],\n",
       "\n",
       "       [['male']],\n",
       "\n",
       "       [['male']],\n",
       "\n",
       "       [['female']],\n",
       "\n",
       "       [['female']],\n",
       "\n",
       "       [['male']],\n",
       "\n",
       "       [['female']],\n",
       "\n",
       "       [['male']],\n",
       "\n",
       "       [['male']],\n",
       "\n",
       "       [['male']],\n",
       "\n",
       "       [['female']],\n",
       "\n",
       "       [['male']],\n",
       "\n",
       "       [['female']],\n",
       "\n",
       "       [['male']],\n",
       "\n",
       "       [['male']],\n",
       "\n",
       "       [['male']],\n",
       "\n",
       "       [['female']],\n",
       "\n",
       "       [['female']],\n",
       "\n",
       "       [['male']],\n",
       "\n",
       "       [['female']],\n",
       "\n",
       "       [['male']],\n",
       "\n",
       "       [['male']],\n",
       "\n",
       "       [['female']],\n",
       "\n",
       "       [['male']],\n",
       "\n",
       "       [['male']],\n",
       "\n",
       "       [['female']],\n",
       "\n",
       "       [['male']],\n",
       "\n",
       "       [['female']],\n",
       "\n",
       "       [['male']],\n",
       "\n",
       "       [['male']],\n",
       "\n",
       "       [['male']],\n",
       "\n",
       "       [['male']],\n",
       "\n",
       "       [['female']],\n",
       "\n",
       "       [['male']],\n",
       "\n",
       "       [['male']],\n",
       "\n",
       "       [['female']],\n",
       "\n",
       "       [['male']],\n",
       "\n",
       "       [['male']],\n",
       "\n",
       "       [['female']],\n",
       "\n",
       "       [['female']],\n",
       "\n",
       "       [['female']],\n",
       "\n",
       "       [['male']],\n",
       "\n",
       "       [['female']],\n",
       "\n",
       "       [['male']],\n",
       "\n",
       "       [['male']],\n",
       "\n",
       "       [['male']],\n",
       "\n",
       "       [['female']],\n",
       "\n",
       "       [['male']],\n",
       "\n",
       "       [['male']],\n",
       "\n",
       "       [['female']],\n",
       "\n",
       "       [['female']],\n",
       "\n",
       "       [['male']],\n",
       "\n",
       "       [['male']],\n",
       "\n",
       "       [['male']],\n",
       "\n",
       "       [['female']],\n",
       "\n",
       "       [['female']],\n",
       "\n",
       "       [['male']],\n",
       "\n",
       "       [['male']],\n",
       "\n",
       "       [['female']],\n",
       "\n",
       "       [['female']],\n",
       "\n",
       "       [['female']],\n",
       "\n",
       "       [['male']],\n",
       "\n",
       "       [['male']],\n",
       "\n",
       "       [['female']],\n",
       "\n",
       "       [['male']],\n",
       "\n",
       "       [['male']],\n",
       "\n",
       "       [['female']],\n",
       "\n",
       "       [['male']],\n",
       "\n",
       "       [['male']],\n",
       "\n",
       "       [['female']],\n",
       "\n",
       "       [['male']],\n",
       "\n",
       "       [['female']],\n",
       "\n",
       "       [['male']],\n",
       "\n",
       "       [['male']],\n",
       "\n",
       "       [['male']],\n",
       "\n",
       "       [['male']],\n",
       "\n",
       "       [['male']],\n",
       "\n",
       "       [['male']],\n",
       "\n",
       "       [['male']],\n",
       "\n",
       "       [['male']],\n",
       "\n",
       "       [['female']],\n",
       "\n",
       "       [['female']],\n",
       "\n",
       "       [['male']],\n",
       "\n",
       "       [['male']],\n",
       "\n",
       "       [['male']],\n",
       "\n",
       "       [['male']],\n",
       "\n",
       "       [['male']],\n",
       "\n",
       "       [['male']],\n",
       "\n",
       "       [['male']],\n",
       "\n",
       "       [['male']],\n",
       "\n",
       "       [['male']],\n",
       "\n",
       "       [['male']],\n",
       "\n",
       "       [['female']],\n",
       "\n",
       "       [['male']],\n",
       "\n",
       "       [['male']],\n",
       "\n",
       "       [['female']],\n",
       "\n",
       "       [['female']],\n",
       "\n",
       "       [['female']],\n",
       "\n",
       "       [['male']],\n",
       "\n",
       "       [['male']],\n",
       "\n",
       "       [['male']],\n",
       "\n",
       "       [['male']],\n",
       "\n",
       "       [['female']],\n",
       "\n",
       "       [['male']],\n",
       "\n",
       "       [['male']],\n",
       "\n",
       "       [['male']],\n",
       "\n",
       "       [['female']],\n",
       "\n",
       "       [['male']],\n",
       "\n",
       "       [['female']],\n",
       "\n",
       "       [['female']],\n",
       "\n",
       "       [['male']],\n",
       "\n",
       "       [['male']],\n",
       "\n",
       "       [['male']],\n",
       "\n",
       "       [['male']],\n",
       "\n",
       "       [['male']],\n",
       "\n",
       "       [['male']],\n",
       "\n",
       "       [['male']],\n",
       "\n",
       "       [['male']],\n",
       "\n",
       "       [['male']],\n",
       "\n",
       "       [['female']],\n",
       "\n",
       "       [['male']],\n",
       "\n",
       "       [['female']],\n",
       "\n",
       "       [['male']],\n",
       "\n",
       "       [['male']],\n",
       "\n",
       "       [['female']],\n",
       "\n",
       "       [['female']],\n",
       "\n",
       "       [['female']],\n",
       "\n",
       "       [['female']],\n",
       "\n",
       "       [['male']],\n",
       "\n",
       "       [['female']],\n",
       "\n",
       "       [['male']],\n",
       "\n",
       "       [['male']],\n",
       "\n",
       "       [['male']],\n",
       "\n",
       "       [['male']],\n",
       "\n",
       "       [['male']],\n",
       "\n",
       "       [['male']],\n",
       "\n",
       "       [['female']],\n",
       "\n",
       "       [['male']],\n",
       "\n",
       "       [['male']],\n",
       "\n",
       "       [['female']],\n",
       "\n",
       "       [['male']],\n",
       "\n",
       "       [['female']],\n",
       "\n",
       "       [['male']],\n",
       "\n",
       "       [['female']],\n",
       "\n",
       "       [['male']],\n",
       "\n",
       "       [['male']],\n",
       "\n",
       "       [['female']],\n",
       "\n",
       "       [['male']],\n",
       "\n",
       "       [['male']],\n",
       "\n",
       "       [['female']],\n",
       "\n",
       "       [['male']],\n",
       "\n",
       "       [['male']],\n",
       "\n",
       "       [['male']],\n",
       "\n",
       "       [['female']],\n",
       "\n",
       "       [['male']],\n",
       "\n",
       "       [['male']],\n",
       "\n",
       "       [['female']],\n",
       "\n",
       "       [['female']],\n",
       "\n",
       "       [['female']],\n",
       "\n",
       "       [['male']],\n",
       "\n",
       "       [['female']],\n",
       "\n",
       "       [['male']],\n",
       "\n",
       "       [['female']],\n",
       "\n",
       "       [['female']],\n",
       "\n",
       "       [['female']],\n",
       "\n",
       "       [['female']],\n",
       "\n",
       "       [['male']],\n",
       "\n",
       "       [['male']],\n",
       "\n",
       "       [['male']],\n",
       "\n",
       "       [['female']],\n",
       "\n",
       "       [['male']],\n",
       "\n",
       "       [['male']],\n",
       "\n",
       "       [['male']],\n",
       "\n",
       "       [['male']],\n",
       "\n",
       "       [['male']],\n",
       "\n",
       "       [['male']],\n",
       "\n",
       "       [['male']],\n",
       "\n",
       "       [['female']],\n",
       "\n",
       "       [['male']],\n",
       "\n",
       "       [['female']],\n",
       "\n",
       "       [['male']],\n",
       "\n",
       "       [['female']],\n",
       "\n",
       "       [['female']],\n",
       "\n",
       "       [['male']],\n",
       "\n",
       "       [['male']],\n",
       "\n",
       "       [['male']],\n",
       "\n",
       "       [['male']],\n",
       "\n",
       "       [['female']],\n",
       "\n",
       "       [['male']],\n",
       "\n",
       "       [['male']],\n",
       "\n",
       "       [['female']],\n",
       "\n",
       "       [['male']],\n",
       "\n",
       "       [['male']],\n",
       "\n",
       "       [['male']],\n",
       "\n",
       "       [['female']],\n",
       "\n",
       "       [['male']],\n",
       "\n",
       "       [['female']],\n",
       "\n",
       "       [['male']],\n",
       "\n",
       "       [['male']],\n",
       "\n",
       "       [['female']],\n",
       "\n",
       "       [['female']],\n",
       "\n",
       "       [['female']],\n",
       "\n",
       "       [['male']],\n",
       "\n",
       "       [['female']],\n",
       "\n",
       "       [['female']],\n",
       "\n",
       "       [['male']],\n",
       "\n",
       "       [['male']],\n",
       "\n",
       "       [['male']],\n",
       "\n",
       "       [['female']],\n",
       "\n",
       "       [['male']],\n",
       "\n",
       "       [['male']],\n",
       "\n",
       "       [['male']],\n",
       "\n",
       "       [['male']],\n",
       "\n",
       "       [['male']],\n",
       "\n",
       "       [['female']],\n",
       "\n",
       "       [['male']],\n",
       "\n",
       "       [['female']],\n",
       "\n",
       "       [['male']],\n",
       "\n",
       "       [['male']],\n",
       "\n",
       "       [['female']],\n",
       "\n",
       "       [['male']],\n",
       "\n",
       "       [['male']],\n",
       "\n",
       "       [['male']],\n",
       "\n",
       "       [['female']],\n",
       "\n",
       "       [['male']],\n",
       "\n",
       "       [['male']],\n",
       "\n",
       "       [['male']],\n",
       "\n",
       "       [['male']],\n",
       "\n",
       "       [['male']],\n",
       "\n",
       "       [['male']],\n",
       "\n",
       "       [['male']],\n",
       "\n",
       "       [['female']],\n",
       "\n",
       "       [['female']],\n",
       "\n",
       "       [['female']],\n",
       "\n",
       "       [['male']],\n",
       "\n",
       "       [['female']],\n",
       "\n",
       "       [['male']],\n",
       "\n",
       "       [['male']],\n",
       "\n",
       "       [['female']],\n",
       "\n",
       "       [['male']],\n",
       "\n",
       "       [['female']],\n",
       "\n",
       "       [['female']],\n",
       "\n",
       "       [['male']],\n",
       "\n",
       "       [['male']],\n",
       "\n",
       "       [['male']],\n",
       "\n",
       "       [['male']],\n",
       "\n",
       "       [['male']],\n",
       "\n",
       "       [['male']],\n",
       "\n",
       "       [['male']],\n",
       "\n",
       "       [['male']],\n",
       "\n",
       "       [['female']],\n",
       "\n",
       "       [['male']],\n",
       "\n",
       "       [['male']],\n",
       "\n",
       "       [['male']],\n",
       "\n",
       "       [['male']],\n",
       "\n",
       "       [['male']],\n",
       "\n",
       "       [['male']],\n",
       "\n",
       "       [['female']],\n",
       "\n",
       "       [['female']],\n",
       "\n",
       "       [['male']],\n",
       "\n",
       "       [['male']],\n",
       "\n",
       "       [['female']],\n",
       "\n",
       "       [['male']],\n",
       "\n",
       "       [['male']],\n",
       "\n",
       "       [['female']],\n",
       "\n",
       "       [['female']],\n",
       "\n",
       "       [['male']],\n",
       "\n",
       "       [['female']],\n",
       "\n",
       "       [['male']],\n",
       "\n",
       "       [['male']],\n",
       "\n",
       "       [['male']],\n",
       "\n",
       "       [['male']],\n",
       "\n",
       "       [['female']],\n",
       "\n",
       "       [['male']],\n",
       "\n",
       "       [['female']],\n",
       "\n",
       "       [['male']],\n",
       "\n",
       "       [['female']],\n",
       "\n",
       "       [['female']],\n",
       "\n",
       "       [['male']],\n",
       "\n",
       "       [['male']],\n",
       "\n",
       "       [['female']],\n",
       "\n",
       "       [['male']],\n",
       "\n",
       "       [['male']],\n",
       "\n",
       "       [['male']],\n",
       "\n",
       "       [['male']],\n",
       "\n",
       "       [['male']],\n",
       "\n",
       "       [['male']],\n",
       "\n",
       "       [['male']],\n",
       "\n",
       "       [['male']],\n",
       "\n",
       "       [['male']],\n",
       "\n",
       "       [['male']],\n",
       "\n",
       "       [['male']],\n",
       "\n",
       "       [['female']],\n",
       "\n",
       "       [['female']],\n",
       "\n",
       "       [['male']],\n",
       "\n",
       "       [['male']],\n",
       "\n",
       "       [['male']],\n",
       "\n",
       "       [['male']],\n",
       "\n",
       "       [['male']],\n",
       "\n",
       "       [['male']],\n",
       "\n",
       "       [['female']],\n",
       "\n",
       "       [['female']],\n",
       "\n",
       "       [['male']],\n",
       "\n",
       "       [['female']],\n",
       "\n",
       "       [['male']],\n",
       "\n",
       "       [['male']],\n",
       "\n",
       "       [['male']],\n",
       "\n",
       "       [['male']],\n",
       "\n",
       "       [['male']],\n",
       "\n",
       "       [['male']],\n",
       "\n",
       "       [['male']],\n",
       "\n",
       "       [['male']],\n",
       "\n",
       "       [['female']],\n",
       "\n",
       "       [['male']],\n",
       "\n",
       "       [['female']],\n",
       "\n",
       "       [['male']],\n",
       "\n",
       "       [['male']],\n",
       "\n",
       "       [['male']],\n",
       "\n",
       "       [['male']],\n",
       "\n",
       "       [['male']],\n",
       "\n",
       "       [['female']],\n",
       "\n",
       "       [['male']],\n",
       "\n",
       "       [['male']],\n",
       "\n",
       "       [['female']],\n",
       "\n",
       "       [['male']],\n",
       "\n",
       "       [['female']],\n",
       "\n",
       "       [['male']],\n",
       "\n",
       "       [['male']],\n",
       "\n",
       "       [['male']],\n",
       "\n",
       "       [['female']],\n",
       "\n",
       "       [['male']],\n",
       "\n",
       "       [['female']],\n",
       "\n",
       "       [['male']],\n",
       "\n",
       "       [['female']],\n",
       "\n",
       "       [['male']],\n",
       "\n",
       "       [['male']],\n",
       "\n",
       "       [['male']],\n",
       "\n",
       "       [['male']],\n",
       "\n",
       "       [['male']],\n",
       "\n",
       "       [['female']],\n",
       "\n",
       "       [['female']],\n",
       "\n",
       "       [['male']],\n",
       "\n",
       "       [['male']],\n",
       "\n",
       "       [['female']],\n",
       "\n",
       "       [['male']],\n",
       "\n",
       "       [['male']],\n",
       "\n",
       "       [['male']],\n",
       "\n",
       "       [['male']],\n",
       "\n",
       "       [['male']],\n",
       "\n",
       "       [['female']],\n",
       "\n",
       "       [['female']],\n",
       "\n",
       "       [['male']],\n",
       "\n",
       "       [['female']],\n",
       "\n",
       "       [['female']],\n",
       "\n",
       "       [['male']],\n",
       "\n",
       "       [['male']],\n",
       "\n",
       "       [['male']],\n",
       "\n",
       "       [['male']],\n",
       "\n",
       "       [['male']],\n",
       "\n",
       "       [['female']],\n",
       "\n",
       "       [['male']],\n",
       "\n",
       "       [['male']],\n",
       "\n",
       "       [['male']],\n",
       "\n",
       "       [['male']],\n",
       "\n",
       "       [['male']],\n",
       "\n",
       "       [['female']],\n",
       "\n",
       "       [['male']],\n",
       "\n",
       "       [['male']],\n",
       "\n",
       "       [['male']],\n",
       "\n",
       "       [['male']],\n",
       "\n",
       "       [['female']],\n",
       "\n",
       "       [['male']],\n",
       "\n",
       "       [['male']],\n",
       "\n",
       "       [['female']],\n",
       "\n",
       "       [['male']],\n",
       "\n",
       "       [['male']],\n",
       "\n",
       "       [['male']],\n",
       "\n",
       "       [['female']],\n",
       "\n",
       "       [['male']],\n",
       "\n",
       "       [['male']],\n",
       "\n",
       "       [['male']],\n",
       "\n",
       "       [['male']],\n",
       "\n",
       "       [['female']],\n",
       "\n",
       "       [['male']],\n",
       "\n",
       "       [['male']],\n",
       "\n",
       "       [['male']],\n",
       "\n",
       "       [['female']],\n",
       "\n",
       "       [['male']],\n",
       "\n",
       "       [['female']],\n",
       "\n",
       "       [['male']],\n",
       "\n",
       "       [['female']],\n",
       "\n",
       "       [['male']],\n",
       "\n",
       "       [['male']],\n",
       "\n",
       "       [['male']],\n",
       "\n",
       "       [['male']],\n",
       "\n",
       "       [['female']],\n",
       "\n",
       "       [['male']],\n",
       "\n",
       "       [['female']],\n",
       "\n",
       "       [['male']],\n",
       "\n",
       "       [['male']],\n",
       "\n",
       "       [['female']],\n",
       "\n",
       "       [['male']],\n",
       "\n",
       "       [['female']],\n",
       "\n",
       "       [['female']],\n",
       "\n",
       "       [['female']],\n",
       "\n",
       "       [['male']],\n",
       "\n",
       "       [['male']],\n",
       "\n",
       "       [['male']],\n",
       "\n",
       "       [['male']],\n",
       "\n",
       "       [['female']],\n",
       "\n",
       "       [['male']],\n",
       "\n",
       "       [['male']],\n",
       "\n",
       "       [['male']],\n",
       "\n",
       "       [['male']],\n",
       "\n",
       "       [['male']],\n",
       "\n",
       "       [['female']],\n",
       "\n",
       "       [['male']],\n",
       "\n",
       "       [['male']],\n",
       "\n",
       "       [['male']],\n",
       "\n",
       "       [['female']],\n",
       "\n",
       "       [['female']],\n",
       "\n",
       "       [['male']],\n",
       "\n",
       "       [['female']],\n",
       "\n",
       "       [['male']],\n",
       "\n",
       "       [['female']],\n",
       "\n",
       "       [['male']],\n",
       "\n",
       "       [['male']],\n",
       "\n",
       "       [['male']],\n",
       "\n",
       "       [['male']],\n",
       "\n",
       "       [['male']],\n",
       "\n",
       "       [['female']],\n",
       "\n",
       "       [['male']],\n",
       "\n",
       "       [['female']],\n",
       "\n",
       "       [['male']],\n",
       "\n",
       "       [['male']],\n",
       "\n",
       "       [['male']],\n",
       "\n",
       "       [['female']],\n",
       "\n",
       "       [['male']],\n",
       "\n",
       "       [['male']],\n",
       "\n",
       "       [['female']],\n",
       "\n",
       "       [['male']],\n",
       "\n",
       "       [['male']],\n",
       "\n",
       "       [['male']],\n",
       "\n",
       "       [['female']],\n",
       "\n",
       "       [['male']],\n",
       "\n",
       "       [['male']],\n",
       "\n",
       "       [['female']],\n",
       "\n",
       "       [['male']],\n",
       "\n",
       "       [['male']],\n",
       "\n",
       "       [['male']],\n",
       "\n",
       "       [['male']],\n",
       "\n",
       "       [['male']],\n",
       "\n",
       "       [['female']],\n",
       "\n",
       "       [['female']],\n",
       "\n",
       "       [['male']],\n",
       "\n",
       "       [['male']],\n",
       "\n",
       "       [['male']],\n",
       "\n",
       "       [['male']],\n",
       "\n",
       "       [['female']],\n",
       "\n",
       "       [['male']],\n",
       "\n",
       "       [['male']],\n",
       "\n",
       "       [['male']],\n",
       "\n",
       "       [['male']],\n",
       "\n",
       "       [['male']],\n",
       "\n",
       "       [['male']],\n",
       "\n",
       "       [['female']],\n",
       "\n",
       "       [['male']],\n",
       "\n",
       "       [['male']],\n",
       "\n",
       "       [['male']],\n",
       "\n",
       "       [['male']],\n",
       "\n",
       "       [['male']],\n",
       "\n",
       "       [['male']],\n",
       "\n",
       "       [['female']],\n",
       "\n",
       "       [['male']],\n",
       "\n",
       "       [['male']],\n",
       "\n",
       "       [['female']],\n",
       "\n",
       "       [['female']],\n",
       "\n",
       "       [['female']],\n",
       "\n",
       "       [['female']],\n",
       "\n",
       "       [['female']],\n",
       "\n",
       "       [['male']],\n",
       "\n",
       "       [['female']],\n",
       "\n",
       "       [['male']],\n",
       "\n",
       "       [['male']],\n",
       "\n",
       "       [['male']],\n",
       "\n",
       "       [['female']],\n",
       "\n",
       "       [['female']],\n",
       "\n",
       "       [['male']],\n",
       "\n",
       "       [['female']],\n",
       "\n",
       "       [['female']],\n",
       "\n",
       "       [['male']],\n",
       "\n",
       "       [['male']],\n",
       "\n",
       "       [['male']],\n",
       "\n",
       "       [['male']],\n",
       "\n",
       "       [['female']],\n",
       "\n",
       "       [['male']],\n",
       "\n",
       "       [['male']],\n",
       "\n",
       "       [['female']],\n",
       "\n",
       "       [['female']],\n",
       "\n",
       "       [['male']],\n",
       "\n",
       "       [['male']],\n",
       "\n",
       "       [['male']],\n",
       "\n",
       "       [['female']],\n",
       "\n",
       "       [['female']],\n",
       "\n",
       "       [['male']],\n",
       "\n",
       "       [['female']],\n",
       "\n",
       "       [['male']],\n",
       "\n",
       "       [['male']],\n",
       "\n",
       "       [['female']],\n",
       "\n",
       "       [['male']],\n",
       "\n",
       "       [['female']],\n",
       "\n",
       "       [['female']],\n",
       "\n",
       "       [['male']],\n",
       "\n",
       "       [['male']]], dtype='<U82')"
      ]
     },
     "execution_count": 26,
     "metadata": {},
     "output_type": "execute_result"
    }
   ],
   "execution_count": 26
  },
  {
   "metadata": {
    "ExecuteTime": {
     "end_time": "2024-09-26T16:29:44.277525Z",
     "start_time": "2024-09-26T16:29:44.268481Z"
    }
   },
   "cell_type": "code",
   "source": [
    "# get indices of all male passengers\n",
    "indices_male = np.where(data_numpy[1:, sex_index[0][0]] == 'male')\n",
    "print(indices_male[0])\n",
    "\n",
    "# display the number of male passengers\n",
    "print(len(indices_male[0]))\n",
    "\n",
    "# compute percentage of male passengers\n",
    "percent = 100 * len(indices_male[0]) / len(data_numpy[:, sex_index])\n",
    "print(round(percent, 2), '% male passengers')"
   ],
   "outputs": [
    {
     "name": "stdout",
     "output_type": "stream",
     "text": [
      "[  0   4   5   6   7  12  13  16  17  20  21  23  26  27  29  30  33  34\n",
      "  35  36  37  42  45  46  48  50  51  54  55  57  59  60  62  63  64  65\n",
      "  67  69  70  72  73  74  75  76  77  78  80  81  83  86  87  89  90  91\n",
      "  92  93  94  95  96  97  99 101 102 103 104 105 107 108 110 112 115 116\n",
      " 117 118 120 121 122 124 125 126 127 129 130 131 134 135 137 138 139 143\n",
      " 144 145 146 148 149 150 152 153 154 155 157 158 159 160 162 163 164 165\n",
      " 168 169 170 171 173 174 175 176 178 179 181 182 183 185 187 188 189 191\n",
      " 193 196 197 200 201 202 203 204 206 207 209 210 212 213 214 217 219 220\n",
      " 221 222 223 224 225 226 227 228 231 232 234 236 238 239 242 243 244 245\n",
      " 248 249 250 252 253 260 261 262 263 265 266 267 270 271 273 277 278 280\n",
      " 281 282 283 284 285 286 287 288 292 294 295 296 298 301 302 304 305 308\n",
      " 313 314 317 320 321 324 326 331 332 333 335 336 338 339 340 342 343 344\n",
      " 348 349 350 351 352 353 354 355 360 361 363 364 365 370 371 372 373 377\n",
      " 378 379 382 384 385 386 388 390 391 392 395 397 398 400 401 403 405 406\n",
      " 407 408 410 411 413 414 418 420 421 422 424 425 428 429 430 433 434 438\n",
      " 439 441 442 444 445 447 449 450 451 452 453 454 455 456 459 460 461 462\n",
      " 463 464 465 466 467 468 470 471 475 476 477 478 480 481 482 484 487 488\n",
      " 489 490 491 492 493 494 495 497 499 500 505 507 508 509 510 511 512 514\n",
      " 515 517 519 521 522 524 525 527 528 529 531 532 536 538 543 544 545 547\n",
      " 548 549 550 551 552 553 555 557 560 561 562 563 565 566 568 569 570 572\n",
      " 574 575 579 582 583 584 586 587 588 589 590 592 594 595 597 598 599 601\n",
      " 602 603 604 605 606 607 611 613 614 616 619 620 621 622 623 624 625 626\n",
      " 628 629 630 631 632 633 636 637 639 640 643 645 646 647 648 650 652 655\n",
      " 656 658 659 660 661 662 663 664 665 666 667 668 671 672 673 674 675 676\n",
      " 679 681 682 683 684 685 686 687 688 690 692 693 694 695 696 698 699 701\n",
      " 703 704 705 707 709 711 712 713 714 715 718 719 721 722 723 724 725 728\n",
      " 731 732 733 734 735 737 738 739 740 741 743 744 745 746 748 749 751 752\n",
      " 753 755 756 757 758 760 761 762 764 766 768 769 770 771 773 775 776 778\n",
      " 782 783 784 785 787 788 789 790 791 793 794 795 798 800 802 803 804 805\n",
      " 806 808 810 811 812 814 815 817 818 819 821 822 824 825 826 827 828 831\n",
      " 832 833 834 836 837 838 839 840 841 843 844 845 846 847 848 850 851 857\n",
      " 859 860 861 864 867 868 869 870 872 873 876 877 878 881 883 884 886 889\n",
      " 890]\n",
      "577\n",
      "64.69 % male passengers\n"
     ]
    }
   ],
   "execution_count": 27
  },
  {
   "metadata": {
    "ExecuteTime": {
     "end_time": "2024-09-26T16:29:44.324631Z",
     "start_time": "2024-09-26T16:29:44.309714Z"
    }
   },
   "cell_type": "code",
   "source": [
    "# get indices of all female passengers, without using the sex_index\n",
    "indices_female = np.where(data_numpy[1:, :] == 'female')"
   ],
   "outputs": [],
   "execution_count": 28
  },
  {
   "metadata": {
    "ExecuteTime": {
     "end_time": "2024-09-26T16:29:44.356623Z",
     "start_time": "2024-09-26T16:29:44.345136Z"
    }
   },
   "cell_type": "code",
   "source": [
    "# what is the percentage of female passengers?\n",
    "female_percentage = 100 * len(indices_female[0]) / data_numpy.shape[0]\n",
    "print(female_percentage)\n",
    "\n",
    "# print male plus female percentage\n",
    "print(female_percentage + percent)"
   ],
   "outputs": [
    {
     "name": "stdout",
     "output_type": "stream",
     "text": [
      "35.2017937219731\n",
      "99.8878923766816\n"
     ]
    }
   ],
   "execution_count": 29
  },
  {
   "metadata": {},
   "cell_type": "markdown",
   "source": [
    "Let us now use the numpy module to calculate the percentage of males and females that survived. To start we need to find the indices of the survivors, then we can move on to find the indices of the male and female passengers. \n",
    "\n",
    "Hmmm, which column was \"Survived\" again?"
   ]
  },
  {
   "metadata": {
    "ExecuteTime": {
     "end_time": "2024-09-26T16:29:44.388312Z",
     "start_time": "2024-09-26T16:29:44.376271Z"
    }
   },
   "cell_type": "code",
   "source": [
    "# obtain index of column with title 'Survived'\n",
    "survived_index = np.where(data_numpy[0, :] == 'Survived')\n",
    "print(survived_index[0])"
   ],
   "outputs": [
    {
     "name": "stdout",
     "output_type": "stream",
     "text": [
      "[1]\n"
     ]
    }
   ],
   "execution_count": 30
  },
  {
   "metadata": {},
   "cell_type": "markdown",
   "source": "To make it easier to search by field name, we can create a dictionary for easy indexing."
  },
  {
   "metadata": {
    "ExecuteTime": {
     "end_time": "2024-09-26T16:29:44.434876Z",
     "start_time": "2024-09-26T16:29:44.417757Z"
    }
   },
   "cell_type": "code",
   "source": [
    "# loop through field names and populate a dictionary with indices\n",
    "fields = {}\n",
    "\n",
    "# cycle through the first row (i.e. fields) \n",
    "for i in range(len(data_numpy[0, :])):\n",
    "    fields[data_numpy[0, i]] = i\n",
    "\n",
    "print(fields)"
   ],
   "outputs": [
    {
     "name": "stdout",
     "output_type": "stream",
     "text": [
      "{'PassengerId': 0, 'Survived': 1, 'Pclass': 2, 'Name': 3, 'Sex': 4, 'Age': 5, 'SibSp': 6, 'Parch': 7, 'Ticket': 8, 'Fare': 9, 'Cabin': 10, 'Embarked': 11}\n"
     ]
    }
   ],
   "execution_count": 31
  },
  {
   "metadata": {
    "ExecuteTime": {
     "end_time": "2024-09-26T16:29:44.466350Z",
     "start_time": "2024-09-26T16:29:44.457309Z"
    }
   },
   "cell_type": "code",
   "source": "fields['Age']",
   "outputs": [
    {
     "data": {
      "text/plain": [
       "5"
      ]
     },
     "execution_count": 32,
     "metadata": {},
     "output_type": "execute_result"
    }
   ],
   "execution_count": 32
  },
  {
   "metadata": {},
   "cell_type": "markdown",
   "source": [
    "Now we can use the dictionary to quickly obtain the index of the filed we are interested in searching.\n",
    "\n",
    "Let's find the percentage of male passengers that survived"
   ]
  },
  {
   "metadata": {
    "ExecuteTime": {
     "end_time": "2024-09-26T16:29:44.497312Z",
     "start_time": "2024-09-26T16:29:44.487659Z"
    }
   },
   "cell_type": "code",
   "source": [
    "# get indices for male passengers\n",
    "field1 = 'Sex'\n",
    "field1_val = 'male'\n",
    "male_indices = np.where(data_numpy[0:, fields[field1]] == field1_val)\n",
    "male_indices = list(male_indices[0])\n",
    "\n",
    "# get indices for surviving passengers\n",
    "field2 = 'Survived'\n",
    "survived_indices = np.where(data_numpy[0:, fields[field2]] == '1')\n",
    "survived_indices = list(survived_indices[0])"
   ],
   "outputs": [],
   "execution_count": 33
  },
  {
   "metadata": {},
   "cell_type": "markdown",
   "source": [
    "Now that we have a list of indices of passengers that survived, and a separate list of indices for the ones that are males, how can we use that information to find the number of male survivors?\n",
    "\n",
    "There are a couple ways we could do this. One option is to convert our lists of indices into sets and take advantage of the set intersection method/operator (i.e. &)."
   ]
  },
  {
   "metadata": {
    "ExecuteTime": {
     "end_time": "2024-09-26T16:29:44.528825Z",
     "start_time": "2024-09-26T16:29:44.525112Z"
    }
   },
   "cell_type": "code",
   "source": [
    "# compute percentage that survived\n",
    "percent = 100 * len(set(male_indices) & set(survived_indices)) / len(male_indices)\n",
    "print(round(percent, 2), '% of', field1_val, 'passengers survived')"
   ],
   "outputs": [
    {
     "name": "stdout",
     "output_type": "stream",
     "text": [
      "18.89 % of male passengers survived\n"
     ]
    }
   ],
   "execution_count": 34
  },
  {
   "metadata": {},
   "cell_type": "markdown",
   "source": [
    "We could do the same thing to find the percentage of female passengers that survived or even to find the percentage of first class, female passengeres who survived. But doing this would seem like a lot of code for each combination of characteristics. Why not write a function that generalizes?\n",
    "\n",
    "We are given some number characteristics (A, B, C) (e.g., A could be male, B could be first class, etc) and we want to find out the percentage of passengers with all of those characteristics that survived. The little algorithm we could write is:\n",
    "\n",
    "- find ind_A (the indices with characteristic A), ind_B, and ind_C and intersect them to form ind_characteristics\n",
    "- find ind_survived (the indices of all passengers who survived)\n",
    "- the length of ind_survived intersected with ind_characteristics divided by the length of ind_survived gives the proportion of surivors\n",
    "\n",
    "Since we want to be able to do this with any number of characteristics, lets put them in a list.\n"
   ]
  },
  {
   "metadata": {
    "ExecuteTime": {
     "end_time": "2024-09-26T16:29:44.575216Z",
     "start_time": "2024-09-26T16:29:44.556475Z"
    }
   },
   "cell_type": "code",
   "source": [
    "def get_survival(characteristics):\n",
    "    \"\"\"Return the percentage of passengers with the (field, value) entries in \n",
    "       characteristics that survived.\n",
    "       characteristics is a list of the form [(field, value), (field, value), ...]\n",
    "    \"\"\"\n",
    "    indices = set()\n",
    "    for i in range(len(characteristics)):\n",
    "        # get search category\n",
    "        field = characteristics[i][0]\n",
    "\n",
    "        # get value to search for\n",
    "        val = characteristics[i][1]\n",
    "\n",
    "        # find the matching indices\n",
    "        new_indices = set(list(np.where(data_numpy[0:, fields[field]] == val)[0]))\n",
    "\n",
    "        # intersect\n",
    "        if len(indices) == 0:\n",
    "            indices = new_indices\n",
    "        else:\n",
    "            indices &= new_indices\n",
    "\n",
    "    # find the indices of the survivors    \n",
    "    indices_survived = set(list(np.where(data_numpy[0:, fields[\"Survived\"]] == \"1\")[0]))\n",
    "\n",
    "    return 100 * len(indices_survived & indices) / len(indices)\n",
    "\n",
    "\n",
    "percent = get_survival([(\"Sex\", \"male\")])\n",
    "print(round(percent, 2), '% of male passengers survived')"
   ],
   "outputs": [
    {
     "name": "stdout",
     "output_type": "stream",
     "text": [
      "18.89 % of male passengers survived\n"
     ]
    }
   ],
   "execution_count": 35
  },
  {
   "metadata": {},
   "cell_type": "markdown",
   "source": "Now we can easily do the same thing for other combinations."
  },
  {
   "metadata": {
    "ExecuteTime": {
     "end_time": "2024-09-26T16:29:44.622553Z",
     "start_time": "2024-09-26T16:29:44.605454Z"
    }
   },
   "cell_type": "code",
   "source": [
    "# find the percentage of female passengers that survived\n",
    "get_survival([(\"Sex\", \"female\")])"
   ],
   "outputs": [
    {
     "data": {
      "text/plain": [
       "74.20382165605096"
      ]
     },
     "execution_count": 36,
     "metadata": {},
     "output_type": "execute_result"
    }
   ],
   "execution_count": 36
  },
  {
   "metadata": {},
   "cell_type": "markdown",
   "source": "How about we combine gender and class to see how many first class males survived compared to other classes. How could we do that?"
  },
  {
   "metadata": {
    "ExecuteTime": {
     "end_time": "2024-09-26T16:29:44.654194Z",
     "start_time": "2024-09-26T16:29:44.646179Z"
    }
   },
   "cell_type": "code",
   "source": [
    "# find the percentage of  male class 1 passengers that survived\n",
    "get_survival([(\"Sex\", \"male\"), (\"Pclass\", \"1\")])"
   ],
   "outputs": [
    {
     "data": {
      "text/plain": [
       "36.885245901639344"
      ]
     },
     "execution_count": 37,
     "metadata": {},
     "output_type": "execute_result"
    }
   ],
   "execution_count": 37
  },
  {
   "metadata": {
    "ExecuteTime": {
     "end_time": "2024-09-26T16:29:44.701267Z",
     "start_time": "2024-09-26T16:29:44.687548Z"
    }
   },
   "cell_type": "code",
   "source": [
    "# find the percentage of  female class 1 passengers that survived\n",
    "get_survival([(\"Sex\", \"female\"), (\"Pclass\", \"1\")])"
   ],
   "outputs": [
    {
     "data": {
      "text/plain": [
       "96.80851063829788"
      ]
     },
     "execution_count": 38,
     "metadata": {},
     "output_type": "execute_result"
    }
   ],
   "execution_count": 38
  },
  {
   "metadata": {
    "ExecuteTime": {
     "end_time": "2024-09-26T16:29:44.731878Z",
     "start_time": "2024-09-26T16:29:44.727877Z"
    }
   },
   "cell_type": "code",
   "source": "data_numpy",
   "outputs": [
    {
     "data": {
      "text/plain": [
       "array([['PassengerId', 'Survived', 'Pclass', ..., 'Fare', 'Cabin',\n",
       "        'Embarked'],\n",
       "       ['1', '0', '3', ..., '7.25', '', 'S'],\n",
       "       ['2', '1', '1', ..., '71.2833', 'C85', 'C'],\n",
       "       ...,\n",
       "       ['889', '0', '3', ..., '23.45', '', 'S'],\n",
       "       ['890', '1', '1', ..., '30', 'C148', 'C'],\n",
       "       ['891', '0', '3', ..., '7.75', '', 'Q']], dtype='<U82')"
      ]
     },
     "execution_count": 39,
     "metadata": {},
     "output_type": "execute_result"
    }
   ],
   "execution_count": 39
  },
  {
   "metadata": {},
   "cell_type": "markdown",
   "source": [
    "Let's now use the passenger gender and class to improve our prediction.\n",
    "\n",
    "#### Test Case 1:  Sample Male and Female Survivor\n",
    "  \n",
    "|Passenger|PassengerID|Pclass|Sex|Age|SibSp|Parch|Fare|Embarked_Val|\n",
    "|:--------|:----------|:-----|:--|:--|:----|:----|:---|:-----------|\n",
    "|Mrs. Laina Heikkinen|3|3|1|26|0|0|7.925|2|\n",
    "|Master. Michel Navratil|194|2|0|3|1|1|26|2|\n",
    "\n",
    "\n",
    "#### Test Case 2:  Sample Male and Female Non-Survivor\n",
    "\n",
    "|Passenger|PassengerID|Pclass|Sex|Age|SibSp|Parch|Fare|Embarked_Val|\n",
    "|:--------|:----------|:-----|:--|:--|:----|:----|:---|:-----------|\n",
    "|Miss. Augusta Planke|39|3|1|18|2|0|18|2|\n",
    "|Mr. Owen Harris Braund|1|3|0|22|1|0|7.25|2|"
   ]
  },
  {
   "metadata": {
    "ExecuteTime": {
     "end_time": "2024-09-26T16:29:44.793414Z",
     "start_time": "2024-09-26T16:29:44.779329Z"
    }
   },
   "cell_type": "code",
   "source": [
    "# Estimate survival likelihood of the test case passengers \n",
    "# Test Case 1\n",
    "# get survivial of pclass 3, sex 1, age 26 sibsp 0 parch 0 and embarked 2\n",
    "print(get_survival([(\"Pclass\", \"3\"), (\"Sex\", \"female\"), (\"Age\", \"26\")]))\n",
    "print(get_survival([(\"Pclass\", \"2\"), (\"Sex\", \"male\"), (\"Age\", \"3\")]))\n"
   ],
   "outputs": [
    {
     "name": "stdout",
     "output_type": "stream",
     "text": [
      "66.66666666666667\n",
      "100.0\n"
     ]
    }
   ],
   "execution_count": 40
  },
  {
   "metadata": {},
   "cell_type": "markdown",
   "source": [
    "# Part 2\n",
    "\n",
    "# Problem: Visualizing Titanic Dataset\n",
    "\n",
    "This part will focus on visualizing the data to find patterns that may allow us to make a prediction on who would survive the Titanic tragedy.\n",
    "\n",
    "Python has many modules available dealing with visualization. One of the most popular to use is the **matplotlib module** which replicates the plotting capability of MATLAB (matplotlib is short for \"MATLAB plotting library). In what is to follow, we will discuss how to import and use this module.\n",
    "\n",
    "To start we can use the plot() method, which takes an optional format string argument that specifies the color and style of the plotted line. For example, plot(x_values, y_values, 'r--') uses 'r' to specify a red color, and '--' to specify a dashed line. You can find more information on formatting options at the following [link](http://matplotlib.org/api/pyplot_api.html#matplotlib.pyplot.plot).\n"
   ]
  },
  {
   "metadata": {
    "ExecuteTime": {
     "end_time": "2024-09-26T16:29:45.121296Z",
     "start_time": "2024-09-26T16:29:44.856541Z"
    }
   },
   "cell_type": "code",
   "source": "import matplotlib.pyplot as plt",
   "outputs": [],
   "execution_count": 41
  },
  {
   "metadata": {},
   "cell_type": "markdown",
   "source": [
    "The program imports the pyplot module from the matplotlib package, renaming matplotlib.pyplot to plt using the **as** keyword. \n",
    "\n",
    "The plt.plot() function plots data onto the graph. plot() accepts various arguments. If provided just one list, as in plt.plot(val), plot() uses 0, 1, ... for x values, as in (0, val[0]), (1, val[1]), etc. \n",
    "\n",
    "\n",
    "plt.plot() on its own will not display anyting. One needs to call the plt.show() function to displays the graph.\n",
    "\n",
    "To start let's plot the survival percentages based on gender:"
   ]
  },
  {
   "metadata": {
    "ExecuteTime": {
     "end_time": "2024-09-26T16:29:45.230521Z",
     "start_time": "2024-09-26T16:29:45.133510Z"
    }
   },
   "cell_type": "code",
   "source": [
    "# plot survival by gender\n",
    "male_survived = 18.9\n",
    "female_survived = 74.2\n",
    "survived_percent = [male_survived, female_survived]\n",
    "\n",
    "# Add title and legend\n",
    "plt.plot(survived_percent)\n",
    "plt.title('Survival Percentage')\n",
    "plt.ylabel('Percentage')\n",
    "\n",
    "# plot survival percentages\n",
    "plt.plot(survived_percent)\n",
    "plt.show()"
   ],
   "outputs": [
    {
     "data": {
      "text/plain": [
       "<Figure size 640x480 with 1 Axes>"
      ],
      "image/png": "[encoded data removed]"
     },
     "metadata": {},
     "output_type": "display_data"
    }
   ],
   "execution_count": 42
  },
  {
   "metadata": {
    "ExecuteTime": {
     "end_time": "2024-09-26T16:29:45.308355Z",
     "start_time": "2024-09-26T16:29:45.247254Z"
    }
   },
   "cell_type": "code",
   "source": [
    "# plot survival with dotted connecting lines\n",
    "plt.plot(survived_percent, 'm--o')\n",
    "plt.show()"
   ],
   "outputs": [
    {
     "data": {
      "text/plain": [
       "<Figure size 640x480 with 1 Axes>"
      ],
      "image/png": "[encoded data removed]"
     },
     "metadata": {},
     "output_type": "display_data"
    }
   ],
   "execution_count": 43
  },
  {
   "metadata": {
    "ExecuteTime": {
     "end_time": "2024-09-26T16:29:45.386448Z",
     "start_time": "2024-09-26T16:29:45.331711Z"
    }
   },
   "cell_type": "code",
   "source": [
    "# plot survival without connecting lines\n",
    "plt.plot(survived_percent, 'mo', markerfacecolor='None')\n",
    "plt.show()"
   ],
   "outputs": [
    {
     "data": {
      "text/plain": [
       "<Figure size 640x480 with 1 Axes>"
      ],
      "image/png": "[encoded data removed]"
     },
     "metadata": {},
     "output_type": "display_data"
    }
   ],
   "execution_count": 44
  },
  {
   "metadata": {},
   "cell_type": "markdown",
   "source": "Calling plot multiple times draws multiple lines."
  },
  {
   "metadata": {
    "ExecuteTime": {
     "end_time": "2024-09-26T16:29:45.480289Z",
     "start_time": "2024-09-26T16:29:45.404296Z"
    }
   },
   "cell_type": "code",
   "source": [
    "# we can plot percentages of those that survived with overlapping percentages \n",
    "# of those that did not survive\n",
    "survived_percent = [male_survived, female_survived]\n",
    "n_survived_percent = [100 - male_survived, 100 - female_survived]\n",
    "\n",
    "plt.plot(survived_percent, 'm--o')\n",
    "plt.plot(n_survived_percent, 'r-.D')\n",
    "\n",
    "# Add title and legend\n",
    "plt.title('Survival Percentage')\n",
    "plt.ylabel('Percentage')\n",
    "plt.xlabel('')\n",
    "plt.legend(['survived', 'not survived'])\n",
    "\n",
    "plt.show()"
   ],
   "outputs": [
    {
     "data": {
      "text/plain": [
       "<Figure size 640x480 with 1 Axes>"
      ],
      "image/png": "[encoded data removed]"
     },
     "metadata": {},
     "output_type": "display_data"
    }
   ],
   "execution_count": 45
  },
  {
   "metadata": {},
   "cell_type": "markdown",
   "source": "#### Text and Annotations"
  },
  {
   "metadata": {
    "ExecuteTime": {
     "end_time": "2024-09-26T16:29:45.572802Z",
     "start_time": "2024-09-26T16:29:45.502395Z"
    }
   },
   "cell_type": "code",
   "source": [
    "# add title and axis labels\n",
    "plt.plot(survived_percent, 'm--o')\n",
    "plt.title('Survival Percentage Based on Gender')\n",
    "plt.ylabel('Percentage')\n",
    "plt.show()"
   ],
   "outputs": [
    {
     "data": {
      "text/plain": [
       "<Figure size 640x480 with 1 Axes>"
      ],
      "image/png": "[encoded data removed]"
     },
     "metadata": {},
     "output_type": "display_data"
    }
   ],
   "execution_count": 46
  },
  {
   "metadata": {
    "ExecuteTime": {
     "end_time": "2024-09-26T16:29:45.650469Z",
     "start_time": "2024-09-26T16:29:45.589427Z"
    }
   },
   "cell_type": "code",
   "source": [
    "# add tick labels\n",
    "plt.plot(survived_percent, 'm--o')\n",
    "plt.xticks([0, 1], ['males', 'females'])\n",
    "plt.title('Survival Percentage Based on Gender')\n",
    "plt.xlabel('Gender')\n",
    "plt.ylabel('Percentage')\n",
    "plt.show()"
   ],
   "outputs": [
    {
     "data": {
      "text/plain": [
       "<Figure size 640x480 with 1 Axes>"
      ],
      "image/png": "[encoded data removed]"
     },
     "metadata": {},
     "output_type": "display_data"
    }
   ],
   "execution_count": 47
  },
  {
   "metadata": {},
   "cell_type": "markdown",
   "source": [
    "Hmmmm, this information would be best represented as a bar graph. Turns out we can do that as well using matlibplot.\n",
    "\n",
    "#### Bar Graphs - Averaged Data\n",
    "We can visualize the survival rates using bar graphs as shown:"
   ]
  },
  {
   "metadata": {
    "ExecuteTime": {
     "end_time": "2024-09-26T16:29:45.727099Z",
     "start_time": "2024-09-26T16:29:45.667054Z"
    }
   },
   "cell_type": "code",
   "source": [
    "# plot bar graph of survival by gender\n",
    "pos = [0, 1]\n",
    "plt.bar(pos, survived_percent, align='center')\n",
    "plt.xticks(pos, ['males survived', 'females survived'])\n",
    "plt.title('Survival Percentage Based on Gender')\n",
    "plt.xlabel('Gender')\n",
    "plt.ylabel('Percentage')\n",
    "plt.show()"
   ],
   "outputs": [
    {
     "data": {
      "text/plain": [
       "<Figure size 640x480 with 1 Axes>"
      ],
      "image/png": "[encoded data removed]"
     },
     "metadata": {},
     "output_type": "display_data"
    }
   ],
   "execution_count": 48
  },
  {
   "metadata": {
    "ExecuteTime": {
     "end_time": "2024-09-26T16:29:45.820238Z",
     "start_time": "2024-09-26T16:29:45.745362Z"
    }
   },
   "cell_type": "code",
   "source": [
    "# plot bar graph of survival by class\n",
    "male_class_survived = [36.88, 15.74, 13.54]\n",
    "\n",
    "# x axis position of bars graph\n",
    "pos = range(len(male_class_survived))\n",
    "# generate bar graph\n",
    "plt.bar(pos, male_class_survived, align='center')\n",
    "# provide labels for each bar based on provided positions\n",
    "plt.xticks(pos, ['1st', '2nd', '3rd'])\n",
    "plt.title('Survival Percentage of Males Based on Class')\n",
    "plt.xlabel('Class')\n",
    "plt.ylabel('Percentage')\n",
    "plt.show()"
   ],
   "outputs": [
    {
     "data": {
      "text/plain": [
       "<Figure size 640x480 with 1 Axes>"
      ],
      "image/png": "[encoded data removed]"
     },
     "metadata": {},
     "output_type": "display_data"
    }
   ],
   "execution_count": 49
  },
  {
   "metadata": {},
   "cell_type": "markdown",
   "source": "**(optional) We can also use subplots to plot everything together. In your spare time see if you can plot the percentage of male and female survivors using subplots.**"
  },
  {
   "metadata": {
    "ExecuteTime": {
     "end_time": "2024-09-26T16:29:45.944262Z",
     "start_time": "2024-09-26T16:29:45.847144Z"
    }
   },
   "cell_type": "code",
   "source": [
    "import matplotlib.pyplot as plt\n",
    "\n",
    "# Data for male and female survival rates based on class\n",
    "male_class_survived = [36.88, 15.74, 13.54]\n",
    "female_class_survived = [64.76, 47.28, 24.24]\n",
    "\n",
    "# Create subplots\n",
    "fig, axs = plt.subplots(2, 1)\n",
    "\n",
    "# Plot male survival rates\n",
    "axs[0].bar(range(len(male_class_survived)), male_class_survived, align='center')\n",
    "axs[0].set_xticks(range(len(male_class_survived)))\n",
    "axs[0].set_xticklabels(['1st', '2nd', '3rd'])\n",
    "axs[0].set_title('Survival Percentage of Males Based on Class')\n",
    "axs[0].set_xlabel('Class')\n",
    "axs[0].set_ylabel('Percentage')\n",
    "\n",
    "# Plot female survival rates\n",
    "axs[1].bar(range(len(female_class_survived)), female_class_survived, align='center')\n",
    "axs[1].set_xticks(range(len(female_class_survived)))\n",
    "axs[1].set_xticklabels(['1st', '2nd', '3rd'])\n",
    "axs[1].set_title('Survival Percentage of Females Based on Class')\n",
    "axs[1].set_xlabel('Class')\n",
    "axs[1].set_ylabel('Percentage')\n",
    "\n",
    "# Adjust layout\n",
    "plt.tight_layout()\n",
    "plt.show()\n"
   ],
   "outputs": [
    {
     "data": {
      "text/plain": [
       "<Figure size 640x480 with 2 Axes>"
      ],
      "image/png": "[encoded data removed]"
     },
     "metadata": {},
     "output_type": "display_data"
    }
   ],
   "execution_count": 50
  },
  {
   "metadata": {},
   "cell_type": "markdown",
   "source": "What if we wanted to plot an entire column? For example, we could print the ages of all the passengers."
  },
  {
   "metadata": {},
   "cell_type": "markdown",
   "source": [
    "#### Numpy: Converting Column of str to int\n",
    "When we loaded our data all the values were converted into strings because unlike lists numpy arrays can be of only one type (i.e. string or float, not both). This is somewhat problematic as we cannot plot strings, we need numerical values. We need to fix our dataset before we can plot it. How might we do that?\n",
    "\n",
    "If we want to plot the age of passengers we need to apply the following steps:\n",
    "\n",
    "1. Select the age column\n",
    "2. find all the missing ages and replace them with a numerical value (i.e. np.nan)\n",
    "3. convert the numpy array into a float\n",
    "\n",
    "Selecting the age column is something we've done, but what about finding and overwriting data? One option could be to find the indicies that are blank and overwrite them. There is an easier way to do this."
   ]
  },
  {
   "metadata": {},
   "cell_type": "markdown",
   "source": [
    "Turns out we can also select numpy data by value using conditionals. For examples:\n",
    "    \n",
    "    x = np.array([1, 2, 3, 4, 5, 6, 7, 8, 9])\n",
    "\n",
    "    x[x >= 5]\n",
    "    \n",
    "Will select only the data that is greater than or equal to 5 in a numpy array x.\n",
    "\n",
    "We can take this further by assigning that data a particular value.\n",
    "\n",
    "    x[x >= 5] = 100\n",
    "\n",
    "Will select only the data greater than or equal to 5 and change the value to 100."
   ]
  },
  {
   "metadata": {
    "ExecuteTime": {
     "end_time": "2024-09-26T16:29:45.976099Z",
     "start_time": "2024-09-26T16:29:45.965361Z"
    }
   },
   "cell_type": "code",
   "source": [
    "x = np.array([1, 2, 3, 4, 5, 6, 7, 8, 9])\n",
    "print(x[x >= 5])\n",
    "x[x >= 5] = 100\n",
    "print(x)"
   ],
   "outputs": [
    {
     "name": "stdout",
     "output_type": "stream",
     "text": [
      "[5 6 7 8 9]\n",
      "[  1   2   3   4 100 100 100 100 100]\n"
     ]
    }
   ],
   "execution_count": 51
  },
  {
   "metadata": {},
   "cell_type": "markdown",
   "source": "Now we can use the same technique to update our age data to numerical values."
  },
  {
   "metadata": {
    "ExecuteTime": {
     "end_time": "2024-09-26T16:29:46.022365Z",
     "start_time": "2024-09-26T16:29:46.002543Z"
    }
   },
   "cell_type": "code",
   "source": [
    "# select the age of passengers\n",
    "index = fields['Age']\n",
    "age = data_numpy[1:, index]\n",
    "\n",
    "# find the ones that are empty and make them nan\n",
    "age[age == ''] = np.nan\n",
    "\n",
    "# convert all the strings into floats\n",
    "age = age.astype(float)\n",
    "\n",
    "# verify conversion to float\n",
    "print(age)"
   ],
   "outputs": [
    {
     "name": "stdout",
     "output_type": "stream",
     "text": [
      "[22.   38.   26.   35.   35.     nan 54.    2.   27.   14.    4.   58.\n",
      " 20.   39.   14.   55.    2.     nan 31.     nan 35.   34.   15.   28.\n",
      "  8.   38.     nan 19.     nan   nan 40.     nan   nan 66.   28.   42.\n",
      "   nan 21.   18.   14.   40.   27.     nan  3.   19.     nan   nan   nan\n",
      "   nan 18.    7.   21.   49.   29.   65.     nan 21.   28.5   5.   11.\n",
      " 22.   38.   45.    4.     nan   nan 29.   19.   17.   26.   32.   16.\n",
      " 21.   26.   32.   25.     nan   nan  0.83 30.   22.   29.     nan 28.\n",
      " 17.   33.   16.     nan 23.   24.   29.   20.   46.   26.   59.     nan\n",
      " 71.   23.   34.   34.   28.     nan 21.   33.   37.   28.   21.     nan\n",
      " 38.     nan 47.   14.5  22.   20.   17.   21.   70.5  29.   24.    2.\n",
      " 21.     nan 32.5  32.5  54.   12.     nan 24.     nan 45.   33.   20.\n",
      " 47.   29.   25.   23.   19.   37.   16.   24.     nan 22.   24.   19.\n",
      " 18.   19.   27.    9.   36.5  42.   51.   22.   55.5  40.5    nan 51.\n",
      " 16.   30.     nan   nan 44.   40.   26.   17.    1.    9.     nan 45.\n",
      "   nan 28.   61.    4.    1.   21.   56.   18.     nan 50.   30.   36.\n",
      "   nan   nan  9.    1.    4.     nan   nan 45.   40.   36.   32.   19.\n",
      " 19.    3.   44.   58.     nan 42.     nan 24.   28.     nan 34.   45.5\n",
      " 18.    2.   32.   26.   16.   40.   24.   35.   22.   30.     nan 31.\n",
      " 27.   42.   32.   30.   16.   27.   51.     nan 38.   22.   19.   20.5\n",
      " 18.     nan 35.   29.   59.    5.   24.     nan 44.    8.   19.   33.\n",
      "   nan   nan 29.   22.   30.   44.   25.   24.   37.   54.     nan 29.\n",
      " 62.   30.   41.   29.     nan 30.   35.   50.     nan  3.   52.   40.\n",
      "   nan 36.   16.   25.   58.   35.     nan 25.   41.   37.     nan 63.\n",
      " 45.     nan  7.   35.   65.   28.   16.   19.     nan 33.   30.   22.\n",
      " 42.   22.   26.   19.   36.   24.   24.     nan 23.5   2.     nan 50.\n",
      "   nan   nan 19.     nan   nan  0.92   nan 17.   30.   30.   24.   18.\n",
      " 26.   28.   43.   26.   24.   54.   31.   40.   22.   27.   30.   22.\n",
      "   nan 36.   61.   36.   31.   16.     nan 45.5  38.   16.     nan   nan\n",
      " 29.   41.   45.   45.    2.   24.   28.   25.   36.   24.   40.     nan\n",
      "  3.   42.   23.     nan 15.   25.     nan 28.   22.   38.     nan   nan\n",
      " 40.   29.   45.   35.     nan 30.   60.     nan   nan 24.   25.   18.\n",
      " 19.   22.    3.     nan 22.   27.   20.   19.   42.    1.   32.   35.\n",
      "   nan 18.    1.   36.     nan 17.   36.   21.   28.   23.   24.   22.\n",
      " 31.   46.   23.   28.   39.   26.   21.   28.   20.   34.   51.    3.\n",
      " 21.     nan   nan   nan 33.     nan 44.     nan 34.   18.   30.   10.\n",
      "   nan 21.   29.   28.   18.     nan 28.   19.     nan 32.   28.     nan\n",
      " 42.   17.   50.   14.   21.   24.   64.   31.   45.   20.   25.   28.\n",
      "   nan  4.   13.   34.    5.   52.   36.     nan 30.   49.     nan 29.\n",
      " 65.     nan 50.     nan 48.   34.   47.   48.     nan 38.     nan 56.\n",
      "   nan  0.75   nan 38.   33.   23.   22.     nan 34.   29.   22.    2.\n",
      "  9.     nan 50.   63.   25.     nan 35.   58.   30.    9.     nan 21.\n",
      " 55.   71.   21.     nan 54.     nan 25.   24.   17.   21.     nan 37.\n",
      " 16.   18.   33.     nan 28.   26.   29.     nan 36.   54.   24.   47.\n",
      " 34.     nan 36.   32.   30.   22.     nan 44.     nan 40.5  50.     nan\n",
      " 39.   23.    2.     nan 17.     nan 30.    7.   45.   30.     nan 22.\n",
      " 36.    9.   11.   32.   50.   64.   19.     nan 33.    8.   17.   27.\n",
      "   nan 22.   22.   62.   48.     nan 39.   36.     nan 40.   28.     nan\n",
      "   nan 24.   19.   29.     nan 32.   62.   53.   36.     nan 16.   19.\n",
      " 34.   39.     nan 32.   25.   39.   54.   36.     nan 18.   47.   60.\n",
      " 22.     nan 35.   52.   47.     nan 37.   36.     nan 49.     nan 49.\n",
      " 24.     nan   nan 44.   35.   36.   30.   27.   22.   40.   39.     nan\n",
      "   nan   nan 35.   24.   34.   26.    4.   26.   27.   42.   20.   21.\n",
      " 21.   61.   57.   21.   26.     nan 80.   51.   32.     nan  9.   28.\n",
      " 32.   31.   41.     nan 20.   24.    2.     nan  0.75 48.   19.   56.\n",
      "   nan 23.     nan 18.   21.     nan 18.   24.     nan 32.   23.   58.\n",
      " 50.   40.   47.   36.   20.   32.   25.     nan 43.     nan 40.   31.\n",
      " 70.   31.     nan 18.   24.5  18.   43.   36.     nan 27.   20.   14.\n",
      " 60.   25.   14.   19.   18.   15.   31.    4.     nan 25.   60.   52.\n",
      " 44.     nan 49.   42.   18.   35.   18.   25.   26.   39.   45.   42.\n",
      " 22.     nan 24.     nan 48.   29.   52.   19.   38.   27.     nan 33.\n",
      "  6.   17.   34.   50.   27.   20.   30.     nan 25.   25.   29.   11.\n",
      "   nan 23.   23.   28.5  48.   35.     nan   nan   nan 36.   21.   24.\n",
      " 31.   70.   16.   30.   19.   31.    4.    6.   33.   23.   48.    0.67\n",
      " 28.   18.   34.   33.     nan 41.   20.   36.   16.   51.     nan 30.5\n",
      "   nan 32.   24.   48.   57.     nan 54.   18.     nan  5.     nan 43.\n",
      " 13.   17.   29.     nan 25.   25.   18.    8.    1.   46.     nan 16.\n",
      "   nan   nan 25.   39.   49.   31.   30.   30.   34.   31.   11.    0.42\n",
      " 27.   31.   39.   18.   39.   33.   26.   39.   35.    6.   30.5    nan\n",
      " 23.   31.   43.   10.   52.   27.   38.   27.    2.     nan   nan  1.\n",
      "   nan 62.   15.    0.83   nan 23.   18.   39.   21.     nan 32.     nan\n",
      " 20.   16.   30.   34.5  17.   42.     nan 35.   28.     nan  4.   74.\n",
      "  9.   16.   44.   18.   45.   51.   24.     nan 41.   21.   48.     nan\n",
      " 24.   42.   27.   31.     nan  4.   26.   47.   33.   47.   28.   15.\n",
      " 20.   19.     nan 56.   25.   33.   22.   28.   25.   39.   27.   19.\n",
      "   nan 26.   32.  ]\n"
     ]
    }
   ],
   "execution_count": 52
  },
  {
   "metadata": {},
   "cell_type": "markdown",
   "source": "By making the missing data of type nan (not a number), plot will ignore those values when plotting age values."
  },
  {
   "metadata": {
    "ExecuteTime": {
     "end_time": "2024-09-26T16:29:46.130889Z",
     "start_time": "2024-09-26T16:29:46.038611Z"
    }
   },
   "cell_type": "code",
   "source": [
    "# plot age\n",
    "plt.plot(age)\n",
    "plt.title('Passenger Age')\n",
    "plt.xlabel('Passenger #')\n",
    "plt.ylabel('Age (years)')\n",
    "plt.show()"
   ],
   "outputs": [
    {
     "data": {
      "text/plain": [
       "<Figure size 640x480 with 1 Axes>"
      ],
      "image/png": "[encoded data removed]"
     },
     "metadata": {},
     "output_type": "display_data"
    }
   ],
   "execution_count": 53
  },
  {
   "metadata": {},
   "cell_type": "markdown",
   "source": "Since we don't care about the sequence of the age of passengers, it may be more informative to see how many passengers we have within each age group, i.e. plot a histogram of our data."
  },
  {
   "metadata": {
    "ExecuteTime": {
     "end_time": "2024-09-26T16:29:46.255045Z",
     "start_time": "2024-09-26T16:29:46.148082Z"
    }
   },
   "cell_type": "code",
   "source": [
    "plt.hist(age, bins=30)\n",
    "plt.title('Passenger Age Histogram')\n",
    "plt.xlabel('Age (years)')\n",
    "plt.ylabel('Count')\n",
    "plt.show()"
   ],
   "outputs": [
    {
     "data": {
      "text/plain": [
       "<Figure size 640x480 with 1 Axes>"
      ],
      "image/png": "[encoded data removed]"
     },
     "metadata": {},
     "output_type": "display_data"
    }
   ],
   "execution_count": 54
  },
  {
   "metadata": {},
   "cell_type": "markdown",
   "source": [
    "Hmmmm, seems like we obtain a histogram for nan values. How can we fix this? Let's search on Google to see if anyone else has had this problem. A quick search reveals the following stackoverflow discussion [(link)](http://stackoverflow.com/questions/11620914/removing-nan-values-from-an-array).\n",
    "\n",
    "    x = x[numpy.logical_not(numpy.isnan(x))] \n",
    "\n",
    "or   \n",
    "\n",
    "    x = x[~numpy.isnan(x)]\n",
    "\n",
    "This is actually the same as: \n",
    "\n",
    "    x = x[numpy.isnan(x) == 0]\n",
    "\n",
    "Let's use this to select all age values excluding the nan type."
   ]
  },
  {
   "metadata": {
    "ExecuteTime": {
     "end_time": "2024-09-26T16:29:46.366247Z",
     "start_time": "2024-09-26T16:29:46.276190Z"
    }
   },
   "cell_type": "code",
   "source": [
    "# plot a histogram of passenger ages excluding nan values\n",
    "# to plot the histogram we need to exclude the missing ages, i.e. nan values\n",
    "# the np.isnan() method returns True for values that are of type nan\n",
    "plt.hist(age[np.isnan(age) == 0], bins=30)\n",
    "plt.title('Passenger Age Histogram')\n",
    "plt.xlabel('Age (years)')\n",
    "plt.ylabel('Count')\n",
    "plt.show()"
   ],
   "outputs": [
    {
     "data": {
      "text/plain": [
       "<Figure size 640x480 with 1 Axes>"
      ],
      "image/png": "[encoded data removed]"
     },
     "metadata": {},
     "output_type": "display_data"
    }
   ],
   "execution_count": 55
  },
  {
   "metadata": {},
   "cell_type": "markdown",
   "source": "**(Optional) As another exploration activity, it might be useful to see how survival changes with age. To do that it might be helpful to plot the survivor and non-survivor age histograms overtop of each other. Hmmm, how might we do that?** [(Hint)](http://stackoverflow.com/questions/6871201/plot-two-histograms-at-the-same-time-with-matplotlib)"
  },
  {
   "metadata": {
    "ExecuteTime": {
     "end_time": "2024-09-26T16:29:46.506320Z",
     "start_time": "2024-09-26T16:29:46.382970Z"
    }
   },
   "cell_type": "code",
   "source": [
    "# (Optional) plot a histogram of passenger ages excluding nan values and overlap survivors and non-survivors. Does this provide any insight into the data?\n",
    "\n",
    "# Assuming data_numpy is already loaded and fields dictionary is created\n",
    "\n",
    "# Extract age data\n",
    "age = data_numpy[1:, fields['Age']].astype(float)\n",
    "survived = data_numpy[1:, fields['Survived']].astype(int)\n",
    "\n",
    "# Separate ages of survivors and non-survivors\n",
    "age_survived = age[survived == 1]\n",
    "age_not_survived = age[survived == 0]\n",
    "\n",
    "# Remove NaN values\n",
    "age_survived = age_survived[~np.isnan(age_survived)]\n",
    "age_not_survived = age_not_survived[~np.isnan(age_not_survived)]\n",
    "\n",
    "# Plot histograms\n",
    "plt.hist(age_survived, bins=30, alpha=0.5, label='Survived')\n",
    "plt.hist(age_not_survived, bins=30, alpha=0.5, label='Not Survived')\n",
    "\n",
    "# Add titles and labels\n",
    "plt.title('Passenger Age Histogram')\n",
    "plt.xlabel('Age (years)')\n",
    "plt.ylabel('Count')\n",
    "plt.legend()\n",
    "\n",
    "# Show plot\n",
    "plt.show()"
   ],
   "outputs": [
    {
     "data": {
      "text/plain": [
       "<Figure size 640x480 with 1 Axes>"
      ],
      "image/png": "[encoded data removed]"
     },
     "metadata": {},
     "output_type": "display_data"
    }
   ],
   "execution_count": 56
  },
  {
   "metadata": {},
   "cell_type": "markdown",
   "source": [
    "Including age with the class and gender may benefit our predictions on the test cases. It would take some work to implement this change. It may be a good idea to pause and reconsider our approach continuing any further.\n",
    "\n",
    "In the next part we will discuss how to take the information we have gained about our dataset to apply commonly used machine learning algorithms to predict passenger survival outcome."
   ]
  },
  {
   "metadata": {},
   "cell_type": "markdown",
   "source": [
    "# Part 3\n",
    "\n",
    "# Problem: Predicting Titanic Survivors\n",
    "\n",
    "After visualizing the data in the previous part, we can see that the odds of surviving vary depending on passenger information such as: age, sex, class. Is there some way we can use all our passenger information to predict survival?\n",
    "\n",
    "In this part we will take a look at how to use the readily available machine learning algorithms to make predictions on survival.\n",
    "\n",
    "The machine learning community has grown substantially over the years and there are many modules available to implement the different algorithms. To implement the algorithms, all we need to do is obtain a dataset and arrange it to follow the machine learning conventions which can be described by the following algorithm plan:\n",
    "\n",
    "### End-to-End Machine Learning Project:\n",
    "\n",
    "* Look at the big picture\n",
    "+ Get the data\n",
    "+ Visualize the data to gain insights\n",
    "+ Preprocess (clean) data to ensure all values are numerical\n",
    "+ Divide dataset into a training and testing set\n",
    "+ Select machine learning model and train it\n",
    "+ Perform prediction on the testing data\n",
    "+ Evaluate prediction performance of machine learning algorithm (use new data or holdout set to be sure of performance)\n",
    "\n",
    "Note that we've already completed steps 1 - 3 and we've already done a bit of work on step 4 when we ploted age of passengers."
   ]
  },
  {
   "metadata": {},
   "cell_type": "markdown",
   "source": [
    "#### Replace strings and missing values with numbers\n",
    "\n",
    "As part of the data structure we require that all the samples are numerical. We need to prepare data by removing strings and filling in missing values.\n",
    "\n",
    "As we saw previously, we can select numpy data by value using conditionals. For examples:\n",
    "\n",
    "    x[numpy.isnan(x) == 0]\n",
    "\n",
    "Will select only the data that is not of type nan. Similarly,\n",
    "\n",
    "    x[x >= 5]\n",
    "    \n",
    "Will select only the data that is greater than or equal to 5 in a numpy array x.\n",
    "\n",
    "We can take this further by assigning that data a particular value. For example:\n",
    "\n",
    "    x[x >= 5] = 100\n",
    "\n",
    "Will select only the data greater than or equal to 5 and change the value to 100."
   ]
  },
  {
   "metadata": {
    "ExecuteTime": {
     "end_time": "2024-09-26T16:29:46.537150Z",
     "start_time": "2024-09-26T16:29:46.529627Z"
    }
   },
   "cell_type": "code",
   "source": [
    "# any value >= 5 will be replaced with 100\n",
    "x = np.array([1, 2, 3, 4, 5, 6, 7, 8, 9, 10, 11, 12])\n",
    "x[x >= 5] = 100\n",
    "print(x)"
   ],
   "outputs": [
    {
     "name": "stdout",
     "output_type": "stream",
     "text": [
      "[  1   2   3   4 100 100 100 100 100 100 100 100]\n"
     ]
    }
   ],
   "execution_count": 57
  },
  {
   "metadata": {},
   "cell_type": "markdown",
   "source": "Now let's use that to fix our data to only hold numerical values."
  },
  {
   "metadata": {},
   "cell_type": "markdown",
   "source": "Let's put everything together into a class data structre and test. **Make sure that the trian.csv file is loaded.**"
  },
  {
   "metadata": {
    "ExecuteTime": {
     "end_time": "2024-09-26T16:29:46.583465Z",
     "start_time": "2024-09-26T16:29:46.563140Z"
    }
   },
   "cell_type": "code",
   "source": [
    "# Helper Titanic_Data Class\n",
    "\n",
    "# Correct values in Survival, Gender, Embarked, and Age columns\n",
    "import csv\n",
    "import numpy as np\n",
    "\n",
    "\n",
    "class Titanic_Data:\n",
    "    \"\"\"Titanic data set\"\"\"\n",
    "\n",
    "    def __init__(self, Filename):\n",
    "        \"\"\"load Titanic data set\"\"\"\n",
    "        with open(Filename, 'r') as csvfile:\n",
    "            data_reader = csv.reader(csvfile)\n",
    "            data_orig = []\n",
    "            for row in data_reader:\n",
    "                data_orig.append(row)\n",
    "\n",
    "        # loop through field names and populate a dictionary with indices\n",
    "        fields = {}\n",
    "        for i in range(len(data_orig[0])):\n",
    "            fields[data_orig[0][i]] = i\n",
    "\n",
    "        # exclude the first row when preparing the numpy data structure\n",
    "        self.data = np.array(data_orig[1:])\n",
    "        self.fields = fields\n",
    "\n",
    "    def get_survival(self, characteristics):\n",
    "        \"\"\"Return the percentage of passengers with the (field, value) entries in \n",
    "           characteristics that survived.\n",
    "           characteristics is a list of the form [(field, value), (field, value), ...]\n",
    "        \"\"\"\n",
    "        indices = set()\n",
    "        for i in range(len(characteristics)):\n",
    "            # obtain search category\n",
    "            field = characteristics[i][0]\n",
    "\n",
    "            # obtain value to search for\n",
    "            val = characteristics[i][1]\n",
    "\n",
    "            # find and intersect the matching indices\n",
    "            new_indices = set(list(np.where(self.data[0:, self.fields[field]] == val)[0]))\n",
    "\n",
    "            # intersect\n",
    "            if len(indices) == 0:\n",
    "                indices = new_indices\n",
    "            else:\n",
    "                indices &= new_indices\n",
    "\n",
    "        # find the indices of the survivors    \n",
    "        indices_survived = set(list(np.where(self.data[0:, self.fields[\"Survived\"]] == \"1\")[0]))\n",
    "\n",
    "        return 100 * len(indices_survived & indices) / len(indices)\n",
    "\n",
    "    def clean_data(self):\n",
    "        \"\"\"Converts all data into numerical values \n",
    "        (missing data is converted into nan)\"\"\"\n",
    "        self.clean('Sex', ['male', 'female'])\n",
    "        self.clean('Embarked', ['C', 'Q', 'S'])\n",
    "        self.clean('Age')\n",
    "        self.clean('Pclass')\n",
    "        self.clean('SibSp')\n",
    "        self.clean('Parch')\n",
    "        self.clean('Fare')\n",
    "\n",
    "    def clean(self, col_header, values=None):\n",
    "        \"\"\"Converts column data into numerical values\n",
    "        (missing data is convereted into nan)\"\"\"\n",
    "        # select the column\n",
    "        if values is None:\n",
    "            values = []\n",
    "        column = self.data[:, self.fields[col_header]]\n",
    "        # find the ones that are empty and make them nan\n",
    "        column[column == ''] = np.nan\n",
    "        # encode the strings as numbers\n",
    "        for i in range(len(values)):\n",
    "            column[column == values[i]] = i\n",
    "        # overwrite\n",
    "        self.data[:, self.fields[col_header]] = column\n",
    "\n",
    "    def keep_columns(self, L):\n",
    "        \"\"\"Select Features \"\"\"\n",
    "        feature_data = self.data[:, L]\n",
    "        feature_data = feature_data.astype(float)\n",
    "        return feature_data\n",
    "\n",
    "\n",
    "# call function to prepare data structure\n",
    "titanic = Titanic_Data('train.csv')\n",
    "print(titanic.data[0, :])\n",
    "\n",
    "# cleaned data\n",
    "titanic.clean_data()\n",
    "print(titanic.data[0, :])\n",
    "\n",
    "# remove unnecessary columns and convert array to float\n",
    "feature_data = titanic.keep_columns([1, 2, 4, 5, 6, 7, 9, 11])\n",
    "print(feature_data[0, :])\n"
   ],
   "outputs": [
    {
     "name": "stdout",
     "output_type": "stream",
     "text": [
      "['1' '0' '3' 'Braund, Mr. Owen Harris' 'male' '22' '1' '0' 'A/5 21171'\n",
      " '7.25' '' 'S']\n",
      "['1' '0' '3' 'Braund, Mr. Owen Harris' '0' '22' '1' '0' 'A/5 21171' '7.25'\n",
      " '' '2']\n",
      "[ 0.    3.    0.   22.    1.    0.    7.25  2.  ]\n"
     ]
    }
   ],
   "execution_count": 58
  },
  {
   "metadata": {},
   "cell_type": "markdown",
   "source": "#### Divide data into a training and testing dataset"
  },
  {
   "metadata": {
    "ExecuteTime": {
     "end_time": "2024-09-26T16:29:46.615186Z",
     "start_time": "2024-09-26T16:29:46.600148Z"
    }
   },
   "cell_type": "code",
   "source": [
    "feature_data = titanic.keep_columns([1, 2, 4, 5, 6, 7, 9, 11])\n",
    "\n",
    "# replace all nan values with -1 to prevent an error\n",
    "feature_data[np.isnan(feature_data) == 1] = -1\n",
    "\n",
    "# segment data into training and testing datasets (features)\n",
    "halfway = len(feature_data) // 2\n",
    "training_data = feature_data[0:halfway, 1:]\n",
    "testing_data = feature_data[halfway:, 1:]\n",
    "\n",
    "# segment data into training and testing labels (targets)\n",
    "training_labels = feature_data[0:halfway, 0]\n",
    "testing_labels = feature_data[halfway:, 0]"
   ],
   "outputs": [],
   "execution_count": 59
  },
  {
   "metadata": {
    "ExecuteTime": {
     "end_time": "2024-09-26T16:29:46.646266Z",
     "start_time": "2024-09-26T16:29:46.631465Z"
    }
   },
   "cell_type": "code",
   "source": "data_numpy",
   "outputs": [
    {
     "data": {
      "text/plain": [
       "array([['PassengerId', 'Survived', 'Pclass', ..., 'Fare', 'Cabin',\n",
       "        'Embarked'],\n",
       "       ['1', '0', '3', ..., '7.25', '', 'S'],\n",
       "       ['2', '1', '1', ..., '71.2833', 'C85', 'C'],\n",
       "       ...,\n",
       "       ['889', '0', '3', ..., '23.45', '', 'S'],\n",
       "       ['890', '1', '1', ..., '30', 'C148', 'C'],\n",
       "       ['891', '0', '3', ..., '7.75', '', 'Q']], dtype='<U82')"
      ]
     },
     "execution_count": 60,
     "metadata": {},
     "output_type": "execute_result"
    }
   ],
   "execution_count": 60
  },
  {
   "metadata": {
    "ExecuteTime": {
     "end_time": "2024-09-26T16:29:46.709509Z",
     "start_time": "2024-09-26T16:29:46.695094Z"
    }
   },
   "cell_type": "code",
   "source": [
    "# verify the training data and labels are correct\n",
    "print(training_data)\n",
    "print(training_labels)"
   ],
   "outputs": [
    {
     "name": "stdout",
     "output_type": "stream",
     "text": [
      "[[ 3.      0.     22.     ...  0.      7.25    2.    ]\n",
      " [ 1.      1.     38.     ...  0.     71.2833  0.    ]\n",
      " [ 3.      1.     26.     ...  0.      7.925   2.    ]\n",
      " ...\n",
      " [ 3.      0.     25.     ...  0.      7.775   2.    ]\n",
      " [ 2.      1.     28.     ...  0.     13.      2.    ]\n",
      " [ 3.      0.     -1.     ...  0.      8.1125  2.    ]]\n",
      "[0. 1. 1. 1. 0. 0. 0. 0. 1. 1. 1. 1. 0. 0. 0. 1. 0. 1. 0. 1. 0. 1. 1. 1.\n",
      " 0. 1. 0. 0. 1. 0. 0. 1. 1. 0. 0. 0. 1. 0. 0. 1. 0. 0. 0. 1. 1. 0. 0. 1.\n",
      " 0. 0. 0. 0. 1. 1. 0. 1. 1. 0. 1. 0. 0. 1. 0. 0. 0. 1. 1. 0. 1. 0. 0. 0.\n",
      " 0. 0. 1. 0. 0. 0. 1. 1. 0. 1. 1. 0. 1. 1. 0. 0. 1. 0. 0. 0. 0. 0. 0. 0.\n",
      " 0. 1. 1. 0. 0. 0. 0. 0. 0. 0. 1. 1. 0. 1. 0. 0. 0. 0. 0. 0. 0. 0. 0. 0.\n",
      " 0. 0. 0. 1. 0. 1. 0. 1. 1. 0. 0. 0. 0. 1. 0. 0. 1. 0. 0. 0. 0. 1. 1. 0.\n",
      " 0. 0. 1. 0. 0. 0. 0. 1. 0. 0. 0. 0. 1. 0. 0. 0. 0. 1. 0. 0. 0. 1. 1. 0.\n",
      " 0. 0. 0. 0. 1. 0. 0. 0. 0. 0. 0. 0. 0. 0. 0. 1. 1. 0. 1. 1. 0. 0. 1. 0.\n",
      " 1. 1. 1. 1. 0. 0. 1. 0. 0. 0. 0. 0. 1. 0. 0. 1. 1. 1. 0. 1. 0. 0. 0. 1.\n",
      " 1. 0. 1. 0. 1. 0. 0. 0. 1. 0. 1. 0. 0. 0. 1. 0. 0. 1. 0. 0. 0. 1. 0. 0.\n",
      " 0. 1. 0. 0. 0. 0. 0. 1. 1. 0. 0. 0. 0. 0. 0. 1. 1. 1. 1. 1. 0. 1. 0. 0.\n",
      " 0. 0. 0. 1. 1. 1. 0. 1. 1. 0. 1. 1. 0. 0. 0. 1. 0. 0. 0. 1. 0. 0. 1. 0.\n",
      " 1. 1. 1. 1. 0. 0. 0. 0. 0. 0. 1. 1. 1. 1. 0. 1. 0. 1. 1. 1. 0. 1. 1. 1.\n",
      " 0. 0. 0. 1. 1. 0. 1. 1. 0. 0. 1. 1. 0. 1. 0. 1. 1. 1. 1. 0. 0. 0. 1. 0.\n",
      " 0. 1. 1. 0. 1. 1. 0. 0. 0. 1. 1. 1. 1. 0. 0. 0. 0. 0. 0. 0. 1. 0. 1. 1.\n",
      " 0. 0. 0. 0. 0. 0. 1. 1. 1. 1. 1. 0. 0. 0. 0. 1. 1. 0. 0. 0. 1. 1. 0. 1.\n",
      " 0. 0. 0. 1. 0. 1. 1. 1. 0. 1. 1. 0. 0. 0. 0. 1. 1. 0. 0. 0. 0. 0. 0. 1.\n",
      " 0. 0. 0. 0. 1. 0. 1. 0. 1. 1. 0. 0. 0. 0. 0. 0. 0. 0. 1. 1. 0. 1. 1. 1.\n",
      " 1. 0. 0. 1. 0. 1. 0. 0. 1. 0. 0. 1. 1.]\n"
     ]
    }
   ],
   "execution_count": 61
  },
  {
   "metadata": {},
   "cell_type": "markdown",
   "source": [
    "#### Import a Machine Learning Algorithm\n",
    "There are many machine learning algorithms developed for making predictions (classification) similar to the one we are trying to do in this design problem. To use these algorithms we first need to import them from the scikit-learn machine learning modules for Python. More information on the different algorithms can be found at the following [link](http://scikit-learn.org/stable/).\n",
    "\n",
    "There are many machine algorithms to choose from such as:\n",
    "\n",
    "1. Decision Trees\n",
    "2. Random Forests\n",
    "3. Support Vector Machines\n",
    "4. Naïve Bayes\n",
    "\n",
    "For now let us focus on the decision trees classifier. We import the classifier and setup some default parameters.\n"
   ]
  },
  {
   "metadata": {
    "ExecuteTime": {
     "end_time": "2024-09-26T16:29:47.256506Z",
     "start_time": "2024-09-26T16:29:46.772803Z"
    }
   },
   "cell_type": "code",
   "source": [
    "from sklearn.tree import DecisionTreeClassifier\n",
    "\n",
    "model = DecisionTreeClassifier()"
   ],
   "outputs": [],
   "execution_count": 62
  },
  {
   "metadata": {},
   "cell_type": "markdown",
   "source": [
    "#### Train machine learning algorithm\n",
    "Next we train our algorithm on the training set. This updates the model parameters to make predictions specific to our data."
   ]
  },
  {
   "metadata": {
    "ExecuteTime": {
     "end_time": "2024-09-26T16:29:47.287722Z",
     "start_time": "2024-09-26T16:29:47.269034Z"
    }
   },
   "cell_type": "code",
   "source": "model.fit(training_data, training_labels)",
   "outputs": [
    {
     "data": {
      "text/plain": [
       "DecisionTreeClassifier()"
      ],
      "text/html": [
       "<style>#sk-container-id-1 {\n",
       "  /* Definition of color scheme common for light and dark mode */\n",
       "  --sklearn-color-text: black;\n",
       "  --sklearn-color-line: gray;\n",
       "  /* Definition of color scheme for unfitted estimators */\n",
       "  --sklearn-color-unfitted-level-0: #fff5e6;\n",
       "  --sklearn-color-unfitted-level-1: #f6e4d2;\n",
       "  --sklearn-color-unfitted-level-2: #ffe0b3;\n",
       "  --sklearn-color-unfitted-level-3: chocolate;\n",
       "  /* Definition of color scheme for fitted estimators */\n",
       "  --sklearn-color-fitted-level-0: #f0f8ff;\n",
       "  --sklearn-color-fitted-level-1: #d4ebff;\n",
       "  --sklearn-color-fitted-level-2: #b3dbfd;\n",
       "  --sklearn-color-fitted-level-3: cornflowerblue;\n",
       "\n",
       "  /* Specific color for light theme */\n",
       "  --sklearn-color-text-on-default-background: var(--sg-text-color, var(--theme-code-foreground, var(--jp-content-font-color1, black)));\n",
       "  --sklearn-color-background: var(--sg-background-color, var(--theme-background, var(--jp-layout-color0, white)));\n",
       "  --sklearn-color-border-box: var(--sg-text-color, var(--theme-code-foreground, var(--jp-content-font-color1, black)));\n",
       "  --sklearn-color-icon: #696969;\n",
       "\n",
       "  @media (prefers-color-scheme: dark) {\n",
       "    /* Redefinition of color scheme for dark theme */\n",
       "    --sklearn-color-text-on-default-background: var(--sg-text-color, var(--theme-code-foreground, var(--jp-content-font-color1, white)));\n",
       "    --sklearn-color-background: var(--sg-background-color, var(--theme-background, var(--jp-layout-color0, #111)));\n",
       "    --sklearn-color-border-box: var(--sg-text-color, var(--theme-code-foreground, var(--jp-content-font-color1, white)));\n",
       "    --sklearn-color-icon: #878787;\n",
       "  }\n",
       "}\n",
       "\n",
       "#sk-container-id-1 {\n",
       "  color: var(--sklearn-color-text);\n",
       "}\n",
       "\n",
       "#sk-container-id-1 pre {\n",
       "  padding: 0;\n",
       "}\n",
       "\n",
       "#sk-container-id-1 input.sk-hidden--visually {\n",
       "  border: 0;\n",
       "  clip: rect(1px 1px 1px 1px);\n",
       "  clip: rect(1px, 1px, 1px, 1px);\n",
       "  height: 1px;\n",
       "  margin: -1px;\n",
       "  overflow: hidden;\n",
       "  padding: 0;\n",
       "  position: absolute;\n",
       "  width: 1px;\n",
       "}\n",
       "\n",
       "#sk-container-id-1 div.sk-dashed-wrapped {\n",
       "  border: 1px dashed var(--sklearn-color-line);\n",
       "  margin: 0 0.4em 0.5em 0.4em;\n",
       "  box-sizing: border-box;\n",
       "  padding-bottom: 0.4em;\n",
       "  background-color: var(--sklearn-color-background);\n",
       "}\n",
       "\n",
       "#sk-container-id-1 div.sk-container {\n",
       "  /* jupyter's `normalize.less` sets `[hidden] { display: none; }`\n",
       "     but bootstrap.min.css set `[hidden] { display: none !important; }`\n",
       "     so we also need the `!important` here to be able to override the\n",
       "     default hidden behavior on the sphinx rendered scikit-learn.org.\n",
       "     See: https://github.com/scikit-learn/scikit-learn/issues/21755 */\n",
       "  display: inline-block !important;\n",
       "  position: relative;\n",
       "}\n",
       "\n",
       "#sk-container-id-1 div.sk-text-repr-fallback {\n",
       "  display: none;\n",
       "}\n",
       "\n",
       "div.sk-parallel-item,\n",
       "div.sk-serial,\n",
       "div.sk-item {\n",
       "  /* draw centered vertical line to link estimators */\n",
       "  background-image: linear-gradient(var(--sklearn-color-text-on-default-background), var(--sklearn-color-text-on-default-background));\n",
       "  background-size: 2px 100%;\n",
       "  background-repeat: no-repeat;\n",
       "  background-position: center center;\n",
       "}\n",
       "\n",
       "/* Parallel-specific style estimator block */\n",
       "\n",
       "#sk-container-id-1 div.sk-parallel-item::after {\n",
       "  content: \"\";\n",
       "  width: 100%;\n",
       "  border-bottom: 2px solid var(--sklearn-color-text-on-default-background);\n",
       "  flex-grow: 1;\n",
       "}\n",
       "\n",
       "#sk-container-id-1 div.sk-parallel {\n",
       "  display: flex;\n",
       "  align-items: stretch;\n",
       "  justify-content: center;\n",
       "  background-color: var(--sklearn-color-background);\n",
       "  position: relative;\n",
       "}\n",
       "\n",
       "#sk-container-id-1 div.sk-parallel-item {\n",
       "  display: flex;\n",
       "  flex-direction: column;\n",
       "}\n",
       "\n",
       "#sk-container-id-1 div.sk-parallel-item:first-child::after {\n",
       "  align-self: flex-end;\n",
       "  width: 50%;\n",
       "}\n",
       "\n",
       "#sk-container-id-1 div.sk-parallel-item:last-child::after {\n",
       "  align-self: flex-start;\n",
       "  width: 50%;\n",
       "}\n",
       "\n",
       "#sk-container-id-1 div.sk-parallel-item:only-child::after {\n",
       "  width: 0;\n",
       "}\n",
       "\n",
       "/* Serial-specific style estimator block */\n",
       "\n",
       "#sk-container-id-1 div.sk-serial {\n",
       "  display: flex;\n",
       "  flex-direction: column;\n",
       "  align-items: center;\n",
       "  background-color: var(--sklearn-color-background);\n",
       "  padding-right: 1em;\n",
       "  padding-left: 1em;\n",
       "}\n",
       "\n",
       "\n",
       "/* Toggleable style: style used for estimator/Pipeline/ColumnTransformer box that is\n",
       "clickable and can be expanded/collapsed.\n",
       "- Pipeline and ColumnTransformer use this feature and define the default style\n",
       "- Estimators will overwrite some part of the style using the `sk-estimator` class\n",
       "*/\n",
       "\n",
       "/* Pipeline and ColumnTransformer style (default) */\n",
       "\n",
       "#sk-container-id-1 div.sk-toggleable {\n",
       "  /* Default theme specific background. It is overwritten whether we have a\n",
       "  specific estimator or a Pipeline/ColumnTransformer */\n",
       "  background-color: var(--sklearn-color-background);\n",
       "}\n",
       "\n",
       "/* Toggleable label */\n",
       "#sk-container-id-1 label.sk-toggleable__label {\n",
       "  cursor: pointer;\n",
       "  display: block;\n",
       "  width: 100%;\n",
       "  margin-bottom: 0;\n",
       "  padding: 0.5em;\n",
       "  box-sizing: border-box;\n",
       "  text-align: center;\n",
       "}\n",
       "\n",
       "#sk-container-id-1 label.sk-toggleable__label-arrow:before {\n",
       "  /* Arrow on the left of the label */\n",
       "  content: \"▸\";\n",
       "  float: left;\n",
       "  margin-right: 0.25em;\n",
       "  color: var(--sklearn-color-icon);\n",
       "}\n",
       "\n",
       "#sk-container-id-1 label.sk-toggleable__label-arrow:hover:before {\n",
       "  color: var(--sklearn-color-text);\n",
       "}\n",
       "\n",
       "/* Toggleable content - dropdown */\n",
       "\n",
       "#sk-container-id-1 div.sk-toggleable__content {\n",
       "  max-height: 0;\n",
       "  max-width: 0;\n",
       "  overflow: hidden;\n",
       "  text-align: left;\n",
       "  /* unfitted */\n",
       "  background-color: var(--sklearn-color-unfitted-level-0);\n",
       "}\n",
       "\n",
       "#sk-container-id-1 div.sk-toggleable__content.fitted {\n",
       "  /* fitted */\n",
       "  background-color: var(--sklearn-color-fitted-level-0);\n",
       "}\n",
       "\n",
       "#sk-container-id-1 div.sk-toggleable__content pre {\n",
       "  margin: 0.2em;\n",
       "  border-radius: 0.25em;\n",
       "  color: var(--sklearn-color-text);\n",
       "  /* unfitted */\n",
       "  background-color: var(--sklearn-color-unfitted-level-0);\n",
       "}\n",
       "\n",
       "#sk-container-id-1 div.sk-toggleable__content.fitted pre {\n",
       "  /* unfitted */\n",
       "  background-color: var(--sklearn-color-fitted-level-0);\n",
       "}\n",
       "\n",
       "#sk-container-id-1 input.sk-toggleable__control:checked~div.sk-toggleable__content {\n",
       "  /* Expand drop-down */\n",
       "  max-height: 200px;\n",
       "  max-width: 100%;\n",
       "  overflow: auto;\n",
       "}\n",
       "\n",
       "#sk-container-id-1 input.sk-toggleable__control:checked~label.sk-toggleable__label-arrow:before {\n",
       "  content: \"▾\";\n",
       "}\n",
       "\n",
       "/* Pipeline/ColumnTransformer-specific style */\n",
       "\n",
       "#sk-container-id-1 div.sk-label input.sk-toggleable__control:checked~label.sk-toggleable__label {\n",
       "  color: var(--sklearn-color-text);\n",
       "  background-color: var(--sklearn-color-unfitted-level-2);\n",
       "}\n",
       "\n",
       "#sk-container-id-1 div.sk-label.fitted input.sk-toggleable__control:checked~label.sk-toggleable__label {\n",
       "  background-color: var(--sklearn-color-fitted-level-2);\n",
       "}\n",
       "\n",
       "/* Estimator-specific style */\n",
       "\n",
       "/* Colorize estimator box */\n",
       "#sk-container-id-1 div.sk-estimator input.sk-toggleable__control:checked~label.sk-toggleable__label {\n",
       "  /* unfitted */\n",
       "  background-color: var(--sklearn-color-unfitted-level-2);\n",
       "}\n",
       "\n",
       "#sk-container-id-1 div.sk-estimator.fitted input.sk-toggleable__control:checked~label.sk-toggleable__label {\n",
       "  /* fitted */\n",
       "  background-color: var(--sklearn-color-fitted-level-2);\n",
       "}\n",
       "\n",
       "#sk-container-id-1 div.sk-label label.sk-toggleable__label,\n",
       "#sk-container-id-1 div.sk-label label {\n",
       "  /* The background is the default theme color */\n",
       "  color: var(--sklearn-color-text-on-default-background);\n",
       "}\n",
       "\n",
       "/* On hover, darken the color of the background */\n",
       "#sk-container-id-1 div.sk-label:hover label.sk-toggleable__label {\n",
       "  color: var(--sklearn-color-text);\n",
       "  background-color: var(--sklearn-color-unfitted-level-2);\n",
       "}\n",
       "\n",
       "/* Label box, darken color on hover, fitted */\n",
       "#sk-container-id-1 div.sk-label.fitted:hover label.sk-toggleable__label.fitted {\n",
       "  color: var(--sklearn-color-text);\n",
       "  background-color: var(--sklearn-color-fitted-level-2);\n",
       "}\n",
       "\n",
       "/* Estimator label */\n",
       "\n",
       "#sk-container-id-1 div.sk-label label {\n",
       "  font-family: monospace;\n",
       "  font-weight: bold;\n",
       "  display: inline-block;\n",
       "  line-height: 1.2em;\n",
       "}\n",
       "\n",
       "#sk-container-id-1 div.sk-label-container {\n",
       "  text-align: center;\n",
       "}\n",
       "\n",
       "/* Estimator-specific */\n",
       "#sk-container-id-1 div.sk-estimator {\n",
       "  font-family: monospace;\n",
       "  border: 1px dotted var(--sklearn-color-border-box);\n",
       "  border-radius: 0.25em;\n",
       "  box-sizing: border-box;\n",
       "  margin-bottom: 0.5em;\n",
       "  /* unfitted */\n",
       "  background-color: var(--sklearn-color-unfitted-level-0);\n",
       "}\n",
       "\n",
       "#sk-container-id-1 div.sk-estimator.fitted {\n",
       "  /* fitted */\n",
       "  background-color: var(--sklearn-color-fitted-level-0);\n",
       "}\n",
       "\n",
       "/* on hover */\n",
       "#sk-container-id-1 div.sk-estimator:hover {\n",
       "  /* unfitted */\n",
       "  background-color: var(--sklearn-color-unfitted-level-2);\n",
       "}\n",
       "\n",
       "#sk-container-id-1 div.sk-estimator.fitted:hover {\n",
       "  /* fitted */\n",
       "  background-color: var(--sklearn-color-fitted-level-2);\n",
       "}\n",
       "\n",
       "/* Specification for estimator info (e.g. \"i\" and \"?\") */\n",
       "\n",
       "/* Common style for \"i\" and \"?\" */\n",
       "\n",
       ".sk-estimator-doc-link,\n",
       "a:link.sk-estimator-doc-link,\n",
       "a:visited.sk-estimator-doc-link {\n",
       "  float: right;\n",
       "  font-size: smaller;\n",
       "  line-height: 1em;\n",
       "  font-family: monospace;\n",
       "  background-color: var(--sklearn-color-background);\n",
       "  border-radius: 1em;\n",
       "  height: 1em;\n",
       "  width: 1em;\n",
       "  text-decoration: none !important;\n",
       "  margin-left: 1ex;\n",
       "  /* unfitted */\n",
       "  border: var(--sklearn-color-unfitted-level-1) 1pt solid;\n",
       "  color: var(--sklearn-color-unfitted-level-1);\n",
       "}\n",
       "\n",
       ".sk-estimator-doc-link.fitted,\n",
       "a:link.sk-estimator-doc-link.fitted,\n",
       "a:visited.sk-estimator-doc-link.fitted {\n",
       "  /* fitted */\n",
       "  border: var(--sklearn-color-fitted-level-1) 1pt solid;\n",
       "  color: var(--sklearn-color-fitted-level-1);\n",
       "}\n",
       "\n",
       "/* On hover */\n",
       "div.sk-estimator:hover .sk-estimator-doc-link:hover,\n",
       ".sk-estimator-doc-link:hover,\n",
       "div.sk-label-container:hover .sk-estimator-doc-link:hover,\n",
       ".sk-estimator-doc-link:hover {\n",
       "  /* unfitted */\n",
       "  background-color: var(--sklearn-color-unfitted-level-3);\n",
       "  color: var(--sklearn-color-background);\n",
       "  text-decoration: none;\n",
       "}\n",
       "\n",
       "div.sk-estimator.fitted:hover .sk-estimator-doc-link.fitted:hover,\n",
       ".sk-estimator-doc-link.fitted:hover,\n",
       "div.sk-label-container:hover .sk-estimator-doc-link.fitted:hover,\n",
       ".sk-estimator-doc-link.fitted:hover {\n",
       "  /* fitted */\n",
       "  background-color: var(--sklearn-color-fitted-level-3);\n",
       "  color: var(--sklearn-color-background);\n",
       "  text-decoration: none;\n",
       "}\n",
       "\n",
       "/* Span, style for the box shown on hovering the info icon */\n",
       ".sk-estimator-doc-link span {\n",
       "  display: none;\n",
       "  z-index: 9999;\n",
       "  position: relative;\n",
       "  font-weight: normal;\n",
       "  right: .2ex;\n",
       "  padding: .5ex;\n",
       "  margin: .5ex;\n",
       "  width: min-content;\n",
       "  min-width: 20ex;\n",
       "  max-width: 50ex;\n",
       "  color: var(--sklearn-color-text);\n",
       "  box-shadow: 2pt 2pt 4pt #999;\n",
       "  /* unfitted */\n",
       "  background: var(--sklearn-color-unfitted-level-0);\n",
       "  border: .5pt solid var(--sklearn-color-unfitted-level-3);\n",
       "}\n",
       "\n",
       ".sk-estimator-doc-link.fitted span {\n",
       "  /* fitted */\n",
       "  background: var(--sklearn-color-fitted-level-0);\n",
       "  border: var(--sklearn-color-fitted-level-3);\n",
       "}\n",
       "\n",
       ".sk-estimator-doc-link:hover span {\n",
       "  display: block;\n",
       "}\n",
       "\n",
       "/* \"?\"-specific style due to the `<a>` HTML tag */\n",
       "\n",
       "#sk-container-id-1 a.estimator_doc_link {\n",
       "  float: right;\n",
       "  font-size: 1rem;\n",
       "  line-height: 1em;\n",
       "  font-family: monospace;\n",
       "  background-color: var(--sklearn-color-background);\n",
       "  border-radius: 1rem;\n",
       "  height: 1rem;\n",
       "  width: 1rem;\n",
       "  text-decoration: none;\n",
       "  /* unfitted */\n",
       "  color: var(--sklearn-color-unfitted-level-1);\n",
       "  border: var(--sklearn-color-unfitted-level-1) 1pt solid;\n",
       "}\n",
       "\n",
       "#sk-container-id-1 a.estimator_doc_link.fitted {\n",
       "  /* fitted */\n",
       "  border: var(--sklearn-color-fitted-level-1) 1pt solid;\n",
       "  color: var(--sklearn-color-fitted-level-1);\n",
       "}\n",
       "\n",
       "/* On hover */\n",
       "#sk-container-id-1 a.estimator_doc_link:hover {\n",
       "  /* unfitted */\n",
       "  background-color: var(--sklearn-color-unfitted-level-3);\n",
       "  color: var(--sklearn-color-background);\n",
       "  text-decoration: none;\n",
       "}\n",
       "\n",
       "#sk-container-id-1 a.estimator_doc_link.fitted:hover {\n",
       "  /* fitted */\n",
       "  background-color: var(--sklearn-color-fitted-level-3);\n",
       "}\n",
       "</style><div id=\"sk-container-id-1\" class=\"sk-top-container\"><div class=\"sk-text-repr-fallback\"><pre>DecisionTreeClassifier()</pre><b>In a Jupyter environment, please rerun this cell to show the HTML representation or trust the notebook. <br />On GitHub, the HTML representation is unable to render, please try loading this page with nbviewer.org.</b></div><div class=\"sk-container\" hidden><div class=\"sk-item\"><div class=\"sk-estimator fitted sk-toggleable\"><input class=\"sk-toggleable__control sk-hidden--visually\" id=\"sk-estimator-id-1\" type=\"checkbox\" checked><label for=\"sk-estimator-id-1\" class=\"sk-toggleable__label fitted sk-toggleable__label-arrow fitted\">&nbsp;&nbsp;DecisionTreeClassifier<a class=\"sk-estimator-doc-link fitted\" rel=\"noreferrer\" target=\"_blank\" href=\"https://scikit-learn.org/1.5/modules/generated/sklearn.tree.DecisionTreeClassifier.html\">?<span>Documentation for DecisionTreeClassifier</span></a><span class=\"sk-estimator-doc-link fitted\">i<span>Fitted</span></span></label><div class=\"sk-toggleable__content fitted\"><pre>DecisionTreeClassifier()</pre></div> </div></div></div></div>"
      ]
     },
     "execution_count": 63,
     "metadata": {},
     "output_type": "execute_result"
    }
   ],
   "execution_count": 63
  },
  {
   "metadata": {
    "ExecuteTime": {
     "end_time": "2024-09-26T16:29:47.318313Z",
     "start_time": "2024-09-26T16:29:47.304273Z"
    }
   },
   "cell_type": "code",
   "source": [
    "# # Visualize the decision tree\n",
    "# from sklearn import tree\n",
    "# \n",
    "# # plot it directly in Jupyter Notebook\n",
    "# # make the image larger\n",
    "# plt.figure(figsize=(30, 30))\n",
    "# tree.plot_tree(model)\n"
   ],
   "outputs": [],
   "execution_count": 64
  },
  {
   "metadata": {},
   "cell_type": "markdown",
   "source": [
    "#### Perform prediction on the test cases.\n",
    "Now that model is trained, we can use it to predict the outcome on our test cases:"
   ]
  },
  {
   "metadata": {},
   "cell_type": "markdown",
   "source": [
    "#### Test Case 1:  Sample Male and Female Survivor\n",
    "  \n",
    "|Passenger|PassengerID|Pclass|Sex|Age|SibSp|Parch|Fare|Embarked_Val|\n",
    "|:--------|:----------|:-----|:--|:--|:----|:----|:---|:-----------|\n",
    "|Mrs. Laina Heikkinen|3|3|1|26|0|0|7.925|2|\n",
    "|Master. Michel Navratil|194|2|0|3|1|1|26|2|\n",
    "\n",
    "#### Test Case 2:  Sample Male and Female Non-Survivor\n",
    "\n",
    "|Passenger|PassengerID|Pclass|Sex|Age|SibSp|Parch|Fare|Embarked_Val|\n",
    "|:--------|:----------|:-----|:--|:--|:----|:----|:---|:-----------|\n",
    "|Miss. Augusta Planke|39|3|1|18|2|0|18|2|\n",
    "|Mr. Owen Harris Braund|1|3|0|22|1|0|7.25|2|"
   ]
  },
  {
   "metadata": {},
   "cell_type": "markdown",
   "source": "We first need to select our testcase samples. We can do that by obtaining the samples from the original feature data by providing their order in the list (i.e. PassengerID)."
  },
  {
   "metadata": {
    "ExecuteTime": {
     "end_time": "2024-09-26T16:29:47.349535Z",
     "start_time": "2024-09-26T16:29:47.336518Z"
    }
   },
   "cell_type": "code",
   "source": [
    "# select test case 1 and 2 passengers\n",
    "passenger_ids = np.array([3, 194, 39, 1])\n",
    "print(passenger_ids - 1)\n",
    "testcase_data = feature_data[passenger_ids - 1, 1:]\n",
    "\n",
    "# display details on selected passengers\n",
    "print(testcase_data)\n",
    "\n",
    "# predict survival outcome\n",
    "testcase_predict = model.predict(testcase_data)\n",
    "print('Predicted Survival Outcome: ', testcase_predict)"
   ],
   "outputs": [
    {
     "name": "stdout",
     "output_type": "stream",
     "text": [
      "[  2 193  38   0]\n",
      "[[ 3.     1.    26.     0.     0.     7.925  2.   ]\n",
      " [ 2.     0.     3.     1.     1.    26.     2.   ]\n",
      " [ 3.     1.    18.     2.     0.    18.     2.   ]\n",
      " [ 3.     0.    22.     1.     0.     7.25   2.   ]]\n",
      "Predicted Survival Outcome:  [1. 1. 0. 0.]\n"
     ]
    }
   ],
   "execution_count": 65
  },
  {
   "metadata": {},
   "cell_type": "markdown",
   "source": [
    "On the above sample we see that our algorithm was able to successfully predict the survival outcome of the passengers in the test cases.\n",
    "\n",
    "Wait a second... it seems like all our test case samples are also in the training data. The algorithm was trained on the same data, which means they're going to do better on this data than on completely new data (i.e. testing_data)."
   ]
  },
  {
   "metadata": {},
   "cell_type": "markdown",
   "source": "Let's compare the prediction on the training_data and testing_data to get a proper validation of prediction performance."
  },
  {
   "metadata": {
    "ExecuteTime": {
     "end_time": "2024-09-26T16:29:47.380368Z",
     "start_time": "2024-09-26T16:29:47.367523Z"
    }
   },
   "cell_type": "code",
   "source": [
    "# predict the first 10 training samples and compare to the actual survival outcomes\n",
    "print('Training Sample Labels:     ', training_labels[0:10])\n",
    "sample_predict = model.predict(training_data[0:10, :])\n",
    "print('Predicted Survival Outcome: ', sample_predict)"
   ],
   "outputs": [
    {
     "name": "stdout",
     "output_type": "stream",
     "text": [
      "Training Sample Labels:      [0. 1. 1. 1. 0. 0. 0. 0. 1. 1.]\n",
      "Predicted Survival Outcome:  [0. 1. 1. 1. 0. 0. 0. 0. 1. 1.]\n"
     ]
    }
   ],
   "execution_count": 66
  },
  {
   "metadata": {},
   "cell_type": "markdown",
   "source": "Seems like the prediction worked well on the training samples. How about the testing samples."
  },
  {
   "metadata": {
    "ExecuteTime": {
     "end_time": "2024-09-26T16:29:47.411383Z",
     "start_time": "2024-09-26T16:29:47.401768Z"
    }
   },
   "cell_type": "code",
   "source": [
    "# test on the first 10 testing samples and compare to the actual survival outcomes\n",
    "print('Testing Sample Labels:      ', testing_labels[0:10])\n",
    "sample_predict = model.predict(testing_data[0:10, :])\n",
    "print('Predicted Survival Outcome: ', sample_predict)"
   ],
   "outputs": [
    {
     "name": "stdout",
     "output_type": "stream",
     "text": [
      "Testing Sample Labels:       [1. 1. 1. 1. 1. 0. 0. 0. 1. 0.]\n",
      "Predicted Survival Outcome:  [0. 1. 1. 1. 0. 0. 0. 1. 0. 0.]\n"
     ]
    }
   ],
   "execution_count": 67
  },
  {
   "metadata": {},
   "cell_type": "markdown",
   "source": "Already we see that some of the predictions were not correct."
  },
  {
   "metadata": {},
   "cell_type": "markdown",
   "source": [
    "#### Evaluate performance by computing the percentage of correctly predicted survival outcomes.\n",
    "To get a true evaluation of performance we need to test on a larger set of data. Let's predict the outcome on all of the testing data and compute a percentage of how many survival outcomes were correctly predicted."
   ]
  },
  {
   "metadata": {
    "ExecuteTime": {
     "end_time": "2024-09-26T16:29:47.459170Z",
     "start_time": "2024-09-26T16:29:47.452157Z"
    }
   },
   "cell_type": "code",
   "source": [
    "# obtain survival predictions on all testing data\n",
    "testing_predicted = model.predict(testing_data)\n",
    "\n",
    "# obtain a percentage score of performance on all testing data\n",
    "score = 100 * (1 - sum(abs(testing_predicted - testing_labels)) / len(testing_predicted))\n",
    "print('Testing data performance', score, '% correctly predicted')"
   ],
   "outputs": [
    {
     "name": "stdout",
     "output_type": "stream",
     "text": [
      "Testing data performance 76.68161434977578 % correctly predicted\n"
     ]
    }
   ],
   "execution_count": 68
  },
  {
   "metadata": {},
   "cell_type": "markdown",
   "source": "How does that compare with the samples obtained from the training data?"
  },
  {
   "metadata": {
    "ExecuteTime": {
     "end_time": "2024-09-26T16:29:47.490088Z",
     "start_time": "2024-09-26T16:29:47.482059Z"
    }
   },
   "cell_type": "code",
   "source": [
    "# obtain survival predictions on all training data\n",
    "training_predicted = model.predict(training_data)\n",
    "\n",
    "# obtain a percentage score of performance on all training data\n",
    "score = 100 * (1 - sum(abs(training_predicted - training_labels)) / len(training_predicted))\n",
    "print('Training data performance', score, '% correctly predicted')"
   ],
   "outputs": [
    {
     "name": "stdout",
     "output_type": "stream",
     "text": [
      "Training data performance 98.65168539325843 % correctly predicted\n"
     ]
    }
   ],
   "execution_count": 69
  },
  {
   "metadata": {},
   "cell_type": "markdown",
   "source": [
    "The prediction achieved better performance, 85.4% on the training data than the testing data 77.6%. This makes sense because the machine learning algorithms are trying to model the training data not the testing data.  \n",
    "\n",
    "Let's see if we can get better performance by adjusting the training parameters (i.e. max_depth) and applying other machine learning algorithms."
   ]
  },
  {
   "metadata": {},
   "cell_type": "markdown",
   "source": [
    "### Compare Prediction Performance Across Machine Learning Algorithms \n",
    "\n",
    "As a final step we will adjust our training parameters and machine learning algorithms to see if we can do any better on the survival prediction performance.\n",
    "\n",
    "Test **Decision Tree** Learning Algorithm"
   ]
  },
  {
   "metadata": {
    "ExecuteTime": {
     "end_time": "2024-09-26T16:29:47.522672Z",
     "start_time": "2024-09-26T16:29:47.516670Z"
    }
   },
   "cell_type": "code",
   "source": [
    "# Decision Tree\n",
    "from sklearn.tree import DecisionTreeClassifier\n",
    "\n",
    "model = DecisionTreeClassifier(max_depth=15)\n",
    "\n",
    "# Fit the model to our training data\n",
    "model.fit(training_data, training_labels)\n",
    "\n",
    "# Make predictions\n",
    "testing_predicted = model.predict(testing_data)\n",
    "score = 100 * (1 - sum(abs(testing_predicted - testing_labels)) / len(testing_predicted))\n",
    "# DT Test means Decision Tree Test\n",
    "print(\"DT Test:\", score)"
   ],
   "outputs": [
    {
     "name": "stdout",
     "output_type": "stream",
     "text": [
      "DT Test: 77.3542600896861\n"
     ]
    }
   ],
   "execution_count": 70
  },
  {
   "metadata": {},
   "cell_type": "markdown",
   "source": [
    "There you go, you’ve just implemented a high level prediction in only a couple lines. Since each dataset is different, we may find that there are other algorithms that are better suited for this prediction. Let’s examine some of the other popular machine learning algorithms.\n",
    "\n",
    "Test **Random Forest** Learning Algorithm"
   ]
  },
  {
   "metadata": {
    "ExecuteTime": {
     "end_time": "2024-09-26T16:29:47.790587Z",
     "start_time": "2024-09-26T16:29:47.548331Z"
    }
   },
   "cell_type": "code",
   "source": [
    "# Random Forest\n",
    "from sklearn.ensemble import RandomForestClassifier\n",
    "\n",
    "model = RandomForestClassifier(n_estimators=250)\n",
    "\n",
    "# Fit the model to our training data\n",
    "model.fit(training_data, training_labels)\n",
    "\n",
    "# Make predictions\n",
    "testing_predicted = model.predict(testing_data)\n",
    "score = 100 * (1 - sum(abs(testing_predicted - testing_labels)) / len(testing_predicted))\n",
    "print(\"RF Test:\", score)"
   ],
   "outputs": [
    {
     "name": "stdout",
     "output_type": "stream",
     "text": [
      "RF Test: 79.82062780269058\n"
     ]
    }
   ],
   "execution_count": 71
  },
  {
   "metadata": {},
   "cell_type": "markdown",
   "source": "Test **Support Vector Machine** Learning Algorithm"
  },
  {
   "metadata": {
    "ExecuteTime": {
     "end_time": "2024-09-26T16:29:47.884449Z",
     "start_time": "2024-09-26T16:29:47.822446Z"
    }
   },
   "cell_type": "code",
   "source": [
    "# Support Vector Machines\n",
    "from sklearn import svm\n",
    "\n",
    "model = svm.SVC(gamma=2, C=1)\n",
    "\n",
    "# Fit the model to our training data\n",
    "model.fit(training_data, training_labels)\n",
    "\n",
    "# Make predictions\n",
    "testing_predicted = model.predict(testing_data)\n",
    "score = 100 * (1 - sum(abs(testing_predicted - testing_labels)) / len(testing_predicted))\n",
    "print(\"SVM Test:\", score)"
   ],
   "outputs": [
    {
     "name": "stdout",
     "output_type": "stream",
     "text": [
      "SVM Test: 61.43497757847533\n"
     ]
    }
   ],
   "execution_count": 72
  },
  {
   "metadata": {},
   "cell_type": "markdown",
   "source": "Test **Naïve Bayes** Machine Learning Algorithm"
  },
  {
   "metadata": {
    "ExecuteTime": {
     "end_time": "2024-09-26T16:29:47.915195Z",
     "start_time": "2024-09-26T16:29:47.902982Z"
    }
   },
   "cell_type": "code",
   "source": [
    "# Naive Bayes\n",
    "from sklearn.naive_bayes import GaussianNB\n",
    "\n",
    "model = GaussianNB()\n",
    "\n",
    "# Fit the model to our training data\n",
    "model.fit(training_data, training_labels)\n",
    "\n",
    "# Make predictions\n",
    "testing_predicted = model.predict(testing_data)\n",
    "score = 100 * (1 - sum(abs(testing_predicted - testing_labels)) / len(testing_predicted))\n",
    "print(\"NB Test:\", score)"
   ],
   "outputs": [
    {
     "name": "stdout",
     "output_type": "stream",
     "text": [
      "NB Test: 79.82062780269058\n"
     ]
    }
   ],
   "execution_count": 73
  },
  {
   "metadata": {},
   "cell_type": "markdown",
   "source": "These are just a few of the available machine learning algorithms at our disposal. Designing these algorithms would have taken hours of work, fortunately, the Python open source community is strong and many people out there are willing to contribute. Hence, all we have to do is change one or two lines in our code to evaluate."
  },
  {
   "metadata": {},
   "cell_type": "markdown",
   "source": [
    "## Perform Final Testing\n",
    "\n",
    "From the above algorithms tested, it seems like the Naive Bayes performed the best.  \n",
    "\n",
    "Now that we have selected our machine learning model for predicting survival, we can finally answer the question of whether or not Jack and Rose would have survived (test case 3). To make this prediction we need to provide information on the passengers in the expected form:\n",
    "\n",
    "|Passenger|Pclass|Sex|Age|SibSp|Parch|Fare|Embarked|\n",
    "|:--------|:-----|:--|:--|:----|:----|:---|:-----------|\n",
    "|Jack|3|0|25|0|0|7|2|\n",
    "|Rose|1|1|22|1|0|50|2|\n",
    "\n",
    "Given the provided information about Jack and Rose, would they have survived the tragedy?"
   ]
  },
  {
   "metadata": {
    "ExecuteTime": {
     "end_time": "2024-09-26T16:29:47.946348Z",
     "start_time": "2024-09-26T16:29:47.933143Z"
    }
   },
   "cell_type": "code",
   "source": [
    "# Decision Tree\n",
    "from sklearn.tree import DecisionTreeClassifier\n",
    "\n",
    "model = DecisionTreeClassifier(max_depth=15)\n",
    "\n",
    "# Fit the model to our training data\n",
    "model.fit(training_data, training_labels)\n",
    "\n",
    "# Create test data (features of Jack and Rose)\n",
    "test_jack = np.array([3, 0, 25, 0, 0, 7, 2])\n",
    "test_rose = np.array([1, 1, 22, 1, 0, 50, 2])\n",
    "\n",
    "testing_predicted = model.predict(test_jack.reshape(1, -1))\n",
    "print(\"Jack Survival:\", testing_predicted)\n",
    "\n",
    "testing_predicted = model.predict(test_rose.reshape(1, -1))\n",
    "print(\"Rose Survival:\", testing_predicted)\n"
   ],
   "outputs": [
    {
     "name": "stdout",
     "output_type": "stream",
     "text": [
      "Jack Survival: [0.]\n",
      "Rose Survival: [1.]\n"
     ]
    }
   ],
   "execution_count": 74
  },
  {
   "metadata": {},
   "cell_type": "markdown",
   "source": [
    "Our model **prediction is that Rose would survive and Jack would not**. You should watch the movie to find out if the prediction is correct.\n",
    "\n",
    "### Discussion\n",
    "Given that the accuracy for all of our models is maxing out around 80%, it will be interesting to look at specific passengers for whom these prediction algorithms are incorrect. Provided is a list of some of the passengers that were incorrectly predicted: \n",
    "\n",
    "#### Allison family\n",
    "For instance, three incorrectly classified passengers are members of the Allison family, who perished even though the model predicted that they would survive. These first class passengers were very wealthy, as can be evidenced by their far-above-average ticket prices. For Betsy (25) and Loraine (2) in particular, not surviving is very surprising, considering that we found earlier that over 96% of first class women lived through the disaster.  \n",
    "\n",
    "So what happened? A surprising amount of information on each Titanic passenger is available online; it turns out that the Allison family was unable to find their youngest son Trevor and was unwilling to evacuate the ship without him. Tragically, Trevor was already safe in a lifeboat with his nurse and was the only member of the Allison family to survive the sinking.\n",
    "\n",
    "#### John Jacob Astor\n",
    "Another interesting example is John Jacob Astor, who perished in the disaster even though the model predicted he would survive. Astor was the wealthiest person on the Titanic, an impressive feat on a ship full of multimillionaire industrialists, railroad tycoons, and aristocrats. Given his immense wealth and influence, which the model may have deduced from his ticket fare (valued at over \\$35,000 in 2016 dollars), it seems likely that he would have been among the 35 percent of men in first class to survive. However, this was not the case: although his pregnant wife survived, John Jacob Astor’s body was recovered a week later, along with a gold watch, a diamond ring with three stones, and no less than \\$92,481 (2016 value) in cash.\n",
    "\n",
    "On the other end of the spectrum is Olaus Jorgensen Abelseth, a 25-year-old Norwegian sailor. Abelseth, as a man in 3rd class, was not expected to survive by our classifier. Once the ship sank, however, he was able to stay alive by swimming for 20 minutes in the frigid North Atlantic water before joining other survivors on a waterlogged collapsible boat and rowing through the night. Abelseth got married three years later, settled down as a farmer in North Dakota, had 4 kids, and died in 1980 at the age of 94.\n",
    "\n",
    "\n",
    "### Conclusions\n",
    "Initially I was disappointed by the accuracy of our machine learning models maxing out at about 80% for this data set. It’s easy to forget that these data points each represent real people, each of whom found themselves stuck on a sinking ship without enough lifeboats. When we looked into data points for which our model was wrong, we can uncover incredible stories of human nature driving people to defy their logical fate. It is important to never lose sight of the human element when analyzing this type of data set. This principle will be especially important going forward, as machine learning is increasingly applied to human data sets by organizations such as insurance companies, big banks, and law enforcement agencies.\n"
   ]
  },
  {
   "metadata": {},
   "cell_type": "markdown",
   "source": [
    "## Take home questions\n",
    "\n",
    "(1) In performing our testing we have made some fundamental mistakes that results in overfitting to our 4 test cases. Spend some time looking through how we setup our training and testing data, in particular take a look at the test cases. Indicate what the problem is and suggest some ways to correct it."
   ]
  },
  {
   "metadata": {
    "ExecuteTime": {
     "end_time": "2024-09-26T16:29:47.977464Z",
     "start_time": "2024-09-26T16:29:47.963180Z"
    }
   },
   "cell_type": "code",
   "source": [
    "# correct the above test process and evaluate the performance of the algorithms\n",
    "\n"
   ],
   "outputs": [],
   "execution_count": 75
  },
  {
   "metadata": {},
   "cell_type": "markdown",
   "source": "(2) Exploration! Compare different machine learning algorithms and data preprocessing to see if you can achieve a better prediction accuracy. How can you be sure that you are not overfitting to the data?"
  },
  {
   "metadata": {
    "ExecuteTime": {
     "end_time": "2024-09-26T16:29:48.008793Z",
     "start_time": "2024-09-26T16:29:47.994167Z"
    }
   },
   "cell_type": "code",
   "source": [
    "# write your code here\n",
    "\n",
    "\n",
    "\n",
    "\n",
    "\n",
    "\n",
    "\n",
    "\n",
    "\n",
    "\n",
    "\n",
    "\n",
    "\n",
    "\n"
   ],
   "outputs": [],
   "execution_count": 76
  }
 ]
}
