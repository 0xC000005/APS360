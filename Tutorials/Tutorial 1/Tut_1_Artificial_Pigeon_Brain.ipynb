{
 "nbformat": 4,
 "nbformat_minor": 0,
 "metadata": {
  "colab": {
   "name": "S22_Tut_1_Artificial_Pigeon_Brain.ipynb",
   "provenance": [],
   "collapsed_sections": []
  },
  "kernelspec": {
   "display_name": "Python 3",
   "language": "python",
   "name": "python3"
  },
  "language_info": {
   "codemirror_mode": {
    "name": "ipython",
    "version": 3
   },
   "file_extension": ".py",
   "mimetype": "text/x-python",
   "name": "python",
   "nbconvert_exporter": "python",
   "pygments_lexer": "ipython3",
   "version": "3.7.4"
  }
 },
 "cells": [
  {
   "cell_type": "markdown",
   "metadata": {
    "id": "t_7PSrzbdQbT"
   },
   "source": [
    "# Tutorial 1 - Artificial Pigeon Brain \n",
    "\n",
    "## Last Lecture\n",
    "* Biological Neural Networks (BNNs)\n",
    "* Artificial Neurons Networks (ANNs)\n",
    "* Forward Pass\n",
    "* Activation Functions\n",
    "* Mean Squared Error and Cross-Entropy\n",
    "* Gradient Descent and Backpropagation\n",
    "* Nonlinearity\n",
    "\n",
    "Sample code:"
   ]
  },
  {
   "cell_type": "markdown",
   "metadata": {
    "id": "5vk1HIgTbbKt"
   },
   "source": [
    "#### Example: 1-layer ANN with MSE and Gradient Descent\n"
   ]
  },
  {
   "cell_type": "code",
   "metadata": {
    "id": "8tmvmSv7bSvm",
    "ExecuteTime": {
     "end_time": "2024-09-26T16:42:03.977835Z",
     "start_time": "2024-09-26T16:42:03.966648Z"
    }
   },
   "source": [
    "import math\n",
    "\n",
    "# data (first column is the bias term)\n",
    "x = [[1, 0.1,-0.2], \n",
    "     [1,-0.1, 0.9], \n",
    "     [1, 1.2, 0.1], \n",
    "     [1, 1.1, 1.5]]\n",
    "\n",
    "# labels (desired output)\n",
    "t = [0, 0, 0, 1]\n",
    "\n",
    "# initial weights\n",
    "w = [1, -1, 1]\n",
    "\n",
    "iterations = 50\n",
    "learning = 10\n",
    "\n",
    "def simple_ann_MSE(x, w, t, iterations, learning):\n",
    "\n",
    "    E = []\n",
    "    \n",
    "    #iterate over epochs\n",
    "    for ii in range(iterations):\n",
    "        err = [] \n",
    "        y = []\n",
    "        #iterate over all the samples x\n",
    "        for n in range(len(x)):\n",
    "            v = 0\n",
    "            # compute w.x\n",
    "            for p in range(len(x[0])):\n",
    "                v = v + x[n][p]*w[p]\n",
    "            \n",
    "            #sigmoidal activation    \n",
    "            y.append(1 / (1 + math.e**(-v))) \n",
    "            \n",
    "            #MSE classification error\n",
    "            err.append((y[n]-t[n])**2)\n",
    "            \n",
    "            #gradient descent to compute new weights\n",
    "            for p in range(len(w)):\n",
    "                d = x[n][p]*(y[n]-t[n])*(1-y[n])*(y[n])\n",
    "                w[p] = w[p] - learning*d\n",
    "                \n",
    "        #sum up classification error\n",
    "        E.append(sum(err)/len(x))\n",
    "    \n",
    "    return (y, w, E)\n",
    "\n",
    "(y, w, E) = simple_ann_MSE(x, w, t, iterations, learning)"
   ],
   "outputs": [],
   "execution_count": 1
  },
  {
   "cell_type": "code",
   "metadata": {
    "id": "TncfaRORb5tN",
    "ExecuteTime": {
     "end_time": "2024-09-26T16:42:03.993416Z",
     "start_time": "2024-09-26T16:42:03.979899Z"
    }
   },
   "source": [
    "print(y)"
   ],
   "outputs": [
    {
     "name": "stdout",
     "output_type": "stream",
     "text": [
      "[0.0006555859880223744, 0.052128479309599574, 0.04486688739303947, 0.9484229735074757]\n"
     ]
    }
   ],
   "execution_count": 2
  },
  {
   "cell_type": "markdown",
   "metadata": {
    "id": "Sv7VdSNxcFWT"
   },
   "source": [
    "#### Example: 1-layer ANN with Cross-Entropy and Gradient Descent"
   ]
  },
  {
   "cell_type": "code",
   "metadata": {
    "id": "ytnwNDitduho",
    "ExecuteTime": {
     "end_time": "2024-09-26T16:42:04.056459Z",
     "start_time": "2024-09-26T16:42:04.041843Z"
    }
   },
   "source": [
    "def simple_ann_CE(x, w, t, iterations, learning):\n",
    "\n",
    "    E = []\n",
    "    \n",
    "    #iterate over epochs\n",
    "    for ii in range(iterations):\n",
    "        err = [] \n",
    "        y = []\n",
    "        \n",
    "        #iterate over all the samples x\n",
    "        for n in range(len(x)):\n",
    "            v = 0\n",
    "            \n",
    "            #compute w.x\n",
    "            for p in range(len(x[0])):\n",
    "                v = v + x[n][p]*w[p]\n",
    "            \n",
    "            #sigmoidal activation\n",
    "            y.append(1 / (1 + math.e**(-v))) \n",
    "            \n",
    "            #cross-entropy classification error\n",
    "            err.append(-t[n]*math.log(y[n]+ 0.000001) - (1-t[n])*math.log(1-y[n]+ 0.000001))\n",
    "\n",
    "            #gradient descent to compute new weights\n",
    "            for p in range(len(w)):\n",
    "                d = x[n][p]*(y[n]-t[n]) #cross_entropy\n",
    "                w[p] = w[p] - learning*d\n",
    "                \n",
    "        #sum up classification error\n",
    "        E.append(sum(err))\n",
    "    \n",
    "    return (y, w, E)\n",
    "\n",
    "(y, w, E) = simple_ann_CE(x, w, t, iterations, learning)"
   ],
   "outputs": [],
   "execution_count": 3
  },
  {
   "cell_type": "code",
   "metadata": {
    "id": "MnsiF6FDdvM7",
    "ExecuteTime": {
     "end_time": "2024-09-26T16:42:04.087068Z",
     "start_time": "2024-09-26T16:42:04.072991Z"
    }
   },
   "source": [
    "print(y)\n",
    "print(E)"
   ],
   "outputs": [
    {
     "name": "stdout",
     "output_type": "stream",
     "text": [
      "[1.5220611182206673e-12, 9.152891744525407e-08, 0.00020457583967445263, 0.9995046474331183]\n",
      "[0.3505461395371315, 6.805376705476292, 26.564614243221254, 4.524869189402009, 0.00581592932568457, 0.004531305013205282, 0.0037402867346008617, 0.003200165906455406, 0.0028065871303956874, 0.0025065651988698794, 0.0022701268143129998, 0.0020789625276250003, 0.0019212227892200567, 0.0017888843530261722, 0.0016763134028960054, 0.0015794335299080592, 0.0014952200461149775, 0.0014213800173908835, 0.0013561428005760547, 0.001298118861471155, 0.0012462021759714142, 0.0011995012467585734, 0.0011572893800816282, 0.001118968213772658, 0.0010840405428184413, 0.0010520897843389828, 0.0010227642597937382, 0.0009957650231825878, 0.0009708363340984405, 0.0009477581274454128, 0.0009263400073189873, 0.0009064164163366016, 0.0008878427201236448, 0.0008704920106039989, 0.0008542524785172298, 0.0008390252401733997, 0.000824722529291096, 0.0008112661842396662, 0.0007985863758108651, 0.0007866205320193084, 0.0007753124251897709, 0.000764611393434522, 0.0007544716739748014, 0.0007448518299858864, 0.0007357142559979797, 0.0007270247495661308, 0.0007187521390707735, 0.0007108679592477776, 0.0007033461674488022, 0.0006961628947981837]\n"
     ]
    }
   ],
   "execution_count": 4
  },
  {
   "cell_type": "markdown",
   "metadata": {
    "id": "dVrJJw84dbiJ"
   },
   "source": [
    "### Exploring the Iris dataset\n",
    "\n",
    "Let us modify the above code to work with the iris data set.\n",
    "\n",
    "To begin, load the iris data into Google Colab. Last time we had some difficulty with this, so it's suggested that you use Chrome or Chromium. Another approach to load the iris data is shown below:"
   ]
  },
  {
   "cell_type": "code",
   "metadata": {
    "id": "38Qu2LlAIDlQ",
    "ExecuteTime": {
     "end_time": "2024-09-26T16:42:04.725104Z",
     "start_time": "2024-09-26T16:42:04.104904Z"
    }
   },
   "source": [
    "# use sklearn.datasets to load iris data\n",
    "from sklearn.datasets import load_iris\n",
    "features, labels = load_iris(return_X_y=True)"
   ],
   "outputs": [],
   "execution_count": 5
  },
  {
   "cell_type": "markdown",
   "metadata": {
    "id": "dCcmOIFyIbge"
   },
   "source": [
    "The iris data has 150 samples spread across three classes: \n",
    "1. Iris-setosa, \n",
    "2. Iris-versicolor,\n",
    "3. Iris-virginica. \n",
    "\n",
    "There are three features used: \n",
    "1. sepal length in cm\n",
    "2. sepal width in cm\n",
    "3. petal length in cm\n",
    "4. petal width in cm\n",
    "\n",
    "To keep things simple, let us pick two of the classes and perform binary classification with our sample code. We will select **Iris-setosa** and **Iris-versicolor** to start:"
   ]
  },
  {
   "cell_type": "code",
   "source": [
    "features"
   ],
   "metadata": {
    "id": "Ved09UvOz9Wd",
    "ExecuteTime": {
     "end_time": "2024-09-26T16:42:04.756152Z",
     "start_time": "2024-09-26T16:42:04.742729Z"
    }
   },
   "outputs": [
    {
     "data": {
      "text/plain": [
       "array([[5.1, 3.5, 1.4, 0.2],\n",
       "       [4.9, 3. , 1.4, 0.2],\n",
       "       [4.7, 3.2, 1.3, 0.2],\n",
       "       [4.6, 3.1, 1.5, 0.2],\n",
       "       [5. , 3.6, 1.4, 0.2],\n",
       "       [5.4, 3.9, 1.7, 0.4],\n",
       "       [4.6, 3.4, 1.4, 0.3],\n",
       "       [5. , 3.4, 1.5, 0.2],\n",
       "       [4.4, 2.9, 1.4, 0.2],\n",
       "       [4.9, 3.1, 1.5, 0.1],\n",
       "       [5.4, 3.7, 1.5, 0.2],\n",
       "       [4.8, 3.4, 1.6, 0.2],\n",
       "       [4.8, 3. , 1.4, 0.1],\n",
       "       [4.3, 3. , 1.1, 0.1],\n",
       "       [5.8, 4. , 1.2, 0.2],\n",
       "       [5.7, 4.4, 1.5, 0.4],\n",
       "       [5.4, 3.9, 1.3, 0.4],\n",
       "       [5.1, 3.5, 1.4, 0.3],\n",
       "       [5.7, 3.8, 1.7, 0.3],\n",
       "       [5.1, 3.8, 1.5, 0.3],\n",
       "       [5.4, 3.4, 1.7, 0.2],\n",
       "       [5.1, 3.7, 1.5, 0.4],\n",
       "       [4.6, 3.6, 1. , 0.2],\n",
       "       [5.1, 3.3, 1.7, 0.5],\n",
       "       [4.8, 3.4, 1.9, 0.2],\n",
       "       [5. , 3. , 1.6, 0.2],\n",
       "       [5. , 3.4, 1.6, 0.4],\n",
       "       [5.2, 3.5, 1.5, 0.2],\n",
       "       [5.2, 3.4, 1.4, 0.2],\n",
       "       [4.7, 3.2, 1.6, 0.2],\n",
       "       [4.8, 3.1, 1.6, 0.2],\n",
       "       [5.4, 3.4, 1.5, 0.4],\n",
       "       [5.2, 4.1, 1.5, 0.1],\n",
       "       [5.5, 4.2, 1.4, 0.2],\n",
       "       [4.9, 3.1, 1.5, 0.2],\n",
       "       [5. , 3.2, 1.2, 0.2],\n",
       "       [5.5, 3.5, 1.3, 0.2],\n",
       "       [4.9, 3.6, 1.4, 0.1],\n",
       "       [4.4, 3. , 1.3, 0.2],\n",
       "       [5.1, 3.4, 1.5, 0.2],\n",
       "       [5. , 3.5, 1.3, 0.3],\n",
       "       [4.5, 2.3, 1.3, 0.3],\n",
       "       [4.4, 3.2, 1.3, 0.2],\n",
       "       [5. , 3.5, 1.6, 0.6],\n",
       "       [5.1, 3.8, 1.9, 0.4],\n",
       "       [4.8, 3. , 1.4, 0.3],\n",
       "       [5.1, 3.8, 1.6, 0.2],\n",
       "       [4.6, 3.2, 1.4, 0.2],\n",
       "       [5.3, 3.7, 1.5, 0.2],\n",
       "       [5. , 3.3, 1.4, 0.2],\n",
       "       [7. , 3.2, 4.7, 1.4],\n",
       "       [6.4, 3.2, 4.5, 1.5],\n",
       "       [6.9, 3.1, 4.9, 1.5],\n",
       "       [5.5, 2.3, 4. , 1.3],\n",
       "       [6.5, 2.8, 4.6, 1.5],\n",
       "       [5.7, 2.8, 4.5, 1.3],\n",
       "       [6.3, 3.3, 4.7, 1.6],\n",
       "       [4.9, 2.4, 3.3, 1. ],\n",
       "       [6.6, 2.9, 4.6, 1.3],\n",
       "       [5.2, 2.7, 3.9, 1.4],\n",
       "       [5. , 2. , 3.5, 1. ],\n",
       "       [5.9, 3. , 4.2, 1.5],\n",
       "       [6. , 2.2, 4. , 1. ],\n",
       "       [6.1, 2.9, 4.7, 1.4],\n",
       "       [5.6, 2.9, 3.6, 1.3],\n",
       "       [6.7, 3.1, 4.4, 1.4],\n",
       "       [5.6, 3. , 4.5, 1.5],\n",
       "       [5.8, 2.7, 4.1, 1. ],\n",
       "       [6.2, 2.2, 4.5, 1.5],\n",
       "       [5.6, 2.5, 3.9, 1.1],\n",
       "       [5.9, 3.2, 4.8, 1.8],\n",
       "       [6.1, 2.8, 4. , 1.3],\n",
       "       [6.3, 2.5, 4.9, 1.5],\n",
       "       [6.1, 2.8, 4.7, 1.2],\n",
       "       [6.4, 2.9, 4.3, 1.3],\n",
       "       [6.6, 3. , 4.4, 1.4],\n",
       "       [6.8, 2.8, 4.8, 1.4],\n",
       "       [6.7, 3. , 5. , 1.7],\n",
       "       [6. , 2.9, 4.5, 1.5],\n",
       "       [5.7, 2.6, 3.5, 1. ],\n",
       "       [5.5, 2.4, 3.8, 1.1],\n",
       "       [5.5, 2.4, 3.7, 1. ],\n",
       "       [5.8, 2.7, 3.9, 1.2],\n",
       "       [6. , 2.7, 5.1, 1.6],\n",
       "       [5.4, 3. , 4.5, 1.5],\n",
       "       [6. , 3.4, 4.5, 1.6],\n",
       "       [6.7, 3.1, 4.7, 1.5],\n",
       "       [6.3, 2.3, 4.4, 1.3],\n",
       "       [5.6, 3. , 4.1, 1.3],\n",
       "       [5.5, 2.5, 4. , 1.3],\n",
       "       [5.5, 2.6, 4.4, 1.2],\n",
       "       [6.1, 3. , 4.6, 1.4],\n",
       "       [5.8, 2.6, 4. , 1.2],\n",
       "       [5. , 2.3, 3.3, 1. ],\n",
       "       [5.6, 2.7, 4.2, 1.3],\n",
       "       [5.7, 3. , 4.2, 1.2],\n",
       "       [5.7, 2.9, 4.2, 1.3],\n",
       "       [6.2, 2.9, 4.3, 1.3],\n",
       "       [5.1, 2.5, 3. , 1.1],\n",
       "       [5.7, 2.8, 4.1, 1.3],\n",
       "       [6.3, 3.3, 6. , 2.5],\n",
       "       [5.8, 2.7, 5.1, 1.9],\n",
       "       [7.1, 3. , 5.9, 2.1],\n",
       "       [6.3, 2.9, 5.6, 1.8],\n",
       "       [6.5, 3. , 5.8, 2.2],\n",
       "       [7.6, 3. , 6.6, 2.1],\n",
       "       [4.9, 2.5, 4.5, 1.7],\n",
       "       [7.3, 2.9, 6.3, 1.8],\n",
       "       [6.7, 2.5, 5.8, 1.8],\n",
       "       [7.2, 3.6, 6.1, 2.5],\n",
       "       [6.5, 3.2, 5.1, 2. ],\n",
       "       [6.4, 2.7, 5.3, 1.9],\n",
       "       [6.8, 3. , 5.5, 2.1],\n",
       "       [5.7, 2.5, 5. , 2. ],\n",
       "       [5.8, 2.8, 5.1, 2.4],\n",
       "       [6.4, 3.2, 5.3, 2.3],\n",
       "       [6.5, 3. , 5.5, 1.8],\n",
       "       [7.7, 3.8, 6.7, 2.2],\n",
       "       [7.7, 2.6, 6.9, 2.3],\n",
       "       [6. , 2.2, 5. , 1.5],\n",
       "       [6.9, 3.2, 5.7, 2.3],\n",
       "       [5.6, 2.8, 4.9, 2. ],\n",
       "       [7.7, 2.8, 6.7, 2. ],\n",
       "       [6.3, 2.7, 4.9, 1.8],\n",
       "       [6.7, 3.3, 5.7, 2.1],\n",
       "       [7.2, 3.2, 6. , 1.8],\n",
       "       [6.2, 2.8, 4.8, 1.8],\n",
       "       [6.1, 3. , 4.9, 1.8],\n",
       "       [6.4, 2.8, 5.6, 2.1],\n",
       "       [7.2, 3. , 5.8, 1.6],\n",
       "       [7.4, 2.8, 6.1, 1.9],\n",
       "       [7.9, 3.8, 6.4, 2. ],\n",
       "       [6.4, 2.8, 5.6, 2.2],\n",
       "       [6.3, 2.8, 5.1, 1.5],\n",
       "       [6.1, 2.6, 5.6, 1.4],\n",
       "       [7.7, 3. , 6.1, 2.3],\n",
       "       [6.3, 3.4, 5.6, 2.4],\n",
       "       [6.4, 3.1, 5.5, 1.8],\n",
       "       [6. , 3. , 4.8, 1.8],\n",
       "       [6.9, 3.1, 5.4, 2.1],\n",
       "       [6.7, 3.1, 5.6, 2.4],\n",
       "       [6.9, 3.1, 5.1, 2.3],\n",
       "       [5.8, 2.7, 5.1, 1.9],\n",
       "       [6.8, 3.2, 5.9, 2.3],\n",
       "       [6.7, 3.3, 5.7, 2.5],\n",
       "       [6.7, 3. , 5.2, 2.3],\n",
       "       [6.3, 2.5, 5. , 1.9],\n",
       "       [6.5, 3. , 5.2, 2. ],\n",
       "       [6.2, 3.4, 5.4, 2.3],\n",
       "       [5.9, 3. , 5.1, 1.8]])"
      ]
     },
     "execution_count": 6,
     "metadata": {},
     "output_type": "execute_result"
    }
   ],
   "execution_count": 6
  },
  {
   "cell_type": "code",
   "source": [
    "labels"
   ],
   "metadata": {
    "id": "dC2-ymA3nTfz",
    "ExecuteTime": {
     "end_time": "2024-09-26T16:42:04.818931Z",
     "start_time": "2024-09-26T16:42:04.803932Z"
    }
   },
   "outputs": [
    {
     "data": {
      "text/plain": [
       "array([0, 0, 0, 0, 0, 0, 0, 0, 0, 0, 0, 0, 0, 0, 0, 0, 0, 0, 0, 0, 0, 0,\n",
       "       0, 0, 0, 0, 0, 0, 0, 0, 0, 0, 0, 0, 0, 0, 0, 0, 0, 0, 0, 0, 0, 0,\n",
       "       0, 0, 0, 0, 0, 0, 1, 1, 1, 1, 1, 1, 1, 1, 1, 1, 1, 1, 1, 1, 1, 1,\n",
       "       1, 1, 1, 1, 1, 1, 1, 1, 1, 1, 1, 1, 1, 1, 1, 1, 1, 1, 1, 1, 1, 1,\n",
       "       1, 1, 1, 1, 1, 1, 1, 1, 1, 1, 1, 1, 2, 2, 2, 2, 2, 2, 2, 2, 2, 2,\n",
       "       2, 2, 2, 2, 2, 2, 2, 2, 2, 2, 2, 2, 2, 2, 2, 2, 2, 2, 2, 2, 2, 2,\n",
       "       2, 2, 2, 2, 2, 2, 2, 2, 2, 2, 2, 2, 2, 2, 2, 2, 2, 2])"
      ]
     },
     "execution_count": 7,
     "metadata": {},
     "output_type": "execute_result"
    }
   ],
   "execution_count": 7
  },
  {
   "cell_type": "code",
   "metadata": {
    "id": "sj2vXappwiUA",
    "ExecuteTime": {
     "end_time": "2024-09-26T16:42:04.942645Z",
     "start_time": "2024-09-26T16:42:04.866334Z"
    }
   },
   "source": [
    "# classification iris-setosa and iris-versicolor\n",
    "import numpy as np\n",
    "\n",
    "indices = np.array(range(0,100))\n",
    "\n",
    "#setup x matrix\n",
    "x = np.zeros((len(indices), 4 + 1))\n",
    "x[:,1:5] = features[indices,:]\n",
    "\n",
    "#add bias column\n",
    "x[:,0] = np.ones(len(indices))\n",
    "\n",
    "#labels\n",
    "t = labels[indices]\n",
    "\n",
    "# initial weights\n",
    "w = np.random.rand(5)\n",
    "\n",
    "iterations = 100\n",
    "learning = 0.0001\n",
    "\n",
    "(y, w, E) = simple_ann_CE(x, w, t, iterations, learning)"
   ],
   "outputs": [],
   "execution_count": 8
  },
  {
   "cell_type": "code",
   "metadata": {
    "id": "WgPIaMRLzjXC",
    "ExecuteTime": {
     "end_time": "2024-09-26T16:42:04.957897Z",
     "start_time": "2024-09-26T16:42:04.945752Z"
    }
   },
   "source": [
    "for i in range(len(t)):\n",
    "  print(t[i], y[i])"
   ],
   "outputs": [
    {
     "name": "stdout",
     "output_type": "stream",
     "text": [
      "0 0.3540829094135873\n",
      "0 0.3828078949462814\n",
      "0 0.3820891802348073\n",
      "0 0.41587127855633355\n",
      "0 0.35806597002557833\n",
      "0 0.36758205241800324\n",
      "0 0.40345483349997313\n",
      "0 0.37340774443413477\n",
      "0 0.42477617094683173\n",
      "0 0.38060306631809865\n",
      "0 0.33300558170631545\n",
      "0 0.3998940833314181\n",
      "0 0.3790812730666568\n",
      "0 0.3856020961201035\n",
      "0 0.26533803391754923\n",
      "0 0.3065995702177604\n",
      "0 0.32017712089486766\n",
      "0 0.35634401043566233\n",
      "0 0.33376901011890736\n",
      "0 0.3588538511861704\n",
      "0 0.3591057948727283\n",
      "0 0.36885314256762847\n",
      "0 0.3399418639324452\n",
      "0 0.4102465145190764\n",
      "0 0.4305067345674785\n",
      "0 0.38941033691111\n",
      "0 0.3947263984552676\n",
      "0 0.34785292096147524\n",
      "0 0.3392659945830615\n",
      "0 0.4076738137568956\n",
      "0 0.4016677721308826\n",
      "0 0.3490344292186341\n",
      "0 0.32289672751819803\n",
      "0 0.2948256203575966\n",
      "0 0.3805641410123638\n",
      "0 0.33635491658112027\n",
      "0 0.30083457313604095\n",
      "0 0.3470024183024408\n",
      "0 0.40106270904303576\n",
      "0 0.35454953440178205\n",
      "0 0.3456368837757889\n",
      "0 0.4198849019229027\n",
      "0 0.39426753504048206\n",
      "0 0.4028431604883933\n",
      "0 0.403383943714325\n",
      "0 0.3849810547005714\n",
      "0 0.35237471853075036\n",
      "0 0.38723548820673837\n",
      "0 0.32769657702577204\n",
      "0 0.3509564071611496\n",
      "1 0.6661860979863702\n",
      "1 0.6994756597303909\n",
      "1 0.7056380432026881\n",
      "1 0.7237595607012549\n",
      "1 0.7132003184065965\n",
      "1 0.7460276419333415\n",
      "1 0.7329489927925116\n",
      "1 0.6743708445659466\n",
      "1 0.6903773871220803\n",
      "1 0.7347365945866318\n",
      "1 0.6985462081685656\n",
      "1 0.7149403138470937\n",
      "1 0.6701449958919653\n",
      "1 0.7447320739629749\n",
      "1 0.6644499766766054\n",
      "1 0.6672785935661468\n",
      "1 0.7648380655948145\n",
      "1 0.6852603701106711\n",
      "1 0.7437732650274191\n",
      "1 0.69283444018382\n",
      "1 0.7871086773938064\n",
      "1 0.673621494396182\n",
      "1 0.7678285427627802\n",
      "1 0.7371846714484607\n",
      "1 0.681009951141073\n",
      "1 0.6818883252244792\n",
      "1 0.7133131292644613\n",
      "1 0.7553274136107043\n",
      "1 0.7452223327512504\n",
      "1 0.6354425609810878\n",
      "1 0.6964813535951043\n",
      "1 0.6789156386482247\n",
      "1 0.6852860028722425\n",
      "1 0.8071407773960624\n",
      "1 0.7827026516162904\n",
      "1 0.7432698538422561\n",
      "1 0.7146230239340314\n",
      "1 0.718259214704519\n",
      "1 0.722093808592952\n",
      "1 0.7311049128477076\n",
      "1 0.7593665546592947\n",
      "1 0.7433928041862496\n",
      "1 0.7014383399572736\n",
      "1 0.6808518164313077\n",
      "1 0.7402912134981421\n",
      "1 0.7201045267845434\n",
      "1 0.7297202028463445\n",
      "1 0.7048457596677113\n",
      "1 0.6448892257797728\n",
      "1 0.7234018290789634\n"
     ]
    }
   ],
   "execution_count": 9
  },
  {
   "cell_type": "markdown",
   "metadata": {
    "id": "ZO8CMusz29hQ"
   },
   "source": [
    "We're able to successfully classify iris-setosa and iris-versicolor."
   ]
  },
  {
   "cell_type": "code",
   "metadata": {
    "id": "cKtAXhNZJUok",
    "ExecuteTime": {
     "end_time": "2024-09-26T16:42:05.049793Z",
     "start_time": "2024-09-26T16:42:04.974227Z"
    }
   },
   "source": [
    "# classification iris-versicolor and iris virginica\n",
    "indices = np.array(range(50,150))\n",
    "\n",
    "#setup x matrix\n",
    "x = np.zeros((len(indices), 4 + 1))\n",
    "x[:,1:5] = features[indices,:]\n",
    "\n",
    "#add bias column\n",
    "x[:,0] = np.ones(len(indices))\n",
    "\n",
    "#labels\n",
    "t = labels[indices]-1\n",
    "\n",
    "# initial weights\n",
    "w = np.random.rand(5)\n",
    "\n",
    "iterations = 100\n",
    "learning = 0.0001\n",
    "\n",
    "\n",
    "(y, w, E) = simple_ann_CE(x, w, t, iterations, learning)"
   ],
   "outputs": [],
   "execution_count": 10
  },
  {
   "cell_type": "code",
   "metadata": {
    "id": "G5DlhozN2gOW",
    "ExecuteTime": {
     "end_time": "2024-09-26T16:42:05.081101Z",
     "start_time": "2024-09-26T16:42:05.066910Z"
    }
   },
   "source": [
    "for i in range(len(t)):\n",
    "  print(t[i], y[i])"
   ],
   "outputs": [
    {
     "name": "stdout",
     "output_type": "stream",
     "text": [
      "0 0.47759616393319737\n",
      "0 0.5200059980777122\n",
      "0 0.49899228073730245\n",
      "0 0.5152926757786281\n",
      "0 0.506794381190258\n",
      "0 0.5262238987713517\n",
      "0 0.542414913861117\n",
      "0 0.4906917079149573\n",
      "0 0.4731136869018151\n",
      "0 0.5463985744469062\n",
      "0 0.48150833698024414\n",
      "0 0.5293663371507947\n",
      "0 0.43746539998514666\n",
      "0 0.5160545557680353\n",
      "0 0.49971918699507933\n",
      "0 0.4714302464425728\n",
      "0 0.5531171545024388\n",
      "0 0.458001763826207\n",
      "0 0.4997627853842706\n",
      "0 0.4722079184550178\n",
      "0 0.5819862677252929\n",
      "0 0.4733864963346621\n",
      "0 0.5075978078940748\n",
      "0 0.4799765655006406\n",
      "0 0.4629074812797116\n",
      "0 0.46709944440591894\n",
      "0 0.4620540243603875\n",
      "0 0.515512574547019\n",
      "0 0.5163679818993331\n",
      "0 0.4354742404408419\n",
      "0 0.46555627167490116\n",
      "0 0.4492299769509449\n",
      "0 0.4663603806457601\n",
      "0 0.5398017745911853\n",
      "0 0.5516338199914657\n",
      "0 0.5324450818488907\n",
      "0 0.47462602636584134\n",
      "0 0.4510097001614059\n",
      "0 0.49828781045970877\n",
      "0 0.49237977508825514\n",
      "0 0.49227491685000896\n",
      "0 0.491401244087569\n",
      "0 0.45988846404516437\n",
      "0 0.4595652667787763\n",
      "0 0.4918086276877506\n",
      "0 0.47693693118465286\n",
      "0 0.48731995743447576\n",
      "0 0.4572189640458941\n",
      "0 0.457712589843938\n",
      "0 0.48067778303550984\n",
      "1 0.6530442813154146\n",
      "1 0.5775936557409224\n",
      "1 0.5484852325885934\n",
      "1 0.552425649185838\n",
      "1 0.5982065180586742\n",
      "1 0.5397098820916778\n",
      "1 0.5929893178364024\n",
      "1 0.5122442746604\n",
      "1 0.5305944610067468\n",
      "1 0.61514737679791\n",
      "1 0.5623565613450665\n",
      "1 0.5541786200895421\n",
      "1 0.5660996049950303\n",
      "1 0.600154180084568\n",
      "1 0.65062484918163\n",
      "1 0.6156722794132551\n",
      "1 0.5501955427665909\n",
      "1 0.575436578789549\n",
      "1 0.5746038398491091\n",
      "1 0.5176720924405174\n",
      "1 0.6014822484424096\n",
      "1 0.6145646159886724\n",
      "1 0.5382655941845275\n",
      "1 0.5463599755099934\n",
      "1 0.5943414989009587\n",
      "1 0.5334630358641859\n",
      "1 0.5540552509351954\n",
      "1 0.5675653618937515\n",
      "1 0.6047520263438457\n",
      "1 0.5020823551583619\n",
      "1 0.5349725000436316\n",
      "1 0.5447870451765623\n",
      "1 0.6210197856702933\n",
      "1 0.5248185918073515\n",
      "1 0.5370745477013289\n",
      "1 0.5764465950618708\n",
      "1 0.6638513180407515\n",
      "1 0.5780132279081202\n",
      "1 0.5801771989690427\n",
      "1 0.5841406628448801\n",
      "1 0.6394959946785627\n",
      "1 0.601766834525803\n",
      "1 0.6113233278923393\n",
      "1 0.634541520867746\n",
      "1 0.6605338510068184\n",
      "1 0.6179030989086776\n",
      "1 0.5778329443236455\n",
      "1 0.5942412400408321\n",
      "1 0.6612145335954503\n",
      "1 0.6032957780053319\n"
     ]
    }
   ],
   "execution_count": 11
  },
  {
   "cell_type": "markdown",
   "metadata": {
    "id": "7iwvTlW43L8h"
   },
   "source": [
    "The performance on the iris-versicolor and iris virginica is not as good. To find out why, we will try to visualize the data."
   ]
  },
  {
   "cell_type": "markdown",
   "metadata": {
    "id": "wb_g2BEdU_Fu"
   },
   "source": [
    "### Visualize Iris Dataset\n",
    "Since the Iris dataset has only 4 inputs we can try to visualize it on a 2-dimensional plane to get a better idea of what is happening."
   ]
  },
  {
   "cell_type": "code",
   "metadata": {
    "id": "B6SleB-DVS25",
    "ExecuteTime": {
     "end_time": "2024-09-26T16:42:05.488358Z",
     "start_time": "2024-09-26T16:42:05.098129Z"
    }
   },
   "source": [
    "#scatter plot of iris-setosa and iris-versicolor\n",
    "import numpy as np\n",
    "from matplotlib import pyplot as plt\n",
    "\n",
    "indices = np.array(range(0,100))\n",
    "\n",
    "selected_features = features[indices,:]\n",
    "selected_labels = labels[indices]\n",
    "\n",
    "feature_name = ['sepal length in cm', 'sepal width in cm', 'petal length in cm', 'petal width in cm']\n",
    "\n",
    "x_index = 0\n",
    "y_index = 1\n",
    "\n",
    "plt.figure(figsize=(5, 4))\n",
    "plt.scatter(selected_features[:,x_index], selected_features[:,y_index], c= selected_labels)\n",
    "plt.colorbar(ticks=[0, 1, 2])\n",
    "plt.xlabel(feature_name[x_index])\n",
    "plt.ylabel(feature_name[y_index])\n",
    "\n",
    "plt.tight_layout()\n",
    "plt.show()"
   ],
   "outputs": [
    {
     "data": {
      "text/plain": [
       "<Figure size 500x400 with 2 Axes>"
      ],
      "image/png": "[encoded data removed]"
     },
     "metadata": {},
     "output_type": "display_data"
    }
   ],
   "execution_count": 12
  },
  {
   "cell_type": "code",
   "metadata": {
    "id": "mcLbUFswvBCE",
    "ExecuteTime": {
     "end_time": "2024-09-26T16:42:05.598738Z",
     "start_time": "2024-09-26T16:42:05.504893Z"
    }
   },
   "source": [
    "# scatter plot of iris-versicolor and iris virginica\n",
    "import numpy as np\n",
    "from matplotlib import pyplot as plt\n",
    "\n",
    "indices = np.array(range(50,150))\n",
    "\n",
    "selected_features = features[indices,:]\n",
    "selected_labels = labels[indices]\n",
    "\n",
    "feature_name = ['sepal length in cm', 'sepal width in cm', 'petal length in cm', 'petal width in cm']\n",
    "\n",
    "x_index = 0\n",
    "y_index = 1\n",
    "\n",
    "plt.figure(figsize=(5, 4))\n",
    "plt.scatter(selected_features[:,x_index], selected_features[:,y_index], c= selected_labels)\n",
    "plt.colorbar(ticks=[0, 1, 2])\n",
    "plt.xlabel(feature_name[x_index])\n",
    "plt.ylabel(feature_name[y_index])\n",
    "\n",
    "plt.tight_layout()\n",
    "plt.show()"
   ],
   "outputs": [
    {
     "data": {
      "text/plain": [
       "<Figure size 500x400 with 2 Axes>"
      ],
      "image/png": "[encoded data removed]"
     },
     "metadata": {},
     "output_type": "display_data"
    }
   ],
   "execution_count": 13
  },
  {
   "cell_type": "markdown",
   "metadata": {
    "id": "7Cqsdyg1de8M"
   },
   "source": [
    "### Nonlinear Separation\n",
    "Our 1-layer ANN was only successful one of the binary classification combinations. A 1-layer ANN is unable to handle nonlinear separations (or decisions boundaries). To address this we can introduce a second layer known as a hidden layer. How could we do this?\n",
    "\n",
    "We can just include an additional 1-layer networks as shown in the image below. \n",
    "\n",
    "![alt text](https://miro.medium.com/max/1000/1*sX6T0Y4aa3ARh7IBS_sdqw.png)\n",
    "\n",
    "\n",
    "We would follow the same process as with the 1-layer network:\n",
    "\n",
    "1. write out the equations for the forward pass\n",
    "2. error term can stay the same MSE or Cross-Entropy\n",
    "3. Gradient descent would be applied now to two layers of weights\n",
    "\n",
    "First we would consider the forward pass for a 2-layer ANN. We could use a sigmoidal (logistic) activation function to keep things consistent with our earlier example. Note that the activation function will be applied once on the hidden layer, and also on the output layer.\n",
    "\n",
    "Computing the gradient with respect to the different layers of weights will become more difficult, but still manageable. There are just some additional terms in the chain rule. The second layer weights will be almost identical to what we computed for a 1-layer network, except the input will be the hidden layer activation.\n",
    "\n",
    "Instead of spending the time to compute gradients with each change to the network, which can be a fun mathematical exercise, we will instead focus on using the PyTorch libraries which handle all of this internally."
   ]
  },
  {
   "cell_type": "markdown",
   "metadata": {
    "id": "5g4umO_YStI4"
   },
   "source": [
    "### (Optional) Develop a 2-layer ANN\n",
    "Build a 2-layer network using cross-entropy. Determine the gradients with resepect to the layer 1 and layer 2 weights. How could you validate if the gradients were computed correctly?"
   ]
  },
  {
   "cell_type": "code",
   "metadata": {
    "id": "xXNbhFSFTJp1",
    "ExecuteTime": {
     "end_time": "2024-09-26T16:42:05.677260Z",
     "start_time": "2024-09-26T16:42:05.662748Z"
    }
   },
   "source": [
    "#write code to build a 2-layer network using cross-entropy\n",
    "\n",
    "\n",
    "\n",
    "\n",
    "\n",
    "\n",
    "\n",
    "\n",
    "\n"
   ],
   "outputs": [],
   "execution_count": 14
  },
  {
   "cell_type": "markdown",
   "metadata": {
    "id": "JiwXNn3SNZfu"
   },
   "source": [
    "### What is PyTorch?\n",
    "\n",
    "PyTorch is a scientific computing package that builds on the NumPy library to allow for the use of GPUs. It incorporates deep learning capabilities while maximizing flexibility and speed.\n",
    "\n",
    "### PyTorch Basics\n",
    "\n",
    "To use PyTorch you must first import the library\n",
    "\n",
    "\n",
    "\n",
    "\n",
    "\n",
    "\n",
    "\n"
   ]
  },
  {
   "cell_type": "code",
   "metadata": {
    "id": "TU7EUSNcVN9x",
    "ExecuteTime": {
     "end_time": "2024-09-26T16:42:07.136281Z",
     "start_time": "2024-09-26T16:42:05.694641Z"
    }
   },
   "source": [
    "import torch"
   ],
   "outputs": [],
   "execution_count": 15
  },
  {
   "cell_type": "markdown",
   "metadata": {
    "id": "2bTAo6LzVJwg"
   },
   "source": [
    "#### Tensors\n",
    "Tensors are n-dimensional arrays that allow that can be used with a GPU to accelerate computing. There are several ways to work with Tensors:"
   ]
  },
  {
   "cell_type": "code",
   "metadata": {
    "id": "1MuUNQZ3UksM",
    "ExecuteTime": {
     "end_time": "2024-09-26T16:42:07.167170Z",
     "start_time": "2024-09-26T16:42:07.152431Z"
    }
   },
   "source": [
    "# initialize a random tensor\n",
    "x = torch.rand(4, 3)\n",
    "print(x)"
   ],
   "outputs": [
    {
     "name": "stdout",
     "output_type": "stream",
     "text": [
      "tensor([[0.5425, 0.3033, 0.9647],\n",
      "        [0.4887, 0.8116, 0.6291],\n",
      "        [0.8325, 0.4218, 0.6308],\n",
      "        [0.1911, 0.5165, 0.9993]])\n"
     ]
    }
   ],
   "execution_count": 16
  },
  {
   "cell_type": "code",
   "metadata": {
    "id": "SmcpRB48VVFe",
    "ExecuteTime": {
     "end_time": "2024-09-26T16:42:07.198381Z",
     "start_time": "2024-09-26T16:42:07.185203Z"
    }
   },
   "source": [
    "# initialize a tensor loaded with zeros\n",
    "x = torch.zeros(4, 3)\n",
    "print(x)"
   ],
   "outputs": [
    {
     "name": "stdout",
     "output_type": "stream",
     "text": [
      "tensor([[0., 0., 0.],\n",
      "        [0., 0., 0.],\n",
      "        [0., 0., 0.],\n",
      "        [0., 0., 0.]])\n"
     ]
    }
   ],
   "execution_count": 17
  },
  {
   "cell_type": "code",
   "metadata": {
    "id": "LI84uJM-VjyL",
    "ExecuteTime": {
     "end_time": "2024-09-26T16:42:07.229343Z",
     "start_time": "2024-09-26T16:42:07.214898Z"
    }
   },
   "source": [
    "# initialized with data entered manually\n",
    "x = torch.tensor([2.1, 4.0, -5.2])\n",
    "print(x)"
   ],
   "outputs": [
    {
     "name": "stdout",
     "output_type": "stream",
     "text": [
      "tensor([ 2.1000,  4.0000, -5.2000])\n"
     ]
    }
   ],
   "execution_count": 18
  },
  {
   "cell_type": "code",
   "metadata": {
    "id": "421on8nnWE3e",
    "ExecuteTime": {
     "end_time": "2024-09-26T16:42:07.260016Z",
     "start_time": "2024-09-26T16:42:07.248004Z"
    }
   },
   "source": [
    "# initialized with data from numPy\n",
    "import numpy as np\n",
    "data = np.array([2.1, 4.0, -5.2])\n",
    "print(data)\n",
    "x = torch.tensor(data)\n",
    "print(x)\n",
    "\n",
    "# note you can easily convert fron tensor to numpy\n",
    "x_np = x.numpy()\n",
    "print(x_np)"
   ],
   "outputs": [
    {
     "name": "stdout",
     "output_type": "stream",
     "text": [
      "[ 2.1  4.  -5.2]\n",
      "tensor([ 2.1000,  4.0000, -5.2000], dtype=torch.float64)\n",
      "[ 2.1  4.  -5.2]\n"
     ]
    }
   ],
   "execution_count": 19
  },
  {
   "cell_type": "markdown",
   "metadata": {
    "id": "R_I8gINJWy1g"
   },
   "source": [
    "### Tensor size and shape"
   ]
  },
  {
   "cell_type": "code",
   "metadata": {
    "id": "CUCzrV1nW5XA",
    "ExecuteTime": {
     "end_time": "2024-09-26T16:42:07.290424Z",
     "start_time": "2024-09-26T16:42:07.277142Z"
    }
   },
   "source": [
    "# obtain size of tensor data structure\n",
    "x = torch.zeros(4, 3)\n",
    "print(x.size())"
   ],
   "outputs": [
    {
     "name": "stdout",
     "output_type": "stream",
     "text": [
      "torch.Size([4, 3])\n"
     ]
    }
   ],
   "execution_count": 20
  },
  {
   "cell_type": "markdown",
   "metadata": {
    "id": "cdPIVeeEXFO5"
   },
   "source": [
    "### Operations\n"
   ]
  },
  {
   "cell_type": "code",
   "metadata": {
    "id": "M5AltppKXUZv",
    "ExecuteTime": {
     "end_time": "2024-09-26T16:42:07.322020Z",
     "start_time": "2024-09-26T16:42:07.306944Z"
    }
   },
   "source": [
    "# tensor addition\n",
    "x = torch.rand(4, 3)\n",
    "y = torch.ones(4, 3)\n",
    "print(x + y)"
   ],
   "outputs": [
    {
     "name": "stdout",
     "output_type": "stream",
     "text": [
      "tensor([[1.7576, 1.4683, 1.0302],\n",
      "        [1.2842, 1.6011, 1.7768],\n",
      "        [1.1927, 1.0949, 1.7832],\n",
      "        [1.6282, 1.4742, 1.5176]])\n"
     ]
    }
   ],
   "execution_count": 21
  },
  {
   "cell_type": "code",
   "metadata": {
    "id": "9UsB6YlwX_p2",
    "ExecuteTime": {
     "end_time": "2024-09-26T16:42:07.369184Z",
     "start_time": "2024-09-26T16:42:07.354946Z"
    }
   },
   "source": [
    "# tensor multiplication\n",
    "x = torch.rand(4, 3)\n",
    "y = torch.ones(4, 3)\n",
    "print(x * y)"
   ],
   "outputs": [
    {
     "name": "stdout",
     "output_type": "stream",
     "text": [
      "tensor([[0.5888, 0.1811, 0.1399],\n",
      "        [0.8502, 0.6631, 0.4528],\n",
      "        [0.6435, 0.8586, 0.1919],\n",
      "        [0.7503, 0.0228, 0.4725]])\n"
     ]
    }
   ],
   "execution_count": 22
  },
  {
   "cell_type": "code",
   "metadata": {
    "id": "V8W5LZlbXnMu",
    "ExecuteTime": {
     "end_time": "2024-09-26T16:42:07.385188Z",
     "start_time": "2024-09-26T16:42:07.375188Z"
    }
   },
   "source": [
    "# Provide output tensor as argument\n",
    "result = torch.ones(4,3)\n",
    "torch.add(x, y, out = result)\n",
    "print(result)"
   ],
   "outputs": [
    {
     "name": "stdout",
     "output_type": "stream",
     "text": [
      "tensor([[1.5888, 1.1811, 1.1399],\n",
      "        [1.8502, 1.6631, 1.4528],\n",
      "        [1.6435, 1.8586, 1.1919],\n",
      "        [1.7503, 1.0228, 1.4725]])\n"
     ]
    }
   ],
   "execution_count": 23
  },
  {
   "cell_type": "code",
   "metadata": {
    "id": "FxDlMlhnYWAN",
    "ExecuteTime": {
     "end_time": "2024-09-26T16:42:07.416484Z",
     "start_time": "2024-09-26T16:42:07.402202Z"
    }
   },
   "source": [
    "# resize and reshape tensors\n",
    "x = torch.randn(4, 3)\n",
    "y = x.view(12)\n",
    "z = x.view(-1, 4)  # the size -1 is inferred from other dimensions\n",
    "print(x.size(), y.size(), z.size())"
   ],
   "outputs": [
    {
     "name": "stdout",
     "output_type": "stream",
     "text": [
      "torch.Size([4, 3]) torch.Size([12]) torch.Size([3, 4])\n"
     ]
    }
   ],
   "execution_count": 24
  },
  {
   "cell_type": "code",
   "metadata": {
    "id": "IBcAFWNSZnPE",
    "ExecuteTime": {
     "end_time": "2024-09-26T16:42:07.448400Z",
     "start_time": "2024-09-26T16:42:07.433395Z"
    }
   },
   "source": [
    "# convert one element tensor to a Python number\n",
    "x = torch.randn(1)\n",
    "print(x)\n",
    "print(x.item())"
   ],
   "outputs": [
    {
     "name": "stdout",
     "output_type": "stream",
     "text": [
      "tensor([-0.9644])\n",
      "-0.964389443397522\n"
     ]
    }
   ],
   "execution_count": 25
  },
  {
   "cell_type": "markdown",
   "metadata": {
    "id": "OhBQXibrZy0Z"
   },
   "source": [
    "### Automatic Differentiation\n",
    "\n",
    "The PyTorch autograd package allows for easy computation of derivative. This is handled automatically using a define-by-run framework, which works as you write your code. \n",
    "\n",
    "To enable this feature you need to set the Tensor attribute .required_grat to True, at which point it begins to track all operations performed on it. After your computation have been completed you can call .backward() and all the gradients will be computed for you. The gradient for each tensor will be stored in the tensor attribute .grad.\n",
    "\n",
    "Each tensor also has a .grad_fn attribute which references Function that has created it.\n",
    "\n"
   ]
  },
  {
   "cell_type": "code",
   "metadata": {
    "id": "bKqBTFK2cRZW",
    "ExecuteTime": {
     "end_time": "2024-09-26T16:42:07.479401Z",
     "start_time": "2024-09-26T16:42:07.465402Z"
    }
   },
   "source": [
    "# Example computation of gradients\n",
    "x = torch.rand(4, 3, requires_grad=True)\n",
    "print(x)\n",
    "\n",
    "#perform some operations\n",
    "y = x + 10\n",
    "z = y*y\n",
    "out = z.mean()\n",
    "\n",
    "print(z, out)"
   ],
   "outputs": [
    {
     "name": "stdout",
     "output_type": "stream",
     "text": [
      "tensor([[0.4173, 0.2513, 0.2872],\n",
      "        [0.7358, 0.7475, 0.1468],\n",
      "        [0.9513, 0.0132, 0.9935],\n",
      "        [0.6204, 0.3665, 0.3942]], requires_grad=True)\n",
      "tensor([[108.5206, 105.0900, 105.8266],\n",
      "        [115.2571, 115.5096, 102.9569],\n",
      "        [119.9307, 100.2642, 120.8561],\n",
      "        [112.7920, 107.4640, 108.0403]], grad_fn=<MulBackward0>) tensor(110.2090, grad_fn=<MeanBackward0>)\n"
     ]
    }
   ],
   "execution_count": 26
  },
  {
   "cell_type": "code",
   "metadata": {
    "id": "6JDr3PgVdGMp",
    "ExecuteTime": {
     "end_time": "2024-09-26T16:42:07.542416Z",
     "start_time": "2024-09-26T16:42:07.496418Z"
    }
   },
   "source": [
    "# compute the gradient with respect to the output\n",
    "out.backward()\n",
    "print(x.grad)"
   ],
   "outputs": [
    {
     "name": "stdout",
     "output_type": "stream",
     "text": [
      "tensor([[1.7362, 1.7086, 1.7145],\n",
      "        [1.7893, 1.7913, 1.6911],\n",
      "        [1.8252, 1.6689, 1.8322],\n",
      "        [1.7701, 1.7277, 1.7324]])\n"
     ]
    }
   ],
   "execution_count": 27
  },
  {
   "cell_type": "markdown",
   "metadata": {
    "id": "8ntVfJhxUjtN"
   },
   "source": [
    "## Artificial Neural Networks in PyTorch\n",
    "In this example we will train an \"artificial pigeon\" to perform a digit recognition\n",
    "task. That is, we will use the MNIST dataset of hand-written digits, and train\n",
    "the pigeon to **recognize a small digit, namely a digit that is less than 3**.\n",
    "This problem is a **binary classification problem** we want to predict\n",
    "which of two classes an input image is a part of.\n",
    "\n",
    "### 1) Load MNIST Data\n",
    "The MNIST dataset contains hand-written digits that are 28x28=784 pixels large.\n",
    "Here are a few digits in the dataset:\n"
   ]
  },
  {
   "cell_type": "code",
   "metadata": {
    "id": "FOu8rvDVMpSq",
    "ExecuteTime": {
     "end_time": "2024-09-26T16:42:18.800293Z",
     "start_time": "2024-09-26T16:42:07.559163Z"
    }
   },
   "source": [
    "from torchvision import datasets, transforms\n",
    "\n",
    "# load the data\n",
    "mnist_train = datasets.MNIST('data', train=True, download=True)\n",
    "mnist_train = list(mnist_train)[:2000]"
   ],
   "outputs": [
    {
     "name": "stdout",
     "output_type": "stream",
     "text": [
      "Downloading http://yann.lecun.com/exdb/mnist/train-images-idx3-ubyte.gz\n",
      "Failed to download (trying next):\n",
      "HTTP Error 403: Forbidden\n",
      "\n",
      "Downloading https://ossci-datasets.s3.amazonaws.com/mnist/train-images-idx3-ubyte.gz\n",
      "Downloading https://ossci-datasets.s3.amazonaws.com/mnist/train-images-idx3-ubyte.gz to data\\MNIST\\raw\\train-images-idx3-ubyte.gz\n"
     ]
    },
    {
     "name": "stderr",
     "output_type": "stream",
     "text": [
      "100%|██████████| 9912422/9912422 [00:05<00:00, 1691898.81it/s]\n"
     ]
    },
    {
     "name": "stdout",
     "output_type": "stream",
     "text": [
      "Extracting data\\MNIST\\raw\\train-images-idx3-ubyte.gz to data\\MNIST\\raw\n",
      "\n",
      "Downloading http://yann.lecun.com/exdb/mnist/train-labels-idx1-ubyte.gz\n",
      "Failed to download (trying next):\n",
      "HTTP Error 403: Forbidden\n",
      "\n",
      "Downloading https://ossci-datasets.s3.amazonaws.com/mnist/train-labels-idx1-ubyte.gz\n",
      "Downloading https://ossci-datasets.s3.amazonaws.com/mnist/train-labels-idx1-ubyte.gz to data\\MNIST\\raw\\train-labels-idx1-ubyte.gz\n"
     ]
    },
    {
     "name": "stderr",
     "output_type": "stream",
     "text": [
      "100%|██████████| 28881/28881 [00:00<00:00, 844887.14it/s]\n"
     ]
    },
    {
     "name": "stdout",
     "output_type": "stream",
     "text": [
      "Extracting data\\MNIST\\raw\\train-labels-idx1-ubyte.gz to data\\MNIST\\raw\n",
      "\n",
      "Downloading http://yann.lecun.com/exdb/mnist/t10k-images-idx3-ubyte.gz\n",
      "Failed to download (trying next):\n",
      "HTTP Error 403: Forbidden\n",
      "\n",
      "Downloading https://ossci-datasets.s3.amazonaws.com/mnist/t10k-images-idx3-ubyte.gz\n",
      "Downloading https://ossci-datasets.s3.amazonaws.com/mnist/t10k-images-idx3-ubyte.gz to data\\MNIST\\raw\\t10k-images-idx3-ubyte.gz\n"
     ]
    },
    {
     "name": "stderr",
     "output_type": "stream",
     "text": [
      "100%|██████████| 1648877/1648877 [00:01<00:00, 1403183.75it/s]\n"
     ]
    },
    {
     "name": "stdout",
     "output_type": "stream",
     "text": [
      "Extracting data\\MNIST\\raw\\t10k-images-idx3-ubyte.gz to data\\MNIST\\raw\n",
      "\n",
      "Downloading http://yann.lecun.com/exdb/mnist/t10k-labels-idx1-ubyte.gz\n",
      "Failed to download (trying next):\n",
      "HTTP Error 403: Forbidden\n",
      "\n",
      "Downloading https://ossci-datasets.s3.amazonaws.com/mnist/t10k-labels-idx1-ubyte.gz\n",
      "Downloading https://ossci-datasets.s3.amazonaws.com/mnist/t10k-labels-idx1-ubyte.gz to data\\MNIST\\raw\\t10k-labels-idx1-ubyte.gz\n"
     ]
    },
    {
     "name": "stderr",
     "output_type": "stream",
     "text": [
      "100%|██████████| 4542/4542 [00:00<00:00, 4511136.34it/s]\n"
     ]
    },
    {
     "name": "stdout",
     "output_type": "stream",
     "text": [
      "Extracting data\\MNIST\\raw\\t10k-labels-idx1-ubyte.gz to data\\MNIST\\raw\n",
      "\n"
     ]
    }
   ],
   "execution_count": 28
  },
  {
   "cell_type": "code",
   "metadata": {
    "id": "U3xCgqcwMvCl",
    "ExecuteTime": {
     "end_time": "2024-09-26T16:42:19.394630Z",
     "start_time": "2024-09-26T16:42:18.817182Z"
    }
   },
   "source": [
    "# plot the first 18 images in the training data\n",
    "for k, (image, label) in enumerate(mnist_train[:18]):\n",
    "    plt.subplot(3, 6, k+1)\n",
    "    plt.imshow(image)\n"
   ],
   "outputs": [
    {
     "data": {
      "text/plain": [
       "<Figure size 640x480 with 18 Axes>"
      ],
      "image/png": "[encoded data removed]"
     },
     "metadata": {},
     "output_type": "display_data"
    }
   ],
   "execution_count": 29
  },
  {
   "cell_type": "markdown",
   "metadata": {
    "id": "F-DcwbkZ3Nlx"
   },
   "source": [
    "### 2) Defining the ANN Forward Pass\n",
    "Here is an implementation of the artificial pigeon brain in PyTorch.\n",
    "Don't worry if this code or the explanations don't make sense yet."
   ]
  },
  {
   "cell_type": "code",
   "metadata": {
    "id": "1-ueh5jh3I5p",
    "ExecuteTime": {
     "end_time": "2024-09-26T16:42:19.425004Z",
     "start_time": "2024-09-26T16:42:19.412162Z"
    }
   },
   "source": [
    "import torch\n",
    "import torch.nn as nn\n",
    "import torch.nn.functional as F\n",
    "from torchvision import datasets, transforms\n",
    "import matplotlib.pyplot as plt # for plotting\n",
    "\n",
    "import torch.optim as optim\n",
    "\n",
    "torch.manual_seed(1) # set the random seed\n",
    "\n",
    "class Pigeon(nn.Module):\n",
    "    def __init__(self):\n",
    "        super(Pigeon, self).__init__()\n",
    "        self.layer1 = nn.Linear(784, 30) # 784 = 28x28 every pixel is a feature\n",
    "        \n",
    "        self.layer2 = nn.Linear(30, 1)\n",
    "    def forward(self, img):\n",
    "        flattened = img.view(-1, 28 * 28)\n",
    "        activation1 = self.layer1(flattened)\n",
    "        activation1 = F.relu(activation1)\n",
    "        activation2 = self.layer2(activation1)\n",
    "        return activation2\n",
    "\n",
    "pigeon = Pigeon()"
   ],
   "outputs": [],
   "execution_count": 30
  },
  {
   "cell_type": "markdown",
   "metadata": {
    "id": "hi9lSSOtKhEE"
   },
   "source": [
    "In this network, there are 28x28 = 784 input neurons, to work with our 28x28 pixel images. We have a single output neuron and a hidden layer of 30 neurons.\n",
    "\n",
    "The variable `pigeon.layer1` contains information about the connectivity\n",
    "between the input layer and the hidden layer (stored as a matrix), and the\n",
    "biases (stored as a vector).\n",
    "\n",
    "Similarly, the variable `pigeon.layer2` contains information about the weights\n",
    "between the hidden layer and the output layer, and the bias.\n",
    "\n",
    "The weights and biases adjust during training, so they are called the model's\n",
    "**parameters**."
   ]
  },
  {
   "cell_type": "code",
   "metadata": {
    "id": "82KQZkDlLx7j",
    "ExecuteTime": {
     "end_time": "2024-09-26T16:42:19.456211Z",
     "start_time": "2024-09-26T16:42:19.443003Z"
    }
   },
   "source": [
    "# view parameters\n",
    "for w in pigeon.layer1.parameters():\n",
    "    print(w)"
   ],
   "outputs": [
    {
     "name": "stdout",
     "output_type": "stream",
     "text": [
      "Parameter containing:\n",
      "tensor([[ 0.0184, -0.0158, -0.0069,  ...,  0.0068, -0.0041,  0.0025],\n",
      "        [-0.0274, -0.0224, -0.0309,  ..., -0.0029,  0.0013, -0.0167],\n",
      "        [ 0.0282, -0.0095, -0.0340,  ..., -0.0141,  0.0056, -0.0335],\n",
      "        ...,\n",
      "        [ 0.0267,  0.0186, -0.0326,  ...,  0.0047, -0.0072, -0.0301],\n",
      "        [-0.0190,  0.0291,  0.0221,  ...,  0.0067,  0.0206,  0.0151],\n",
      "        [ 0.0226,  0.0331,  0.0182,  ...,  0.0150,  0.0278, -0.0073]],\n",
      "       requires_grad=True)\n",
      "Parameter containing:\n",
      "tensor([-0.0210,  0.0144,  0.0214, -0.0018, -0.0185,  0.0275, -0.0284, -0.0248,\n",
      "        -0.0180, -0.0168, -0.0226, -0.0093,  0.0211, -0.0311,  0.0002, -0.0010,\n",
      "         0.0201,  0.0176, -0.0050,  0.0118, -0.0089,  0.0078, -0.0072,  0.0118,\n",
      "         0.0122, -0.0125,  0.0326,  0.0306,  0.0058, -0.0089],\n",
      "       requires_grad=True)\n"
     ]
    }
   ],
   "execution_count": 31
  },
  {
   "cell_type": "markdown",
   "metadata": {
    "id": "86ubAvO03eMp"
   },
   "source": [
    "### 3) Test Network Forward Pass\n",
    "Here is an example of using the network to classify whether the\n",
    "image contains a small digit."
   ]
  },
  {
   "cell_type": "code",
   "metadata": {
    "id": "OtiBP83X247A",
    "ExecuteTime": {
     "end_time": "2024-09-26T16:42:19.487210Z",
     "start_time": "2024-09-26T16:42:19.472208Z"
    }
   },
   "source": [
    "# make predictions for the first 10 images in mnist_train\n",
    "img_to_tensor = transforms.ToTensor() #transform the image data into a 28x28 matrix of numbers\n",
    "\n",
    "for k, (image, label) in enumerate(mnist_train[:10]):\n",
    "    inval = img_to_tensor(image)\n",
    "    outval = pigeon(inval)       # find the output activation given input\n",
    "    prob = torch.sigmoid(outval) # turn the activation into a probability\n",
    "    print(prob)"
   ],
   "outputs": [
    {
     "name": "stdout",
     "output_type": "stream",
     "text": [
      "tensor([[0.5009]], grad_fn=<SigmoidBackward0>)\n",
      "tensor([[0.5219]], grad_fn=<SigmoidBackward0>)\n",
      "tensor([[0.4872]], grad_fn=<SigmoidBackward0>)\n",
      "tensor([[0.5012]], grad_fn=<SigmoidBackward0>)\n",
      "tensor([[0.4940]], grad_fn=<SigmoidBackward0>)\n",
      "tensor([[0.4966]], grad_fn=<SigmoidBackward0>)\n",
      "tensor([[0.5027]], grad_fn=<SigmoidBackward0>)\n",
      "tensor([[0.4993]], grad_fn=<SigmoidBackward0>)\n",
      "tensor([[0.4996]], grad_fn=<SigmoidBackward0>)\n",
      "tensor([[0.4942]], grad_fn=<SigmoidBackward0>)\n"
     ]
    }
   ],
   "execution_count": 32
  },
  {
   "cell_type": "markdown",
   "metadata": {
    "id": "SHkHYl0aO7ot"
   },
   "source": [
    "Since we haven't trained the network\n",
    "yet, the predicted probability of images containing a small digit \n",
    "is close to half. The \"pigeon\" is unsure.\n",
    "\n",
    "In order for the network to be useful, we need to actually train it, so\n",
    "that the weights are actually meaningful, non-random values."
   ]
  },
  {
   "cell_type": "markdown",
   "metadata": {
    "id": "RiUzssKS3ifv"
   },
   "source": [
    "### 4) Update Parameters using Gradient Descent with Cross-Entropy\n",
    "To update the parameters (weights) we will first use the network to make predictions, then compare the predictions\n",
    "agains the ground truth. To compare the predictions against actual values we'll compute a classification error using the Cross-Entropy equation.\n",
    "\n",
    "The classification error, that is how good or bad the prediction was compared to the actual values is more commonly referred to as the **loss** and Cross-Entropy is the **loss function**. The introduction of a loss function makes our problem a **optimization** problem: what set of parameters minimizes the loss across the training examples?\n",
    "\n",
    "Turning a learning problem into an optimization problem\n",
    "is actually a very subtle but important step in many machine learning tools,\n",
    "because it allows us to use tools from mathematical optimization.\n",
    "\n",
    "That there are **optimizers** that can tune the network parameters for\n",
    "us is also really, really cool. The gradient descent algorithm we derived in the last lecture is one example of an optimizer.\n",
    "\n",
    "For now, we will choose a standard loss function for a binary classification\n",
    "problem: the **binary cross-entropy loss**. We'll also choose\n",
    "a **stochastic gradient descent** optimizer. We'll talk about\n",
    "what these mean later in the course."
   ]
  },
  {
   "cell_type": "code",
   "metadata": {
    "id": "qZhbr5Bw270k",
    "ExecuteTime": {
     "end_time": "2024-09-26T16:42:19.518731Z",
     "start_time": "2024-09-26T16:42:19.504214Z"
    }
   },
   "source": [
    "# simplified training code to train `pigeon` on the \"small digit recognition\" task\n",
    "import torch.optim as optim\n",
    "criterion = nn.BCEWithLogitsLoss()\n",
    "optimizer = optim.SGD(pigeon.parameters(), lr=0.005)"
   ],
   "outputs": [],
   "execution_count": 33
  },
  {
   "cell_type": "markdown",
   "metadata": {
    "id": "BtHoiE6AYadE"
   },
   "source": [
    "Now, we can start to train the pigeon network, similar to the way we would train\n",
    "a real pigeon:\n",
    "\n",
    "1. We'll show the network pictures of digits, one by one\n",
    "2. We'll see what the network predicts\n",
    "3. We'll check the loss function for that example digit, comparing the network prediction against the ground truth\n",
    "4. We'll make a small update to the parameters to try and improve the loss for that digit\n",
    "5. We'll continue doing this many times -- let's say 1000 times\n",
    "\n",
    "For simplicity, we'll use 1000 images, and show the network each image only once."
   ]
  },
  {
   "cell_type": "code",
   "metadata": {
    "id": "LHmT89U0RM3C",
    "ExecuteTime": {
     "end_time": "2024-09-26T16:42:19.818995Z",
     "start_time": "2024-09-26T16:42:19.535732Z"
    }
   },
   "source": [
    "for (image, label) in mnist_train[:1000]:\n",
    "    # actual ground truth: is the digit less than 3?\n",
    "    actual = torch.tensor(label < 3).reshape([1,1]).type(torch.FloatTensor)\n",
    "    # pigeon prediction\n",
    "    out = pigeon(img_to_tensor(image)) # step 1-2\n",
    "    # update the parameters based on the loss\n",
    "    loss = criterion(out, actual)      # step 3\n",
    "    loss.backward()                    # step 4 (compute the updates for each parameter)\n",
    "    optimizer.step()                   # step 4 (make the updates for each parameter)\n",
    "    optimizer.zero_grad()              # a clean up step for PyTorch"
   ],
   "outputs": [],
   "execution_count": 34
  },
  {
   "cell_type": "markdown",
   "metadata": {
    "id": "JfzAfZiuRQWx"
   },
   "source": [
    "It is very common to run into errors with changing different data types to tensors with the correct shape."
   ]
  },
  {
   "cell_type": "markdown",
   "metadata": {
    "id": "p9Gieq973sDh"
   },
   "source": [
    "### 5) Test Updated Network Forward Pass"
   ]
  },
  {
   "cell_type": "code",
   "metadata": {
    "id": "N-RgzimS3FEW",
    "ExecuteTime": {
     "end_time": "2024-09-26T16:42:19.850870Z",
     "start_time": "2024-09-26T16:42:19.835944Z"
    }
   },
   "source": [
    "# make predictions for the first 10 images in mnist_train\n",
    "for k, (image, label) in enumerate(mnist_train[:10]):\n",
    "    print(label, torch.sigmoid(pigeon(img_to_tensor(image))))"
   ],
   "outputs": [
    {
     "name": "stdout",
     "output_type": "stream",
     "text": [
      "5 tensor([[0.0995]], grad_fn=<SigmoidBackward0>)\n",
      "0 tensor([[0.8375]], grad_fn=<SigmoidBackward0>)\n",
      "4 tensor([[0.1820]], grad_fn=<SigmoidBackward0>)\n",
      "1 tensor([[0.6976]], grad_fn=<SigmoidBackward0>)\n",
      "9 tensor([[0.0347]], grad_fn=<SigmoidBackward0>)\n",
      "2 tensor([[0.2681]], grad_fn=<SigmoidBackward0>)\n",
      "1 tensor([[0.2112]], grad_fn=<SigmoidBackward0>)\n",
      "3 tensor([[0.0804]], grad_fn=<SigmoidBackward0>)\n",
      "1 tensor([[0.2899]], grad_fn=<SigmoidBackward0>)\n",
      "4 tensor([[0.0575]], grad_fn=<SigmoidBackward0>)\n"
     ]
    }
   ],
   "execution_count": 35
  },
  {
   "cell_type": "markdown",
   "metadata": {
    "id": "Otc8_sYjOk1I"
   },
   "source": [
    "Not bad! We'll use the probability 50% as the cutoff for making a \n",
    "discrete prediction. Then, we can compute the accuracy on the 1000\n",
    "images we used to train the network."
   ]
  },
  {
   "cell_type": "markdown",
   "metadata": {
    "id": "-pluL_aN30CC"
   },
   "source": [
    "### 6)a) Validation of Network on Training Data"
   ]
  },
  {
   "cell_type": "code",
   "metadata": {
    "id": "r-Qq5Bgh4Hx9",
    "ExecuteTime": {
     "end_time": "2024-09-26T16:42:19.944494Z",
     "start_time": "2024-09-26T16:42:19.866500Z"
    }
   },
   "source": [
    "# computing the error and accuracy on the training set\n",
    "error = 0\n",
    "for (image, label) in mnist_train[:1000]:\n",
    "    prob = torch.sigmoid(pigeon(img_to_tensor(image)))\n",
    "    if (prob < 0.5 and label < 3) or (prob >= 0.5 and label >= 3):\n",
    "        error += 1\n",
    "print(\"Training Error Rate:\", error/1000)\n",
    "print(\"Training Accuracy:\", 1 - error/1000)"
   ],
   "outputs": [
    {
     "name": "stdout",
     "output_type": "stream",
     "text": [
      "Training Error Rate: 0.112\n",
      "Training Accuracy: 0.888\n"
     ]
    }
   ],
   "execution_count": 36
  },
  {
   "cell_type": "markdown",
   "metadata": {
    "id": "ZNozPD5XOk1L"
   },
   "source": [
    "The accuracy on those 1000 images is 96%, which is really good considering\n",
    "that we only showed the network each image only once.\n",
    "\n",
    "However, this accuracy is not representative of how well the network is doing,\n",
    "because the network was *trained* on the data. The network had a chance to\n",
    "see the actual answer, and learn from that answer. To get a better sense of\n",
    "the network's predictive accuracy, we should compute accuracy numbers on\n",
    "a **test set**: a set of images that were not seen in training."
   ]
  },
  {
   "cell_type": "markdown",
   "metadata": {
    "id": "VplQogR24Aue"
   },
   "source": [
    "### 6)b) Validation of Network on Testing Data"
   ]
  },
  {
   "cell_type": "code",
   "metadata": {
    "id": "blrK9sxS4IX5",
    "ExecuteTime": {
     "end_time": "2024-09-26T16:42:20.039632Z",
     "start_time": "2024-09-26T16:42:19.961527Z"
    }
   },
   "source": [
    "# computing the error and accuracy on a test set\n",
    "error = 0\n",
    "for (image, label) in mnist_train[1000:2000]:\n",
    "    prob = torch.sigmoid(pigeon(img_to_tensor(image)))\n",
    "    if (prob < 0.5 and label < 3) or (prob >= 0.5 and label >= 3):\n",
    "        error += 1\n",
    "print(\"Test Error Rate:\", error/1000)\n",
    "print(\"Test Accuracy:\", 1 - error/1000)"
   ],
   "outputs": [
    {
     "name": "stdout",
     "output_type": "stream",
     "text": [
      "Test Error Rate: 0.137\n",
      "Test Accuracy: 0.863\n"
     ]
    }
   ],
   "execution_count": 37
  }
 ]
}
